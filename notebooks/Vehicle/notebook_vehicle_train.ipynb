{
 "cells": [
  {
   "cell_type": "markdown",
   "metadata": {},
   "source": [
    "# Train Vehicles Agents\n",
    "\n",
    "\n",
    "- crée un network à partir d'un fichier .osm et des trajectoires de véhiculess\n",
    "- ajoute un flux de voiture sur les routes\n",
    "- personnalise un Environnement pour le RL\n",
    "- integre l'environnement pour RLlib et execute la simulation\n"
   ]
  },
  {
   "cell_type": "code",
   "execution_count": 1,
   "metadata": {},
   "outputs": [],
   "source": [
    "from flow.core.params import VehicleParams\n",
    "from flow.core.params import NetParams, SumoCarFollowingParams\n",
    "from flow.core.params import InitialConfig\n",
    "from flow.core.params import EnvParams\n",
    "from flow.core.params import SumoParams\n",
    "from flow.controllers import RLController, IDMController\n",
    "from flow.networks.IssyOSMNetwork import IssyOSMNetwork\n",
    "from flow.core.params import InFlows"
   ]
  },
  {
   "cell_type": "markdown",
   "metadata": {},
   "source": [
    "## Importation du network d'Issy"
   ]
  },
  {
   "cell_type": "markdown",
   "metadata": {},
   "source": [
    "On vérifie si IssyOSMNetwork est bien importé."
   ]
  },
  {
   "cell_type": "code",
   "execution_count": 2,
   "metadata": {},
   "outputs": [
    {
     "name": "stdout",
     "output_type": "stream",
     "text": [
      "{'speed_limit': 50}\n",
      "['-100822066', '4794817', '4783299#0', '155558218']\n"
     ]
    }
   ],
   "source": [
    "from flow.networks.IssyOSMNetwork import ADDITIONAL_NET_PARAMS, EDGES_DISTRIBUTION\n",
    "\n",
    "print(ADDITIONAL_NET_PARAMS)\n",
    "print(EDGES_DISTRIBUTION)"
   ]
  },
  {
   "cell_type": "markdown",
   "metadata": {},
   "source": [
    "## Ajoute les flux de voiture"
   ]
  },
  {
   "cell_type": "markdown",
   "metadata": {},
   "source": [
    "`IDMController` : The Intelligent Driver Model is a car-following model specifying vehicle dynamics by a differential equation for acceleration $\\dot{v}$.\n",
    "\n",
    "`RLController` : a trainable autuonomous vehicle whose actions are dictated by an RL agent. "
   ]
  },
  {
   "cell_type": "code",
   "execution_count": 3,
   "metadata": {},
   "outputs": [],
   "source": [
    "import MinicityRouter"
   ]
  },
  {
   "cell_type": "code",
   "execution_count": 4,
   "metadata": {},
   "outputs": [],
   "source": [
    "vehicles = VehicleParams()\n",
    "vehicles.add(\"human\",\n",
    "             acceleration_controller=(IDMController, {}),\n",
    "             num_vehicles=20)\n",
    "\n",
    "vehicles.add(\"rl\",\n",
    "             acceleration_controller=(RLController, {}),\n",
    "             num_vehicles=5)"
   ]
  },
  {
   "cell_type": "markdown",
   "metadata": {},
   "source": [
    "- `vehs_per_hour`: nombre de vehicule par heure, uniformément espacés. Par exemple, comme il y a $60 \\times 60 = 3600$ secondes dans une heure, le parametre $\\frac{3600}{5}=720$ va faire rentrer des vehicules dans le network toutes les $5$ secondes.\n",
    "\n",
    "- `probability`: c'est la probabilité qu'un véhicule entre dans le network toutes les secondes. Par exemple, si on la fixe à $0.2$, alors chaque seconde de la simulation un véhicule aura $\\frac{1}{5}$ chance d'entrer dans le network\n",
    "\n",
    "- `period`: C'est le temps en secondes entre 2 véhicules qui sont insérés. Par exemple, le fixer à $5$ ferait rentrer des véhicules dans le network toutes les $5$ secondes (ce qui équivaut à mettre `vehs_per_hour` à $720$).\n",
    "\n",
    "<font color='red'>\n",
    "$\\rightarrow$ Exactement 1 seul de ces 3 paramètres doit être configurer !\n",
    "</font>"
   ]
  },
  {
   "cell_type": "markdown",
   "metadata": {},
   "source": [
    "## Lance une simulation avec Training RLlib\n",
    "\n",
    "Pour qu'un environnement puisse être entrainé, l'environnement doit être accessible via l'importation à partir de flow.envs. \n",
    "\n",
    "\n",
    "<font color='red'>\n",
    "Copier l'environnement créé dans un fichier .py et on importe l'environnement dans `flow.envs.__init__.py`.\n",
    "Mettre le chemin absolu du fichier .osm .\n",
    "</font> "
   ]
  },
  {
   "cell_type": "code",
   "execution_count": 5,
   "metadata": {},
   "outputs": [
    {
     "name": "stderr",
     "output_type": "stream",
     "text": [
      "/home/lino/anaconda3/envs/flow/lib/python3.6/site-packages/tensorflow/python/framework/dtypes.py:523: FutureWarning: Passing (type, 1) or '1type' as a synonym of type is deprecated; in a future version of numpy, it will be understood as (type, (1,)) / '(1,)type'.\n",
      "  _np_qint8 = np.dtype([(\"qint8\", np.int8, 1)])\n",
      "/home/lino/anaconda3/envs/flow/lib/python3.6/site-packages/tensorflow/python/framework/dtypes.py:524: FutureWarning: Passing (type, 1) or '1type' as a synonym of type is deprecated; in a future version of numpy, it will be understood as (type, (1,)) / '(1,)type'.\n",
      "  _np_quint8 = np.dtype([(\"quint8\", np.uint8, 1)])\n",
      "/home/lino/anaconda3/envs/flow/lib/python3.6/site-packages/tensorflow/python/framework/dtypes.py:525: FutureWarning: Passing (type, 1) or '1type' as a synonym of type is deprecated; in a future version of numpy, it will be understood as (type, (1,)) / '(1,)type'.\n",
      "  _np_qint16 = np.dtype([(\"qint16\", np.int16, 1)])\n",
      "/home/lino/anaconda3/envs/flow/lib/python3.6/site-packages/tensorflow/python/framework/dtypes.py:526: FutureWarning: Passing (type, 1) or '1type' as a synonym of type is deprecated; in a future version of numpy, it will be understood as (type, (1,)) / '(1,)type'.\n",
      "  _np_quint16 = np.dtype([(\"quint16\", np.uint16, 1)])\n",
      "/home/lino/anaconda3/envs/flow/lib/python3.6/site-packages/tensorflow/python/framework/dtypes.py:527: FutureWarning: Passing (type, 1) or '1type' as a synonym of type is deprecated; in a future version of numpy, it will be understood as (type, (1,)) / '(1,)type'.\n",
      "  _np_qint32 = np.dtype([(\"qint32\", np.int32, 1)])\n",
      "/home/lino/anaconda3/envs/flow/lib/python3.6/site-packages/tensorflow/python/framework/dtypes.py:532: FutureWarning: Passing (type, 1) or '1type' as a synonym of type is deprecated; in a future version of numpy, it will be understood as (type, (1,)) / '(1,)type'.\n",
      "  np_resource = np.dtype([(\"resource\", np.ubyte, 1)])\n"
     ]
    }
   ],
   "source": [
    "import json, ray\n",
    "from ray.rllib.agents.registry import get_agent_class\n",
    "from ray.tune import run_experiments\n",
    "from ray.tune.registry import register_env\n",
    "\n",
    "from flow.utils.registry import make_create_env\n",
    "from flow.utils.rllib import FlowParamsEncoder\n",
    "from flow.core.params import VehicleParams, SumoCarFollowingParams\n",
    "\n",
    "#from flow.envs import AccelEnv as myEnv\n",
    "#ADDITIONAL_ENV_PARAMS = {\"target_velocity\": 20,\"sort_vehicles\": False,\"max_accel\": 1,\"max_decel\": 1}\n",
    "from myenv import myEnv\n",
    "ADDITIONAL_ENV_PARAMS = {\"max_accel\": 2, \"max_decel\": 2}"
   ]
  },
  {
   "cell_type": "code",
   "execution_count": 6,
   "metadata": {
    "ExecuteTime": {
     "end_time": "2020-03-24T13:09:50.179116Z",
     "start_time": "2020-03-24T13:09:49.899185Z"
    }
   },
   "outputs": [],
   "source": [
    "HORIZON = 2000"
   ]
  },
  {
   "cell_type": "code",
   "execution_count": null,
   "metadata": {
    "ExecuteTime": {
     "end_time": "2020-03-24T13:09:50.179116Z",
     "start_time": "2020-03-24T13:09:49.899185Z"
    },
    "scrolled": false
   },
   "outputs": [
    {
     "name": "stderr",
     "output_type": "stream",
     "text": [
      "2020-04-14 15:23:36,013\tINFO node.py:498 -- Process STDOUT and STDERR is being redirected to /tmp/ray/session_2020-04-14_15-23-36_012900_9923/logs.\n",
      "2020-04-14 15:23:36,126\tINFO services.py:409 -- Waiting for redis server at 127.0.0.1:63063 to respond...\n",
      "2020-04-14 15:23:36,244\tINFO services.py:409 -- Waiting for redis server at 127.0.0.1:24246 to respond...\n",
      "2020-04-14 15:23:36,249\tINFO services.py:809 -- Starting Redis shard with 2.93 GB max memory.\n",
      "2020-04-14 15:23:36,273\tINFO node.py:512 -- Process STDOUT and STDERR is being redirected to /tmp/ray/session_2020-04-14_15-23-36_012900_9923/logs.\n",
      "2020-04-14 15:23:36,276\tWARNING services.py:1330 -- WARNING: The default object store size of 4.4 GB will use more than 50% of the available memory on this node (8.66 GB). Consider setting the object store memory manually to a smaller size to avoid memory contention with other applications.\n",
      "2020-04-14 15:23:36,277\tINFO services.py:1475 -- Starting the Plasma object store with 4.4 GB memory using /dev/shm.\n",
      "2020-04-14 15:23:36,517\tINFO trial_runner.py:176 -- Starting a new experiment.\n",
      "2020-04-14 15:23:36,559\tWARNING signature.py:108 -- The function with_updates has a **kwargs argument, which is currently not supported.\n",
      "2020-04-14 15:23:36,585\tERROR log_sync.py:34 -- Log sync requires cluster to be setup with `ray up`.\n",
      "2020-04-14 15:23:36,676\tWARNING util.py:145 -- The `start_trial` operation took 0.14053559303283691 seconds to complete, which may be a performance bottleneck.\n"
     ]
    },
    {
     "name": "stdout",
     "output_type": "stream",
     "text": [
      "\u001b[2m\u001b[36m(pid=9957)\u001b[0m /home/lino/anaconda3/envs/flow/lib/python3.6/site-packages/tensorflow/python/framework/dtypes.py:523: FutureWarning: Passing (type, 1) or '1type' as a synonym of type is deprecated; in a future version of numpy, it will be understood as (type, (1,)) / '(1,)type'.\n",
      "\u001b[2m\u001b[36m(pid=9957)\u001b[0m   _np_qint8 = np.dtype([(\"qint8\", np.int8, 1)])\n",
      "\u001b[2m\u001b[36m(pid=9957)\u001b[0m /home/lino/anaconda3/envs/flow/lib/python3.6/site-packages/tensorflow/python/framework/dtypes.py:524: FutureWarning: Passing (type, 1) or '1type' as a synonym of type is deprecated; in a future version of numpy, it will be understood as (type, (1,)) / '(1,)type'.\n",
      "\u001b[2m\u001b[36m(pid=9957)\u001b[0m   _np_quint8 = np.dtype([(\"quint8\", np.uint8, 1)])\n",
      "\u001b[2m\u001b[36m(pid=9957)\u001b[0m /home/lino/anaconda3/envs/flow/lib/python3.6/site-packages/tensorflow/python/framework/dtypes.py:525: FutureWarning: Passing (type, 1) or '1type' as a synonym of type is deprecated; in a future version of numpy, it will be understood as (type, (1,)) / '(1,)type'.\n",
      "\u001b[2m\u001b[36m(pid=9957)\u001b[0m   _np_qint16 = np.dtype([(\"qint16\", np.int16, 1)])\n",
      "\u001b[2m\u001b[36m(pid=9957)\u001b[0m /home/lino/anaconda3/envs/flow/lib/python3.6/site-packages/tensorflow/python/framework/dtypes.py:526: FutureWarning: Passing (type, 1) or '1type' as a synonym of type is deprecated; in a future version of numpy, it will be understood as (type, (1,)) / '(1,)type'.\n",
      "\u001b[2m\u001b[36m(pid=9957)\u001b[0m   _np_quint16 = np.dtype([(\"quint16\", np.uint16, 1)])\n",
      "\u001b[2m\u001b[36m(pid=9957)\u001b[0m /home/lino/anaconda3/envs/flow/lib/python3.6/site-packages/tensorflow/python/framework/dtypes.py:527: FutureWarning: Passing (type, 1) or '1type' as a synonym of type is deprecated; in a future version of numpy, it will be understood as (type, (1,)) / '(1,)type'.\n",
      "\u001b[2m\u001b[36m(pid=9957)\u001b[0m   _np_qint32 = np.dtype([(\"qint32\", np.int32, 1)])\n",
      "\u001b[2m\u001b[36m(pid=9957)\u001b[0m /home/lino/anaconda3/envs/flow/lib/python3.6/site-packages/tensorflow/python/framework/dtypes.py:532: FutureWarning: Passing (type, 1) or '1type' as a synonym of type is deprecated; in a future version of numpy, it will be understood as (type, (1,)) / '(1,)type'.\n",
      "\u001b[2m\u001b[36m(pid=9957)\u001b[0m   np_resource = np.dtype([(\"resource\", np.ubyte, 1)])\n",
      "\u001b[2m\u001b[36m(pid=9957)\u001b[0m 2020-04-14 15:23:40,799\tWARNING ppo.py:143 -- FYI: By default, the value function will not share layers with the policy model ('vf_share_layers': False).\n",
      "\u001b[2m\u001b[36m(pid=9957)\u001b[0m Warning: Discarding unknown compound 'cycleway.opposite' in type 'cycleway.opposite|highway.residential' (first occurence for edge '4786965#0').\n",
      "\u001b[2m\u001b[36m(pid=9957)\u001b[0m Warning: Discarding unknown compound 'cycleway.opposite_track' in type 'cycleway.opposite_track|highway.residential' (first occurence for edge '4786972#0').\n",
      "\u001b[2m\u001b[36m(pid=9957)\u001b[0m Warning: Discarding unknown compound 'cycleway.opposite' in type 'cycleway.opposite|highway.living_street' (first occurence for edge '4795758').\n",
      "\u001b[2m\u001b[36m(pid=9957)\u001b[0m Warning: Discarding unknown compound 'cycleway.lane' in type 'cycleway.lane|highway.secondary' (first occurence for edge '100822066').\n",
      "\u001b[2m\u001b[36m(pid=9957)\u001b[0m Success.\n",
      "\u001b[2m\u001b[36m(pid=9957)\u001b[0m Warning: Removed a road without junctions: -21549451\n",
      "\u001b[2m\u001b[36m(pid=9957)\u001b[0m Warning: Removed a road without junctions: 21549451\n",
      "\u001b[2m\u001b[36m(pid=9957)\u001b[0m Warning: The traffic light '30624291' does not control any links; it will not be build.\n",
      "\u001b[2m\u001b[36m(pid=9957)\u001b[0m Warning: Could not build program '0' for traffic light '30624291'\n",
      "\u001b[2m\u001b[36m(pid=9957)\u001b[0m Warning: Minor green from edge '-352962858#0' to edge '4786972#0' exceeds 19.44m/s. Maybe a left-turn lane is missing.\n",
      "\u001b[2m\u001b[36m(pid=9957)\u001b[0m Warning: Minor green from edge '352962858#0' to edge '4794820' exceeds 19.44m/s. Maybe a left-turn lane is missing.\n",
      "\u001b[2m\u001b[36m(pid=9957)\u001b[0m Warning: Minor green from edge '-352962858#1' to edge '4795742#0' exceeds 19.44m/s. Maybe a left-turn lane is missing.\n",
      "\u001b[2m\u001b[36m(pid=9957)\u001b[0m 2020-04-14 15:23:42,087\tINFO rollout_worker.py:319 -- Creating policy evaluation worker 0 on CPU (please ignore any CUDA init errors)\n",
      "\u001b[2m\u001b[36m(pid=9957)\u001b[0m 2020-04-14 15:23:42.088297: I tensorflow/core/platform/cpu_feature_guard.cc:141] Your CPU supports instructions that this TensorFlow binary was not compiled to use: SSE4.1 SSE4.2 AVX\n",
      "\u001b[2m\u001b[36m(pid=9957)\u001b[0m 2020-04-14 15:23:42,307\tINFO dynamic_tf_policy.py:324 -- Initializing loss function with dummy input:\n",
      "\u001b[2m\u001b[36m(pid=9957)\u001b[0m \n",
      "\u001b[2m\u001b[36m(pid=9957)\u001b[0m { 'action_prob': <tf.Tensor 'default_policy/action_prob:0' shape=(?,) dtype=float32>,\n",
      "\u001b[2m\u001b[36m(pid=9957)\u001b[0m   'actions': <tf.Tensor 'default_policy/actions:0' shape=(?, 5) dtype=float32>,\n",
      "\u001b[2m\u001b[36m(pid=9957)\u001b[0m   'advantages': <tf.Tensor 'default_policy/advantages:0' shape=(?,) dtype=float32>,\n",
      "\u001b[2m\u001b[36m(pid=9957)\u001b[0m   'behaviour_logits': <tf.Tensor 'default_policy/behaviour_logits:0' shape=(?, 10) dtype=float32>,\n",
      "\u001b[2m\u001b[36m(pid=9957)\u001b[0m   'dones': <tf.Tensor 'default_policy/dones:0' shape=(?,) dtype=bool>,\n",
      "\u001b[2m\u001b[36m(pid=9957)\u001b[0m   'new_obs': <tf.Tensor 'default_policy/new_obs:0' shape=(?, 50) dtype=float32>,\n",
      "\u001b[2m\u001b[36m(pid=9957)\u001b[0m   'obs': <tf.Tensor 'default_policy/observation:0' shape=(?, 50) dtype=float32>,\n",
      "\u001b[2m\u001b[36m(pid=9957)\u001b[0m   'prev_actions': <tf.Tensor 'default_policy/action:0' shape=(?, 5) dtype=float32>,\n",
      "\u001b[2m\u001b[36m(pid=9957)\u001b[0m   'prev_rewards': <tf.Tensor 'default_policy/prev_reward:0' shape=(?,) dtype=float32>,\n",
      "\u001b[2m\u001b[36m(pid=9957)\u001b[0m   'rewards': <tf.Tensor 'default_policy/rewards:0' shape=(?,) dtype=float32>,\n",
      "\u001b[2m\u001b[36m(pid=9957)\u001b[0m   'value_targets': <tf.Tensor 'default_policy/value_targets:0' shape=(?,) dtype=float32>,\n",
      "\u001b[2m\u001b[36m(pid=9957)\u001b[0m   'vf_preds': <tf.Tensor 'default_policy/vf_preds:0' shape=(?,) dtype=float32>}\n",
      "\u001b[2m\u001b[36m(pid=9957)\u001b[0m \n",
      "\u001b[2m\u001b[36m(pid=9957)\u001b[0m /home/lino/anaconda3/envs/flow/lib/python3.6/site-packages/tensorflow/python/ops/gradients_impl.py:100: UserWarning: Converting sparse IndexedSlices to a dense Tensor of unknown shape. This may consume a large amount of memory.\n",
      "\u001b[2m\u001b[36m(pid=9957)\u001b[0m   \"Converting sparse IndexedSlices to a dense Tensor of unknown shape. \"\n",
      "\u001b[2m\u001b[36m(pid=9957)\u001b[0m 2020-04-14 15:23:43,797\tINFO rollout_worker.py:742 -- Built policy map: {'default_policy': <ray.rllib.policy.tf_policy_template.PPOTFPolicy object at 0x7f16b981d630>}\n",
      "\u001b[2m\u001b[36m(pid=9957)\u001b[0m 2020-04-14 15:23:43,797\tINFO rollout_worker.py:743 -- Built preprocessor map: {'default_policy': <ray.rllib.models.preprocessors.NoPreprocessor object at 0x7f16b981d2e8>}\n",
      "\u001b[2m\u001b[36m(pid=9957)\u001b[0m 2020-04-14 15:23:43,797\tINFO rollout_worker.py:356 -- Built filter map: {'default_policy': <ray.rllib.utils.filter.NoFilter object at 0x7f16b981d198>}\n",
      "\u001b[2m\u001b[36m(pid=9957)\u001b[0m 2020-04-14 15:23:43,846\tINFO multi_gpu_optimizer.py:93 -- LocalMultiGPUOptimizer devices ['/cpu:0']\n",
      "\u001b[2m\u001b[36m(pid=9958)\u001b[0m /home/lino/anaconda3/envs/flow/lib/python3.6/site-packages/tensorflow/python/framework/dtypes.py:523: FutureWarning: Passing (type, 1) or '1type' as a synonym of type is deprecated; in a future version of numpy, it will be understood as (type, (1,)) / '(1,)type'.\n",
      "\u001b[2m\u001b[36m(pid=9958)\u001b[0m   _np_qint8 = np.dtype([(\"qint8\", np.int8, 1)])\n",
      "\u001b[2m\u001b[36m(pid=9958)\u001b[0m /home/lino/anaconda3/envs/flow/lib/python3.6/site-packages/tensorflow/python/framework/dtypes.py:524: FutureWarning: Passing (type, 1) or '1type' as a synonym of type is deprecated; in a future version of numpy, it will be understood as (type, (1,)) / '(1,)type'.\n",
      "\u001b[2m\u001b[36m(pid=9958)\u001b[0m   _np_quint8 = np.dtype([(\"quint8\", np.uint8, 1)])\n",
      "\u001b[2m\u001b[36m(pid=9958)\u001b[0m /home/lino/anaconda3/envs/flow/lib/python3.6/site-packages/tensorflow/python/framework/dtypes.py:525: FutureWarning: Passing (type, 1) or '1type' as a synonym of type is deprecated; in a future version of numpy, it will be understood as (type, (1,)) / '(1,)type'.\n",
      "\u001b[2m\u001b[36m(pid=9958)\u001b[0m   _np_qint16 = np.dtype([(\"qint16\", np.int16, 1)])\n",
      "\u001b[2m\u001b[36m(pid=9958)\u001b[0m /home/lino/anaconda3/envs/flow/lib/python3.6/site-packages/tensorflow/python/framework/dtypes.py:526: FutureWarning: Passing (type, 1) or '1type' as a synonym of type is deprecated; in a future version of numpy, it will be understood as (type, (1,)) / '(1,)type'.\n",
      "\u001b[2m\u001b[36m(pid=9958)\u001b[0m   _np_quint16 = np.dtype([(\"quint16\", np.uint16, 1)])\n",
      "\u001b[2m\u001b[36m(pid=9958)\u001b[0m /home/lino/anaconda3/envs/flow/lib/python3.6/site-packages/tensorflow/python/framework/dtypes.py:527: FutureWarning: Passing (type, 1) or '1type' as a synonym of type is deprecated; in a future version of numpy, it will be understood as (type, (1,)) / '(1,)type'.\n",
      "\u001b[2m\u001b[36m(pid=9958)\u001b[0m   _np_qint32 = np.dtype([(\"qint32\", np.int32, 1)])\n",
      "\u001b[2m\u001b[36m(pid=9958)\u001b[0m /home/lino/anaconda3/envs/flow/lib/python3.6/site-packages/tensorflow/python/framework/dtypes.py:532: FutureWarning: Passing (type, 1) or '1type' as a synonym of type is deprecated; in a future version of numpy, it will be understood as (type, (1,)) / '(1,)type'.\n",
      "\u001b[2m\u001b[36m(pid=9958)\u001b[0m   np_resource = np.dtype([(\"resource\", np.ubyte, 1)])\n",
      "\u001b[2m\u001b[36m(pid=9959)\u001b[0m /home/lino/anaconda3/envs/flow/lib/python3.6/site-packages/tensorflow/python/framework/dtypes.py:523: FutureWarning: Passing (type, 1) or '1type' as a synonym of type is deprecated; in a future version of numpy, it will be understood as (type, (1,)) / '(1,)type'.\n",
      "\u001b[2m\u001b[36m(pid=9959)\u001b[0m   _np_qint8 = np.dtype([(\"qint8\", np.int8, 1)])\n",
      "\u001b[2m\u001b[36m(pid=9959)\u001b[0m /home/lino/anaconda3/envs/flow/lib/python3.6/site-packages/tensorflow/python/framework/dtypes.py:524: FutureWarning: Passing (type, 1) or '1type' as a synonym of type is deprecated; in a future version of numpy, it will be understood as (type, (1,)) / '(1,)type'.\n",
      "\u001b[2m\u001b[36m(pid=9959)\u001b[0m   _np_quint8 = np.dtype([(\"quint8\", np.uint8, 1)])\n",
      "\u001b[2m\u001b[36m(pid=9959)\u001b[0m /home/lino/anaconda3/envs/flow/lib/python3.6/site-packages/tensorflow/python/framework/dtypes.py:525: FutureWarning: Passing (type, 1) or '1type' as a synonym of type is deprecated; in a future version of numpy, it will be understood as (type, (1,)) / '(1,)type'.\n",
      "\u001b[2m\u001b[36m(pid=9959)\u001b[0m   _np_qint16 = np.dtype([(\"qint16\", np.int16, 1)])\n",
      "\u001b[2m\u001b[36m(pid=9959)\u001b[0m /home/lino/anaconda3/envs/flow/lib/python3.6/site-packages/tensorflow/python/framework/dtypes.py:526: FutureWarning: Passing (type, 1) or '1type' as a synonym of type is deprecated; in a future version of numpy, it will be understood as (type, (1,)) / '(1,)type'.\n",
      "\u001b[2m\u001b[36m(pid=9959)\u001b[0m   _np_quint16 = np.dtype([(\"quint16\", np.uint16, 1)])\n",
      "\u001b[2m\u001b[36m(pid=9959)\u001b[0m /home/lino/anaconda3/envs/flow/lib/python3.6/site-packages/tensorflow/python/framework/dtypes.py:527: FutureWarning: Passing (type, 1) or '1type' as a synonym of type is deprecated; in a future version of numpy, it will be understood as (type, (1,)) / '(1,)type'.\n",
      "\u001b[2m\u001b[36m(pid=9959)\u001b[0m   _np_qint32 = np.dtype([(\"qint32\", np.int32, 1)])\n",
      "\u001b[2m\u001b[36m(pid=9959)\u001b[0m /home/lino/anaconda3/envs/flow/lib/python3.6/site-packages/tensorflow/python/framework/dtypes.py:532: FutureWarning: Passing (type, 1) or '1type' as a synonym of type is deprecated; in a future version of numpy, it will be understood as (type, (1,)) / '(1,)type'.\n",
      "\u001b[2m\u001b[36m(pid=9959)\u001b[0m   np_resource = np.dtype([(\"resource\", np.ubyte, 1)])\n"
     ]
    },
    {
     "name": "stdout",
     "output_type": "stream",
     "text": [
      "\u001b[2m\u001b[36m(pid=9959)\u001b[0m Warning: Discarding unknown compound 'cycleway.opposite' in type 'cycleway.opposite|highway.residential' (first occurence for edge '4786965#0').\n",
      "\u001b[2m\u001b[36m(pid=9959)\u001b[0m Warning: Discarding unknown compound 'cycleway.opposite_track' in type 'cycleway.opposite_track|highway.residential' (first occurence for edge '4786972#0').\n",
      "\u001b[2m\u001b[36m(pid=9959)\u001b[0m Warning: Discarding unknown compound 'cycleway.opposite' in type 'cycleway.opposite|highway.living_street' (first occurence for edge '4795758').\n",
      "\u001b[2m\u001b[36m(pid=9959)\u001b[0m Warning: Discarding unknown compound 'cycleway.lane' in type 'cycleway.lane|highway.secondary' (first occurence for edge '100822066').\n",
      "\u001b[2m\u001b[36m(pid=9959)\u001b[0m Warning: Removed a road without junctions: -21549451\n",
      "\u001b[2m\u001b[36m(pid=9959)\u001b[0m Warning: Removed a road without junctions: 21549451\n",
      "\u001b[2m\u001b[36m(pid=9959)\u001b[0m Warning: The traffic light '30624291' does not control any links; it will not be build.\n",
      "\u001b[2m\u001b[36m(pid=9959)\u001b[0m Warning: Could not build program '0' for traffic light '30624291'\n",
      "\u001b[2m\u001b[36m(pid=9959)\u001b[0m Warning: Minor green from edge '-352962858#0' to edge '4786972#0' exceeds 19.44m/s. Maybe a left-turn lane is missing.\n",
      "\u001b[2m\u001b[36m(pid=9959)\u001b[0m Warning: Minor green from edge '352962858#0' to edge '4794820' exceeds 19.44m/s. Maybe a left-turn lane is missing.\n",
      "\u001b[2m\u001b[36m(pid=9959)\u001b[0m Warning: Minor green from edge '-352962858#1' to edge '4795742#0' exceeds 19.44m/s. Maybe a left-turn lane is missing.\n",
      "\u001b[2m\u001b[36m(pid=9959)\u001b[0m Success.\n",
      "\u001b[2m\u001b[36m(pid=9958)\u001b[0m Warning: Discarding unknown compound 'cycleway.opposite' in type 'cycleway.opposite|highway.residential' (first occurence for edge '4786965#0').\n",
      "\u001b[2m\u001b[36m(pid=9958)\u001b[0m Warning: Discarding unknown compound 'cycleway.opposite_track' in type 'cycleway.opposite_track|highway.residential' (first occurence for edge '4786972#0').\n",
      "\u001b[2m\u001b[36m(pid=9958)\u001b[0m Warning: Discarding unknown compound 'cycleway.opposite' in type 'cycleway.opposite|highway.living_street' (first occurence for edge '4795758').\n",
      "\u001b[2m\u001b[36m(pid=9958)\u001b[0m Warning: Discarding unknown compound 'cycleway.lane' in type 'cycleway.lane|highway.secondary' (first occurence for edge '100822066').\n",
      "\u001b[2m\u001b[36m(pid=9958)\u001b[0m Warning: Removed a road without junctions: -21549451\n",
      "\u001b[2m\u001b[36m(pid=9958)\u001b[0m Warning: Removed a road without junctions: 21549451\n",
      "\u001b[2m\u001b[36m(pid=9958)\u001b[0m Warning: The traffic light '30624291' does not control any links; it will not be build.\n",
      "\u001b[2m\u001b[36m(pid=9958)\u001b[0m Warning: Could not build program '0' for traffic light '30624291'\n",
      "\u001b[2m\u001b[36m(pid=9958)\u001b[0m Warning: Minor green from edge '-352962858#0' to edge '4786972#0' exceeds 19.44m/s. Maybe a left-turn lane is missing.\n",
      "\u001b[2m\u001b[36m(pid=9958)\u001b[0m Warning: Minor green from edge '352962858#0' to edge '4794820' exceeds 19.44m/s. Maybe a left-turn lane is missing.\n",
      "\u001b[2m\u001b[36m(pid=9958)\u001b[0m Warning: Minor green from edge '-352962858#1' to edge '4795742#0' exceeds 19.44m/s. Maybe a left-turn lane is missing.\n",
      "\u001b[2m\u001b[36m(pid=9958)\u001b[0m Success.\n",
      "\u001b[2m\u001b[36m(pid=9957)\u001b[0m 2020-04-14 15:23:49,598\tWARNING util.py:47 -- Install gputil for GPU system monitoring.\n",
      "\u001b[2m\u001b[36m(pid=9959)\u001b[0m 2020-04-14 15:23:49,738\tINFO rollout_worker.py:319 -- Creating policy evaluation worker 2 on CPU (please ignore any CUDA init errors)\n",
      "\u001b[2m\u001b[36m(pid=9959)\u001b[0m 2020-04-14 15:23:49.755125: I tensorflow/core/platform/cpu_feature_guard.cc:141] Your CPU supports instructions that this TensorFlow binary was not compiled to use: SSE4.1 SSE4.2 AVX\n",
      "\u001b[2m\u001b[36m(pid=9958)\u001b[0m 2020-04-14 15:23:49,963\tINFO rollout_worker.py:319 -- Creating policy evaluation worker 1 on CPU (please ignore any CUDA init errors)\n",
      "\u001b[2m\u001b[36m(pid=9958)\u001b[0m 2020-04-14 15:23:49.991034: I tensorflow/core/platform/cpu_feature_guard.cc:141] Your CPU supports instructions that this TensorFlow binary was not compiled to use: SSE4.1 SSE4.2 AVX\n",
      "\u001b[2m\u001b[36m(pid=9958)\u001b[0m 2020-04-14 15:23:50,408\tINFO dynamic_tf_policy.py:324 -- Initializing loss function with dummy input:\n",
      "\u001b[2m\u001b[36m(pid=9958)\u001b[0m \n",
      "\u001b[2m\u001b[36m(pid=9958)\u001b[0m { 'action_prob': <tf.Tensor 'default_policy/action_prob:0' shape=(?,) dtype=float32>,\n",
      "\u001b[2m\u001b[36m(pid=9958)\u001b[0m   'actions': <tf.Tensor 'default_policy/actions:0' shape=(?, 5) dtype=float32>,\n",
      "\u001b[2m\u001b[36m(pid=9958)\u001b[0m   'advantages': <tf.Tensor 'default_policy/advantages:0' shape=(?,) dtype=float32>,\n",
      "\u001b[2m\u001b[36m(pid=9958)\u001b[0m   'behaviour_logits': <tf.Tensor 'default_policy/behaviour_logits:0' shape=(?, 10) dtype=float32>,\n",
      "\u001b[2m\u001b[36m(pid=9958)\u001b[0m   'dones': <tf.Tensor 'default_policy/dones:0' shape=(?,) dtype=bool>,\n",
      "\u001b[2m\u001b[36m(pid=9958)\u001b[0m   'new_obs': <tf.Tensor 'default_policy/new_obs:0' shape=(?, 50) dtype=float32>,\n",
      "\u001b[2m\u001b[36m(pid=9958)\u001b[0m   'obs': <tf.Tensor 'default_policy/observation:0' shape=(?, 50) dtype=float32>,\n",
      "\u001b[2m\u001b[36m(pid=9958)\u001b[0m   'prev_actions': <tf.Tensor 'default_policy/action:0' shape=(?, 5) dtype=float32>,\n",
      "\u001b[2m\u001b[36m(pid=9958)\u001b[0m   'prev_rewards': <tf.Tensor 'default_policy/prev_reward:0' shape=(?,) dtype=float32>,\n",
      "\u001b[2m\u001b[36m(pid=9958)\u001b[0m   'rewards': <tf.Tensor 'default_policy/rewards:0' shape=(?,) dtype=float32>,\n",
      "\u001b[2m\u001b[36m(pid=9958)\u001b[0m   'value_targets': <tf.Tensor 'default_policy/value_targets:0' shape=(?,) dtype=float32>,\n",
      "\u001b[2m\u001b[36m(pid=9958)\u001b[0m   'vf_preds': <tf.Tensor 'default_policy/vf_preds:0' shape=(?,) dtype=float32>}\n",
      "\u001b[2m\u001b[36m(pid=9958)\u001b[0m \n",
      "\u001b[2m\u001b[36m(pid=9959)\u001b[0m /home/lino/anaconda3/envs/flow/lib/python3.6/site-packages/tensorflow/python/ops/gradients_impl.py:100: UserWarning: Converting sparse IndexedSlices to a dense Tensor of unknown shape. This may consume a large amount of memory.\n",
      "\u001b[2m\u001b[36m(pid=9959)\u001b[0m   \"Converting sparse IndexedSlices to a dense Tensor of unknown shape. \"\n",
      "\u001b[2m\u001b[36m(pid=9958)\u001b[0m /home/lino/anaconda3/envs/flow/lib/python3.6/site-packages/tensorflow/python/ops/gradients_impl.py:100: UserWarning: Converting sparse IndexedSlices to a dense Tensor of unknown shape. This may consume a large amount of memory.\n",
      "\u001b[2m\u001b[36m(pid=9958)\u001b[0m   \"Converting sparse IndexedSlices to a dense Tensor of unknown shape. \"\n",
      "\u001b[2m\u001b[36m(pid=9959)\u001b[0m Warning: Discarding unknown compound 'cycleway.opposite' in type 'cycleway.opposite|highway.residential' (first occurence for edge '4786965#0').\n",
      "\u001b[2m\u001b[36m(pid=9959)\u001b[0m Warning: Discarding unknown compound 'cycleway.opposite_track' in type 'cycleway.opposite_track|highway.residential' (first occurence for edge '4786972#0').\n",
      "\u001b[2m\u001b[36m(pid=9959)\u001b[0m Warning: Discarding unknown compound 'cycleway.opposite' in type 'cycleway.opposite|highway.living_street' (first occurence for edge '4795758').\n",
      "\u001b[2m\u001b[36m(pid=9959)\u001b[0m Warning: Discarding unknown compound 'cycleway.lane' in type 'cycleway.lane|highway.secondary' (first occurence for edge '100822066').\n",
      "\u001b[2m\u001b[36m(pid=9959)\u001b[0m Warning: Removed a road without junctions: -21549451\n",
      "\u001b[2m\u001b[36m(pid=9959)\u001b[0m Warning: Removed a road without junctions: 21549451\n",
      "\u001b[2m\u001b[36m(pid=9959)\u001b[0m Warning: The traffic light '30624291' does not control any links; it will not be build.\n",
      "\u001b[2m\u001b[36m(pid=9959)\u001b[0m Warning: Could not build program '0' for traffic light '30624291'\n",
      "\u001b[2m\u001b[36m(pid=9959)\u001b[0m Warning: Minor green from edge '-352962858#0' to edge '4786972#0' exceeds 19.44m/s. Maybe a left-turn lane is missing.\n",
      "\u001b[2m\u001b[36m(pid=9959)\u001b[0m Warning: Minor green from edge '352962858#0' to edge '4794820' exceeds 19.44m/s. Maybe a left-turn lane is missing.\n",
      "\u001b[2m\u001b[36m(pid=9959)\u001b[0m Warning: Minor green from edge '-352962858#1' to edge '4795742#0' exceeds 19.44m/s. Maybe a left-turn lane is missing.\n",
      "\u001b[2m\u001b[36m(pid=9959)\u001b[0m Success.\n",
      "\u001b[2m\u001b[36m(pid=9958)\u001b[0m 2020-04-14 15:23:52,457\tINFO rollout_worker.py:451 -- Generating sample batch of size 200\n",
      "\u001b[2m\u001b[36m(pid=9958)\u001b[0m Warning: Discarding unknown compound 'cycleway.opposite' in type 'cycleway.opposite|highway.residential' (first occurence for edge '4786965#0').\n",
      "\u001b[2m\u001b[36m(pid=9958)\u001b[0m Warning: Discarding unknown compound 'cycleway.opposite_track' in type 'cycleway.opposite_track|highway.residential' (first occurence for edge '4786972#0').\n",
      "\u001b[2m\u001b[36m(pid=9958)\u001b[0m Warning: Discarding unknown compound 'cycleway.opposite' in type 'cycleway.opposite|highway.living_street' (first occurence for edge '4795758').\n",
      "\u001b[2m\u001b[36m(pid=9958)\u001b[0m Warning: Discarding unknown compound 'cycleway.lane' in type 'cycleway.lane|highway.secondary' (first occurence for edge '100822066').\n",
      "\u001b[2m\u001b[36m(pid=9958)\u001b[0m Warning: Removed a road without junctions: -21549451\n",
      "\u001b[2m\u001b[36m(pid=9958)\u001b[0m Warning: Removed a road without junctions: 21549451\n",
      "\u001b[2m\u001b[36m(pid=9958)\u001b[0m Warning: The traffic light '30624291' does not control any links; it will not be build.\n",
      "\u001b[2m\u001b[36m(pid=9958)\u001b[0m Warning: Could not build program '0' for traffic light '30624291'\n",
      "\u001b[2m\u001b[36m(pid=9958)\u001b[0m Warning: Minor green from edge '-352962858#0' to edge '4786972#0' exceeds 19.44m/s. Maybe a left-turn lane is missing.\n",
      "\u001b[2m\u001b[36m(pid=9958)\u001b[0m Warning: Minor green from edge '352962858#0' to edge '4794820' exceeds 19.44m/s. Maybe a left-turn lane is missing.\n",
      "\u001b[2m\u001b[36m(pid=9958)\u001b[0m Warning: Minor green from edge '-352962858#1' to edge '4795742#0' exceeds 19.44m/s. Maybe a left-turn lane is missing.\n",
      "\u001b[2m\u001b[36m(pid=9958)\u001b[0m Success.\n"
     ]
    },
    {
     "name": "stdout",
     "output_type": "stream",
     "text": [
      "\u001b[2m\u001b[36m(pid=9958)\u001b[0m 2020-04-14 15:23:53,796\tINFO sampler.py:304 -- Raw obs from env: { 0: { 'agent0': np.ndarray((50,), dtype=float64, min=0.0, max=1997.571, mean=490.27)}}\n",
      "\u001b[2m\u001b[36m(pid=9958)\u001b[0m 2020-04-14 15:23:53,796\tINFO sampler.py:305 -- Info return from env: {0: {'agent0': None}}\n",
      "\u001b[2m\u001b[36m(pid=9958)\u001b[0m 2020-04-14 15:23:53,797\tINFO sampler.py:403 -- Preprocessed obs: np.ndarray((50,), dtype=float64, min=0.0, max=1997.571, mean=490.27)\n",
      "\u001b[2m\u001b[36m(pid=9958)\u001b[0m 2020-04-14 15:23:53,797\tINFO sampler.py:407 -- Filtered obs: np.ndarray((50,), dtype=float64, min=0.0, max=1997.571, mean=490.27)\n",
      "\u001b[2m\u001b[36m(pid=9958)\u001b[0m 2020-04-14 15:23:53,799\tINFO sampler.py:521 -- Inputs to compute_actions():\n",
      "\u001b[2m\u001b[36m(pid=9958)\u001b[0m \n",
      "\u001b[2m\u001b[36m(pid=9958)\u001b[0m { 'default_policy': [ { 'data': { 'agent_id': 'agent0',\n",
      "\u001b[2m\u001b[36m(pid=9958)\u001b[0m                                   'env_id': 0,\n",
      "\u001b[2m\u001b[36m(pid=9958)\u001b[0m                                   'info': None,\n",
      "\u001b[2m\u001b[36m(pid=9958)\u001b[0m                                   'obs': np.ndarray((50,), dtype=float64, min=0.0, max=1997.571, mean=490.27),\n",
      "\u001b[2m\u001b[36m(pid=9958)\u001b[0m                                   'prev_action': np.ndarray((5,), dtype=float32, min=0.0, max=0.0, mean=0.0),\n",
      "\u001b[2m\u001b[36m(pid=9958)\u001b[0m                                   'prev_reward': 0.0,\n",
      "\u001b[2m\u001b[36m(pid=9958)\u001b[0m                                   'rnn_state': []},\n",
      "\u001b[2m\u001b[36m(pid=9958)\u001b[0m                         'type': 'PolicyEvalData'}]}\n",
      "\u001b[2m\u001b[36m(pid=9958)\u001b[0m \n",
      "\u001b[2m\u001b[36m(pid=9958)\u001b[0m 2020-04-14 15:23:53,799\tINFO tf_run_builder.py:92 -- Executing TF run without tracing. To dump TF timeline traces to disk, set the TF_TIMELINE_DIR environment variable.\n",
      "\u001b[2m\u001b[36m(pid=9958)\u001b[0m 2020-04-14 15:23:53,902\tINFO sampler.py:548 -- Outputs of compute_actions():\n",
      "\u001b[2m\u001b[36m(pid=9958)\u001b[0m \n",
      "\u001b[2m\u001b[36m(pid=9958)\u001b[0m { 'default_policy': ( np.ndarray((1, 5), dtype=float32, min=-1.678, max=1.821, mean=0.057),\n",
      "\u001b[2m\u001b[36m(pid=9958)\u001b[0m                       [],\n",
      "\u001b[2m\u001b[36m(pid=9958)\u001b[0m                       { 'action_prob': np.ndarray((1,), dtype=float32, min=0.0, max=0.0, mean=0.0),\n",
      "\u001b[2m\u001b[36m(pid=9958)\u001b[0m                         'behaviour_logits': np.ndarray((1, 10), dtype=float32, min=-0.011, max=0.012, mean=-0.001),\n",
      "\u001b[2m\u001b[36m(pid=9958)\u001b[0m                         'vf_preds': np.ndarray((1,), dtype=float32, min=-0.008, max=-0.008, mean=-0.008)})}\n",
      "\u001b[2m\u001b[36m(pid=9958)\u001b[0m \n",
      "\u001b[2m\u001b[36m(pid=9958)\u001b[0m 2020-04-14 15:23:57,235\tINFO sample_batch_builder.py:161 -- Trajectory fragment after postprocess_trajectory():\n",
      "\u001b[2m\u001b[36m(pid=9958)\u001b[0m \n",
      "\u001b[2m\u001b[36m(pid=9958)\u001b[0m { 'agent0': { 'data': { 'action_prob': np.ndarray((200,), dtype=float32, min=0.0, max=0.009, mean=0.002),\n",
      "\u001b[2m\u001b[36m(pid=9958)\u001b[0m                         'actions': np.ndarray((200, 5), dtype=float32, min=-3.502, max=2.828, mean=-0.063),\n",
      "\u001b[2m\u001b[36m(pid=9958)\u001b[0m                         'advantages': np.ndarray((200,), dtype=float32, min=8.345, max=226.736, mean=172.917),\n",
      "\u001b[2m\u001b[36m(pid=9958)\u001b[0m                         'agent_index': np.ndarray((200,), dtype=int64, min=0.0, max=0.0, mean=0.0),\n",
      "\u001b[2m\u001b[36m(pid=9958)\u001b[0m                         'behaviour_logits': np.ndarray((200, 10), dtype=float32, min=-0.014, max=0.014, mean=-0.001),\n",
      "\u001b[2m\u001b[36m(pid=9958)\u001b[0m                         'dones': np.ndarray((200,), dtype=bool, min=0.0, max=0.0, mean=0.0),\n",
      "\u001b[2m\u001b[36m(pid=9958)\u001b[0m                         'eps_id': np.ndarray((200,), dtype=int64, min=1793431165.0, max=1793431165.0, mean=1793431165.0),\n",
      "\u001b[2m\u001b[36m(pid=9958)\u001b[0m                         'infos': np.ndarray((200,), dtype=object, head={}),\n",
      "\u001b[2m\u001b[36m(pid=9958)\u001b[0m                         'new_obs': np.ndarray((200, 50), dtype=float32, min=-1001.0, max=2003.498, mean=481.296),\n",
      "\u001b[2m\u001b[36m(pid=9958)\u001b[0m                         'obs': np.ndarray((200, 50), dtype=float32, min=-1001.0, max=2003.44, mean=481.528),\n",
      "\u001b[2m\u001b[36m(pid=9958)\u001b[0m                         'prev_actions': np.ndarray((200, 5), dtype=float32, min=-3.502, max=2.828, mean=-0.064),\n",
      "\u001b[2m\u001b[36m(pid=9958)\u001b[0m                         'prev_rewards': np.ndarray((200,), dtype=float32, min=0.0, max=9.005, mean=5.683),\n",
      "\u001b[2m\u001b[36m(pid=9958)\u001b[0m                         'rewards': np.ndarray((200,), dtype=float32, min=0.09, max=9.005, mean=5.725),\n",
      "\u001b[2m\u001b[36m(pid=9958)\u001b[0m                         't': np.ndarray((200,), dtype=int64, min=0.0, max=199.0, mean=99.5),\n",
      "\u001b[2m\u001b[36m(pid=9958)\u001b[0m                         'unroll_id': np.ndarray((200,), dtype=int64, min=0.0, max=0.0, mean=0.0),\n",
      "\u001b[2m\u001b[36m(pid=9958)\u001b[0m                         'value_targets': np.ndarray((200,), dtype=float32, min=8.337, max=226.745, mean=172.911),\n",
      "\u001b[2m\u001b[36m(pid=9958)\u001b[0m                         'vf_preds': np.ndarray((200,), dtype=float32, min=-0.008, max=0.009, mean=-0.006)},\n",
      "\u001b[2m\u001b[36m(pid=9958)\u001b[0m               'type': 'SampleBatch'}}\n",
      "\u001b[2m\u001b[36m(pid=9958)\u001b[0m \n",
      "\u001b[2m\u001b[36m(pid=9958)\u001b[0m 2020-04-14 15:23:57,238\tINFO rollout_worker.py:485 -- Completed sample batch:\n",
      "\u001b[2m\u001b[36m(pid=9958)\u001b[0m \n",
      "\u001b[2m\u001b[36m(pid=9958)\u001b[0m { 'data': { 'action_prob': np.ndarray((200,), dtype=float32, min=0.0, max=0.009, mean=0.002),\n",
      "\u001b[2m\u001b[36m(pid=9958)\u001b[0m             'actions': np.ndarray((200, 5), dtype=float32, min=-3.502, max=2.828, mean=-0.063),\n",
      "\u001b[2m\u001b[36m(pid=9958)\u001b[0m             'advantages': np.ndarray((200,), dtype=float32, min=8.345, max=226.736, mean=172.917),\n",
      "\u001b[2m\u001b[36m(pid=9958)\u001b[0m             'agent_index': np.ndarray((200,), dtype=int64, min=0.0, max=0.0, mean=0.0),\n",
      "\u001b[2m\u001b[36m(pid=9958)\u001b[0m             'behaviour_logits': np.ndarray((200, 10), dtype=float32, min=-0.014, max=0.014, mean=-0.001),\n",
      "\u001b[2m\u001b[36m(pid=9958)\u001b[0m             'dones': np.ndarray((200,), dtype=bool, min=0.0, max=0.0, mean=0.0),\n",
      "\u001b[2m\u001b[36m(pid=9958)\u001b[0m             'eps_id': np.ndarray((200,), dtype=int64, min=1793431165.0, max=1793431165.0, mean=1793431165.0),\n",
      "\u001b[2m\u001b[36m(pid=9958)\u001b[0m             'infos': np.ndarray((200,), dtype=object, head={}),\n",
      "\u001b[2m\u001b[36m(pid=9958)\u001b[0m             'new_obs': np.ndarray((200, 50), dtype=float32, min=-1001.0, max=2003.498, mean=481.296),\n",
      "\u001b[2m\u001b[36m(pid=9958)\u001b[0m             'obs': np.ndarray((200, 50), dtype=float32, min=-1001.0, max=2003.44, mean=481.528),\n",
      "\u001b[2m\u001b[36m(pid=9958)\u001b[0m             'prev_actions': np.ndarray((200, 5), dtype=float32, min=-3.502, max=2.828, mean=-0.064),\n",
      "\u001b[2m\u001b[36m(pid=9958)\u001b[0m             'prev_rewards': np.ndarray((200,), dtype=float32, min=0.0, max=9.005, mean=5.683),\n",
      "\u001b[2m\u001b[36m(pid=9958)\u001b[0m             'rewards': np.ndarray((200,), dtype=float32, min=0.09, max=9.005, mean=5.725),\n",
      "\u001b[2m\u001b[36m(pid=9958)\u001b[0m             't': np.ndarray((200,), dtype=int64, min=0.0, max=199.0, mean=99.5),\n",
      "\u001b[2m\u001b[36m(pid=9958)\u001b[0m             'unroll_id': np.ndarray((200,), dtype=int64, min=0.0, max=0.0, mean=0.0),\n",
      "\u001b[2m\u001b[36m(pid=9958)\u001b[0m             'value_targets': np.ndarray((200,), dtype=float32, min=8.337, max=226.745, mean=172.911),\n",
      "\u001b[2m\u001b[36m(pid=9958)\u001b[0m             'vf_preds': np.ndarray((200,), dtype=float32, min=-0.008, max=0.009, mean=-0.006)},\n",
      "\u001b[2m\u001b[36m(pid=9958)\u001b[0m   'type': 'SampleBatch'}\n",
      "\u001b[2m\u001b[36m(pid=9958)\u001b[0m \n",
      "\u001b[2m\u001b[36m(pid=9958)\u001b[0m Warning: Vehicle 'human_4' performs emergency braking with decel=-9.80 wished=4.50 severity=1.18, time=23.00.\n",
      "\u001b[2m\u001b[36m(pid=9958)\u001b[0m Warning: Vehicle 'human_1' performs emergency braking with decel=-11.26 wished=4.50 severity=1.50, time=41.50.\n",
      "\u001b[2m\u001b[36m(pid=9959)\u001b[0m Warning: Vehicle 'human_5' performs emergency braking with decel=-23.23 wished=4.50 severity=4.16, time=95.30.\n",
      "\u001b[2m\u001b[36m(pid=9959)\u001b[0m Warning: Vehicle 'human_2' performs emergency braking with decel=-16.15 wished=4.50 severity=2.59, time=96.60.\n",
      "\u001b[2m\u001b[36m(pid=9959)\u001b[0m Warning: Vehicle 'human_3' performs emergency braking with decel=-10.02 wished=4.50 severity=1.23, time=104.20.\n",
      "\u001b[2m\u001b[36m(pid=9959)\u001b[0m Warning: Vehicle 'human_3' performs emergency braking with decel=-13.23 wished=4.50 severity=1.94, time=104.30.\n",
      "\u001b[2m\u001b[36m(pid=9959)\u001b[0m Warning: Vehicle 'human_0' performs emergency braking with decel=-9.40 wished=4.50 severity=1.09, time=104.90.\n",
      "\u001b[2m\u001b[36m(pid=9959)\u001b[0m Warning: Vehicle 'human_1' performs emergency braking with decel=-24.30 wished=4.50 severity=4.40, time=110.80.\n",
      "\u001b[2m\u001b[36m(pid=9959)\u001b[0m Warning: Vehicle 'human_4' performs emergency braking with decel=-92.97 wished=4.50 severity=19.66, time=115.20.\n"
     ]
    },
    {
     "name": "stdout",
     "output_type": "stream",
     "text": [
      "\u001b[2m\u001b[36m(pid=9959)\u001b[0m Warning: Vehicle 'human_5' performs emergency braking with decel=-24.89 wished=4.50 severity=4.53, time=117.40.\n",
      "\u001b[2m\u001b[36m(pid=9958)\u001b[0m Warning: Vehicle 'human_2' performs emergency braking with decel=-12.10 wished=4.50 severity=1.69, time=132.40.\n",
      "\u001b[2m\u001b[36m(pid=9959)\u001b[0m Warning: Vehicle 'human_13' performs emergency braking with decel=-44.34 wished=4.50 severity=8.85, time=148.30.\n"
     ]
    }
   ],
   "source": [
    "# number of rollouts per training iteration\n",
    "N_ROLLOUTS = 10\n",
    "# number of parallel workers\n",
    "N_CPUS = 2\n",
    "\n",
    "# SUMO PARAM\n",
    "sumo_params = SumoParams(sim_step=0.1, render=False, restart_instance=True)\n",
    "\n",
    "# ENVIRONMENT PARAM\n",
    "env_params = EnvParams(additional_params=ADDITIONAL_ENV_PARAMS, horizon=HORIZON)\n",
    "\n",
    "# NETWORK PARAM\n",
    "path_file  = '/home/lino/Documents/DQN_CIL4SYS/DQN_CIL4SYS/notebooks/issy.osm'\n",
    "net_params = NetParams(osm_path=path_file) #inflows=inflow, \n",
    "\n",
    "# NETWORK\n",
    "network = IssyOSMNetwork\n",
    "\n",
    "# INITIAL CONFIG\n",
    "initial_config = InitialConfig(edges_distribution=EDGES_DISTRIBUTION)\n",
    "\n",
    "\n",
    "flow_params = dict( exp_tag   = \"ISSY_RL_train\", \n",
    "                    env_name  = myEnv,  \n",
    "                    network   = IssyOSMNetwork,\n",
    "                    simulator = 'traci', # simulator that is used by the experiment\n",
    "                    sim       = sumo_params,\n",
    "                    env       = env_params,\n",
    "                    net       = net_params,\n",
    "                    veh       = vehicles,\n",
    "                    initial   = initial_config)\n",
    "\n",
    "def setup_exps():\n",
    "    \"\"\"Return the relevant components of an RLlib experiment.\n",
    "\n",
    "    Returns\n",
    "    -------\n",
    "    str\n",
    "        name of the training algorithm\n",
    "    str\n",
    "        name of the gym environment to be trained\n",
    "    dict\n",
    "        training configuration parameters\n",
    "    \"\"\"\n",
    "    alg_run   = \"PPO\"\n",
    "    agent_cls = get_agent_class(alg_run)\n",
    "    config    = agent_cls._default_config.copy()\n",
    "    config[\"num_workers\"]      = N_CPUS\n",
    "    config[\"train_batch_size\"] = HORIZON * N_ROLLOUTS\n",
    "    config[\"gamma\"]            = 0.999  # discount rate\n",
    "    config[\"use_gae\"]          = True\n",
    "    config[\"lambda\"]           = 0.97\n",
    "    config[\"kl_target\"]        = 0.02\n",
    "    config[\"num_sgd_iter\"]     = 10\n",
    "    config['clip_actions']     = False  # FIXME(ev) temporary ray bug\n",
    "    config[\"horizon\"]          = HORIZON\n",
    "    config[\"model\"].update({\"fcnet_hiddens\": [3, 3]})\n",
    "    \n",
    "    # save the flow params for replay\n",
    "    flow_json = json.dumps( flow_params, cls=FlowParamsEncoder, sort_keys=True, indent=4)\n",
    "    config['env_config']['flow_params'] = flow_json\n",
    "    config['env_config']['run'] = alg_run\n",
    "\n",
    "    create_env, gym_name = make_create_env(params=flow_params, version=0)\n",
    "\n",
    "    # Register as rllib env\n",
    "    register_env(gym_name, create_env)\n",
    "    \n",
    "    return alg_run, gym_name, config\n",
    "\n",
    "\n",
    "alg_run, gym_name, config = setup_exps()\n",
    "\n",
    "ray.init(num_cpus=N_CPUS + 1)\n",
    "\n",
    "exp_tag = {\"run\": alg_run,\n",
    "           \"env\": gym_name,\n",
    "           \"config\": {**config},\n",
    "           \"checkpoint_freq\": 500,\n",
    "           \"checkpoint_at_end\": True,\n",
    "           \"max_failures\": 5,\n",
    "           \"stop\": {\"training_iteration\": 5}}\n",
    "\n",
    "trials = run_experiments({flow_params[\"exp_tag\"]: exp_tag}, verbose=0)"
   ]
  },
  {
   "cell_type": "code",
   "execution_count": null,
   "metadata": {},
   "outputs": [],
   "source": []
  }
 ],
 "metadata": {
  "kernelspec": {
   "display_name": "Python 3",
   "language": "python",
   "name": "python3"
  },
  "language_info": {
   "codemirror_mode": {
    "name": "ipython",
    "version": 3
   },
   "file_extension": ".py",
   "mimetype": "text/x-python",
   "name": "python",
   "nbconvert_exporter": "python",
   "pygments_lexer": "ipython3",
   "version": "3.6.8"
  },
  "toc": {
   "base_numbering": 1,
   "nav_menu": {},
   "number_sections": true,
   "sideBar": true,
   "skip_h1_title": false,
   "title_cell": "Table of Contents",
   "title_sidebar": "Contents",
   "toc_cell": false,
   "toc_position": {
    "height": "calc(100% - 180px)",
    "left": "10px",
    "top": "150px",
    "width": "165px"
   },
   "toc_section_display": true,
   "toc_window_display": false
  },
  "varInspector": {
   "cols": {
    "lenName": 16,
    "lenType": 16,
    "lenVar": 40
   },
   "kernels_config": {
    "python": {
     "delete_cmd_postfix": "",
     "delete_cmd_prefix": "del ",
     "library": "var_list.py",
     "varRefreshCmd": "print(var_dic_list())"
    },
    "r": {
     "delete_cmd_postfix": ") ",
     "delete_cmd_prefix": "rm(",
     "library": "var_list.r",
     "varRefreshCmd": "cat(var_dic_list()) "
    }
   },
   "types_to_exclude": [
    "module",
    "function",
    "builtin_function_or_method",
    "instance",
    "_Feature"
   ],
   "window_display": false
  }
 },
 "nbformat": 4,
 "nbformat_minor": 2
}
