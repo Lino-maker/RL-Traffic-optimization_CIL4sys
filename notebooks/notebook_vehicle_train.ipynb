{
 "cells": [
  {
   "cell_type": "markdown",
   "metadata": {},
   "source": [
    "# Train Vehicles Agents\n",
    "\n",
    "\n",
    "- crée un network à partir d'un fichier .osm et des trajectoires de véhiculess\n",
    "- ajoute un flux de voiture sur les routes\n",
    "- personnalise un Environnement pour le RL\n",
    "- integre l'environnement pour RLlib et execute la simulation\n"
   ]
  },
  {
   "cell_type": "code",
   "execution_count": 1,
   "metadata": {},
   "outputs": [],
   "source": [
    "from flow.core.params import VehicleParams\n",
    "from flow.core.params import NetParams, SumoCarFollowingParams\n",
    "from flow.core.params import InitialConfig\n",
    "from flow.core.params import EnvParams\n",
    "from flow.core.params import SumoParams\n",
    "from flow.controllers import RLController, IDMController\n",
    "from flow.networks import Network\n",
    "from flow.core.params import InFlows"
   ]
  },
  {
   "cell_type": "markdown",
   "metadata": {},
   "source": [
    "## Crée le network"
   ]
  },
  {
   "cell_type": "markdown",
   "metadata": {},
   "source": [
    "Specifie les noms des routes du network dont les vehicules peuvent être s'insérer"
   ]
  },
  {
   "cell_type": "code",
   "execution_count": 2,
   "metadata": {},
   "outputs": [],
   "source": [
    "EDGES_DISTRIBUTION = [\"-100822066\",\"4794817\",\"4783299#0\",\"155558218\"]"
   ]
  },
  {
   "cell_type": "markdown",
   "metadata": {},
   "source": [
    "créer la classe Network pour spécifier les itinéraires possibles"
   ]
  },
  {
   "cell_type": "code",
   "execution_count": 3,
   "metadata": {},
   "outputs": [],
   "source": [
    "class IssyOSMNetwork(Network):\n",
    "\n",
    "    def specify_routes(self, net_params):\n",
    "        return {\n",
    "            \"-100822066\": [ #N\n",
    "                \"-100822066\",\n",
    "                \"-352962858#1\",\n",
    "                \"-352962858#0\",\n",
    "                \"-4786940#1\",\n",
    "                 \"-4786940#0\",\n",
    "            ],\n",
    "            \n",
    "            \"4794817\" : [ #Loop\n",
    "                \"4794817\",\n",
    "                \"4786972#0\",\n",
    "                \"4786972#1\",\n",
    "                \"4786972#2\",\n",
    "                \"4786965#1\",\n",
    "                \"4786965#2\",\n",
    "                \"4786965#3\",\n",
    "                \"4795729\",\n",
    "                \"-352962858#1\",\n",
    "                \"4795742#0\",\n",
    "                \"4795742#1\",\n",
    "                \"4786965#3\",\n",
    "                \"4786965#4\",\n",
    "                \"4786965#5\",\n",
    "            ],\n",
    "            \n",
    "            \"4783299#0\": [    #E\n",
    "                \"4783299#0\",\n",
    "                \"4783299#1\",\n",
    "                \"4783299#2\",\n",
    "                \"4783299#3\",\n",
    "                \"4783299#4\",\n",
    "                \"4783299#5\",\n",
    "                \"4783299#6\",\n",
    "                \"4786940#0\",\n",
    "                \"4786940#1\",\n",
    "                \"352962858#0\",\n",
    "                \"352962858#1\",\n",
    "                \"100822066\",\n",
    "            ],\n",
    "            \n",
    "            \"155558218\": [\n",
    "                \"155558218\",\n",
    "                \"4786940#1\",\n",
    "                \"352962858#0\",\n",
    "                \"352962858#1\",\n",
    "                \"100822066\",\n",
    "            ],     \n",
    "        }"
   ]
  },
  {
   "cell_type": "markdown",
   "metadata": {},
   "source": [
    "## Ajoute les flux de voiture"
   ]
  },
  {
   "cell_type": "markdown",
   "metadata": {},
   "source": [
    "`IDMController` : The Intelligent Driver Model is a car-following model specifying vehicle dynamics by a differential equation for acceleration $\\dot{v}$.\n",
    "\n",
    "`RLController` : a trainable autuonomous vehicle whose actions are dictated by an RL agent. "
   ]
  },
  {
   "cell_type": "code",
   "execution_count": 4,
   "metadata": {},
   "outputs": [],
   "source": [
    "vehicles = VehicleParams()\n",
    "vehicles.add(\"human\",acceleration_controller=(IDMController, {}),num_vehicles=10)\n",
    "vehicles.add(\"rl\",acceleration_controller=(RLController, {}),num_vehicles=2)"
   ]
  },
  {
   "cell_type": "markdown",
   "metadata": {},
   "source": [
    "- `vehs_per_hour`: nombre de vehicule par heure, uniformément espacés. Par exemple, comme il y a $60 \\times 60 = 3600$ secondes dans une heure, le parametre $\\frac{3600}{5}=720$ va faire rentrer des vehicules dans le network toutes les $5$ secondes.\n",
    "\n",
    "- `probability`: c'est la probabilité qu'un véhicule entre dans le network toutes les secondes. Par exemple, si on la fixe à $0.2$, alors chaque seconde de la simulation un véhicule aura $\\frac{1}{5}$ chance d'entrer dans le network\n",
    "\n",
    "- `period`: C'est le temps en secondes entre 2 véhicules qui sont insérés. Par exemple, le fixer à $5$ ferait rentrer des véhicules dans le network toutes les $5$ secondes (ce qui équivaut à mettre `vehs_per_hour` à $720$).\n",
    "\n",
    "<font color='red'>\n",
    "$\\rightarrow$ Exactement 1 seul de ces 3 paramètres doit être configurer !\n",
    "</font>"
   ]
  },
  {
   "cell_type": "code",
   "execution_count": 5,
   "metadata": {},
   "outputs": [],
   "source": [
    "inflow = InFlows()\n",
    "\n",
    "inflow.add(veh_type      = \"human\",\n",
    "           edge          = \"4794817\",\n",
    "           probability   = 0.3, \n",
    "           depart_speed  = 7,\n",
    "           depart_lane   = \"random\")\n",
    "\n",
    "inflow.add(veh_type      = \"human\",\n",
    "           edge          = \"4783299#0\",\n",
    "           probability   = 0.2,\n",
    "           depart_speed  = 7,\n",
    "           depart_lane   = \"random\")\n",
    "\n",
    "inflow.add(veh_type       = \"human\",\n",
    "           edge           = \"-100822066\",\n",
    "           probability    = 0.25,\n",
    "           depart_speed   = 7,\n",
    "           depart_lane    = \"random\")\n",
    "\n",
    "inflow.add(veh_type       = \"rl\",\n",
    "           edge           = \"-100822066\",\n",
    "           probability    = 0.05,\n",
    "           depart_speed   = 7,\n",
    "           depart_lane    = \"random\",\n",
    "           color          = \"blue\")\n",
    "\n",
    "inflow.add(veh_type       = \"human\",\n",
    "           edge          = \"155558218\",\n",
    "           probability   = 0.2,\n",
    "           depart_speed  = 7,\n",
    "           depart_lane   = \"random\")"
   ]
  },
  {
   "cell_type": "markdown",
   "metadata": {},
   "source": [
    "## Personnalise un Environnement pour le RL\n",
    "\n",
    "plus de méthodes sur : http://berkeleyflow.readthedocs.io/en/latest/"
   ]
  },
  {
   "cell_type": "code",
   "execution_count": 6,
   "metadata": {},
   "outputs": [],
   "source": [
    "# import the base environment class\n",
    "from flow.envs import Env\n",
    "from gym.spaces.box import Box\n",
    "from gym.spaces import Tuple\n",
    "import numpy as np"
   ]
  },
  {
   "cell_type": "markdown",
   "metadata": {},
   "source": [
    "### definition de la classe environnement "
   ]
  },
  {
   "cell_type": "code",
   "execution_count": 7,
   "metadata": {},
   "outputs": [],
   "source": [
    "class myEnv(Env):\n",
    "    pass"
   ]
  },
  {
   "cell_type": "markdown",
   "metadata": {},
   "source": [
    "### fonction action_space\n",
    "2 actions possibles pour chaque véhicule RL : +1 acceleration ou -1 acceleration"
   ]
  },
  {
   "cell_type": "code",
   "execution_count": 8,
   "metadata": {},
   "outputs": [],
   "source": [
    "class myEnv(myEnv): # update my environment class\n",
    "\n",
    "    @property\n",
    "    def action_space(self):\n",
    "        num_actions = self.initial_vehicles.num_rl_vehicles\n",
    "        accel_ub = self.env_params.additional_params[\"max_accel\"]\n",
    "        accel_lb = - abs(self.env_params.additional_params[\"max_decel\"])\n",
    "\n",
    "        return Box(low=accel_lb, high=accel_ub, shape=(num_actions,))"
   ]
  },
  {
   "cell_type": "markdown",
   "metadata": {},
   "source": [
    "### observation_space\n",
    "2 valeurs observé pour chaque véhicule: sa **position** et sa **vitesse**. En conséquence, nous avons besoin d'un espace d'observation qui est *deux fois plus grand que le nombre de véhicules* dans le network."
   ]
  },
  {
   "cell_type": "code",
   "execution_count": 9,
   "metadata": {},
   "outputs": [],
   "source": [
    "class myEnv(myEnv):  # update my environment class\n",
    "\n",
    "    @property\n",
    "    def observation_space(self):\n",
    "        return Box(\n",
    "            low=0,\n",
    "            high=float(\"inf\"),\n",
    "            shape=(2*self.initial_vehicles.num_vehicles,))"
   ]
  },
  {
   "cell_type": "markdown",
   "metadata": {},
   "source": [
    "### apply_rl_actions\n",
    "`apply_rl_actions` : transforme les commandes de l'agent RL en actions réelles du simulateur.  \n",
    "\n",
    "Pour notre exemple, l'agent RL peut spécifier que les accélérations des véhicules RL avec la fonction **apply_acceleration**"
   ]
  },
  {
   "cell_type": "code",
   "execution_count": 10,
   "metadata": {},
   "outputs": [],
   "source": [
    "class myEnv(myEnv):  # update my environment class\n",
    "\n",
    "    def _apply_rl_actions(self, rl_actions):\n",
    "        # the names of all autonomous (RL) vehicles in the network\n",
    "        rl_ids = self.k.vehicle.get_rl_ids()\n",
    "\n",
    "        # use the base environment method to convert actions into accelerations for the rl vehicles\n",
    "        self.k.vehicle.apply_acceleration(rl_ids, rl_actions)"
   ]
  },
  {
   "cell_type": "markdown",
   "metadata": {
    "ExecuteTime": {
     "end_time": "2020-03-11T08:46:36.345321Z",
     "start_time": "2020-03-11T08:46:36.334589Z"
    }
   },
   "source": [
    "### get_state\n",
    "\n",
    "`get_state` : extrait des features de l'environnement et fournit ensuite des entrées à la stratégie fournie par l'agent RL. "
   ]
  },
  {
   "cell_type": "code",
   "execution_count": 11,
   "metadata": {},
   "outputs": [],
   "source": [
    "class myEnv(myEnv):  # update my environment class\n",
    "\n",
    "    def get_state(self, **kwargs):\n",
    "        # the get_ids() method is used to get the names of all vehicles in the network\n",
    "        ids = self.k.vehicle.get_ids()\n",
    "\n",
    "        # we use the get_absolute_position method to get the positions of all vehicles\n",
    "        pos = [self.k.vehicle.get_x_by_id(veh_id) for veh_id in ids]\n",
    "\n",
    "        # we use the get_speed method to get the velocities of all vehicles\n",
    "        vel = [self.k.vehicle.get_speed(veh_id) for veh_id in ids]\n",
    "\n",
    "        # the speeds and positions are concatenated to produce the state\n",
    "        return np.concatenate((pos, vel))"
   ]
  },
  {
   "cell_type": "markdown",
   "metadata": {},
   "source": [
    "### compute_reward\n",
    "\n",
    "`compute_reward` : renvoie la récompense associée à un état donné. \n",
    "\n",
    "Ici, la fonction de récompense est la **vitesse moyenne de tous les véhicules actuellement sur le réseau**."
   ]
  },
  {
   "cell_type": "code",
   "execution_count": 12,
   "metadata": {},
   "outputs": [],
   "source": [
    "class myEnv(myEnv):  # update my environment class\n",
    "\n",
    "    def compute_reward(self, rl_actions, **kwargs):\n",
    "        # the get_ids() method is used to get the names of all vehicles in the network\n",
    "        ids = self.k.vehicle.get_ids()\n",
    "\n",
    "        # we next get a list of the speeds of all vehicles in the network\n",
    "        speeds = self.k.vehicle.get_speed(ids)\n",
    "\n",
    "        # finally, we return the average of all these speeds as the reward\n",
    "        return np.mean(speeds)"
   ]
  },
  {
   "cell_type": "markdown",
   "metadata": {},
   "source": [
    "## Lance une simulation avec Training RLlib\n",
    "\n",
    "Pour qu'un environnement puisse être entrainé, l'environnement doit être accessible via l'importation à partir de flow.envs. \n",
    "\n",
    "\n",
    "<font color='red'>\n",
    "Copier l'environnement créé dans un fichier .py et on importe l'environnement dans `flow.envs.__init__.py`.\n",
    "Mettre le chemin absolu du fichier .osm .\n",
    "</font> "
   ]
  },
  {
   "cell_type": "code",
   "execution_count": 13,
   "metadata": {},
   "outputs": [],
   "source": [
    "import json\n",
    "import ray\n",
    "from ray.rllib.agents.registry import get_agent_class\n",
    "from ray.tune import run_experiments\n",
    "from ray.tune.registry import register_env\n",
    "\n",
    "from flow.networks.ring import ADDITIONAL_NET_PARAMS\n",
    "from flow.utils.registry import make_create_env\n",
    "from flow.utils.rllib import FlowParamsEncoder\n",
    "from flow.core.params import VehicleParams, SumoCarFollowingParams\n",
    "\n",
    "#from flow.envs import AccelEnv as myEnv\n",
    "#ADDITIONAL_ENV_PARAMS = {\"target_velocity\": 20,\"sort_vehicles\": False,\"max_accel\": 1,\"max_decel\": 1}\n",
    "from myenv import myEnv as myEnv\n",
    "ADDITIONAL_ENV_PARAMS = {\"max_accel\": 1, \"max_decel\": 1}"
   ]
  },
  {
   "cell_type": "code",
   "execution_count": 14,
   "metadata": {
    "ExecuteTime": {
     "end_time": "2020-03-24T13:09:50.179116Z",
     "start_time": "2020-03-24T13:09:49.899185Z"
    }
   },
   "outputs": [],
   "source": [
    "HORIZON = 200"
   ]
  },
  {
   "cell_type": "code",
   "execution_count": 15,
   "metadata": {
    "ExecuteTime": {
     "end_time": "2020-03-24T13:09:50.179116Z",
     "start_time": "2020-03-24T13:09:49.899185Z"
    },
    "scrolled": true
   },
   "outputs": [
    {
     "name": "stderr",
     "output_type": "stream",
     "text": [
      "2020-03-27 14:36:41,040\tINFO node.py:498 -- Process STDOUT and STDERR is being redirected to /tmp/ray/session_2020-03-27_14-36-41_039127_9575/logs.\n",
      "2020-03-27 14:36:41,171\tINFO services.py:409 -- Waiting for redis server at 127.0.0.1:40655 to respond...\n",
      "2020-03-27 14:36:41,307\tINFO services.py:409 -- Waiting for redis server at 127.0.0.1:26486 to respond...\n",
      "2020-03-27 14:36:41,313\tINFO services.py:809 -- Starting Redis shard with 2.09 GB max memory.\n",
      "2020-03-27 14:36:41,401\tINFO node.py:512 -- Process STDOUT and STDERR is being redirected to /tmp/ray/session_2020-03-27_14-36-41_039127_9575/logs.\n",
      "2020-03-27 14:36:41,406\tINFO services.py:1475 -- Starting the Plasma object store with 3.14 GB memory using /dev/shm.\n",
      "2020-03-27 14:36:41,731\tINFO trial_runner.py:176 -- Starting a new experiment.\n",
      "2020-03-27 14:36:41,862\tWARNING signature.py:108 -- The function with_updates has a **kwargs argument, which is currently not supported.\n",
      "2020-03-27 14:36:41,921\tERROR log_sync.py:34 -- Log sync requires cluster to be setup with `ray up`.\n",
      "2020-03-27 14:36:42,170\tWARNING util.py:145 -- The `start_trial` operation took 0.3756575584411621 seconds to complete, which may be a performance bottleneck.\n"
     ]
    },
    {
     "name": "stdout",
     "output_type": "stream",
     "text": [
      "\u001b[2m\u001b[36m(pid=9610)\u001b[0m 2020-03-27 14:36:50,129\tWARNING ppo.py:143 -- FYI: By default, the value function will not share layers with the policy model ('vf_share_layers': False).\n",
      "\u001b[2m\u001b[36m(pid=9610)\u001b[0m Warning: Discarding unknown compound 'cycleway.opposite' in type 'cycleway.opposite|highway.residential' (first occurence for edge '4786965#0').\n",
      "\u001b[2m\u001b[36m(pid=9610)\u001b[0m Warning: Discarding unknown compound 'cycleway.opposite_track' in type 'cycleway.opposite_track|highway.residential' (first occurence for edge '4786972#0').\n",
      "\u001b[2m\u001b[36m(pid=9610)\u001b[0m Warning: Discarding unknown compound 'cycleway.opposite' in type 'cycleway.opposite|highway.living_street' (first occurence for edge '4795758').\n",
      "\u001b[2m\u001b[36m(pid=9610)\u001b[0m Warning: Discarding unknown compound 'cycleway.lane' in type 'cycleway.lane|highway.secondary' (first occurence for edge '100822066').\n",
      "\u001b[2m\u001b[36m(pid=9610)\u001b[0m Warning: Removed a road without junctions: -21549451\n",
      "\u001b[2m\u001b[36m(pid=9610)\u001b[0m Warning: Removed a road without junctions: 21549451\n",
      "\u001b[2m\u001b[36m(pid=9610)\u001b[0m Warning: The traffic light '30624291' does not control any links; it will not be build.\n",
      "\u001b[2m\u001b[36m(pid=9610)\u001b[0m Warning: Could not build program '0' for traffic light '30624291'\n",
      "\u001b[2m\u001b[36m(pid=9610)\u001b[0m Warning: Minor green from edge '-352962858#0' to edge '4786972#0' exceeds 19.44m/s. Maybe a left-turn lane is missing.\n",
      "\u001b[2m\u001b[36m(pid=9610)\u001b[0m Warning: Minor green from edge '352962858#0' to edge '4794820' exceeds 19.44m/s. Maybe a left-turn lane is missing.\n",
      "\u001b[2m\u001b[36m(pid=9610)\u001b[0m Warning: Minor green from edge '-352962858#1' to edge '4795742#0' exceeds 19.44m/s. Maybe a left-turn lane is missing.\n",
      "\u001b[2m\u001b[36m(pid=9610)\u001b[0m Success.\n",
      "\u001b[2m\u001b[36m(pid=9610)\u001b[0m 2020-03-27 14:36:51,728\tINFO rollout_worker.py:319 -- Creating policy evaluation worker 0 on CPU (please ignore any CUDA init errors)\n",
      "\u001b[2m\u001b[36m(pid=9610)\u001b[0m 2020-03-27 14:36:51.730639: I tensorflow/core/platform/cpu_feature_guard.cc:141] Your CPU supports instructions that this TensorFlow binary was not compiled to use: SSE4.1 SSE4.2 AVX AVX2\n",
      "\u001b[2m\u001b[36m(pid=9610)\u001b[0m 2020-03-27 14:36:52,203\tINFO dynamic_tf_policy.py:324 -- Initializing loss function with dummy input:\n",
      "\u001b[2m\u001b[36m(pid=9610)\u001b[0m \n",
      "\u001b[2m\u001b[36m(pid=9610)\u001b[0m { 'action_prob': <tf.Tensor 'default_policy/action_prob:0' shape=(?,) dtype=float32>,\n",
      "\u001b[2m\u001b[36m(pid=9610)\u001b[0m   'actions': <tf.Tensor 'default_policy/actions:0' shape=(?, 2) dtype=float32>,\n",
      "\u001b[2m\u001b[36m(pid=9610)\u001b[0m   'advantages': <tf.Tensor 'default_policy/advantages:0' shape=(?,) dtype=float32>,\n",
      "\u001b[2m\u001b[36m(pid=9610)\u001b[0m   'behaviour_logits': <tf.Tensor 'default_policy/behaviour_logits:0' shape=(?, 4) dtype=float32>,\n",
      "\u001b[2m\u001b[36m(pid=9610)\u001b[0m   'dones': <tf.Tensor 'default_policy/dones:0' shape=(?,) dtype=bool>,\n",
      "\u001b[2m\u001b[36m(pid=9610)\u001b[0m   'new_obs': <tf.Tensor 'default_policy/new_obs:0' shape=(?, 26) dtype=float32>,\n",
      "\u001b[2m\u001b[36m(pid=9610)\u001b[0m   'obs': <tf.Tensor 'default_policy/observation:0' shape=(?, 26) dtype=float32>,\n",
      "\u001b[2m\u001b[36m(pid=9610)\u001b[0m   'prev_actions': <tf.Tensor 'default_policy/action:0' shape=(?, 2) dtype=float32>,\n",
      "\u001b[2m\u001b[36m(pid=9610)\u001b[0m   'prev_rewards': <tf.Tensor 'default_policy/prev_reward:0' shape=(?,) dtype=float32>,\n",
      "\u001b[2m\u001b[36m(pid=9610)\u001b[0m   'rewards': <tf.Tensor 'default_policy/rewards:0' shape=(?,) dtype=float32>,\n",
      "\u001b[2m\u001b[36m(pid=9610)\u001b[0m   'value_targets': <tf.Tensor 'default_policy/value_targets:0' shape=(?,) dtype=float32>,\n",
      "\u001b[2m\u001b[36m(pid=9610)\u001b[0m   'vf_preds': <tf.Tensor 'default_policy/vf_preds:0' shape=(?,) dtype=float32>}\n",
      "\u001b[2m\u001b[36m(pid=9610)\u001b[0m \n",
      "\u001b[2m\u001b[36m(pid=9610)\u001b[0m /home/julien/anaconda3/envs/flow/lib/python3.6/site-packages/tensorflow/python/ops/gradients_impl.py:100: UserWarning: Converting sparse IndexedSlices to a dense Tensor of unknown shape. This may consume a large amount of memory.\n",
      "\u001b[2m\u001b[36m(pid=9610)\u001b[0m   \"Converting sparse IndexedSlices to a dense Tensor of unknown shape. \"\n",
      "\u001b[2m\u001b[36m(pid=9610)\u001b[0m 2020-03-27 14:36:55,125\tINFO rollout_worker.py:742 -- Built policy map: {'default_policy': <ray.rllib.policy.tf_policy_template.PPOTFPolicy object at 0x7f7196f23518>}\n",
      "\u001b[2m\u001b[36m(pid=9610)\u001b[0m 2020-03-27 14:36:55,125\tINFO rollout_worker.py:743 -- Built preprocessor map: {'default_policy': <ray.rllib.models.preprocessors.NoPreprocessor object at 0x7f7196f231d0>}\n",
      "\u001b[2m\u001b[36m(pid=9610)\u001b[0m 2020-03-27 14:36:55,125\tINFO rollout_worker.py:356 -- Built filter map: {'default_policy': <ray.rllib.utils.filter.NoFilter object at 0x7f7196f23080>}\n",
      "\u001b[2m\u001b[36m(pid=9610)\u001b[0m 2020-03-27 14:36:55,257\tINFO multi_gpu_optimizer.py:93 -- LocalMultiGPUOptimizer devices ['/cpu:0']\n",
      "\u001b[2m\u001b[36m(pid=9611)\u001b[0m Warning: Discarding unknown compound 'cycleway.opposite' in type 'cycleway.opposite|highway.residential' (first occurence for edge '4786965#0').\n",
      "\u001b[2m\u001b[36m(pid=9611)\u001b[0m Warning: Discarding unknown compound 'cycleway.opposite_track' in type 'cycleway.opposite_track|highway.residential' (first occurence for edge '4786972#0').\n",
      "\u001b[2m\u001b[36m(pid=9611)\u001b[0m Warning: Discarding unknown compound 'cycleway.opposite' in type 'cycleway.opposite|highway.living_street' (first occurence for edge '4795758').\n",
      "\u001b[2m\u001b[36m(pid=9611)\u001b[0m Warning: Discarding unknown compound 'cycleway.lane' in type 'cycleway.lane|highway.secondary' (first occurence for edge '100822066').\n",
      "\u001b[2m\u001b[36m(pid=9611)\u001b[0m Warning: Removed a road without junctions: -21549451\n",
      "\u001b[2m\u001b[36m(pid=9611)\u001b[0m Warning: Removed a road without junctions: 21549451\n",
      "\u001b[2m\u001b[36m(pid=9611)\u001b[0m Warning: The traffic light '30624291' does not control any links; it will not be build.\n",
      "\u001b[2m\u001b[36m(pid=9611)\u001b[0m Warning: Could not build program '0' for traffic light '30624291'\n",
      "\u001b[2m\u001b[36m(pid=9611)\u001b[0m Warning: Minor green from edge '-352962858#0' to edge '4786972#0' exceeds 19.44m/s. Maybe a left-turn lane is missing.\n",
      "\u001b[2m\u001b[36m(pid=9611)\u001b[0m Warning: Minor green from edge '352962858#0' to edge '4794820' exceeds 19.44m/s. Maybe a left-turn lane is missing.\n",
      "\u001b[2m\u001b[36m(pid=9611)\u001b[0m Warning: Minor green from edge '-352962858#1' to edge '4795742#0' exceeds 19.44m/s. Maybe a left-turn lane is missing.\n",
      "\u001b[2m\u001b[36m(pid=9611)\u001b[0m Success.\n",
      "\u001b[2m\u001b[36m(pid=9675)\u001b[0m Warning: Discarding unknown compound 'cycleway.opposite' in type 'cycleway.opposite|highway.residential' (first occurence for edge '4786965#0').\n",
      "\u001b[2m\u001b[36m(pid=9675)\u001b[0m Warning: Discarding unknown compound 'cycleway.opposite_track' in type 'cycleway.opposite_track|highway.residential' (first occurence for edge '4786972#0').\n",
      "\u001b[2m\u001b[36m(pid=9675)\u001b[0m Warning: Discarding unknown compound 'cycleway.opposite' in type 'cycleway.opposite|highway.living_street' (first occurence for edge '4795758').\n",
      "\u001b[2m\u001b[36m(pid=9675)\u001b[0m Warning: Discarding unknown compound 'cycleway.lane' in type 'cycleway.lane|highway.secondary' (first occurence for edge '100822066').\n",
      "\u001b[2m\u001b[36m(pid=9675)\u001b[0m Warning: Removed a road without junctions: -21549451\n",
      "\u001b[2m\u001b[36m(pid=9675)\u001b[0m Warning: Removed a road without junctions: 21549451\n",
      "\u001b[2m\u001b[36m(pid=9675)\u001b[0m Success.\n",
      "\u001b[2m\u001b[36m(pid=9675)\u001b[0m Warning: The traffic light '30624291' does not control any links; it will not be build.\n",
      "\u001b[2m\u001b[36m(pid=9675)\u001b[0m Warning: Could not build program '0' for traffic light '30624291'\n",
      "\u001b[2m\u001b[36m(pid=9675)\u001b[0m Warning: Minor green from edge '-352962858#0' to edge '4786972#0' exceeds 19.44m/s. Maybe a left-turn lane is missing.\n",
      "\u001b[2m\u001b[36m(pid=9675)\u001b[0m Warning: Minor green from edge '352962858#0' to edge '4794820' exceeds 19.44m/s. Maybe a left-turn lane is missing.\n",
      "\u001b[2m\u001b[36m(pid=9675)\u001b[0m Warning: Minor green from edge '-352962858#1' to edge '4795742#0' exceeds 19.44m/s. Maybe a left-turn lane is missing.\n",
      "\u001b[2m\u001b[36m(pid=9611)\u001b[0m 2020-03-27 14:37:07,074\tINFO rollout_worker.py:319 -- Creating policy evaluation worker 1 on CPU (please ignore any CUDA init errors)\n",
      "\u001b[2m\u001b[36m(pid=9611)\u001b[0m 2020-03-27 14:37:07.154426: I tensorflow/core/platform/cpu_feature_guard.cc:141] Your CPU supports instructions that this TensorFlow binary was not compiled to use: SSE4.1 SSE4.2 AVX AVX2\n",
      "\u001b[2m\u001b[36m(pid=9611)\u001b[0m 2020-03-27 14:37:07,710\tINFO dynamic_tf_policy.py:324 -- Initializing loss function with dummy input:\n",
      "\u001b[2m\u001b[36m(pid=9611)\u001b[0m \n",
      "\u001b[2m\u001b[36m(pid=9611)\u001b[0m { 'action_prob': <tf.Tensor 'default_policy/action_prob:0' shape=(?,) dtype=float32>,\n",
      "\u001b[2m\u001b[36m(pid=9611)\u001b[0m   'actions': <tf.Tensor 'default_policy/actions:0' shape=(?, 2) dtype=float32>,\n",
      "\u001b[2m\u001b[36m(pid=9611)\u001b[0m   'advantages': <tf.Tensor 'default_policy/advantages:0' shape=(?,) dtype=float32>,\n",
      "\u001b[2m\u001b[36m(pid=9611)\u001b[0m   'behaviour_logits': <tf.Tensor 'default_policy/behaviour_logits:0' shape=(?, 4) dtype=float32>,\n",
      "\u001b[2m\u001b[36m(pid=9611)\u001b[0m   'dones': <tf.Tensor 'default_policy/dones:0' shape=(?,) dtype=bool>,\n",
      "\u001b[2m\u001b[36m(pid=9611)\u001b[0m   'new_obs': <tf.Tensor 'default_policy/new_obs:0' shape=(?, 26) dtype=float32>,\n",
      "\u001b[2m\u001b[36m(pid=9611)\u001b[0m   'obs': <tf.Tensor 'default_policy/observation:0' shape=(?, 26) dtype=float32>,\n",
      "\u001b[2m\u001b[36m(pid=9611)\u001b[0m   'prev_actions': <tf.Tensor 'default_policy/action:0' shape=(?, 2) dtype=float32>,\n",
      "\u001b[2m\u001b[36m(pid=9611)\u001b[0m   'prev_rewards': <tf.Tensor 'default_policy/prev_reward:0' shape=(?,) dtype=float32>,\n",
      "\u001b[2m\u001b[36m(pid=9611)\u001b[0m   'rewards': <tf.Tensor 'default_policy/rewards:0' shape=(?,) dtype=float32>,\n",
      "\u001b[2m\u001b[36m(pid=9611)\u001b[0m   'value_targets': <tf.Tensor 'default_policy/value_targets:0' shape=(?,) dtype=float32>,\n",
      "\u001b[2m\u001b[36m(pid=9611)\u001b[0m   'vf_preds': <tf.Tensor 'default_policy/vf_preds:0' shape=(?,) dtype=float32>}\n",
      "\u001b[2m\u001b[36m(pid=9611)\u001b[0m \n"
     ]
    },
    {
     "name": "stdout",
     "output_type": "stream",
     "text": [
      "\u001b[2m\u001b[36m(pid=9675)\u001b[0m 2020-03-27 14:37:08,345\tINFO rollout_worker.py:319 -- Creating policy evaluation worker 2 on CPU (please ignore any CUDA init errors)\n",
      "\u001b[2m\u001b[36m(pid=9675)\u001b[0m 2020-03-27 14:37:08.412835: I tensorflow/core/platform/cpu_feature_guard.cc:141] Your CPU supports instructions that this TensorFlow binary was not compiled to use: SSE4.1 SSE4.2 AVX AVX2\n",
      "\u001b[2m\u001b[36m(pid=9611)\u001b[0m /home/julien/anaconda3/envs/flow/lib/python3.6/site-packages/tensorflow/python/ops/gradients_impl.py:100: UserWarning: Converting sparse IndexedSlices to a dense Tensor of unknown shape. This may consume a large amount of memory.\n",
      "\u001b[2m\u001b[36m(pid=9611)\u001b[0m   \"Converting sparse IndexedSlices to a dense Tensor of unknown shape. \"\n",
      "\u001b[2m\u001b[36m(pid=9610)\u001b[0m 2020-03-27 14:37:09,466\tINFO trainable.py:105 -- _setup took 20.522 seconds. If your trainable is slow to initialize, consider setting reuse_actors=True to reduce actor creation overheads.\n",
      "\u001b[2m\u001b[36m(pid=9610)\u001b[0m 2020-03-27 14:37:09,466\tWARNING util.py:47 -- Install gputil for GPU system monitoring.\n",
      "\u001b[2m\u001b[36m(pid=9675)\u001b[0m /home/julien/anaconda3/envs/flow/lib/python3.6/site-packages/tensorflow/python/ops/gradients_impl.py:100: UserWarning: Converting sparse IndexedSlices to a dense Tensor of unknown shape. This may consume a large amount of memory.\n",
      "\u001b[2m\u001b[36m(pid=9675)\u001b[0m   \"Converting sparse IndexedSlices to a dense Tensor of unknown shape. \"\n",
      "\u001b[2m\u001b[36m(pid=9611)\u001b[0m 2020-03-27 14:37:12,466\tINFO rollout_worker.py:451 -- Generating sample batch of size 200\n",
      "\u001b[2m\u001b[36m(pid=9611)\u001b[0m Warning: Discarding unknown compound 'cycleway.opposite' in type 'cycleway.opposite|highway.residential' (first occurence for edge '4786965#0').\n",
      "\u001b[2m\u001b[36m(pid=9611)\u001b[0m Warning: Discarding unknown compound 'cycleway.opposite_track' in type 'cycleway.opposite_track|highway.residential' (first occurence for edge '4786972#0').\n",
      "\u001b[2m\u001b[36m(pid=9611)\u001b[0m Warning: Discarding unknown compound 'cycleway.opposite' in type 'cycleway.opposite|highway.living_street' (first occurence for edge '4795758').\n",
      "\u001b[2m\u001b[36m(pid=9611)\u001b[0m Warning: Discarding unknown compound 'cycleway.lane' in type 'cycleway.lane|highway.secondary' (first occurence for edge '100822066').\n",
      "\u001b[2m\u001b[36m(pid=9611)\u001b[0m Success.\n",
      "\u001b[2m\u001b[36m(pid=9611)\u001b[0m Warning: Removed a road without junctions: -21549451\n",
      "\u001b[2m\u001b[36m(pid=9611)\u001b[0m Warning: Removed a road without junctions: 21549451\n",
      "\u001b[2m\u001b[36m(pid=9611)\u001b[0m Warning: The traffic light '30624291' does not control any links; it will not be build.\n",
      "\u001b[2m\u001b[36m(pid=9611)\u001b[0m Warning: Could not build program '0' for traffic light '30624291'\n",
      "\u001b[2m\u001b[36m(pid=9611)\u001b[0m Warning: Minor green from edge '-352962858#0' to edge '4786972#0' exceeds 19.44m/s. Maybe a left-turn lane is missing.\n",
      "\u001b[2m\u001b[36m(pid=9611)\u001b[0m Warning: Minor green from edge '352962858#0' to edge '4794820' exceeds 19.44m/s. Maybe a left-turn lane is missing.\n",
      "\u001b[2m\u001b[36m(pid=9611)\u001b[0m Warning: Minor green from edge '-352962858#1' to edge '4795742#0' exceeds 19.44m/s. Maybe a left-turn lane is missing.\n",
      "\u001b[2m\u001b[36m(pid=9675)\u001b[0m Warning: Discarding unknown compound 'cycleway.opposite' in type 'cycleway.opposite|highway.residential' (first occurence for edge '4786965#0').\n",
      "\u001b[2m\u001b[36m(pid=9675)\u001b[0m Warning: Discarding unknown compound 'cycleway.opposite_track' in type 'cycleway.opposite_track|highway.residential' (first occurence for edge '4786972#0').\n",
      "\u001b[2m\u001b[36m(pid=9675)\u001b[0m Warning: Discarding unknown compound 'cycleway.opposite' in type 'cycleway.opposite|highway.living_street' (first occurence for edge '4795758').\n",
      "\u001b[2m\u001b[36m(pid=9675)\u001b[0m Warning: Discarding unknown compound 'cycleway.lane' in type 'cycleway.lane|highway.secondary' (first occurence for edge '100822066').\n",
      "\u001b[2m\u001b[36m(pid=9675)\u001b[0m Success.\n",
      "\u001b[2m\u001b[36m(pid=9675)\u001b[0m Warning: Removed a road without junctions: -21549451\n",
      "\u001b[2m\u001b[36m(pid=9675)\u001b[0m Warning: Removed a road without junctions: 21549451\n",
      "\u001b[2m\u001b[36m(pid=9675)\u001b[0m Warning: The traffic light '30624291' does not control any links; it will not be build.\n",
      "\u001b[2m\u001b[36m(pid=9675)\u001b[0m Warning: Could not build program '0' for traffic light '30624291'\n",
      "\u001b[2m\u001b[36m(pid=9675)\u001b[0m Warning: Minor green from edge '-352962858#0' to edge '4786972#0' exceeds 19.44m/s. Maybe a left-turn lane is missing.\n",
      "\u001b[2m\u001b[36m(pid=9675)\u001b[0m Warning: Minor green from edge '352962858#0' to edge '4794820' exceeds 19.44m/s. Maybe a left-turn lane is missing.\n",
      "\u001b[2m\u001b[36m(pid=9675)\u001b[0m Warning: Minor green from edge '-352962858#1' to edge '4795742#0' exceeds 19.44m/s. Maybe a left-turn lane is missing.\n"
     ]
    },
    {
     "name": "stderr",
     "output_type": "stream",
     "text": [
      "2020-03-27 14:37:14,118\tERROR trial_runner.py:550 -- Error processing event.\n",
      "Traceback (most recent call last):\n",
      "  File \"/home/julien/anaconda3/envs/flow/lib/python3.6/site-packages/ray/tune/trial_runner.py\", line 498, in _process_trial\n",
      "    result = self.trial_executor.fetch_result(trial)\n",
      "  File \"/home/julien/anaconda3/envs/flow/lib/python3.6/site-packages/ray/tune/ray_trial_executor.py\", line 342, in fetch_result\n",
      "    result = ray.get(trial_future[0])\n",
      "  File \"/home/julien/anaconda3/envs/flow/lib/python3.6/site-packages/ray/worker.py\", line 2247, in get\n",
      "    raise value\n",
      "ray.exceptions.RayTaskError: \u001b[36mray_PPO:train()\u001b[39m (pid=9610, host=julien-Ubuntu)\n",
      "  File \"/home/julien/anaconda3/envs/flow/lib/python3.6/site-packages/ray/rllib/agents/trainer.py\", line 369, in train\n",
      "    raise e\n",
      "  File \"/home/julien/anaconda3/envs/flow/lib/python3.6/site-packages/ray/rllib/agents/trainer.py\", line 358, in train\n",
      "    result = Trainable.train(self)\n",
      "  File \"/home/julien/anaconda3/envs/flow/lib/python3.6/site-packages/ray/tune/trainable.py\", line 171, in train\n",
      "    result = self._train()\n",
      "  File \"/home/julien/anaconda3/envs/flow/lib/python3.6/site-packages/ray/rllib/agents/trainer_template.py\", line 126, in _train\n",
      "    fetches = self.optimizer.step()\n",
      "  File \"/home/julien/anaconda3/envs/flow/lib/python3.6/site-packages/ray/rllib/optimizers/multi_gpu_optimizer.py\", line 140, in step\n",
      "    self.num_envs_per_worker, self.train_batch_size)\n",
      "  File \"/home/julien/anaconda3/envs/flow/lib/python3.6/site-packages/ray/rllib/optimizers/rollout.py\", line 29, in collect_samples\n",
      "    next_sample = ray_get_and_free(fut_sample)\n",
      "  File \"/home/julien/anaconda3/envs/flow/lib/python3.6/site-packages/ray/rllib/utils/memory.py\", line 33, in ray_get_and_free\n",
      "    result = ray.get(object_ids)\n",
      "ray.exceptions.RayTaskError: \u001b[36mray_RolloutWorker:sample()\u001b[39m (pid=9611, host=julien-Ubuntu)\n",
      "  File \"/home/julien/anaconda3/envs/flow/lib/python3.6/site-packages/ray/rllib/evaluation/rollout_worker.py\", line 453, in sample\n",
      "    batches = [self.input_reader.next()]\n",
      "  File \"/home/julien/anaconda3/envs/flow/lib/python3.6/site-packages/ray/rllib/evaluation/sampler.py\", line 56, in next\n",
      "    batches = [self.get_data()]\n",
      "  File \"/home/julien/anaconda3/envs/flow/lib/python3.6/site-packages/ray/rllib/evaluation/sampler.py\", line 97, in get_data\n",
      "    item = next(self.rollout_provider)\n",
      "  File \"/home/julien/anaconda3/envs/flow/lib/python3.6/site-packages/ray/rllib/evaluation/sampler.py\", line 313, in _env_runner\n",
      "    soft_horizon)\n",
      "  File \"/home/julien/anaconda3/envs/flow/lib/python3.6/site-packages/ray/rllib/evaluation/sampler.py\", line 401, in _process_observations\n",
      "    policy_id).transform(raw_obs)\n",
      "  File \"/home/julien/anaconda3/envs/flow/lib/python3.6/site-packages/ray/rllib/models/preprocessors.py\", line 166, in transform\n",
      "    self.check_shape(observation)\n",
      "  File \"/home/julien/anaconda3/envs/flow/lib/python3.6/site-packages/ray/rllib/models/preprocessors.py\", line 61, in check_shape\n",
      "    self._obs_space, observation)\n",
      "ValueError: ('Observation outside expected value range', Box(26,), array([   5.        ,    5.        ,   58.735     ,   58.735     ,\n",
      "        316.75      ,  370.485     ,  424.22      ,  727.295     ,\n",
      "        727.295     , 1743.69      , 1798.29833333, 1850.36666667,\n",
      "          0.        ,    0.        ,    0.        ,    0.        ,\n",
      "          0.        ,    0.        ,    0.        ,    0.        ,\n",
      "          0.        ,    0.        ,    0.        ,    0.        ]))\n",
      "\n",
      "\n",
      "2020-03-27 14:37:14,160\tINFO trial_runner.py:587 -- Attempting to recover trial state from last checkpoint.\n",
      "2020-03-27 14:37:14,222\tWARNING signature.py:108 -- The function with_updates has a **kwargs argument, which is currently not supported.\n"
     ]
    },
    {
     "name": "stdout",
     "output_type": "stream",
     "text": [
      "\u001b[2m\u001b[36m(pid=9610)\u001b[0m 2020-03-27 14:37:14,111\tINFO trainer.py:366 -- Worker crashed during call to train(). To attempt to continue training without the failed worker, set `'ignore_worker_failures': True`.\n",
      "\u001b[2m\u001b[36m(pid=9611)\u001b[0m 2020-03-27 14:37:14,098\tINFO sampler.py:304 -- Raw obs from env: { 0: { 'agent0': np.ndarray((24,), dtype=float64, min=0.0, max=1850.367, mean=336.911)}}\n",
      "\u001b[2m\u001b[36m(pid=9611)\u001b[0m 2020-03-27 14:37:14,099\tINFO sampler.py:305 -- Info return from env: {0: {'agent0': None}}\n"
     ]
    },
    {
     "name": "stderr",
     "output_type": "stream",
     "text": [
      "2020-03-27 14:37:14,396\tWARNING util.py:145 -- The `process_trial` operation took 0.28057265281677246 seconds to complete, which may be a performance bottleneck.\n"
     ]
    },
    {
     "name": "stdout",
     "output_type": "stream",
     "text": [
      "\u001b[2m\u001b[36m(pid=9782)\u001b[0m 2020-03-27 14:37:21,711\tWARNING ppo.py:143 -- FYI: By default, the value function will not share layers with the policy model ('vf_share_layers': False).\n",
      "\u001b[2m\u001b[36m(pid=9782)\u001b[0m Warning: Discarding unknown compound 'cycleway.opposite' in type 'cycleway.opposite|highway.residential' (first occurence for edge '4786965#0').\n",
      "\u001b[2m\u001b[36m(pid=9782)\u001b[0m Warning: Discarding unknown compound 'cycleway.opposite_track' in type 'cycleway.opposite_track|highway.residential' (first occurence for edge '4786972#0').\n",
      "\u001b[2m\u001b[36m(pid=9782)\u001b[0m Warning: Discarding unknown compound 'cycleway.opposite' in type 'cycleway.opposite|highway.living_street' (first occurence for edge '4795758').\n",
      "\u001b[2m\u001b[36m(pid=9782)\u001b[0m Warning: Discarding unknown compound 'cycleway.lane' in type 'cycleway.lane|highway.secondary' (first occurence for edge '100822066').\n",
      "\u001b[2m\u001b[36m(pid=9782)\u001b[0m Warning: Removed a road without junctions: -21549451\n",
      "\u001b[2m\u001b[36m(pid=9782)\u001b[0m Warning: Removed a road without junctions: 21549451\n",
      "\u001b[2m\u001b[36m(pid=9782)\u001b[0m Warning: The traffic light '30624291' does not control any links; it will not be build.\n",
      "\u001b[2m\u001b[36m(pid=9782)\u001b[0m Warning: Could not build program '0' for traffic light '30624291'\n",
      "\u001b[2m\u001b[36m(pid=9782)\u001b[0m Warning: Minor green from edge '-352962858#0' to edge '4786972#0' exceeds 19.44m/s. Maybe a left-turn lane is missing.\n",
      "\u001b[2m\u001b[36m(pid=9782)\u001b[0m Warning: Minor green from edge '352962858#0' to edge '4794820' exceeds 19.44m/s. Maybe a left-turn lane is missing.\n",
      "\u001b[2m\u001b[36m(pid=9782)\u001b[0m Warning: Minor green from edge '-352962858#1' to edge '4795742#0' exceeds 19.44m/s. Maybe a left-turn lane is missing.\n",
      "\u001b[2m\u001b[36m(pid=9782)\u001b[0m Success.\n",
      "\u001b[2m\u001b[36m(pid=9782)\u001b[0m 2020-03-27 14:37:23,275\tINFO rollout_worker.py:319 -- Creating policy evaluation worker 0 on CPU (please ignore any CUDA init errors)\n",
      "\u001b[2m\u001b[36m(pid=9782)\u001b[0m 2020-03-27 14:37:23.277696: I tensorflow/core/platform/cpu_feature_guard.cc:141] Your CPU supports instructions that this TensorFlow binary was not compiled to use: SSE4.1 SSE4.2 AVX AVX2\n",
      "\u001b[2m\u001b[36m(pid=9782)\u001b[0m 2020-03-27 14:37:23,638\tINFO dynamic_tf_policy.py:324 -- Initializing loss function with dummy input:\n",
      "\u001b[2m\u001b[36m(pid=9782)\u001b[0m \n",
      "\u001b[2m\u001b[36m(pid=9782)\u001b[0m { 'action_prob': <tf.Tensor 'default_policy/action_prob:0' shape=(?,) dtype=float32>,\n",
      "\u001b[2m\u001b[36m(pid=9782)\u001b[0m   'actions': <tf.Tensor 'default_policy/actions:0' shape=(?, 2) dtype=float32>,\n",
      "\u001b[2m\u001b[36m(pid=9782)\u001b[0m   'advantages': <tf.Tensor 'default_policy/advantages:0' shape=(?,) dtype=float32>,\n",
      "\u001b[2m\u001b[36m(pid=9782)\u001b[0m   'behaviour_logits': <tf.Tensor 'default_policy/behaviour_logits:0' shape=(?, 4) dtype=float32>,\n",
      "\u001b[2m\u001b[36m(pid=9782)\u001b[0m   'dones': <tf.Tensor 'default_policy/dones:0' shape=(?,) dtype=bool>,\n",
      "\u001b[2m\u001b[36m(pid=9782)\u001b[0m   'new_obs': <tf.Tensor 'default_policy/new_obs:0' shape=(?, 26) dtype=float32>,\n",
      "\u001b[2m\u001b[36m(pid=9782)\u001b[0m   'obs': <tf.Tensor 'default_policy/observation:0' shape=(?, 26) dtype=float32>,\n",
      "\u001b[2m\u001b[36m(pid=9782)\u001b[0m   'prev_actions': <tf.Tensor 'default_policy/action:0' shape=(?, 2) dtype=float32>,\n",
      "\u001b[2m\u001b[36m(pid=9782)\u001b[0m   'prev_rewards': <tf.Tensor 'default_policy/prev_reward:0' shape=(?,) dtype=float32>,\n",
      "\u001b[2m\u001b[36m(pid=9782)\u001b[0m   'rewards': <tf.Tensor 'default_policy/rewards:0' shape=(?,) dtype=float32>,\n",
      "\u001b[2m\u001b[36m(pid=9782)\u001b[0m   'value_targets': <tf.Tensor 'default_policy/value_targets:0' shape=(?,) dtype=float32>,\n",
      "\u001b[2m\u001b[36m(pid=9782)\u001b[0m   'vf_preds': <tf.Tensor 'default_policy/vf_preds:0' shape=(?,) dtype=float32>}\n",
      "\u001b[2m\u001b[36m(pid=9782)\u001b[0m \n",
      "\u001b[2m\u001b[36m(pid=9782)\u001b[0m /home/julien/anaconda3/envs/flow/lib/python3.6/site-packages/tensorflow/python/ops/gradients_impl.py:100: UserWarning: Converting sparse IndexedSlices to a dense Tensor of unknown shape. This may consume a large amount of memory.\n",
      "\u001b[2m\u001b[36m(pid=9782)\u001b[0m   \"Converting sparse IndexedSlices to a dense Tensor of unknown shape. \"\n",
      "\u001b[2m\u001b[36m(pid=9782)\u001b[0m 2020-03-27 14:37:26,196\tINFO rollout_worker.py:742 -- Built policy map: {'default_policy': <ray.rllib.policy.tf_policy_template.PPOTFPolicy object at 0x7f4a133b8588>}\n",
      "\u001b[2m\u001b[36m(pid=9782)\u001b[0m 2020-03-27 14:37:26,196\tINFO rollout_worker.py:743 -- Built preprocessor map: {'default_policy': <ray.rllib.models.preprocessors.NoPreprocessor object at 0x7f4a133b8240>}\n",
      "\u001b[2m\u001b[36m(pid=9782)\u001b[0m 2020-03-27 14:37:26,197\tINFO rollout_worker.py:356 -- Built filter map: {'default_policy': <ray.rllib.utils.filter.NoFilter object at 0x7f4a133b80f0>}\n",
      "\u001b[2m\u001b[36m(pid=9782)\u001b[0m 2020-03-27 14:37:26,320\tINFO multi_gpu_optimizer.py:93 -- LocalMultiGPUOptimizer devices ['/cpu:0']\n",
      "\u001b[2m\u001b[36m(pid=9784)\u001b[0m Warning: Discarding unknown compound 'cycleway.opposite' in type 'cycleway.opposite|highway.residential' (first occurence for edge '4786965#0').\n",
      "\u001b[2m\u001b[36m(pid=9784)\u001b[0m Warning: Discarding unknown compound 'cycleway.opposite_track' in type 'cycleway.opposite_track|highway.residential' (first occurence for edge '4786972#0').\n",
      "\u001b[2m\u001b[36m(pid=9784)\u001b[0m Warning: Discarding unknown compound 'cycleway.opposite' in type 'cycleway.opposite|highway.living_street' (first occurence for edge '4795758').\n",
      "\u001b[2m\u001b[36m(pid=9784)\u001b[0m Warning: Discarding unknown compound 'cycleway.lane' in type 'cycleway.lane|highway.secondary' (first occurence for edge '100822066').\n",
      "\u001b[2m\u001b[36m(pid=9784)\u001b[0m Warning: Removed a road without junctions: -21549451\n",
      "\u001b[2m\u001b[36m(pid=9784)\u001b[0m Warning: Removed a road without junctions: 21549451\n",
      "\u001b[2m\u001b[36m(pid=9784)\u001b[0m Warning: The traffic light '30624291' does not control any links; it will not be build.\n",
      "\u001b[2m\u001b[36m(pid=9784)\u001b[0m Warning: Could not build program '0' for traffic light '30624291'\n",
      "\u001b[2m\u001b[36m(pid=9784)\u001b[0m Warning: Minor green from edge '-352962858#0' to edge '4786972#0' exceeds 19.44m/s. Maybe a left-turn lane is missing.\n",
      "\u001b[2m\u001b[36m(pid=9784)\u001b[0m Warning: Minor green from edge '352962858#0' to edge '4794820' exceeds 19.44m/s. Maybe a left-turn lane is missing.\n",
      "\u001b[2m\u001b[36m(pid=9784)\u001b[0m Warning: Minor green from edge '-352962858#1' to edge '4795742#0' exceeds 19.44m/s. Maybe a left-turn lane is missing.\n",
      "\u001b[2m\u001b[36m(pid=9784)\u001b[0m Success.\n",
      "\u001b[2m\u001b[36m(pid=9829)\u001b[0m Warning: Discarding unknown compound 'cycleway.opposite' in type 'cycleway.opposite|highway.residential' (first occurence for edge '4786965#0').\n",
      "\u001b[2m\u001b[36m(pid=9829)\u001b[0m Warning: Discarding unknown compound 'cycleway.opposite_track' in type 'cycleway.opposite_track|highway.residential' (first occurence for edge '4786972#0').\n",
      "\u001b[2m\u001b[36m(pid=9829)\u001b[0m Warning: Discarding unknown compound 'cycleway.opposite' in type 'cycleway.opposite|highway.living_street' (first occurence for edge '4795758').\n",
      "\u001b[2m\u001b[36m(pid=9829)\u001b[0m Warning: Discarding unknown compound 'cycleway.lane' in type 'cycleway.lane|highway.secondary' (first occurence for edge '100822066').\n",
      "\u001b[2m\u001b[36m(pid=9829)\u001b[0m Warning: Removed a road without junctions: -21549451\n",
      "\u001b[2m\u001b[36m(pid=9829)\u001b[0m Warning: Removed a road without junctions: 21549451\n",
      "\u001b[2m\u001b[36m(pid=9829)\u001b[0m Warning: The traffic light '30624291' does not control any links; it will not be build.\n",
      "\u001b[2m\u001b[36m(pid=9829)\u001b[0m Warning: Could not build program '0' for traffic light '30624291'\n",
      "\u001b[2m\u001b[36m(pid=9829)\u001b[0m Warning: Minor green from edge '-352962858#0' to edge '4786972#0' exceeds 19.44m/s. Maybe a left-turn lane is missing.\n",
      "\u001b[2m\u001b[36m(pid=9829)\u001b[0m Warning: Minor green from edge '352962858#0' to edge '4794820' exceeds 19.44m/s. Maybe a left-turn lane is missing.\n",
      "\u001b[2m\u001b[36m(pid=9829)\u001b[0m Warning: Minor green from edge '-352962858#1' to edge '4795742#0' exceeds 19.44m/s. Maybe a left-turn lane is missing.\n",
      "\u001b[2m\u001b[36m(pid=9829)\u001b[0m Success.\n",
      "\u001b[2m\u001b[36m(pid=9784)\u001b[0m 2020-03-27 14:37:37,451\tINFO rollout_worker.py:319 -- Creating policy evaluation worker 1 on CPU (please ignore any CUDA init errors)\n",
      "\u001b[2m\u001b[36m(pid=9784)\u001b[0m 2020-03-27 14:37:37.476213: I tensorflow/core/platform/cpu_feature_guard.cc:141] Your CPU supports instructions that this TensorFlow binary was not compiled to use: SSE4.1 SSE4.2 AVX AVX2\n",
      "\u001b[2m\u001b[36m(pid=9782)\u001b[0m 2020-03-27 14:37:37,539\tINFO trainable.py:105 -- _setup took 17.006 seconds. If your trainable is slow to initialize, consider setting reuse_actors=True to reduce actor creation overheads.\n",
      "\u001b[2m\u001b[36m(pid=9782)\u001b[0m 2020-03-27 14:37:37,540\tWARNING util.py:47 -- Install gputil for GPU system monitoring.\n"
     ]
    },
    {
     "name": "stdout",
     "output_type": "stream",
     "text": [
      "\u001b[2m\u001b[36m(pid=9784)\u001b[0m 2020-03-27 14:37:38,096\tINFO dynamic_tf_policy.py:324 -- Initializing loss function with dummy input:\n",
      "\u001b[2m\u001b[36m(pid=9784)\u001b[0m \n",
      "\u001b[2m\u001b[36m(pid=9784)\u001b[0m { 'action_prob': <tf.Tensor 'default_policy/action_prob:0' shape=(?,) dtype=float32>,\n",
      "\u001b[2m\u001b[36m(pid=9784)\u001b[0m   'actions': <tf.Tensor 'default_policy/actions:0' shape=(?, 2) dtype=float32>,\n",
      "\u001b[2m\u001b[36m(pid=9784)\u001b[0m   'advantages': <tf.Tensor 'default_policy/advantages:0' shape=(?,) dtype=float32>,\n",
      "\u001b[2m\u001b[36m(pid=9784)\u001b[0m   'behaviour_logits': <tf.Tensor 'default_policy/behaviour_logits:0' shape=(?, 4) dtype=float32>,\n",
      "\u001b[2m\u001b[36m(pid=9784)\u001b[0m   'dones': <tf.Tensor 'default_policy/dones:0' shape=(?,) dtype=bool>,\n",
      "\u001b[2m\u001b[36m(pid=9784)\u001b[0m   'new_obs': <tf.Tensor 'default_policy/new_obs:0' shape=(?, 26) dtype=float32>,\n",
      "\u001b[2m\u001b[36m(pid=9784)\u001b[0m   'obs': <tf.Tensor 'default_policy/observation:0' shape=(?, 26) dtype=float32>,\n",
      "\u001b[2m\u001b[36m(pid=9784)\u001b[0m   'prev_actions': <tf.Tensor 'default_policy/action:0' shape=(?, 2) dtype=float32>,\n",
      "\u001b[2m\u001b[36m(pid=9784)\u001b[0m   'prev_rewards': <tf.Tensor 'default_policy/prev_reward:0' shape=(?,) dtype=float32>,\n",
      "\u001b[2m\u001b[36m(pid=9784)\u001b[0m   'rewards': <tf.Tensor 'default_policy/rewards:0' shape=(?,) dtype=float32>,\n",
      "\u001b[2m\u001b[36m(pid=9784)\u001b[0m   'value_targets': <tf.Tensor 'default_policy/value_targets:0' shape=(?,) dtype=float32>,\n",
      "\u001b[2m\u001b[36m(pid=9784)\u001b[0m   'vf_preds': <tf.Tensor 'default_policy/vf_preds:0' shape=(?,) dtype=float32>}\n",
      "\u001b[2m\u001b[36m(pid=9784)\u001b[0m \n",
      "\u001b[2m\u001b[36m(pid=9829)\u001b[0m 2020-03-27 14:37:38,424\tINFO rollout_worker.py:319 -- Creating policy evaluation worker 2 on CPU (please ignore any CUDA init errors)\n",
      "\u001b[2m\u001b[36m(pid=9829)\u001b[0m 2020-03-27 14:37:38.496238: I tensorflow/core/platform/cpu_feature_guard.cc:141] Your CPU supports instructions that this TensorFlow binary was not compiled to use: SSE4.1 SSE4.2 AVX AVX2\n",
      "\u001b[2m\u001b[36m(pid=9784)\u001b[0m /home/julien/anaconda3/envs/flow/lib/python3.6/site-packages/tensorflow/python/ops/gradients_impl.py:100: UserWarning: Converting sparse IndexedSlices to a dense Tensor of unknown shape. This may consume a large amount of memory.\n",
      "\u001b[2m\u001b[36m(pid=9784)\u001b[0m   \"Converting sparse IndexedSlices to a dense Tensor of unknown shape. \"\n",
      "\u001b[2m\u001b[36m(pid=9829)\u001b[0m /home/julien/anaconda3/envs/flow/lib/python3.6/site-packages/tensorflow/python/ops/gradients_impl.py:100: UserWarning: Converting sparse IndexedSlices to a dense Tensor of unknown shape. This may consume a large amount of memory.\n",
      "\u001b[2m\u001b[36m(pid=9829)\u001b[0m   \"Converting sparse IndexedSlices to a dense Tensor of unknown shape. \"\n",
      "\u001b[2m\u001b[36m(pid=9784)\u001b[0m 2020-03-27 14:37:43,340\tINFO rollout_worker.py:451 -- Generating sample batch of size 200\n"
     ]
    },
    {
     "name": "stderr",
     "output_type": "stream",
     "text": [
      "2020-03-27 14:37:43,624\tERROR import_thread.py:89 -- ImportThread: Error 111 connecting to 10.0.2.15:40655. Connection refused.\n",
      "2020-03-27 14:37:43,635\tERROR worker.py:1716 -- listen_error_messages_raylet: Error 111 connecting to 10.0.2.15:40655. Connection refused.\n",
      "2020-03-27 14:37:43,642\tERROR worker.py:1616 -- print_logs: Error 111 connecting to 10.0.2.15:40655. Connection refused.\n"
     ]
    },
    {
     "ename": "KeyboardInterrupt",
     "evalue": "",
     "output_type": "error",
     "traceback": [
      "\u001b[0;31m---------------------------------------------------------------------------\u001b[0m",
      "\u001b[0;31mKeyboardInterrupt\u001b[0m                         Traceback (most recent call last)",
      "\u001b[0;32m<ipython-input-15-7807bedfde16>\u001b[0m in \u001b[0;36m<module>\u001b[0;34m\u001b[0m\n\u001b[1;32m     83\u001b[0m            \"stop\": {\"training_iteration\": 5}}\n\u001b[1;32m     84\u001b[0m \u001b[0;34m\u001b[0m\u001b[0m\n\u001b[0;32m---> 85\u001b[0;31m \u001b[0mtrials\u001b[0m \u001b[0;34m=\u001b[0m \u001b[0mrun_experiments\u001b[0m\u001b[0;34m(\u001b[0m\u001b[0;34m{\u001b[0m\u001b[0mflow_params\u001b[0m\u001b[0;34m[\u001b[0m\u001b[0;34m\"exp_tag\"\u001b[0m\u001b[0;34m]\u001b[0m\u001b[0;34m:\u001b[0m \u001b[0mexp_tag\u001b[0m\u001b[0;34m}\u001b[0m\u001b[0;34m,\u001b[0m \u001b[0mverbose\u001b[0m\u001b[0;34m=\u001b[0m\u001b[0;36m0\u001b[0m\u001b[0;34m)\u001b[0m\u001b[0;34m\u001b[0m\u001b[0;34m\u001b[0m\u001b[0m\n\u001b[0m",
      "\u001b[0;32m~/anaconda3/envs/flow/lib/python3.6/site-packages/ray/tune/tune.py\u001b[0m in \u001b[0;36mrun_experiments\u001b[0;34m(experiments, search_alg, scheduler, with_server, server_port, verbose, resume, queue_trials, reuse_actors, trial_executor, raise_on_failed_trial)\u001b[0m\n\u001b[1;32m    322\u001b[0m             \u001b[0mtrial_executor\u001b[0m\u001b[0;34m=\u001b[0m\u001b[0mtrial_executor\u001b[0m\u001b[0;34m,\u001b[0m\u001b[0;34m\u001b[0m\u001b[0;34m\u001b[0m\u001b[0m\n\u001b[1;32m    323\u001b[0m             \u001b[0mraise_on_failed_trial\u001b[0m\u001b[0;34m=\u001b[0m\u001b[0mraise_on_failed_trial\u001b[0m\u001b[0;34m,\u001b[0m\u001b[0;34m\u001b[0m\u001b[0;34m\u001b[0m\u001b[0m\n\u001b[0;32m--> 324\u001b[0;31m             return_trials=True)\n\u001b[0m\u001b[1;32m    325\u001b[0m     \u001b[0;32mreturn\u001b[0m \u001b[0mtrials\u001b[0m\u001b[0;34m\u001b[0m\u001b[0;34m\u001b[0m\u001b[0m\n",
      "\u001b[0;32m~/anaconda3/envs/flow/lib/python3.6/site-packages/ray/tune/tune.py\u001b[0m in \u001b[0;36mrun\u001b[0;34m(run_or_experiment, name, stop, config, resources_per_trial, num_samples, local_dir, upload_dir, trial_name_creator, loggers, sync_to_cloud, sync_to_driver, checkpoint_freq, checkpoint_at_end, keep_checkpoints_num, checkpoint_score_attr, global_checkpoint_period, export_formats, max_failures, restore, search_alg, scheduler, with_server, server_port, verbose, resume, queue_trials, reuse_actors, trial_executor, raise_on_failed_trial, return_trials, ray_auto_init, sync_function)\u001b[0m\n\u001b[1;32m    242\u001b[0m     \u001b[0mlast_debug\u001b[0m \u001b[0;34m=\u001b[0m \u001b[0;36m0\u001b[0m\u001b[0;34m\u001b[0m\u001b[0;34m\u001b[0m\u001b[0m\n\u001b[1;32m    243\u001b[0m     \u001b[0;32mwhile\u001b[0m \u001b[0;32mnot\u001b[0m \u001b[0mrunner\u001b[0m\u001b[0;34m.\u001b[0m\u001b[0mis_finished\u001b[0m\u001b[0;34m(\u001b[0m\u001b[0;34m)\u001b[0m\u001b[0;34m:\u001b[0m\u001b[0;34m\u001b[0m\u001b[0;34m\u001b[0m\u001b[0m\n\u001b[0;32m--> 244\u001b[0;31m         \u001b[0mrunner\u001b[0m\u001b[0;34m.\u001b[0m\u001b[0mstep\u001b[0m\u001b[0;34m(\u001b[0m\u001b[0;34m)\u001b[0m\u001b[0;34m\u001b[0m\u001b[0;34m\u001b[0m\u001b[0m\n\u001b[0m\u001b[1;32m    245\u001b[0m         \u001b[0;32mif\u001b[0m \u001b[0mtime\u001b[0m\u001b[0;34m.\u001b[0m\u001b[0mtime\u001b[0m\u001b[0;34m(\u001b[0m\u001b[0;34m)\u001b[0m \u001b[0;34m-\u001b[0m \u001b[0mlast_debug\u001b[0m \u001b[0;34m>\u001b[0m \u001b[0mDEBUG_PRINT_INTERVAL\u001b[0m\u001b[0;34m:\u001b[0m\u001b[0;34m\u001b[0m\u001b[0;34m\u001b[0m\u001b[0m\n\u001b[1;32m    246\u001b[0m             \u001b[0;32mif\u001b[0m \u001b[0mverbose\u001b[0m\u001b[0;34m:\u001b[0m\u001b[0;34m\u001b[0m\u001b[0;34m\u001b[0m\u001b[0m\n",
      "\u001b[0;32m~/anaconda3/envs/flow/lib/python3.6/site-packages/ray/tune/trial_runner.py\u001b[0m in \u001b[0;36mstep\u001b[0;34m(self)\u001b[0m\n\u001b[1;32m    326\u001b[0m                 \u001b[0mself\u001b[0m\u001b[0;34m.\u001b[0m\u001b[0mtrial_executor\u001b[0m\u001b[0;34m.\u001b[0m\u001b[0mstart_trial\u001b[0m\u001b[0;34m(\u001b[0m\u001b[0mnext_trial\u001b[0m\u001b[0;34m)\u001b[0m\u001b[0;34m\u001b[0m\u001b[0;34m\u001b[0m\u001b[0m\n\u001b[1;32m    327\u001b[0m         \u001b[0;32melif\u001b[0m \u001b[0mself\u001b[0m\u001b[0;34m.\u001b[0m\u001b[0mtrial_executor\u001b[0m\u001b[0;34m.\u001b[0m\u001b[0mget_running_trials\u001b[0m\u001b[0;34m(\u001b[0m\u001b[0;34m)\u001b[0m\u001b[0;34m:\u001b[0m\u001b[0;34m\u001b[0m\u001b[0;34m\u001b[0m\u001b[0m\n\u001b[0;32m--> 328\u001b[0;31m             \u001b[0mself\u001b[0m\u001b[0;34m.\u001b[0m\u001b[0m_process_events\u001b[0m\u001b[0;34m(\u001b[0m\u001b[0;34m)\u001b[0m  \u001b[0;31m# blocking\u001b[0m\u001b[0;34m\u001b[0m\u001b[0;34m\u001b[0m\u001b[0m\n\u001b[0m\u001b[1;32m    329\u001b[0m         \u001b[0;32melse\u001b[0m\u001b[0;34m:\u001b[0m\u001b[0;34m\u001b[0m\u001b[0;34m\u001b[0m\u001b[0m\n\u001b[1;32m    330\u001b[0m             \u001b[0;32mfor\u001b[0m \u001b[0mtrial\u001b[0m \u001b[0;32min\u001b[0m \u001b[0mself\u001b[0m\u001b[0;34m.\u001b[0m\u001b[0m_trials\u001b[0m\u001b[0;34m:\u001b[0m\u001b[0;34m\u001b[0m\u001b[0;34m\u001b[0m\u001b[0m\n",
      "\u001b[0;32m~/anaconda3/envs/flow/lib/python3.6/site-packages/ray/tune/trial_runner.py\u001b[0m in \u001b[0;36m_process_events\u001b[0;34m(self)\u001b[0m\n\u001b[1;32m    490\u001b[0m \u001b[0;34m\u001b[0m\u001b[0m\n\u001b[1;32m    491\u001b[0m     \u001b[0;32mdef\u001b[0m \u001b[0m_process_events\u001b[0m\u001b[0;34m(\u001b[0m\u001b[0mself\u001b[0m\u001b[0;34m)\u001b[0m\u001b[0;34m:\u001b[0m\u001b[0;34m\u001b[0m\u001b[0;34m\u001b[0m\u001b[0m\n\u001b[0;32m--> 492\u001b[0;31m         \u001b[0mtrial\u001b[0m \u001b[0;34m=\u001b[0m \u001b[0mself\u001b[0m\u001b[0;34m.\u001b[0m\u001b[0mtrial_executor\u001b[0m\u001b[0;34m.\u001b[0m\u001b[0mget_next_available_trial\u001b[0m\u001b[0;34m(\u001b[0m\u001b[0;34m)\u001b[0m  \u001b[0;31m# blocking\u001b[0m\u001b[0;34m\u001b[0m\u001b[0;34m\u001b[0m\u001b[0m\n\u001b[0m\u001b[1;32m    493\u001b[0m         \u001b[0;32mwith\u001b[0m \u001b[0mwarn_if_slow\u001b[0m\u001b[0;34m(\u001b[0m\u001b[0;34m\"process_trial\"\u001b[0m\u001b[0;34m)\u001b[0m\u001b[0;34m:\u001b[0m\u001b[0;34m\u001b[0m\u001b[0;34m\u001b[0m\u001b[0m\n\u001b[1;32m    494\u001b[0m             \u001b[0mself\u001b[0m\u001b[0;34m.\u001b[0m\u001b[0m_process_trial\u001b[0m\u001b[0;34m(\u001b[0m\u001b[0mtrial\u001b[0m\u001b[0;34m)\u001b[0m\u001b[0;34m\u001b[0m\u001b[0;34m\u001b[0m\u001b[0m\n",
      "\u001b[0;32m~/anaconda3/envs/flow/lib/python3.6/site-packages/ray/tune/ray_trial_executor.py\u001b[0m in \u001b[0;36mget_next_available_trial\u001b[0;34m(self)\u001b[0m\n\u001b[1;32m    316\u001b[0m         \u001b[0;31m# See https://github.com/ray-project/ray/issues/4211 for details.\u001b[0m\u001b[0;34m\u001b[0m\u001b[0;34m\u001b[0m\u001b[0;34m\u001b[0m\u001b[0m\n\u001b[1;32m    317\u001b[0m         \u001b[0mstart\u001b[0m \u001b[0;34m=\u001b[0m \u001b[0mtime\u001b[0m\u001b[0;34m.\u001b[0m\u001b[0mtime\u001b[0m\u001b[0;34m(\u001b[0m\u001b[0;34m)\u001b[0m\u001b[0;34m\u001b[0m\u001b[0;34m\u001b[0m\u001b[0m\n\u001b[0;32m--> 318\u001b[0;31m         \u001b[0;34m[\u001b[0m\u001b[0mresult_id\u001b[0m\u001b[0;34m]\u001b[0m\u001b[0;34m,\u001b[0m \u001b[0m_\u001b[0m \u001b[0;34m=\u001b[0m \u001b[0mray\u001b[0m\u001b[0;34m.\u001b[0m\u001b[0mwait\u001b[0m\u001b[0;34m(\u001b[0m\u001b[0mshuffled_results\u001b[0m\u001b[0;34m)\u001b[0m\u001b[0;34m\u001b[0m\u001b[0;34m\u001b[0m\u001b[0m\n\u001b[0m\u001b[1;32m    319\u001b[0m         \u001b[0mwait_time\u001b[0m \u001b[0;34m=\u001b[0m \u001b[0mtime\u001b[0m\u001b[0;34m.\u001b[0m\u001b[0mtime\u001b[0m\u001b[0;34m(\u001b[0m\u001b[0;34m)\u001b[0m \u001b[0;34m-\u001b[0m \u001b[0mstart\u001b[0m\u001b[0;34m\u001b[0m\u001b[0;34m\u001b[0m\u001b[0m\n\u001b[1;32m    320\u001b[0m         \u001b[0;32mif\u001b[0m \u001b[0mwait_time\u001b[0m \u001b[0;34m>\u001b[0m \u001b[0mNONTRIVIAL_WAIT_TIME_THRESHOLD_S\u001b[0m\u001b[0;34m:\u001b[0m\u001b[0;34m\u001b[0m\u001b[0;34m\u001b[0m\u001b[0m\n",
      "\u001b[0;32m~/anaconda3/envs/flow/lib/python3.6/site-packages/ray/worker.py\u001b[0m in \u001b[0;36mwait\u001b[0;34m(object_ids, num_returns, timeout)\u001b[0m\n\u001b[1;32m   2370\u001b[0m             \u001b[0mtimeout_milliseconds\u001b[0m\u001b[0;34m,\u001b[0m\u001b[0;34m\u001b[0m\u001b[0;34m\u001b[0m\u001b[0m\n\u001b[1;32m   2371\u001b[0m             \u001b[0;32mFalse\u001b[0m\u001b[0;34m,\u001b[0m\u001b[0;34m\u001b[0m\u001b[0;34m\u001b[0m\u001b[0m\n\u001b[0;32m-> 2372\u001b[0;31m             \u001b[0mworker\u001b[0m\u001b[0;34m.\u001b[0m\u001b[0mcurrent_task_id\u001b[0m\u001b[0;34m,\u001b[0m\u001b[0;34m\u001b[0m\u001b[0;34m\u001b[0m\u001b[0m\n\u001b[0m\u001b[1;32m   2373\u001b[0m         )\n\u001b[1;32m   2374\u001b[0m         \u001b[0;32mreturn\u001b[0m \u001b[0mready_ids\u001b[0m\u001b[0;34m,\u001b[0m \u001b[0mremaining_ids\u001b[0m\u001b[0;34m\u001b[0m\u001b[0;34m\u001b[0m\u001b[0m\n",
      "\u001b[0;32mpython/ray/_raylet.pyx\u001b[0m in \u001b[0;36mray._raylet.RayletClient.wait\u001b[0;34m()\u001b[0m\n",
      "\u001b[0;32mpython/ray/_raylet.pyx\u001b[0m in \u001b[0;36mray._raylet.check_status\u001b[0;34m()\u001b[0m\n",
      "\u001b[0;32m~/anaconda3/envs/flow/lib/python3.6/site-packages/ray/exceptions.py\u001b[0m in \u001b[0;36m__init__\u001b[0;34m(self, client_exc)\u001b[0m\n\u001b[1;32m     84\u001b[0m     \"\"\"\n\u001b[1;32m     85\u001b[0m \u001b[0;34m\u001b[0m\u001b[0m\n\u001b[0;32m---> 86\u001b[0;31m     \u001b[0;32mdef\u001b[0m \u001b[0m__init__\u001b[0m\u001b[0;34m(\u001b[0m\u001b[0mself\u001b[0m\u001b[0;34m,\u001b[0m \u001b[0mclient_exc\u001b[0m\u001b[0;34m)\u001b[0m\u001b[0;34m:\u001b[0m\u001b[0;34m\u001b[0m\u001b[0;34m\u001b[0m\u001b[0m\n\u001b[0m\u001b[1;32m     87\u001b[0m         \u001b[0mself\u001b[0m\u001b[0;34m.\u001b[0m\u001b[0mclient_exc\u001b[0m \u001b[0;34m=\u001b[0m \u001b[0mclient_exc\u001b[0m\u001b[0;34m\u001b[0m\u001b[0;34m\u001b[0m\u001b[0m\n\u001b[1;32m     88\u001b[0m \u001b[0;34m\u001b[0m\u001b[0m\n",
      "\u001b[0;31mKeyboardInterrupt\u001b[0m: "
     ]
    }
   ],
   "source": [
    "# number of rollouts per training iteration\n",
    "N_ROLLOUTS = 10\n",
    "# number of parallel workers\n",
    "N_CPUS = 2\n",
    "\n",
    "# SUMO PARAM\n",
    "sumo_params = SumoParams(sim_step=0.1, render=False, restart_instance=True)\n",
    "\n",
    "# ENVIRONMENT PARAM\n",
    "env_params = EnvParams(additional_params=ADDITIONAL_ENV_PARAMS, horizon=HORIZON)\n",
    "\n",
    "# NETWORK PARAM\n",
    "additional_net_params = ADDITIONAL_NET_PARAMS.copy()\n",
    "path_file  = '/home/julien/projet_CIL4SYS/NOTEBOOKS/issy.osm'\n",
    "net_params = NetParams(inflows=inflow, osm_path=path_file) \n",
    "\n",
    "# NETWORK\n",
    "network = IssyOSMNetwork\n",
    "\n",
    "# INITIAL CONFIG\n",
    "initial_config = InitialConfig(edges_distribution=EDGES_DISTRIBUTION)\n",
    "\n",
    "\n",
    "flow_params = dict( exp_tag   = \"ISSY_RL_train\", \n",
    "                    env_name  = myEnv,  \n",
    "                    network   = IssyOSMNetwork,\n",
    "                    simulator = 'traci', # simulator that is used by the experiment\n",
    "                    sim       = sumo_params,\n",
    "                    env       = env_params,\n",
    "                    net       = net_params,\n",
    "                    veh       = vehicles,\n",
    "                    initial   = initial_config)\n",
    "\n",
    "def setup_exps():\n",
    "    \"\"\"Return the relevant components of an RLlib experiment.\n",
    "\n",
    "    Returns\n",
    "    -------\n",
    "    str\n",
    "        name of the training algorithm\n",
    "    str\n",
    "        name of the gym environment to be trained\n",
    "    dict\n",
    "        training configuration parameters\n",
    "    \"\"\"\n",
    "    alg_run   = \"PPO\"\n",
    "    agent_cls = get_agent_class(alg_run)\n",
    "    config    = agent_cls._default_config.copy()\n",
    "    config[\"num_workers\"]      = N_CPUS\n",
    "    config[\"train_batch_size\"] = HORIZON * N_ROLLOUTS\n",
    "    config[\"gamma\"]            = 0.999  # discount rate\n",
    "    config[\"use_gae\"]          = True\n",
    "    config[\"lambda\"]           = 0.97\n",
    "    config[\"kl_target\"]        = 0.02\n",
    "    config[\"num_sgd_iter\"]     = 10\n",
    "    config['clip_actions']     = False  # FIXME(ev) temporary ray bug\n",
    "    config[\"horizon\"]          = HORIZON\n",
    "    config[\"model\"].update({\"fcnet_hiddens\": [3, 3]})\n",
    "    \n",
    "    # save the flow params for replay\n",
    "    flow_json = json.dumps( flow_params, cls=FlowParamsEncoder, sort_keys=True, indent=4)\n",
    "    config['env_config']['flow_params'] = flow_json\n",
    "    config['env_config']['run'] = alg_run\n",
    "\n",
    "    create_env, gym_name = make_create_env(params=flow_params, version=0)\n",
    "\n",
    "    # Register as rllib env\n",
    "    register_env(gym_name, create_env)\n",
    "    \n",
    "    return alg_run, gym_name, config\n",
    "\n",
    "\n",
    "alg_run, gym_name, config = setup_exps()\n",
    "\n",
    "ray.init(num_cpus=N_CPUS + 1)\n",
    "\n",
    "exp_tag = {\"run\": alg_run,\n",
    "           \"env\": gym_name,\n",
    "           \"config\": {**config},\n",
    "           \"checkpoint_freq\": 500,\n",
    "           \"checkpoint_at_end\": True,\n",
    "           \"max_failures\": 999,\n",
    "           \"stop\": {\"training_iteration\": 5}}\n",
    "\n",
    "trials = run_experiments({flow_params[\"exp_tag\"]: exp_tag}, verbose=0)"
   ]
  },
  {
   "cell_type": "code",
   "execution_count": null,
   "metadata": {},
   "outputs": [],
   "source": []
  }
 ],
 "metadata": {
  "kernelspec": {
   "display_name": "Python 3",
   "language": "python",
   "name": "python3"
  },
  "language_info": {
   "codemirror_mode": {
    "name": "ipython",
    "version": 3
   },
   "file_extension": ".py",
   "mimetype": "text/x-python",
   "name": "python",
   "nbconvert_exporter": "python",
   "pygments_lexer": "ipython3",
   "version": "3.6.8"
  },
  "toc": {
   "base_numbering": 1,
   "nav_menu": {},
   "number_sections": true,
   "sideBar": true,
   "skip_h1_title": false,
   "title_cell": "Table of Contents",
   "title_sidebar": "Contents",
   "toc_cell": false,
   "toc_position": {},
   "toc_section_display": true,
   "toc_window_display": true
  },
  "varInspector": {
   "cols": {
    "lenName": 16,
    "lenType": 16,
    "lenVar": 40
   },
   "kernels_config": {
    "python": {
     "delete_cmd_postfix": "",
     "delete_cmd_prefix": "del ",
     "library": "var_list.py",
     "varRefreshCmd": "print(var_dic_list())"
    },
    "r": {
     "delete_cmd_postfix": ") ",
     "delete_cmd_prefix": "rm(",
     "library": "var_list.r",
     "varRefreshCmd": "cat(var_dic_list()) "
    }
   },
   "types_to_exclude": [
    "module",
    "function",
    "builtin_function_or_method",
    "instance",
    "_Feature"
   ],
   "window_display": false
  }
 },
 "nbformat": 4,
 "nbformat_minor": 2
}
