{
 "cells": [
  {
   "cell_type": "markdown",
   "metadata": {},
   "source": [
    "# Train Traffic Lights Agents\n",
    "\n",
    "- crée un network à partir d'un fichier .osm et des trajectoires de véhiculess\n",
    "- ajoute un flux de voiture sur les routes\n",
    "- personnalise un Environnement pour le RL\n",
    "- integre l'environnement pour RLlib et execute la simulation\n"
   ]
  },
  {
   "cell_type": "code",
   "execution_count": 1,
   "metadata": {},
   "outputs": [],
   "source": [
    "from flow.core.params import VehicleParams\n",
    "from flow.core.params import NetParams, SumoCarFollowingParams\n",
    "from flow.core.params import InitialConfig\n",
    "from flow.core.params import EnvParams\n",
    "from flow.core.params import SumoParams\n",
    "from flow.controllers import RLController, IDMController\n",
    "from flow.networks import Network\n",
    "from flow.core.params import InFlows\n",
    "from collections import OrderedDict\n",
    "import json\n",
    "import ray\n",
    "from ray.rllib.agents.registry import get_agent_class\n",
    "from ray.tune import run_experiments\n",
    "from ray.tune.registry import register_env\n",
    "from flow.utils.registry import make_create_env\n",
    "from flow.utils.rllib import FlowParamsEncoder\n",
    "from flow.core.params import VehicleParams, SumoCarFollowingParams"
   ]
  },
  {
   "cell_type": "markdown",
   "metadata": {},
   "source": [
    "## Crée le network"
   ]
  },
  {
   "cell_type": "markdown",
   "metadata": {},
   "source": [
    "Specifie les noms des routes du network dont les vehicules peuvent être s'insérer"
   ]
  },
  {
   "cell_type": "code",
   "execution_count": 2,
   "metadata": {},
   "outputs": [],
   "source": [
    "EDGES_DISTRIBUTION = [\"-100822066\", \"4794817\", \"4783299#0\", \"155558218\"]"
   ]
  },
  {
   "cell_type": "markdown",
   "metadata": {},
   "source": [
    "créer la classe Network pour spécifier les itinéraires possibles"
   ]
  },
  {
   "cell_type": "code",
   "execution_count": 3,
   "metadata": {},
   "outputs": [],
   "source": [
    "class IssyOSMNetwork(Network):\n",
    "\n",
    "    def specify_routes(self, net_params):\n",
    "        return {\n",
    "            \"-100822066\": [ #N\n",
    "                \"-100822066\",\n",
    "                \"-352962858#1\",\n",
    "                \"-352962858#0\",\n",
    "                \"-4786940#1\",\n",
    "                 \"-4786940#0\",\n",
    "            ],\n",
    "            \n",
    "            \"4794817\" : [ #Loop\n",
    "                \"4794817\",\n",
    "                \"4786972#0\",\n",
    "                \"4786972#1\",\n",
    "                \"4786972#2\",\n",
    "                \"4786965#1\",\n",
    "                \"4786965#2\",\n",
    "                \"4786965#3\",\n",
    "                \"4795729\",\n",
    "                \"-352962858#1\",\n",
    "                \"4795742#0\",\n",
    "                \"4795742#1\",\n",
    "                \"4786965#3\",\n",
    "                \"4786965#4\",\n",
    "                \"4786965#5\",\n",
    "            ],\n",
    "            \n",
    "            \"4783299#0\": [    #E\n",
    "                \"4783299#0\",\n",
    "                \"4783299#1\",\n",
    "                \"4783299#2\",\n",
    "                \"4783299#3\",\n",
    "                \"4783299#4\",\n",
    "                \"4783299#5\",\n",
    "                \"4783299#6\",\n",
    "                \"4786940#0\",\n",
    "                \"4786940#1\",\n",
    "                \"352962858#0\",\n",
    "                \"352962858#1\",\n",
    "                \"100822066\",\n",
    "            ],\n",
    "            \n",
    "            \"155558218\": [\n",
    "                \"155558218\",\n",
    "                \"4786940#1\",\n",
    "                \"352962858#0\",\n",
    "                \"352962858#1\",\n",
    "                \"100822066\",\n",
    "            ],     \n",
    "        }"
   ]
  },
  {
   "cell_type": "markdown",
   "metadata": {},
   "source": [
    "## Ajoute les flux de voiture"
   ]
  },
  {
   "cell_type": "markdown",
   "metadata": {},
   "source": [
    "`IDMController` : The Intelligent Driver Model is a car-following model specifying vehicle dynamics by a differential equation for acceleration $\\dot{v}$.\n",
    "\n",
    "`RLController` : a trainable autuonomous vehicle whose actions are dictated by an RL agent. "
   ]
  },
  {
   "cell_type": "code",
   "execution_count": 4,
   "metadata": {},
   "outputs": [],
   "source": [
    "vehicles = VehicleParams()\n",
    "vehicles.add(\"human\",acceleration_controller=(IDMController, {}), num_vehicles=10)\n",
    "vehicles.add(\"rl\",acceleration_controller=(RLController, {}), num_vehicles=2)"
   ]
  },
  {
   "cell_type": "markdown",
   "metadata": {},
   "source": [
    "- `vehs_per_hour`: nombre de vehicule par heure, uniformément espacés. Par exemple, comme il y a $60 \\times 60 = 3600$ secondes dans une heure, le parametre $\\frac{3600}{5}=720$ va faire rentrer des vehicules dans le network toutes les $5$ secondes.\n",
    "\n",
    "- `probability`: c'est la probabilité qu'un véhicule entre dans le network toutes les secondes. Par exemple, si on la fixe à $0.2$, alors chaque seconde de la simulation un véhicule aura $\\frac{1}{5}$ chance d'entrer dans le network\n",
    "\n",
    "- `period`: C'est le temps en secondes entre 2 véhicules qui sont insérés. Par exemple, le fixer à $5$ ferait rentrer des véhicules dans le network toutes les $5$ secondes (ce qui équivaut à mettre `vehs_per_hour` à $720$).\n",
    "\n",
    "<font color='red'>\n",
    "$\\rightarrow$ Exactement 1 seul de ces 3 paramètres doit être configurer !\n",
    "</font>"
   ]
  },
  {
   "cell_type": "code",
   "execution_count": 5,
   "metadata": {},
   "outputs": [],
   "source": [
    "inflow = InFlows()\n",
    "\n",
    "inflow.add(veh_type      = \"human\",\n",
    "           edge          = \"4794817\",\n",
    "           probability   = 0.3, \n",
    "           depart_speed  = 7,\n",
    "           depart_lane   = \"random\")\n",
    "\n",
    "inflow.add(veh_type      = \"human\",\n",
    "           edge          = \"4783299#0\",\n",
    "           probability   = 0.2,\n",
    "           depart_speed  = 7,\n",
    "           depart_lane   = \"random\")\n",
    "\n",
    "inflow.add(veh_type       = \"human\",\n",
    "           edge           = \"-100822066\",\n",
    "           probability    = 0.25,\n",
    "           depart_speed   = 7,\n",
    "           depart_lane    = \"random\")\n",
    "\n",
    "inflow.add(veh_type       = \"rl\",\n",
    "           edge           = \"-100822066\",\n",
    "           probability    = 0.05,\n",
    "           depart_speed   = 7,\n",
    "           depart_lane    = \"random\",\n",
    "           color          = \"blue\")\n",
    "\n",
    "inflow.add(veh_type       = \"human\",\n",
    "           edge          = \"155558218\",\n",
    "           probability   = 0.2,\n",
    "           depart_speed  = 7,\n",
    "           depart_lane   = \"random\")"
   ]
  },
  {
   "cell_type": "markdown",
   "metadata": {},
   "source": [
    "## Personnalise un Environnement pour le RL\n",
    "\n",
    "plus de méthodes sur : http://berkeleyflow.readthedocs.io/en/latest/"
   ]
  },
  {
   "cell_type": "code",
   "execution_count": 6,
   "metadata": {},
   "outputs": [],
   "source": [
    "from IssyEnv import IssyEnv1"
   ]
  },
  {
   "cell_type": "markdown",
   "metadata": {},
   "source": [
    "## Lance une simulation avec Training RLlib\n",
    "\n",
    "Pour qu'un environnement puisse être entrainé, l'environnement doit être accessible via l'importation à partir de flow.envs. \n",
    "\n",
    "\n",
    "<font color='red'>\n",
    "Copier l'environnement créé dans un fichier .py et on importe l'environnement dans `flow.envs.__init__.py`.\n",
    "Mettre le chemin absolu du fichier .osm .\n",
    "</font> "
   ]
  },
  {
   "cell_type": "code",
   "execution_count": 7,
   "metadata": {},
   "outputs": [],
   "source": [
    "# possibles actions\n",
    "action_spec = OrderedDict({ \"30677963\": [ \"GGGGrrrGGGG\", \"rrrrGGGrrrr\"],\n",
    "                            \"30763263\": [\"GGGGGGGGGG\",  \"rrrrrrrrrr\"],\n",
    "                            \"30677810\": [ \"GGrr\", \"rrGG\"]})"
   ]
  },
  {
   "cell_type": "code",
   "execution_count": 8,
   "metadata": {
    "ExecuteTime": {
     "end_time": "2020-03-24T13:09:50.179116Z",
     "start_time": "2020-03-24T13:09:49.899185Z"
    }
   },
   "outputs": [],
   "source": [
    "HORIZON  = 100\n",
    "SIM_STEP = 0.1\n",
    "n_veh    = 12"
   ]
  },
  {
   "cell_type": "code",
   "execution_count": 9,
   "metadata": {
    "ExecuteTime": {
     "end_time": "2020-03-24T13:09:50.179116Z",
     "start_time": "2020-03-24T13:09:49.899185Z"
    }
   },
   "outputs": [],
   "source": [
    "# SUMO PARAM\n",
    "sumo_params = SumoParams(sim_step=SIM_STEP, render=False, restart_instance=True)\n",
    "\n",
    "# ENVIRONMENT PARAM\n",
    "ADDITIONAL_ENV_PARAMS = {\"beta\": n_veh, \"action_spec\": action_spec, \"algorithm\": \"DQN\", \"tl_constraint_min\": 100,  \"tl_constraint_max\": 600, \"sim_step\": SIM_STEP}\n",
    "env_params = EnvParams(additional_params=ADDITIONAL_ENV_PARAMS, horizon=HORIZON, warmup_steps=1)\n",
    "\n",
    "# NETWORK PARAM\n",
    "path_file  = '/home/julien/projet_CIL4SYS/issy.osm'\n",
    "net_params = NetParams(inflows=inflow, osm_path=path_file) \n",
    "\n",
    "# NETWORK\n",
    "network = IssyOSMNetwork\n",
    "\n",
    "# INITIAL CONFIG\n",
    "initial_config = InitialConfig(edges_distribution=EDGES_DISTRIBUTION)\n",
    "\n",
    "\n",
    "flow_params = dict( exp_tag   = \"ISSY_traffic\", \n",
    "                    env_name  = IssyEnv1,  \n",
    "                    network   = IssyOSMNetwork,\n",
    "                    simulator = 'traci',\n",
    "                    sim       = sumo_params,\n",
    "                    env       = env_params,\n",
    "                    net       = net_params,\n",
    "                    veh       = vehicles,\n",
    "                    initial   = initial_config)"
   ]
  },
  {
   "cell_type": "markdown",
   "metadata": {},
   "source": [
    "# Setup RLlib library"
   ]
  },
  {
   "cell_type": "markdown",
   "metadata": {},
   "source": [
    "Configures RLlib DQN algorithm to be used to train the RL model."
   ]
  },
  {
   "cell_type": "code",
   "execution_count": 10,
   "metadata": {},
   "outputs": [],
   "source": [
    "def setup_DQN_exp(exp_params, flow_params):\n",
    "\n",
    "    alg_run   = 'DQN'\n",
    "    agent_cls = get_agent_class(alg_run)\n",
    "    config    = agent_cls._default_config.copy()\n",
    "    config['num_workers']      = exp_params.n_cpus\n",
    "    config['train_batch_size'] = exp_params.horizon * exp_params.rollouts\n",
    "    config['gamma']            = exp_params.discount_rate\n",
    "    config['clip_actions']     = False  # FIXME(ev) temporary ray bug\n",
    "    config['horizon']          = exp_params.horizon\n",
    "    config[\"hiddens\"]          = [256]\n",
    "    config['model'].update({'fcnet_hiddens': [32, 32]})\n",
    "\n",
    "    # save the flow params for replay\n",
    "    flow_json = json.dumps(flow_params, cls=FlowParamsEncoder, sort_keys=True, indent=4)\n",
    "    config['env_config']['flow_params'] = flow_json\n",
    "    config['env_config']['run'] = alg_run\n",
    "\n",
    "    create_env, gym_name = make_create_env(params=flow_params, version=0)\n",
    "\n",
    "    # Register as rllib env\n",
    "    register_env(gym_name, create_env)\n",
    "    \n",
    "    return alg_run, gym_name, config"
   ]
  },
  {
   "cell_type": "markdown",
   "metadata": {},
   "source": [
    "Configures RLlib PPO algorithm to be used to train the RL model.\n",
    "\n",
    "See: https://ray.readthedocs.io/en/latest/rllib-algorithms.html#proximal-policy-optimization-ppo"
   ]
  },
  {
   "cell_type": "code",
   "execution_count": 11,
   "metadata": {},
   "outputs": [],
   "source": [
    "def setup_PPO_exp(exp_params, flow_params):\n",
    "\n",
    "    alg_run   = 'PPO'\n",
    "    agent_cls = get_agent_class(alg_run)\n",
    "    config    = agent_cls._default_config.copy()\n",
    "    config['num_workers']      = exp_params.n_cpus\n",
    "    config['train_batch_size'] = exp_params.horizon * exp_params.rollouts\n",
    "    config['gamma']            = exp_params.discount_rate\n",
    "    config['use_gae']          = True\n",
    "    config['lambda']           = 0.97\n",
    "    config['kl_target']        = 0.02\n",
    "    config['num_sgd_iter']     = 10\n",
    "    config['clip_actions']     = False  # FIXME(ev) temporary ray bug\n",
    "    config['horizon']          = exp_params.horizon\n",
    "    config['model'].update({'fcnet_hiddens': [32, 32]})\n",
    "\n",
    "    # save the flow params for replay\n",
    "    flow_json = json.dumps(flow_params,cls=FlowParamsEncoder,sort_keys=True,indent=4)\n",
    "    config['env_config']['flow_params'] = flow_json\n",
    "    config['env_config']['run'] = alg_run\n",
    "\n",
    "    create_env, gym_name = make_create_env(params=flow_params,version=0)\n",
    "\n",
    "    # Register as rllib env\n",
    "    register_env(gym_name, create_env)\n",
    "    \n",
    "    return alg_run, gym_name, config"
   ]
  },
  {
   "cell_type": "markdown",
   "metadata": {},
   "source": [
    "# Run Experiment"
   ]
  },
  {
   "cell_type": "code",
   "execution_count": 12,
   "metadata": {
    "ExecuteTime": {
     "end_time": "2020-03-24T13:09:50.179116Z",
     "start_time": "2020-03-24T13:09:49.899185Z"
    }
   },
   "outputs": [
    {
     "name": "stderr",
     "output_type": "stream",
     "text": [
      "2020-03-26 15:43:42,782\tINFO node.py:498 -- Process STDOUT and STDERR is being redirected to /tmp/ray/session_2020-03-26_15-43-42_780844_4125/logs.\n",
      "2020-03-26 15:43:42,910\tINFO services.py:409 -- Waiting for redis server at 127.0.0.1:47043 to respond...\n",
      "2020-03-26 15:43:43,048\tINFO services.py:409 -- Waiting for redis server at 127.0.0.1:16788 to respond...\n",
      "2020-03-26 15:43:43,058\tINFO services.py:809 -- Starting Redis shard with 2.09 GB max memory.\n",
      "2020-03-26 15:43:43,113\tINFO node.py:512 -- Process STDOUT and STDERR is being redirected to /tmp/ray/session_2020-03-26_15-43-42_780844_4125/logs.\n",
      "2020-03-26 15:43:43,119\tINFO services.py:1475 -- Starting the Plasma object store with 3.14 GB memory using /dev/shm.\n"
     ]
    },
    {
     "data": {
      "text/plain": [
       "{'node_ip_address': '10.0.2.15',\n",
       " 'redis_address': '10.0.2.15:47043',\n",
       " 'object_store_address': '/tmp/ray/session_2020-03-26_15-43-42_780844_4125/sockets/plasma_store',\n",
       " 'raylet_socket_name': '/tmp/ray/session_2020-03-26_15-43-42_780844_4125/sockets/raylet',\n",
       " 'webui_url': None,\n",
       " 'session_dir': '/tmp/ray/session_2020-03-26_15-43-42_780844_4125'}"
      ]
     },
     "execution_count": 12,
     "metadata": {},
     "output_type": "execute_result"
    }
   ],
   "source": [
    "class EXP_PARAMS:\n",
    "    def __init__(self):\n",
    "        self.horizon  = HORIZON\n",
    "        self.rollouts = 10\n",
    "        self.n_cpus   = 2\n",
    "        self.discount_rate = 0.999\n",
    "exp_params = EXP_PARAMS()\n",
    "\n",
    "alg_run, gym_name, config = setup_DQN_exp(exp_params, flow_params)\n",
    "\n",
    "ray.init(num_cpus=exp_params.n_cpus + 1)"
   ]
  },
  {
   "cell_type": "code",
   "execution_count": 13,
   "metadata": {
    "ExecuteTime": {
     "end_time": "2020-03-24T13:09:50.179116Z",
     "start_time": "2020-03-24T13:09:49.899185Z"
    }
   },
   "outputs": [],
   "source": [
    "# import pixiedust\n",
    "# %%pixie_debugger"
   ]
  },
  {
   "cell_type": "code",
   "execution_count": 14,
   "metadata": {
    "ExecuteTime": {
     "end_time": "2020-03-24T13:09:50.179116Z",
     "start_time": "2020-03-24T13:09:49.899185Z"
    },
    "pixiedust": {
     "displayParams": {}
    },
    "scrolled": true
   },
   "outputs": [
    {
     "name": "stderr",
     "output_type": "stream",
     "text": [
      "2020-03-26 15:43:43,374\tINFO trial_runner.py:176 -- Starting a new experiment.\n",
      "2020-03-26 15:43:43,425\tWARNING signature.py:108 -- The function with_updates has a **kwargs argument, which is currently not supported.\n",
      "2020-03-26 15:43:43,459\tERROR log_sync.py:34 -- Log sync requires cluster to be setup with `ray up`.\n",
      "2020-03-26 15:43:43,547\tWARNING util.py:145 -- The `start_trial` operation took 0.14194679260253906 seconds to complete, which may be a performance bottleneck.\n"
     ]
    },
    {
     "name": "stdout",
     "output_type": "stream",
     "text": [
      "== Status ==\n",
      "Using FIFO scheduling algorithm.\n",
      "Resources requested: 0/3 CPUs, 0/0 GPUs\n",
      "Memory usage on this node: 2.4/10.5 GB\n",
      "\n",
      "== Status ==\n",
      "Using FIFO scheduling algorithm.\n",
      "Resources requested: 3/3 CPUs, 0/0 GPUs\n",
      "Memory usage on this node: 2.4/10.5 GB\n",
      "Result logdir: /home/julien/ray_results/ISSY_traffic\n",
      "Number of trials: 1 ({'RUNNING': 1})\n",
      "RUNNING trials:\n",
      " - DQN_IssyEnv1-v0_0:\tRUNNING\n",
      "\n"
     ]
    },
    {
     "name": "stderr",
     "output_type": "stream",
     "text": [
      "2020-03-26 15:43:49,048\tERROR trial_runner.py:550 -- Error processing event.\n",
      "Traceback (most recent call last):\n",
      "  File \"/home/julien/anaconda3/envs/flow/lib/python3.6/site-packages/ray/tune/trial_runner.py\", line 498, in _process_trial\n",
      "    result = self.trial_executor.fetch_result(trial)\n",
      "  File \"/home/julien/anaconda3/envs/flow/lib/python3.6/site-packages/ray/tune/ray_trial_executor.py\", line 342, in fetch_result\n",
      "    result = ray.get(trial_future[0])\n",
      "  File \"/home/julien/anaconda3/envs/flow/lib/python3.6/site-packages/ray/worker.py\", line 2247, in get\n",
      "    raise value\n",
      "ray.exceptions.RayTaskError: \u001b[36mray_DQN:train()\u001b[39m (pid=4160, host=julien-Ubuntu)\n",
      "  File \"/home/julien/anaconda3/envs/flow/lib/python3.6/site-packages/ray/rllib/agents/trainer_template.py\", line 87, in __init__\n",
      "    Trainer.__init__(self, config, env, logger_creator)\n",
      "  File \"/home/julien/anaconda3/envs/flow/lib/python3.6/site-packages/ray/rllib/agents/trainer.py\", line 328, in __init__\n",
      "    Trainable.__init__(self, config, logger_creator)\n",
      "  File \"/home/julien/anaconda3/envs/flow/lib/python3.6/site-packages/ray/tune/trainable.py\", line 99, in __init__\n",
      "    self._setup(copy.deepcopy(self.config))\n",
      "  File \"/home/julien/anaconda3/envs/flow/lib/python3.6/site-packages/ray/rllib/agents/trainer.py\", line 443, in _setup\n",
      "    self._init(self.config, self.env_creator)\n",
      "  File \"/home/julien/anaconda3/envs/flow/lib/python3.6/site-packages/ray/rllib/agents/trainer_template.py\", line 106, in _init\n",
      "    self.config[\"num_workers\"])\n",
      "  File \"/home/julien/anaconda3/envs/flow/lib/python3.6/site-packages/ray/rllib/agents/trainer.py\", line 488, in _make_workers\n",
      "    logdir=self.logdir)\n",
      "  File \"/home/julien/anaconda3/envs/flow/lib/python3.6/site-packages/ray/rllib/evaluation/worker_set.py\", line 64, in __init__\n",
      "    RolloutWorker, env_creator, policy, 0, self._local_config)\n",
      "  File \"/home/julien/anaconda3/envs/flow/lib/python3.6/site-packages/ray/rllib/evaluation/worker_set.py\", line 216, in _make_worker\n",
      "    _fake_sampler=config.get(\"_fake_sampler\", False))\n",
      "  File \"/home/julien/anaconda3/envs/flow/lib/python3.6/site-packages/ray/rllib/evaluation/rollout_worker.py\", line 258, in __init__\n",
      "    self.env = _validate_env(env_creator(env_context))\n",
      "  File \"/home/julien/Documents/flow/flow/utils/registry.py\", line 130, in create_env\n",
      "    return gym.envs.make(env_name)\n",
      "  File \"/home/julien/anaconda3/envs/flow/lib/python3.6/site-packages/gym/envs/registration.py\", line 156, in make\n",
      "    return registry.make(id, **kwargs)\n",
      "  File \"/home/julien/anaconda3/envs/flow/lib/python3.6/site-packages/gym/envs/registration.py\", line 101, in make\n",
      "    env = spec.make(**kwargs)\n",
      "  File \"/home/julien/anaconda3/envs/flow/lib/python3.6/site-packages/gym/envs/registration.py\", line 73, in make\n",
      "    env = cls(**_kwargs)\n",
      "TypeError: __init__() got an unexpected keyword argument 'network'\n",
      "\n",
      "2020-03-26 15:43:49,061\tINFO trial_runner.py:587 -- Attempting to recover trial state from last checkpoint.\n",
      "2020-03-26 15:43:49,070\tWARNING signature.py:108 -- The function with_updates has a **kwargs argument, which is currently not supported.\n"
     ]
    },
    {
     "name": "stdout",
     "output_type": "stream",
     "text": [
      "== Status ==\n",
      "Using FIFO scheduling algorithm.\n",
      "Resources requested: 3/3 CPUs, 0/0 GPUs\n",
      "Memory usage on this node: 2.6/10.5 GB\n",
      "Result logdir: /home/julien/ray_results/ISSY_traffic\n",
      "Number of trials: 1 ({'RUNNING': 1})\n",
      "RUNNING trials:\n",
      " - DQN_IssyEnv1-v0_0:\tRUNNING, 1 failures: /home/julien/ray_results/ISSY_traffic/DQN_IssyEnv1-v0_0_2020-03-26_15-43-43hh37u_7m/error_2020-03-26_15-43-49.txt\n",
      "\n"
     ]
    },
    {
     "name": "stderr",
     "output_type": "stream",
     "text": [
      "2020-03-26 15:43:53,336\tERROR trial_runner.py:550 -- Error processing event.\n",
      "Traceback (most recent call last):\n",
      "  File \"/home/julien/anaconda3/envs/flow/lib/python3.6/site-packages/ray/tune/trial_runner.py\", line 498, in _process_trial\n",
      "    result = self.trial_executor.fetch_result(trial)\n",
      "  File \"/home/julien/anaconda3/envs/flow/lib/python3.6/site-packages/ray/tune/ray_trial_executor.py\", line 342, in fetch_result\n",
      "    result = ray.get(trial_future[0])\n",
      "  File \"/home/julien/anaconda3/envs/flow/lib/python3.6/site-packages/ray/worker.py\", line 2247, in get\n",
      "    raise value\n",
      "ray.exceptions.RayTaskError: \u001b[36mray_DQN:train()\u001b[39m (pid=4159, host=julien-Ubuntu)\n",
      "  File \"/home/julien/anaconda3/envs/flow/lib/python3.6/site-packages/ray/rllib/agents/trainer_template.py\", line 87, in __init__\n",
      "    Trainer.__init__(self, config, env, logger_creator)\n",
      "  File \"/home/julien/anaconda3/envs/flow/lib/python3.6/site-packages/ray/rllib/agents/trainer.py\", line 328, in __init__\n",
      "    Trainable.__init__(self, config, logger_creator)\n",
      "  File \"/home/julien/anaconda3/envs/flow/lib/python3.6/site-packages/ray/tune/trainable.py\", line 99, in __init__\n",
      "    self._setup(copy.deepcopy(self.config))\n",
      "  File \"/home/julien/anaconda3/envs/flow/lib/python3.6/site-packages/ray/rllib/agents/trainer.py\", line 443, in _setup\n",
      "    self._init(self.config, self.env_creator)\n",
      "  File \"/home/julien/anaconda3/envs/flow/lib/python3.6/site-packages/ray/rllib/agents/trainer_template.py\", line 106, in _init\n",
      "    self.config[\"num_workers\"])\n",
      "  File \"/home/julien/anaconda3/envs/flow/lib/python3.6/site-packages/ray/rllib/agents/trainer.py\", line 488, in _make_workers\n",
      "    logdir=self.logdir)\n",
      "  File \"/home/julien/anaconda3/envs/flow/lib/python3.6/site-packages/ray/rllib/evaluation/worker_set.py\", line 64, in __init__\n",
      "    RolloutWorker, env_creator, policy, 0, self._local_config)\n",
      "  File \"/home/julien/anaconda3/envs/flow/lib/python3.6/site-packages/ray/rllib/evaluation/worker_set.py\", line 216, in _make_worker\n",
      "    _fake_sampler=config.get(\"_fake_sampler\", False))\n",
      "  File \"/home/julien/anaconda3/envs/flow/lib/python3.6/site-packages/ray/rllib/evaluation/rollout_worker.py\", line 258, in __init__\n",
      "    self.env = _validate_env(env_creator(env_context))\n",
      "  File \"/home/julien/Documents/flow/flow/utils/registry.py\", line 130, in create_env\n",
      "    return gym.envs.make(env_name)\n",
      "  File \"/home/julien/anaconda3/envs/flow/lib/python3.6/site-packages/gym/envs/registration.py\", line 156, in make\n",
      "    return registry.make(id, **kwargs)\n",
      "  File \"/home/julien/anaconda3/envs/flow/lib/python3.6/site-packages/gym/envs/registration.py\", line 101, in make\n",
      "    env = spec.make(**kwargs)\n",
      "  File \"/home/julien/anaconda3/envs/flow/lib/python3.6/site-packages/gym/envs/registration.py\", line 73, in make\n",
      "    env = cls(**_kwargs)\n",
      "TypeError: __init__() got an unexpected keyword argument 'network'\n",
      "\n",
      "2020-03-26 15:43:53,356\tINFO trial_runner.py:587 -- Attempting to recover trial state from last checkpoint.\n",
      "2020-03-26 15:43:53,373\tWARNING signature.py:108 -- The function with_updates has a **kwargs argument, which is currently not supported.\n",
      "2020-03-26 15:43:53,455\tWARNING util.py:145 -- The `process_trial` operation took 0.11962199211120605 seconds to complete, which may be a performance bottleneck.\n",
      "2020-03-26 15:43:56,915\tERROR worker.py:1716 -- listen_error_messages_raylet: Error 111 connecting to 10.0.2.15:47043. Connection refused.\n",
      "2020-03-26 15:43:56,916\tERROR import_thread.py:89 -- ImportThread: Error 111 connecting to 10.0.2.15:47043. Connection refused.\n",
      "2020-03-26 15:43:56,916\tERROR worker.py:1616 -- print_logs: Error 111 connecting to 10.0.2.15:47043. Connection refused.\n"
     ]
    },
    {
     "ename": "KeyboardInterrupt",
     "evalue": "",
     "output_type": "error",
     "traceback": [
      "\u001b[0;31m---------------------------------------------------------------------------\u001b[0m",
      "\u001b[0;31mKeyboardInterrupt\u001b[0m                         Traceback (most recent call last)",
      "\u001b[0;32m<ipython-input-14-4cf7ea7f493b>\u001b[0m in \u001b[0;36m<module>\u001b[0;34m\u001b[0m\n\u001b[1;32m      6\u001b[0m         \u001b[0;34m\"checkpoint_at_end\"\u001b[0m\u001b[0;34m:\u001b[0m \u001b[0;32mTrue\u001b[0m\u001b[0;34m,\u001b[0m\u001b[0;34m\u001b[0m\u001b[0;34m\u001b[0m\u001b[0m\n\u001b[1;32m      7\u001b[0m         \u001b[0;34m\"max_failures\"\u001b[0m\u001b[0;34m:\u001b[0m \u001b[0;36m999\u001b[0m\u001b[0;34m,\u001b[0m\u001b[0;34m\u001b[0m\u001b[0;34m\u001b[0m\u001b[0m\n\u001b[0;32m----> 8\u001b[0;31m         \u001b[0;34m\"stop\"\u001b[0m\u001b[0;34m:\u001b[0m \u001b[0;34m{\u001b[0m\u001b[0;34m\"training_iteration\"\u001b[0m\u001b[0;34m:\u001b[0m \u001b[0;36m6\u001b[0m\u001b[0;34m}\u001b[0m\u001b[0;34m,\u001b[0m\u001b[0;34m\u001b[0m\u001b[0;34m\u001b[0m\u001b[0m\n\u001b[0m\u001b[1;32m      9\u001b[0m     }\n\u001b[1;32m     10\u001b[0m })\n",
      "\u001b[0;32m~/anaconda3/envs/flow/lib/python3.6/site-packages/ray/tune/tune.py\u001b[0m in \u001b[0;36mrun_experiments\u001b[0;34m(experiments, search_alg, scheduler, with_server, server_port, verbose, resume, queue_trials, reuse_actors, trial_executor, raise_on_failed_trial)\u001b[0m\n\u001b[1;32m    322\u001b[0m             \u001b[0mtrial_executor\u001b[0m\u001b[0;34m=\u001b[0m\u001b[0mtrial_executor\u001b[0m\u001b[0;34m,\u001b[0m\u001b[0;34m\u001b[0m\u001b[0;34m\u001b[0m\u001b[0m\n\u001b[1;32m    323\u001b[0m             \u001b[0mraise_on_failed_trial\u001b[0m\u001b[0;34m=\u001b[0m\u001b[0mraise_on_failed_trial\u001b[0m\u001b[0;34m,\u001b[0m\u001b[0;34m\u001b[0m\u001b[0;34m\u001b[0m\u001b[0m\n\u001b[0;32m--> 324\u001b[0;31m             return_trials=True)\n\u001b[0m\u001b[1;32m    325\u001b[0m     \u001b[0;32mreturn\u001b[0m \u001b[0mtrials\u001b[0m\u001b[0;34m\u001b[0m\u001b[0;34m\u001b[0m\u001b[0m\n",
      "\u001b[0;32m~/anaconda3/envs/flow/lib/python3.6/site-packages/ray/tune/tune.py\u001b[0m in \u001b[0;36mrun\u001b[0;34m(run_or_experiment, name, stop, config, resources_per_trial, num_samples, local_dir, upload_dir, trial_name_creator, loggers, sync_to_cloud, sync_to_driver, checkpoint_freq, checkpoint_at_end, keep_checkpoints_num, checkpoint_score_attr, global_checkpoint_period, export_formats, max_failures, restore, search_alg, scheduler, with_server, server_port, verbose, resume, queue_trials, reuse_actors, trial_executor, raise_on_failed_trial, return_trials, ray_auto_init, sync_function)\u001b[0m\n\u001b[1;32m    242\u001b[0m     \u001b[0mlast_debug\u001b[0m \u001b[0;34m=\u001b[0m \u001b[0;36m0\u001b[0m\u001b[0;34m\u001b[0m\u001b[0;34m\u001b[0m\u001b[0m\n\u001b[1;32m    243\u001b[0m     \u001b[0;32mwhile\u001b[0m \u001b[0;32mnot\u001b[0m \u001b[0mrunner\u001b[0m\u001b[0;34m.\u001b[0m\u001b[0mis_finished\u001b[0m\u001b[0;34m(\u001b[0m\u001b[0;34m)\u001b[0m\u001b[0;34m:\u001b[0m\u001b[0;34m\u001b[0m\u001b[0;34m\u001b[0m\u001b[0m\n\u001b[0;32m--> 244\u001b[0;31m         \u001b[0mrunner\u001b[0m\u001b[0;34m.\u001b[0m\u001b[0mstep\u001b[0m\u001b[0;34m(\u001b[0m\u001b[0;34m)\u001b[0m\u001b[0;34m\u001b[0m\u001b[0;34m\u001b[0m\u001b[0m\n\u001b[0m\u001b[1;32m    245\u001b[0m         \u001b[0;32mif\u001b[0m \u001b[0mtime\u001b[0m\u001b[0;34m.\u001b[0m\u001b[0mtime\u001b[0m\u001b[0;34m(\u001b[0m\u001b[0;34m)\u001b[0m \u001b[0;34m-\u001b[0m \u001b[0mlast_debug\u001b[0m \u001b[0;34m>\u001b[0m \u001b[0mDEBUG_PRINT_INTERVAL\u001b[0m\u001b[0;34m:\u001b[0m\u001b[0;34m\u001b[0m\u001b[0;34m\u001b[0m\u001b[0m\n\u001b[1;32m    246\u001b[0m             \u001b[0;32mif\u001b[0m \u001b[0mverbose\u001b[0m\u001b[0;34m:\u001b[0m\u001b[0;34m\u001b[0m\u001b[0;34m\u001b[0m\u001b[0m\n",
      "\u001b[0;32m~/anaconda3/envs/flow/lib/python3.6/site-packages/ray/tune/trial_runner.py\u001b[0m in \u001b[0;36mstep\u001b[0;34m(self)\u001b[0m\n\u001b[1;32m    326\u001b[0m                 \u001b[0mself\u001b[0m\u001b[0;34m.\u001b[0m\u001b[0mtrial_executor\u001b[0m\u001b[0;34m.\u001b[0m\u001b[0mstart_trial\u001b[0m\u001b[0;34m(\u001b[0m\u001b[0mnext_trial\u001b[0m\u001b[0;34m)\u001b[0m\u001b[0;34m\u001b[0m\u001b[0;34m\u001b[0m\u001b[0m\n\u001b[1;32m    327\u001b[0m         \u001b[0;32melif\u001b[0m \u001b[0mself\u001b[0m\u001b[0;34m.\u001b[0m\u001b[0mtrial_executor\u001b[0m\u001b[0;34m.\u001b[0m\u001b[0mget_running_trials\u001b[0m\u001b[0;34m(\u001b[0m\u001b[0;34m)\u001b[0m\u001b[0;34m:\u001b[0m\u001b[0;34m\u001b[0m\u001b[0;34m\u001b[0m\u001b[0m\n\u001b[0;32m--> 328\u001b[0;31m             \u001b[0mself\u001b[0m\u001b[0;34m.\u001b[0m\u001b[0m_process_events\u001b[0m\u001b[0;34m(\u001b[0m\u001b[0;34m)\u001b[0m  \u001b[0;31m# blocking\u001b[0m\u001b[0;34m\u001b[0m\u001b[0;34m\u001b[0m\u001b[0m\n\u001b[0m\u001b[1;32m    329\u001b[0m         \u001b[0;32melse\u001b[0m\u001b[0;34m:\u001b[0m\u001b[0;34m\u001b[0m\u001b[0;34m\u001b[0m\u001b[0m\n\u001b[1;32m    330\u001b[0m             \u001b[0;32mfor\u001b[0m \u001b[0mtrial\u001b[0m \u001b[0;32min\u001b[0m \u001b[0mself\u001b[0m\u001b[0;34m.\u001b[0m\u001b[0m_trials\u001b[0m\u001b[0;34m:\u001b[0m\u001b[0;34m\u001b[0m\u001b[0;34m\u001b[0m\u001b[0m\n",
      "\u001b[0;32m~/anaconda3/envs/flow/lib/python3.6/site-packages/ray/tune/trial_runner.py\u001b[0m in \u001b[0;36m_process_events\u001b[0;34m(self)\u001b[0m\n\u001b[1;32m    490\u001b[0m \u001b[0;34m\u001b[0m\u001b[0m\n\u001b[1;32m    491\u001b[0m     \u001b[0;32mdef\u001b[0m \u001b[0m_process_events\u001b[0m\u001b[0;34m(\u001b[0m\u001b[0mself\u001b[0m\u001b[0;34m)\u001b[0m\u001b[0;34m:\u001b[0m\u001b[0;34m\u001b[0m\u001b[0;34m\u001b[0m\u001b[0m\n\u001b[0;32m--> 492\u001b[0;31m         \u001b[0mtrial\u001b[0m \u001b[0;34m=\u001b[0m \u001b[0mself\u001b[0m\u001b[0;34m.\u001b[0m\u001b[0mtrial_executor\u001b[0m\u001b[0;34m.\u001b[0m\u001b[0mget_next_available_trial\u001b[0m\u001b[0;34m(\u001b[0m\u001b[0;34m)\u001b[0m  \u001b[0;31m# blocking\u001b[0m\u001b[0;34m\u001b[0m\u001b[0;34m\u001b[0m\u001b[0m\n\u001b[0m\u001b[1;32m    493\u001b[0m         \u001b[0;32mwith\u001b[0m \u001b[0mwarn_if_slow\u001b[0m\u001b[0;34m(\u001b[0m\u001b[0;34m\"process_trial\"\u001b[0m\u001b[0;34m)\u001b[0m\u001b[0;34m:\u001b[0m\u001b[0;34m\u001b[0m\u001b[0;34m\u001b[0m\u001b[0m\n\u001b[1;32m    494\u001b[0m             \u001b[0mself\u001b[0m\u001b[0;34m.\u001b[0m\u001b[0m_process_trial\u001b[0m\u001b[0;34m(\u001b[0m\u001b[0mtrial\u001b[0m\u001b[0;34m)\u001b[0m\u001b[0;34m\u001b[0m\u001b[0;34m\u001b[0m\u001b[0m\n",
      "\u001b[0;32m~/anaconda3/envs/flow/lib/python3.6/site-packages/ray/tune/ray_trial_executor.py\u001b[0m in \u001b[0;36mget_next_available_trial\u001b[0;34m(self)\u001b[0m\n\u001b[1;32m    316\u001b[0m         \u001b[0;31m# See https://github.com/ray-project/ray/issues/4211 for details.\u001b[0m\u001b[0;34m\u001b[0m\u001b[0;34m\u001b[0m\u001b[0;34m\u001b[0m\u001b[0m\n\u001b[1;32m    317\u001b[0m         \u001b[0mstart\u001b[0m \u001b[0;34m=\u001b[0m \u001b[0mtime\u001b[0m\u001b[0;34m.\u001b[0m\u001b[0mtime\u001b[0m\u001b[0;34m(\u001b[0m\u001b[0;34m)\u001b[0m\u001b[0;34m\u001b[0m\u001b[0;34m\u001b[0m\u001b[0m\n\u001b[0;32m--> 318\u001b[0;31m         \u001b[0;34m[\u001b[0m\u001b[0mresult_id\u001b[0m\u001b[0;34m]\u001b[0m\u001b[0;34m,\u001b[0m \u001b[0m_\u001b[0m \u001b[0;34m=\u001b[0m \u001b[0mray\u001b[0m\u001b[0;34m.\u001b[0m\u001b[0mwait\u001b[0m\u001b[0;34m(\u001b[0m\u001b[0mshuffled_results\u001b[0m\u001b[0;34m)\u001b[0m\u001b[0;34m\u001b[0m\u001b[0;34m\u001b[0m\u001b[0m\n\u001b[0m\u001b[1;32m    319\u001b[0m         \u001b[0mwait_time\u001b[0m \u001b[0;34m=\u001b[0m \u001b[0mtime\u001b[0m\u001b[0;34m.\u001b[0m\u001b[0mtime\u001b[0m\u001b[0;34m(\u001b[0m\u001b[0;34m)\u001b[0m \u001b[0;34m-\u001b[0m \u001b[0mstart\u001b[0m\u001b[0;34m\u001b[0m\u001b[0;34m\u001b[0m\u001b[0m\n\u001b[1;32m    320\u001b[0m         \u001b[0;32mif\u001b[0m \u001b[0mwait_time\u001b[0m \u001b[0;34m>\u001b[0m \u001b[0mNONTRIVIAL_WAIT_TIME_THRESHOLD_S\u001b[0m\u001b[0;34m:\u001b[0m\u001b[0;34m\u001b[0m\u001b[0;34m\u001b[0m\u001b[0m\n",
      "\u001b[0;32m~/anaconda3/envs/flow/lib/python3.6/site-packages/ray/worker.py\u001b[0m in \u001b[0;36mwait\u001b[0;34m(object_ids, num_returns, timeout)\u001b[0m\n\u001b[1;32m   2370\u001b[0m             \u001b[0mtimeout_milliseconds\u001b[0m\u001b[0;34m,\u001b[0m\u001b[0;34m\u001b[0m\u001b[0;34m\u001b[0m\u001b[0m\n\u001b[1;32m   2371\u001b[0m             \u001b[0;32mFalse\u001b[0m\u001b[0;34m,\u001b[0m\u001b[0;34m\u001b[0m\u001b[0;34m\u001b[0m\u001b[0m\n\u001b[0;32m-> 2372\u001b[0;31m             \u001b[0mworker\u001b[0m\u001b[0;34m.\u001b[0m\u001b[0mcurrent_task_id\u001b[0m\u001b[0;34m,\u001b[0m\u001b[0;34m\u001b[0m\u001b[0;34m\u001b[0m\u001b[0m\n\u001b[0m\u001b[1;32m   2373\u001b[0m         )\n\u001b[1;32m   2374\u001b[0m         \u001b[0;32mreturn\u001b[0m \u001b[0mready_ids\u001b[0m\u001b[0;34m,\u001b[0m \u001b[0mremaining_ids\u001b[0m\u001b[0;34m\u001b[0m\u001b[0;34m\u001b[0m\u001b[0m\n",
      "\u001b[0;32mpython/ray/_raylet.pyx\u001b[0m in \u001b[0;36mray._raylet.RayletClient.wait\u001b[0;34m()\u001b[0m\n",
      "\u001b[0;32mpython/ray/_raylet.pyx\u001b[0m in \u001b[0;36mray._raylet.check_status\u001b[0;34m()\u001b[0m\n",
      "\u001b[0;32m~/anaconda3/envs/flow/lib/python3.6/site-packages/ray/exceptions.py\u001b[0m in \u001b[0;36m__init__\u001b[0;34m(self, client_exc)\u001b[0m\n\u001b[1;32m     84\u001b[0m     \"\"\"\n\u001b[1;32m     85\u001b[0m \u001b[0;34m\u001b[0m\u001b[0m\n\u001b[0;32m---> 86\u001b[0;31m     \u001b[0;32mdef\u001b[0m \u001b[0m__init__\u001b[0m\u001b[0;34m(\u001b[0m\u001b[0mself\u001b[0m\u001b[0;34m,\u001b[0m \u001b[0mclient_exc\u001b[0m\u001b[0;34m)\u001b[0m\u001b[0;34m:\u001b[0m\u001b[0;34m\u001b[0m\u001b[0;34m\u001b[0m\u001b[0m\n\u001b[0m\u001b[1;32m     87\u001b[0m         \u001b[0mself\u001b[0m\u001b[0;34m.\u001b[0m\u001b[0mclient_exc\u001b[0m \u001b[0;34m=\u001b[0m \u001b[0mclient_exc\u001b[0m\u001b[0;34m\u001b[0m\u001b[0;34m\u001b[0m\u001b[0m\n\u001b[1;32m     88\u001b[0m \u001b[0;34m\u001b[0m\u001b[0m\n",
      "\u001b[0;31mKeyboardInterrupt\u001b[0m: "
     ]
    }
   ],
   "source": [
    "\n",
    "trials = run_experiments({\n",
    "    flow_params[\"exp_tag\"]: {\"run\": alg_run,\n",
    "        \"env\": gym_name,\n",
    "        \"config\": {**config},\n",
    "        \"checkpoint_freq\": 2,\n",
    "        \"checkpoint_at_end\": True,\n",
    "        \"max_failures\": 999,\n",
    "        \"stop\": {\"training_iteration\": 6},\n",
    "    }\n",
    "})"
   ]
  },
  {
   "cell_type": "code",
   "execution_count": null,
   "metadata": {},
   "outputs": [],
   "source": []
  }
 ],
 "metadata": {
  "kernelspec": {
   "display_name": "Python 3",
   "language": "python",
   "name": "python3"
  },
  "language_info": {
   "codemirror_mode": {
    "name": "ipython",
    "version": 3
   },
   "file_extension": ".py",
   "mimetype": "text/x-python",
   "name": "python",
   "nbconvert_exporter": "python",
   "pygments_lexer": "ipython3",
   "version": "3.6.8"
  },
  "toc": {
   "base_numbering": 1,
   "nav_menu": {},
   "number_sections": true,
   "sideBar": true,
   "skip_h1_title": false,
   "title_cell": "Table of Contents",
   "title_sidebar": "Contents",
   "toc_cell": false,
   "toc_position": {},
   "toc_section_display": true,
   "toc_window_display": true
  },
  "varInspector": {
   "cols": {
    "lenName": 16,
    "lenType": 16,
    "lenVar": 40
   },
   "kernels_config": {
    "python": {
     "delete_cmd_postfix": "",
     "delete_cmd_prefix": "del ",
     "library": "var_list.py",
     "varRefreshCmd": "print(var_dic_list())"
    },
    "r": {
     "delete_cmd_postfix": ") ",
     "delete_cmd_prefix": "rm(",
     "library": "var_list.r",
     "varRefreshCmd": "cat(var_dic_list()) "
    }
   },
   "types_to_exclude": [
    "module",
    "function",
    "builtin_function_or_method",
    "instance",
    "_Feature"
   ],
   "window_display": false
  }
 },
 "nbformat": 4,
 "nbformat_minor": 2
}
