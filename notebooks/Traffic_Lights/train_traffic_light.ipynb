{
 "cells": [
  {
   "cell_type": "markdown",
   "metadata": {},
   "source": [
    "# Train Traffic Lights Agents\n",
    "\n",
    "Utilise les fonctions de @Binetruy\n",
    "\n",
    "- crée un network à partir d'un fichier .osm et des trajectoires de véhiculess\n",
    "- ajoute un flux de voiture sur les routes\n",
    "- personnalise un Environnement pour le RL\n",
    "- integre l'environnement pour RLlib et execute la simulation\n"
   ]
  },
  {
   "cell_type": "code",
   "execution_count": 1,
   "metadata": {
    "ExecuteTime": {
     "end_time": "2020-04-23T18:51:57.135236Z",
     "start_time": "2020-04-23T18:51:52.346299Z"
    }
   },
   "outputs": [],
   "source": [
    "from flow.core.params import VehicleParams\n",
    "from flow.core.params import NetParams, SumoCarFollowingParams\n",
    "from flow.core.params import InitialConfig\n",
    "from flow.core.params import EnvParams\n",
    "from flow.core.params import SumoParams\n",
    "from flow.controllers import RLController, IDMController\n",
    "from flow.networks import Network\n",
    "from flow.core.params import InFlows\n",
    "from collections import OrderedDict\n",
    "import json\n",
    "import ray\n",
    "from ray.rllib.agents.registry import get_agent_class\n",
    "from ray.tune import run_experiments\n",
    "from ray.tune.registry import register_env\n",
    "from flow.utils.registry import make_create_env\n",
    "from flow.utils.rllib import FlowParamsEncoder\n",
    "from flow.core.params import VehicleParams, SumoCarFollowingParams"
   ]
  },
  {
   "cell_type": "markdown",
   "metadata": {},
   "source": [
    "## Crée le network"
   ]
  },
  {
   "cell_type": "markdown",
   "metadata": {},
   "source": [
    "Specifie les noms des routes du network dont les vehicules peuvent être s'insérer"
   ]
  },
  {
   "cell_type": "code",
   "execution_count": 2,
   "metadata": {
    "ExecuteTime": {
     "end_time": "2020-04-23T18:51:57.154439Z",
     "start_time": "2020-04-23T18:51:57.145289Z"
    }
   },
   "outputs": [],
   "source": [
    "EDGES_DISTRIBUTION = [\"-100822066\", \"4794817\", \"4783299#0\", \"155558218\"]"
   ]
  },
  {
   "cell_type": "markdown",
   "metadata": {},
   "source": [
    "créer la classe Network pour spécifier les itinéraires possibles"
   ]
  },
  {
   "cell_type": "code",
   "execution_count": 3,
   "metadata": {
    "ExecuteTime": {
     "end_time": "2020-04-23T18:51:57.186903Z",
     "start_time": "2020-04-23T18:51:57.160576Z"
    }
   },
   "outputs": [],
   "source": [
    "import random\n",
    "\n",
    "class IssyOSMNetwork(Network):\n",
    "\n",
    "    \n",
    "    def get_routes_list(self):\n",
    "        return list(self.specify_routes({}).keys())\n",
    "\n",
    "    def get_random_route(self):\n",
    "        return random.choice(self.get_routes_list())\n",
    "\n",
    "    def specify_routes(self, net_params):\n",
    "        return {\n",
    "            \"-100822066\": [ #N\n",
    "                \"-100822066\",\n",
    "                \"-352962858#1\",\n",
    "                \"-352962858#0\",\n",
    "                \"-4786940#1\",\n",
    "                 \"-4786940#0\",\n",
    "            ],\n",
    "            \n",
    "            \"4794817\" : [ #Loop\n",
    "                \"4794817\",\n",
    "                \"4786972#0\",\n",
    "                \"4786972#1\",\n",
    "                \"4786972#2\",\n",
    "                \"4786965#1\",\n",
    "                \"4786965#2\",\n",
    "                \"4786965#3\",\n",
    "                \"4795729\",\n",
    "                \"-352962858#1\",\n",
    "                \"4795742#0\",\n",
    "                \"4795742#1\",\n",
    "                \"4786965#3\",\n",
    "                \"4786965#4\",\n",
    "                \"4786965#5\",\n",
    "            ],\n",
    "            \n",
    "            \"4783299#0\": [    #E\n",
    "                \"4783299#0\",\n",
    "                \"4783299#1\",\n",
    "                \"4783299#2\",\n",
    "                \"4783299#3\",\n",
    "                \"4783299#4\",\n",
    "                \"4783299#5\",\n",
    "                \"4783299#6\",\n",
    "                \"4786940#0\",\n",
    "                \"4786940#1\",\n",
    "                \"352962858#0\",\n",
    "                \"352962858#1\",\n",
    "                \"100822066\",\n",
    "            ],\n",
    "            \n",
    "            \"155558218\": [\n",
    "                \"155558218\",\n",
    "                \"4786940#1\",\n",
    "                \"352962858#0\",\n",
    "                \"352962858#1\",\n",
    "                \"100822066\",\n",
    "            ],     \n",
    "        }"
   ]
  },
  {
   "cell_type": "markdown",
   "metadata": {},
   "source": [
    "## Ajoute les flux de voiture"
   ]
  },
  {
   "cell_type": "markdown",
   "metadata": {},
   "source": [
    "`IDMController` : The Intelligent Driver Model is a car-following model specifying vehicle dynamics by a differential equation for acceleration $\\dot{v}$.\n",
    "\n",
    "`RLController` : a trainable autuonomous vehicle whose actions are dictated by an RL agent. "
   ]
  },
  {
   "cell_type": "code",
   "execution_count": 4,
   "metadata": {
    "ExecuteTime": {
     "end_time": "2020-04-23T18:51:57.201841Z",
     "start_time": "2020-04-23T18:51:57.193247Z"
    }
   },
   "outputs": [],
   "source": [
    "n_veh    = 12\n",
    "vehicles = VehicleParams()\n",
    "vehicles.add(\"human\",acceleration_controller=(IDMController, {}), num_vehicles=n_veh, color='red')\n",
    "vehicles.add(\"flow\",acceleration_controller=(IDMController, {}), num_vehicles=n_veh, color='white')"
   ]
  },
  {
   "cell_type": "markdown",
   "metadata": {},
   "source": [
    "- `vehs_per_hour`: nombre de vehicule par heure, uniformément espacés. Par exemple, comme il y a $60 \\times 60 = 3600$ secondes dans une heure, le parametre $\\frac{3600}{5}=720$ va faire rentrer des vehicules dans le network toutes les $5$ secondes.\n",
    "\n",
    "- `probability`: c'est la probabilité qu'un véhicule entre dans le network toutes les secondes. Par exemple, si on la fixe à $0.2$, alors chaque seconde de la simulation un véhicule aura $\\frac{1}{5}$ chance d'entrer dans le network\n",
    "\n",
    "- `period`: C'est le temps en secondes entre 2 véhicules qui sont insérés. Par exemple, le fixer à $5$ ferait rentrer des véhicules dans le network toutes les $5$ secondes (ce qui équivaut à mettre `vehs_per_hour` à $720$).\n",
    "\n",
    "<font color='red'>\n",
    "$\\rightarrow$ Exactement 1 seul de ces 3 paramètres doit être configurer !\n",
    "</font>"
   ]
  },
  {
   "cell_type": "code",
   "execution_count": 5,
   "metadata": {
    "ExecuteTime": {
     "end_time": "2020-04-23T18:51:57.214017Z",
     "start_time": "2020-04-23T18:51:57.206446Z"
    }
   },
   "outputs": [],
   "source": [
    "inflow = InFlows()\n",
    "for edge in EDGES_DISTRIBUTION:\n",
    "    inflow.add(veh_type = \"flow\", edge = edge, probability = 0.1, depart_speed = 7)"
   ]
  },
  {
   "cell_type": "markdown",
   "metadata": {},
   "source": [
    "## Personnalise un Environnement pour le RL\n",
    "\n",
    "plus de méthodes sur : http://berkeleyflow.readthedocs.io/en/latest/"
   ]
  },
  {
   "cell_type": "code",
   "execution_count": 6,
   "metadata": {
    "ExecuteTime": {
     "end_time": "2020-04-23T18:51:57.252187Z",
     "start_time": "2020-04-23T18:51:57.218486Z"
    }
   },
   "outputs": [],
   "source": [
    "from IssyEnv import IssyEnv1"
   ]
  },
  {
   "cell_type": "markdown",
   "metadata": {},
   "source": [
    "## Lance une simulation avec Training RLlib\n",
    "\n",
    "Pour qu'un environnement puisse être entrainé, l'environnement doit être accessible via l'importation à partir de flow.envs. \n",
    "\n",
    "\n",
    "<font color='red'>\n",
    "Copier l'environnement créé dans un fichier .py et on importe l'environnement dans `flow.envs.__init__.py`.\n",
    "Mettre le chemin absolu du fichier .osm .\n",
    "</font> "
   ]
  },
  {
   "cell_type": "code",
   "execution_count": 7,
   "metadata": {
    "ExecuteTime": {
     "end_time": "2020-04-23T18:51:57.271109Z",
     "start_time": "2020-04-23T18:51:57.255538Z"
    }
   },
   "outputs": [],
   "source": [
    "# possibles actions\n",
    "action_spec = OrderedDict({ \"30677963\": [ \"GGGGrrrGGGG\", \"rrrrGGGrrrr\"],\n",
    "                            \"30763263\": [\"GGGGGGGGGG\",  \"rrrrrrrrrr\"],\n",
    "                            \"30677810\": [ \"GGrr\", \"rrGG\"]})"
   ]
  },
  {
   "cell_type": "code",
   "execution_count": 8,
   "metadata": {
    "ExecuteTime": {
     "end_time": "2020-04-23T18:51:57.303881Z",
     "start_time": "2020-04-23T18:51:57.283492Z"
    }
   },
   "outputs": [],
   "source": [
    "horizon  = 500\n",
    "SIM_STEP = 0.2\n",
    "rollouts = 10\n",
    "n_cpus   = 2\n",
    "discount_rate = 0.999"
   ]
  },
  {
   "cell_type": "code",
   "execution_count": 9,
   "metadata": {
    "ExecuteTime": {
     "end_time": "2020-04-23T18:51:57.335034Z",
     "start_time": "2020-04-23T18:51:57.310421Z"
    }
   },
   "outputs": [],
   "source": [
    "# SUMO PARAM\n",
    "sumo_params = SumoParams(sim_step=SIM_STEP, emission_path='emission', render=False, restart_instance=True, print_warnings=False, no_step_log=False)\n",
    "\n",
    "# ENVIRONMENT PARAM\n",
    "ADDITIONAL_ENV_PARAMS = {\"beta\": n_veh, \"action_spec\": action_spec, \"algorithm\": \"DQN\", \"tl_constraint_min\": 100,  \"tl_constraint_max\": 600, \"sim_step\": SIM_STEP}\n",
    "env_params = EnvParams(additional_params=ADDITIONAL_ENV_PARAMS, horizon=horizon, warmup_steps=1)\n",
    "\n",
    "# NETWORK PARAM\n",
    "path_file  = '/home/julien/projet_CIL4SYS/NOTEBOOKS/issy.osm'\n",
    "net_params = NetParams(inflows=inflow, osm_path=path_file) \n",
    "\n",
    "# NETWORK\n",
    "network = IssyOSMNetwork\n",
    "\n",
    "# INITIAL CONFIG\n",
    "initial_config = InitialConfig(spacing=\"uniform\",edges_distribution=EDGES_DISTRIBUTION)\n",
    "\n",
    "\n",
    "flow_params = dict( exp_tag   = \"ISSY_traffic\", \n",
    "                    env_name  = IssyEnv1,  \n",
    "                    network   = IssyOSMNetwork,\n",
    "                    simulator = 'traci',\n",
    "                    sim       = sumo_params,\n",
    "                    env       = env_params,\n",
    "                    net       = net_params,\n",
    "                    veh       = vehicles,\n",
    "                    initial   = initial_config)"
   ]
  },
  {
   "cell_type": "markdown",
   "metadata": {},
   "source": [
    "# Setup RLlib library"
   ]
  },
  {
   "cell_type": "markdown",
   "metadata": {},
   "source": [
    "Configures RLlib DQN algorithm to be used to train the RL model."
   ]
  },
  {
   "cell_type": "code",
   "execution_count": 10,
   "metadata": {
    "ExecuteTime": {
     "end_time": "2020-04-23T18:51:57.542543Z",
     "start_time": "2020-04-23T18:51:57.337608Z"
    }
   },
   "outputs": [],
   "source": [
    "def setup_DQN_exp():\n",
    "\n",
    "    alg_run   = 'DQN'\n",
    "    agent_cls = get_agent_class(alg_run)\n",
    "    config    = agent_cls._default_config.copy()\n",
    "    config['num_workers']      = n_cpus\n",
    "    config['train_batch_size'] = horizon * rollouts\n",
    "    config['gamma']            = discount_rate\n",
    "    config['clip_actions']     = False  # FIXME(ev) temporary ray bug\n",
    "    config['horizon']          = horizon\n",
    "    config[\"hiddens\"]          = [256]\n",
    "    config['model'].update({'fcnet_hiddens': [32, 32]})\n",
    "\n",
    "    # save the flow params for replay\n",
    "    flow_json = json.dumps(flow_params, cls=FlowParamsEncoder, sort_keys=True, indent=4)\n",
    "    config['env_config']['flow_params'] = flow_json\n",
    "    config['env_config']['run'] = alg_run\n",
    "\n",
    "    create_env, gym_name = make_create_env(params=flow_params, version=0)\n",
    "\n",
    "    # Register as rllib env\n",
    "    register_env(gym_name, create_env)\n",
    "    \n",
    "    return alg_run, gym_name, config"
   ]
  },
  {
   "cell_type": "markdown",
   "metadata": {},
   "source": [
    "Configures RLlib PPO algorithm to be used to train the RL model.\n",
    "\n",
    "See: https://ray.readthedocs.io/en/latest/rllib-algorithms.html#proximal-policy-optimization-ppo"
   ]
  },
  {
   "cell_type": "code",
   "execution_count": 11,
   "metadata": {
    "ExecuteTime": {
     "end_time": "2020-04-23T18:51:57.570133Z",
     "start_time": "2020-04-23T18:51:57.547984Z"
    }
   },
   "outputs": [],
   "source": [
    "def setup_PPO_exp():\n",
    "\n",
    "    alg_run   = 'PPO'\n",
    "    agent_cls = get_agent_class(alg_run)\n",
    "    config    = agent_cls._default_config.copy()\n",
    "    config['num_workers']      = n_cpus\n",
    "    config['train_batch_size'] = horizon * rollouts\n",
    "    config['gamma']            = discount_rate\n",
    "    config['use_gae']          = True\n",
    "    config['lambda']           = 0.97\n",
    "    config['kl_target']        = 0.02\n",
    "    config['num_sgd_iter']     = 10\n",
    "    config['clip_actions']     = False  # FIXME(ev) temporary ray bug\n",
    "    config['horizon']          = horizon\n",
    "    config['model'].update({'fcnet_hiddens': [32, 32]})\n",
    "\n",
    "    # save the flow params for replay\n",
    "    flow_json = json.dumps(flow_params,cls=FlowParamsEncoder,sort_keys=True,indent=4)\n",
    "    config['env_config']['flow_params'] = flow_json\n",
    "    config['env_config']['run'] = alg_run\n",
    "\n",
    "    create_env, gym_name = make_create_env(params=flow_params,version=0)\n",
    "\n",
    "    # Register as rllib env\n",
    "    register_env(gym_name, create_env)\n",
    "    \n",
    "    return alg_run, gym_name, config"
   ]
  },
  {
   "cell_type": "markdown",
   "metadata": {},
   "source": [
    "# Run Experiment"
   ]
  },
  {
   "cell_type": "code",
   "execution_count": 12,
   "metadata": {
    "ExecuteTime": {
     "end_time": "2020-04-23T18:51:58.866149Z",
     "start_time": "2020-04-23T18:51:57.574825Z"
    }
   },
   "outputs": [
    {
     "name": "stderr",
     "output_type": "stream",
     "text": [
      "2020-04-23 20:51:57,608\tINFO node.py:498 -- Process STDOUT and STDERR is being redirected to /tmp/ray/session_2020-04-23_20-51-57_607708_4167/logs.\n",
      "2020-04-23 20:51:57,730\tINFO services.py:409 -- Waiting for redis server at 127.0.0.1:43243 to respond...\n",
      "2020-04-23 20:51:57,847\tINFO services.py:409 -- Waiting for redis server at 127.0.0.1:18651 to respond...\n",
      "2020-04-23 20:51:57,852\tINFO services.py:809 -- Starting Redis shard with 2.09 GB max memory.\n",
      "2020-04-23 20:51:57,965\tINFO node.py:512 -- Process STDOUT and STDERR is being redirected to /tmp/ray/session_2020-04-23_20-51-57_607708_4167/logs.\n",
      "2020-04-23 20:51:57,973\tINFO services.py:1475 -- Starting the Plasma object store with 3.14 GB memory using /dev/shm.\n"
     ]
    },
    {
     "data": {
      "text/plain": [
       "{'node_ip_address': '10.0.2.15',\n",
       " 'redis_address': '10.0.2.15:43243',\n",
       " 'object_store_address': '/tmp/ray/session_2020-04-23_20-51-57_607708_4167/sockets/plasma_store',\n",
       " 'raylet_socket_name': '/tmp/ray/session_2020-04-23_20-51-57_607708_4167/sockets/raylet',\n",
       " 'webui_url': None,\n",
       " 'session_dir': '/tmp/ray/session_2020-04-23_20-51-57_607708_4167'}"
      ]
     },
     "execution_count": 12,
     "metadata": {},
     "output_type": "execute_result"
    }
   ],
   "source": [
    "alg_run, gym_name, config = setup_DQN_exp()\n",
    "\n",
    "ray.init(num_cpus=n_cpus + 1)"
   ]
  },
  {
   "cell_type": "code",
   "execution_count": 13,
   "metadata": {
    "ExecuteTime": {
     "end_time": "2020-04-23T19:11:43.815865Z",
     "start_time": "2020-04-23T18:51:58.886191Z"
    },
    "pixiedust": {
     "displayParams": {}
    },
    "scrolled": true
   },
   "outputs": [
    {
     "name": "stderr",
     "output_type": "stream",
     "text": [
      "2020-04-23 20:51:58,959\tINFO trial_runner.py:174 -- Starting a new experiment.\n",
      "2020-04-23 20:51:59,087\tWARNING signature.py:108 -- The function with_updates has a **kwargs argument, which is currently not supported.\n"
     ]
    },
    {
     "name": "stdout",
     "output_type": "stream",
     "text": [
      "== Status ==\n",
      "Using FIFO scheduling algorithm.\n",
      "Resources requested: 0/3 CPUs, 0/0 GPUs\n",
      "Memory usage on this node: 2.3/10.5 GB\n",
      "\n",
      "_________________ STEP i ___________________________\n"
     ]
    },
    {
     "name": "stderr",
     "output_type": "stream",
     "text": [
      "2020-04-23 20:51:59,312\tERROR log_sync.py:34 -- Log sync requires cluster to be setup with `ray up`.\n",
      "2020-04-23 20:51:59,562\tWARNING util.py:145 -- The `start_trial` operation took 0.5327248573303223 seconds to complete, which may be a performance bottleneck.\n"
     ]
    },
    {
     "name": "stdout",
     "output_type": "stream",
     "text": [
      "== Status ==\n",
      "Using FIFO scheduling algorithm.\n",
      "Resources requested: 1/3 CPUs, 0/0 GPUs\n",
      "Memory usage on this node: 2.4/10.5 GB\n",
      "Result logdir: /home/julien/ray_results/ISSY_traffic\n",
      "Number of trials: 1 ({'RUNNING': 1})\n",
      "RUNNING trials:\n",
      " - DQN_IssyEnv1-v0_0:\tRUNNING\n",
      "\n",
      "_________________ STEP i ___________________________\n",
      "\u001b[2m\u001b[36m(pid=4203)\u001b[0m Warning: Discarding unknown compound 'cycleway.opposite' in type 'cycleway.opposite|highway.residential' (first occurence for edge '4786965#0').\n",
      "\u001b[2m\u001b[36m(pid=4203)\u001b[0m Warning: Discarding unknown compound 'cycleway.opposite_track' in type 'cycleway.opposite_track|highway.residential' (first occurence for edge '4786972#0').\n",
      "\u001b[2m\u001b[36m(pid=4203)\u001b[0m Warning: Discarding unknown compound 'cycleway.opposite' in type 'cycleway.opposite|highway.living_street' (first occurence for edge '4795758').\n",
      "\u001b[2m\u001b[36m(pid=4203)\u001b[0m Warning: Discarding unknown compound 'cycleway.lane' in type 'cycleway.lane|highway.secondary' (first occurence for edge '100822066').\n",
      "\u001b[2m\u001b[36m(pid=4203)\u001b[0m Warning: Removed a road without junctions: -21549451\n",
      "\u001b[2m\u001b[36m(pid=4203)\u001b[0m Warning: Removed a road without junctions: 21549451\n",
      "\u001b[2m\u001b[36m(pid=4203)\u001b[0m Warning: The traffic light '30624291' does not control any links; it will not be build.\n",
      "\u001b[2m\u001b[36m(pid=4203)\u001b[0m Warning: Could not build program '0' for traffic light '30624291'\n",
      "\u001b[2m\u001b[36m(pid=4203)\u001b[0m Warning: Minor green from edge '-352962858#0' to edge '4786972#0' exceeds 19.44m/s. Maybe a left-turn lane is missing.\n",
      "\u001b[2m\u001b[36m(pid=4203)\u001b[0m Warning: Minor green from edge '352962858#0' to edge '4794820' exceeds 19.44m/s. Maybe a left-turn lane is missing.\n",
      "\u001b[2m\u001b[36m(pid=4203)\u001b[0m Warning: Minor green from edge '-352962858#1' to edge '4795742#0' exceeds 19.44m/s. Maybe a left-turn lane is missing.\n",
      "\u001b[2m\u001b[36m(pid=4203)\u001b[0m Success.\n",
      "\u001b[2m\u001b[36m(pid=4203)\u001b[0m 2020-04-23 20:52:07,454\tINFO rollout_worker.py:319 -- Creating policy evaluation worker 0 on CPU (please ignore any CUDA init errors)\n",
      "\u001b[2m\u001b[36m(pid=4203)\u001b[0m 2020-04-23 20:52:07.456244: I tensorflow/core/platform/cpu_feature_guard.cc:141] Your CPU supports instructions that this TensorFlow binary was not compiled to use: SSE4.1 SSE4.2 AVX AVX2\n",
      "\u001b[2m\u001b[36m(pid=4203)\u001b[0m WARNING:tensorflow:VARIABLES collection name is deprecated, please use GLOBAL_VARIABLES instead; VARIABLES will be removed after 2017-03-02.\n",
      "\u001b[2m\u001b[36m(pid=4203)\u001b[0m WARNING:tensorflow:VARIABLES collection name is deprecated, please use GLOBAL_VARIABLES instead; VARIABLES will be removed after 2017-03-02.\n",
      "\u001b[2m\u001b[36m(pid=4203)\u001b[0m 2020-04-23 20:52:08,104\tINFO dynamic_tf_policy.py:324 -- Initializing loss function with dummy input:\n",
      "\u001b[2m\u001b[36m(pid=4203)\u001b[0m \n",
      "\u001b[2m\u001b[36m(pid=4203)\u001b[0m { 'actions': <tf.Tensor 'default_policy/actions:0' shape=(?,) dtype=int64>,\n",
      "\u001b[2m\u001b[36m(pid=4203)\u001b[0m   'dones': <tf.Tensor 'default_policy/dones:0' shape=(?,) dtype=bool>,\n",
      "\u001b[2m\u001b[36m(pid=4203)\u001b[0m   'new_obs': <tf.Tensor 'default_policy/new_obs:0' shape=(?, 112) dtype=float32>,\n",
      "\u001b[2m\u001b[36m(pid=4203)\u001b[0m   'obs': <tf.Tensor 'default_policy/observation:0' shape=(?, 112) dtype=float32>,\n",
      "\u001b[2m\u001b[36m(pid=4203)\u001b[0m   'q_values': <tf.Tensor 'default_policy/q_values:0' shape=(?, 8) dtype=float32>,\n",
      "\u001b[2m\u001b[36m(pid=4203)\u001b[0m   'rewards': <tf.Tensor 'default_policy/rewards:0' shape=(?,) dtype=float32>,\n",
      "\u001b[2m\u001b[36m(pid=4203)\u001b[0m   'weights': <tf.Tensor 'default_policy/weights:0' shape=(?,) dtype=float32>}\n",
      "\u001b[2m\u001b[36m(pid=4203)\u001b[0m \n",
      "\u001b[2m\u001b[36m(pid=4203)\u001b[0m 2020-04-23 20:52:09,966\tINFO rollout_worker.py:742 -- Built policy map: {'default_policy': <ray.rllib.policy.tf_policy_template.DQNTFPolicy object at 0x7f0bb29807b8>}\n",
      "\u001b[2m\u001b[36m(pid=4203)\u001b[0m 2020-04-23 20:52:09,967\tINFO rollout_worker.py:743 -- Built preprocessor map: {'default_policy': <ray.rllib.models.preprocessors.NoPreprocessor object at 0x7f0bb2980470>}\n",
      "\u001b[2m\u001b[36m(pid=4203)\u001b[0m 2020-04-23 20:52:09,967\tINFO rollout_worker.py:356 -- Built filter map: {'default_policy': <ray.rllib.utils.filter.NoFilter object at 0x7f0bb2980320>}\n",
      "\u001b[2m\u001b[36m(pid=4204)\u001b[0m Warning: Discarding unknown compound 'cycleway.opposite' in type 'cycleway.opposite|highway.residential' (first occurence for edge '4786965#0').\n",
      "\u001b[2m\u001b[36m(pid=4204)\u001b[0m Warning: Discarding unknown compound 'cycleway.opposite_track' in type 'cycleway.opposite_track|highway.residential' (first occurence for edge '4786972#0').\n",
      "\u001b[2m\u001b[36m(pid=4204)\u001b[0m Warning: Discarding unknown compound 'cycleway.opposite' in type 'cycleway.opposite|highway.living_street' (first occurence for edge '4795758').\n",
      "\u001b[2m\u001b[36m(pid=4204)\u001b[0m Warning: Discarding unknown compound 'cycleway.lane' in type 'cycleway.lane|highway.secondary' (first occurence for edge '100822066').\n",
      "\u001b[2m\u001b[36m(pid=4204)\u001b[0m Warning: Removed a road without junctions: -21549451\n",
      "\u001b[2m\u001b[36m(pid=4204)\u001b[0m Warning: Removed a road without junctions: 21549451\n",
      "\u001b[2m\u001b[36m(pid=4204)\u001b[0m Warning: The traffic light '30624291' does not control any links; it will not be build.\n",
      "\u001b[2m\u001b[36m(pid=4204)\u001b[0m Warning: Could not build program '0' for traffic light '30624291'\n",
      "\u001b[2m\u001b[36m(pid=4204)\u001b[0m Warning: Minor green from edge '-352962858#0' to edge '4786972#0' exceeds 19.44m/s. Maybe a left-turn lane is missing.\n",
      "\u001b[2m\u001b[36m(pid=4204)\u001b[0m Warning: Minor green from edge '352962858#0' to edge '4794820' exceeds 19.44m/s. Maybe a left-turn lane is missing.\n",
      "\u001b[2m\u001b[36m(pid=4204)\u001b[0m Warning: Minor green from edge '-352962858#1' to edge '4795742#0' exceeds 19.44m/s. Maybe a left-turn lane is missing.\n",
      "\u001b[2m\u001b[36m(pid=4204)\u001b[0m Success.\n",
      "\u001b[2m\u001b[36m(pid=4264)\u001b[0m Warning: Discarding unknown compound 'cycleway.opposite' in type 'cycleway.opposite|highway.residential' (first occurence for edge '4786965#0').\n",
      "\u001b[2m\u001b[36m(pid=4264)\u001b[0m Warning: Discarding unknown compound 'cycleway.opposite_track' in type 'cycleway.opposite_track|highway.residential' (first occurence for edge '4786972#0').\n",
      "\u001b[2m\u001b[36m(pid=4264)\u001b[0m Warning: Discarding unknown compound 'cycleway.opposite' in type 'cycleway.opposite|highway.living_street' (first occurence for edge '4795758').\n",
      "\u001b[2m\u001b[36m(pid=4264)\u001b[0m Warning: Discarding unknown compound 'cycleway.lane' in type 'cycleway.lane|highway.secondary' (first occurence for edge '100822066').\n",
      "\u001b[2m\u001b[36m(pid=4264)\u001b[0m Warning: Removed a road without junctions: -21549451\n",
      "\u001b[2m\u001b[36m(pid=4264)\u001b[0m Warning: Removed a road without junctions: 21549451\n",
      "\u001b[2m\u001b[36m(pid=4264)\u001b[0m Warning: The traffic light '30624291' does not control any links; it will not be build.\n",
      "\u001b[2m\u001b[36m(pid=4264)\u001b[0m Warning: Could not build program '0' for traffic light '30624291'\n",
      "\u001b[2m\u001b[36m(pid=4264)\u001b[0m Warning: Minor green from edge '-352962858#0' to edge '4786972#0' exceeds 19.44m/s. Maybe a left-turn lane is missing.\n",
      "\u001b[2m\u001b[36m(pid=4264)\u001b[0m Warning: Minor green from edge '352962858#0' to edge '4794820' exceeds 19.44m/s. Maybe a left-turn lane is missing.\n",
      "\u001b[2m\u001b[36m(pid=4264)\u001b[0m Warning: Minor green from edge '-352962858#1' to edge '4795742#0' exceeds 19.44m/s. Maybe a left-turn lane is missing.\n",
      "\u001b[2m\u001b[36m(pid=4264)\u001b[0m Success.\n",
      "\u001b[2m\u001b[36m(pid=4204)\u001b[0m 2020-04-23 20:52:17,553\tINFO rollout_worker.py:319 -- Creating policy evaluation worker 1 on CPU (please ignore any CUDA init errors)\n",
      "\u001b[2m\u001b[36m(pid=4204)\u001b[0m 2020-04-23 20:52:17.582380: I tensorflow/core/platform/cpu_feature_guard.cc:141] Your CPU supports instructions that this TensorFlow binary was not compiled to use: SSE4.1 SSE4.2 AVX AVX2\n",
      "\u001b[2m\u001b[36m(pid=4204)\u001b[0m WARNING:tensorflow:VARIABLES collection name is deprecated, please use GLOBAL_VARIABLES instead; VARIABLES will be removed after 2017-03-02.\n",
      "\u001b[2m\u001b[36m(pid=4204)\u001b[0m WARNING:tensorflow:VARIABLES collection name is deprecated, please use GLOBAL_VARIABLES instead; VARIABLES will be removed after 2017-03-02.\n",
      "\u001b[2m\u001b[36m(pid=4204)\u001b[0m 2020-04-23 20:52:18,186\tINFO dynamic_tf_policy.py:324 -- Initializing loss function with dummy input:\n",
      "\u001b[2m\u001b[36m(pid=4204)\u001b[0m \n",
      "\u001b[2m\u001b[36m(pid=4204)\u001b[0m { 'actions': <tf.Tensor 'default_policy/actions:0' shape=(?,) dtype=int64>,\n",
      "\u001b[2m\u001b[36m(pid=4204)\u001b[0m   'dones': <tf.Tensor 'default_policy/dones:0' shape=(?,) dtype=bool>,\n",
      "\u001b[2m\u001b[36m(pid=4204)\u001b[0m   'new_obs': <tf.Tensor 'default_policy/new_obs:0' shape=(?, 112) dtype=float32>,\n",
      "\u001b[2m\u001b[36m(pid=4204)\u001b[0m   'obs': <tf.Tensor 'default_policy/observation:0' shape=(?, 112) dtype=float32>,\n",
      "\u001b[2m\u001b[36m(pid=4204)\u001b[0m   'q_values': <tf.Tensor 'default_policy/q_values:0' shape=(?, 8) dtype=float32>,\n",
      "\u001b[2m\u001b[36m(pid=4204)\u001b[0m   'rewards': <tf.Tensor 'default_policy/rewards:0' shape=(?,) dtype=float32>,\n",
      "\u001b[2m\u001b[36m(pid=4204)\u001b[0m   'weights': <tf.Tensor 'default_policy/weights:0' shape=(?,) dtype=float32>}\n",
      "\u001b[2m\u001b[36m(pid=4204)\u001b[0m \n"
     ]
    },
    {
     "name": "stdout",
     "output_type": "stream",
     "text": [
      "\u001b[2m\u001b[36m(pid=4264)\u001b[0m 2020-04-23 20:52:18,400\tINFO rollout_worker.py:319 -- Creating policy evaluation worker 2 on CPU (please ignore any CUDA init errors)\n",
      "\u001b[2m\u001b[36m(pid=4264)\u001b[0m 2020-04-23 20:52:18.427066: I tensorflow/core/platform/cpu_feature_guard.cc:141] Your CPU supports instructions that this TensorFlow binary was not compiled to use: SSE4.1 SSE4.2 AVX AVX2\n",
      "\u001b[2m\u001b[36m(pid=4264)\u001b[0m WARNING:tensorflow:VARIABLES collection name is deprecated, please use GLOBAL_VARIABLES instead; VARIABLES will be removed after 2017-03-02.\n",
      "\u001b[2m\u001b[36m(pid=4264)\u001b[0m WARNING:tensorflow:VARIABLES collection name is deprecated, please use GLOBAL_VARIABLES instead; VARIABLES will be removed after 2017-03-02.\n",
      "\u001b[2m\u001b[36m(pid=4204)\u001b[0m 2020-04-23 20:52:20,927\tINFO rollout_worker.py:451 -- Generating sample batch of size 4\n",
      "\u001b[2m\u001b[36m(pid=4204)\u001b[0m Warning: Discarding unknown compound 'cycleway.opposite' in type 'cycleway.opposite|highway.residential' (first occurence for edge '4786965#0').\n",
      "\u001b[2m\u001b[36m(pid=4204)\u001b[0m Warning: Discarding unknown compound 'cycleway.opposite_track' in type 'cycleway.opposite_track|highway.residential' (first occurence for edge '4786972#0').\n",
      "\u001b[2m\u001b[36m(pid=4204)\u001b[0m Warning: Discarding unknown compound 'cycleway.opposite' in type 'cycleway.opposite|highway.living_street' (first occurence for edge '4795758').\n",
      "\u001b[2m\u001b[36m(pid=4204)\u001b[0m Warning: Discarding unknown compound 'cycleway.lane' in type 'cycleway.lane|highway.secondary' (first occurence for edge '100822066').\n",
      "\u001b[2m\u001b[36m(pid=4204)\u001b[0m Success.\n",
      "\u001b[2m\u001b[36m(pid=4204)\u001b[0m Warning: Removed a road without junctions: -21549451\n",
      "\u001b[2m\u001b[36m(pid=4204)\u001b[0m Warning: Removed a road without junctions: 21549451\n",
      "\u001b[2m\u001b[36m(pid=4204)\u001b[0m Warning: The traffic light '30624291' does not control any links; it will not be build.\n",
      "\u001b[2m\u001b[36m(pid=4204)\u001b[0m Warning: Could not build program '0' for traffic light '30624291'\n",
      "\u001b[2m\u001b[36m(pid=4204)\u001b[0m Warning: Minor green from edge '-352962858#0' to edge '4786972#0' exceeds 19.44m/s. Maybe a left-turn lane is missing.\n",
      "\u001b[2m\u001b[36m(pid=4204)\u001b[0m Warning: Minor green from edge '352962858#0' to edge '4794820' exceeds 19.44m/s. Maybe a left-turn lane is missing.\n",
      "\u001b[2m\u001b[36m(pid=4204)\u001b[0m Warning: Minor green from edge '-352962858#1' to edge '4795742#0' exceeds 19.44m/s. Maybe a left-turn lane is missing.\n",
      "\u001b[2m\u001b[36m(pid=4264)\u001b[0m Warning: Discarding unknown compound 'cycleway.opposite' in type 'cycleway.opposite|highway.residential' (first occurence for edge '4786965#0').\n",
      "\u001b[2m\u001b[36m(pid=4264)\u001b[0m Warning: Discarding unknown compound 'cycleway.opposite_track' in type 'cycleway.opposite_track|highway.residential' (first occurence for edge '4786972#0').\n",
      "\u001b[2m\u001b[36m(pid=4264)\u001b[0m Warning: Discarding unknown compound 'cycleway.opposite' in type 'cycleway.opposite|highway.living_street' (first occurence for edge '4795758').\n",
      "\u001b[2m\u001b[36m(pid=4264)\u001b[0m Warning: Discarding unknown compound 'cycleway.lane' in type 'cycleway.lane|highway.secondary' (first occurence for edge '100822066').\n",
      "\u001b[2m\u001b[36m(pid=4264)\u001b[0m Warning: Removed a road without junctions: -21549451\n",
      "\u001b[2m\u001b[36m(pid=4264)\u001b[0m Warning: Removed a road without junctions: 21549451\n",
      "\u001b[2m\u001b[36m(pid=4264)\u001b[0m Warning: The traffic light '30624291' does not control any links; it will not be build.\n",
      "\u001b[2m\u001b[36m(pid=4264)\u001b[0m Warning: Could not build program '0' for traffic light '30624291'\n",
      "\u001b[2m\u001b[36m(pid=4264)\u001b[0m Warning: Minor green from edge '-352962858#0' to edge '4786972#0' exceeds 19.44m/s. Maybe a left-turn lane is missing.\n",
      "\u001b[2m\u001b[36m(pid=4264)\u001b[0m Warning: Minor green from edge '352962858#0' to edge '4794820' exceeds 19.44m/s. Maybe a left-turn lane is missing.\n",
      "\u001b[2m\u001b[36m(pid=4264)\u001b[0m Warning: Minor green from edge '-352962858#1' to edge '4795742#0' exceeds 19.44m/s. Maybe a left-turn lane is missing.\n",
      "\u001b[2m\u001b[36m(pid=4264)\u001b[0m Success.\n",
      "\u001b[2m\u001b[36m(pid=4204)\u001b[0m 2020-04-23 20:52:22,720\tINFO sampler.py:304 -- Raw obs from env: { 0: { 'agent0': np.ndarray((112,), dtype=float64, min=0.0, max=2650.828, mean=342.712)}}\n",
      "\u001b[2m\u001b[36m(pid=4204)\u001b[0m 2020-04-23 20:52:22,721\tINFO sampler.py:305 -- Info return from env: {0: {'agent0': None}}\n",
      "\u001b[2m\u001b[36m(pid=4204)\u001b[0m 2020-04-23 20:52:22,721\tINFO sampler.py:403 -- Preprocessed obs: np.ndarray((112,), dtype=float64, min=0.0, max=2650.828, mean=342.712)\n",
      "\u001b[2m\u001b[36m(pid=4204)\u001b[0m 2020-04-23 20:52:22,722\tINFO sampler.py:407 -- Filtered obs: np.ndarray((112,), dtype=float64, min=0.0, max=2650.828, mean=342.712)\n",
      "\u001b[2m\u001b[36m(pid=4204)\u001b[0m 2020-04-23 20:52:22,727\tINFO sampler.py:521 -- Inputs to compute_actions():\n",
      "\u001b[2m\u001b[36m(pid=4204)\u001b[0m \n",
      "\u001b[2m\u001b[36m(pid=4204)\u001b[0m { 'default_policy': [ { 'data': { 'agent_id': 'agent0',\n",
      "\u001b[2m\u001b[36m(pid=4204)\u001b[0m                                   'env_id': 0,\n",
      "\u001b[2m\u001b[36m(pid=4204)\u001b[0m                                   'info': None,\n",
      "\u001b[2m\u001b[36m(pid=4204)\u001b[0m                                   'obs': np.ndarray((112,), dtype=float64, min=0.0, max=2650.828, mean=342.712),\n",
      "\u001b[2m\u001b[36m(pid=4204)\u001b[0m                                   'prev_action': np.ndarray((), dtype=int64, min=0.0, max=0.0, mean=0.0),\n",
      "\u001b[2m\u001b[36m(pid=4204)\u001b[0m                                   'prev_reward': 0.0,\n",
      "\u001b[2m\u001b[36m(pid=4204)\u001b[0m                                   'rnn_state': []},\n",
      "\u001b[2m\u001b[36m(pid=4204)\u001b[0m                         'type': 'PolicyEvalData'}]}\n",
      "\u001b[2m\u001b[36m(pid=4204)\u001b[0m \n",
      "\u001b[2m\u001b[36m(pid=4204)\u001b[0m 2020-04-23 20:52:22,727\tINFO tf_run_builder.py:92 -- Executing TF run without tracing. To dump TF timeline traces to disk, set the TF_TIMELINE_DIR environment variable.\n",
      "\u001b[2m\u001b[36m(pid=4204)\u001b[0m 2020-04-23 20:52:22,871\tINFO sampler.py:548 -- Outputs of compute_actions():\n",
      "\u001b[2m\u001b[36m(pid=4204)\u001b[0m \n",
      "\u001b[2m\u001b[36m(pid=4204)\u001b[0m { 'default_policy': ( np.ndarray((1,), dtype=int64, min=6.0, max=6.0, mean=6.0),\n",
      "\u001b[2m\u001b[36m(pid=4204)\u001b[0m                       [],\n",
      "\u001b[2m\u001b[36m(pid=4204)\u001b[0m                       { 'q_values': np.ndarray((1, 8), dtype=float32, min=-0.734, max=0.268, mean=-0.261)})}\n",
      "\u001b[2m\u001b[36m(pid=4204)\u001b[0m \n",
      "\u001b[2m\u001b[36m(pid=4204)\u001b[0m 2020-04-23 20:52:23,030\tINFO sample_batch_builder.py:161 -- Trajectory fragment after postprocess_trajectory():\n",
      "\u001b[2m\u001b[36m(pid=4204)\u001b[0m \n",
      "\u001b[2m\u001b[36m(pid=4204)\u001b[0m { 'agent0': { 'data': { 'actions': np.ndarray((4,), dtype=int64, min=1.0, max=6.0, mean=4.0),\n",
      "\u001b[2m\u001b[36m(pid=4204)\u001b[0m                         'agent_index': np.ndarray((4,), dtype=int64, min=0.0, max=0.0, mean=0.0),\n",
      "\u001b[2m\u001b[36m(pid=4204)\u001b[0m                         'dones': np.ndarray((4,), dtype=bool, min=0.0, max=0.0, mean=0.0),\n",
      "\u001b[2m\u001b[36m(pid=4204)\u001b[0m                         'eps_id': np.ndarray((4,), dtype=int64, min=1110004229.0, max=1110004229.0, mean=1110004229.0),\n",
      "\u001b[2m\u001b[36m(pid=4204)\u001b[0m                         'infos': np.ndarray((4,), dtype=object, head={}),\n",
      "\u001b[2m\u001b[36m(pid=4204)\u001b[0m                         'new_obs': np.ndarray((4, 112), dtype=float32, min=0.0, max=2761.469, mean=350.301),\n",
      "\u001b[2m\u001b[36m(pid=4204)\u001b[0m                         'obs': np.ndarray((4, 112), dtype=float32, min=0.0, max=2732.876, mean=347.259),\n",
      "\u001b[2m\u001b[36m(pid=4204)\u001b[0m                         'prev_actions': np.ndarray((4,), dtype=int64, min=0.0, max=6.0, mean=3.75),\n",
      "\u001b[2m\u001b[36m(pid=4204)\u001b[0m                         'prev_rewards': np.ndarray((4,), dtype=float32, min=0.0, max=0.024, mean=0.018),\n",
      "\u001b[2m\u001b[36m(pid=4204)\u001b[0m                         'q_values': np.ndarray((4, 8), dtype=float32, min=-0.734, max=0.268, mean=-0.261),\n",
      "\u001b[2m\u001b[36m(pid=4204)\u001b[0m                         'rewards': np.ndarray((4,), dtype=float32, min=0.024, max=0.024, mean=0.024),\n",
      "\u001b[2m\u001b[36m(pid=4204)\u001b[0m                         't': np.ndarray((4,), dtype=int64, min=0.0, max=3.0, mean=1.5),\n",
      "\u001b[2m\u001b[36m(pid=4204)\u001b[0m                         'unroll_id': np.ndarray((4,), dtype=int64, min=0.0, max=0.0, mean=0.0),\n",
      "\u001b[2m\u001b[36m(pid=4204)\u001b[0m                         'weights': np.ndarray((4,), dtype=float32, min=1.0, max=1.0, mean=1.0)},\n",
      "\u001b[2m\u001b[36m(pid=4204)\u001b[0m               'type': 'SampleBatch'}}\n",
      "\u001b[2m\u001b[36m(pid=4204)\u001b[0m \n",
      "\u001b[2m\u001b[36m(pid=4204)\u001b[0m 2020-04-23 20:52:23,033\tINFO rollout_worker.py:485 -- Completed sample batch:\n",
      "\u001b[2m\u001b[36m(pid=4204)\u001b[0m \n",
      "\u001b[2m\u001b[36m(pid=4204)\u001b[0m { 'data': { 'actions': np.ndarray((4,), dtype=int64, min=1.0, max=6.0, mean=4.0),\n",
      "\u001b[2m\u001b[36m(pid=4204)\u001b[0m             'agent_index': np.ndarray((4,), dtype=int64, min=0.0, max=0.0, mean=0.0),\n",
      "\u001b[2m\u001b[36m(pid=4204)\u001b[0m             'dones': np.ndarray((4,), dtype=bool, min=0.0, max=0.0, mean=0.0),\n",
      "\u001b[2m\u001b[36m(pid=4204)\u001b[0m             'eps_id': np.ndarray((4,), dtype=int64, min=1110004229.0, max=1110004229.0, mean=1110004229.0),\n",
      "\u001b[2m\u001b[36m(pid=4204)\u001b[0m             'infos': np.ndarray((4,), dtype=object, head={}),\n",
      "\u001b[2m\u001b[36m(pid=4204)\u001b[0m             'new_obs': np.ndarray((4, 112), dtype=float32, min=0.0, max=2761.469, mean=350.301),\n",
      "\u001b[2m\u001b[36m(pid=4204)\u001b[0m             'obs': np.ndarray((4, 112), dtype=float32, min=0.0, max=2732.876, mean=347.259),\n",
      "\u001b[2m\u001b[36m(pid=4204)\u001b[0m             'prev_actions': np.ndarray((4,), dtype=int64, min=0.0, max=6.0, mean=3.75),\n",
      "\u001b[2m\u001b[36m(pid=4204)\u001b[0m             'prev_rewards': np.ndarray((4,), dtype=float32, min=0.0, max=0.024, mean=0.018),\n",
      "\u001b[2m\u001b[36m(pid=4204)\u001b[0m             'q_values': np.ndarray((4, 8), dtype=float32, min=-0.734, max=0.268, mean=-0.261),\n",
      "\u001b[2m\u001b[36m(pid=4204)\u001b[0m             'rewards': np.ndarray((4,), dtype=float32, min=0.024, max=0.024, mean=0.024),\n",
      "\u001b[2m\u001b[36m(pid=4204)\u001b[0m             't': np.ndarray((4,), dtype=int64, min=0.0, max=3.0, mean=1.5),\n",
      "\u001b[2m\u001b[36m(pid=4204)\u001b[0m             'unroll_id': np.ndarray((4,), dtype=int64, min=0.0, max=0.0, mean=0.0),\n",
      "\u001b[2m\u001b[36m(pid=4204)\u001b[0m             'weights': np.ndarray((4,), dtype=float32, min=1.0, max=1.0, mean=1.0)},\n",
      "\u001b[2m\u001b[36m(pid=4204)\u001b[0m   'type': 'SampleBatch'}\n",
      "\u001b[2m\u001b[36m(pid=4204)\u001b[0m \n"
     ]
    },
    {
     "name": "stdout",
     "output_type": "stream",
     "text": [
      "\u001b[2m\u001b[36m(pid=4204)\u001b[0m Warning: Discarding unknown compound 'cycleway.opposite' in type 'cycleway.opposite|highway.residential' (first occurence for edge '4786965#0').\n",
      "\u001b[2m\u001b[36m(pid=4204)\u001b[0m Warning: Discarding unknown compound 'cycleway.opposite_track' in type 'cycleway.opposite_track|highway.residential' (first occurence for edge '4786972#0').\n",
      "\u001b[2m\u001b[36m(pid=4204)\u001b[0m Warning: Discarding unknown compound 'cycleway.opposite' in type 'cycleway.opposite|highway.living_street' (first occurence for edge '4795758').\n",
      "\u001b[2m\u001b[36m(pid=4204)\u001b[0m Warning: Discarding unknown compound 'cycleway.lane' in type 'cycleway.lane|highway.secondary' (first occurence for edge '100822066').\n",
      "\u001b[2m\u001b[36m(pid=4264)\u001b[0m Warning: Discarding unknown compound 'cycleway.opposite' in type 'cycleway.opposite|highway.residential' (first occurence for edge '4786965#0').\n",
      "\u001b[2m\u001b[36m(pid=4264)\u001b[0m Warning: Discarding unknown compound 'cycleway.opposite_track' in type 'cycleway.opposite_track|highway.residential' (first occurence for edge '4786972#0').\n",
      "\u001b[2m\u001b[36m(pid=4264)\u001b[0m Warning: Discarding unknown compound 'cycleway.opposite' in type 'cycleway.opposite|highway.living_street' (first occurence for edge '4795758').\n",
      "\u001b[2m\u001b[36m(pid=4264)\u001b[0m Warning: Discarding unknown compound 'cycleway.lane' in type 'cycleway.lane|highway.secondary' (first occurence for edge '100822066').\n",
      "\u001b[2m\u001b[36m(pid=4204)\u001b[0m Success.\n",
      "\u001b[2m\u001b[36m(pid=4204)\u001b[0m Warning: Removed a road without junctions: -21549451\n",
      "\u001b[2m\u001b[36m(pid=4204)\u001b[0m Warning: Removed a road without junctions: 21549451\n",
      "\u001b[2m\u001b[36m(pid=4204)\u001b[0m Warning: The traffic light '30624291' does not control any links; it will not be build.\n",
      "\u001b[2m\u001b[36m(pid=4204)\u001b[0m Warning: Could not build program '0' for traffic light '30624291'\n",
      "\u001b[2m\u001b[36m(pid=4204)\u001b[0m Warning: Minor green from edge '-352962858#0' to edge '4786972#0' exceeds 19.44m/s. Maybe a left-turn lane is missing.\n",
      "\u001b[2m\u001b[36m(pid=4204)\u001b[0m Warning: Minor green from edge '352962858#0' to edge '4794820' exceeds 19.44m/s. Maybe a left-turn lane is missing.\n",
      "\u001b[2m\u001b[36m(pid=4204)\u001b[0m Warning: Minor green from edge '-352962858#1' to edge '4795742#0' exceeds 19.44m/s. Maybe a left-turn lane is missing.\n",
      "\u001b[2m\u001b[36m(pid=4264)\u001b[0m Warning: Removed a road without junctions: -21549451\n",
      "\u001b[2m\u001b[36m(pid=4264)\u001b[0m Warning: Removed a road without junctions: 21549451\n",
      "\u001b[2m\u001b[36m(pid=4264)\u001b[0m Warning: The traffic light '30624291' does not control any links; it will not be build.\n",
      "\u001b[2m\u001b[36m(pid=4264)\u001b[0m Warning: Could not build program '0' for traffic light '30624291'\n",
      "\u001b[2m\u001b[36m(pid=4264)\u001b[0m Warning: Minor green from edge '-352962858#0' to edge '4786972#0' exceeds 19.44m/s. Maybe a left-turn lane is missing.\n",
      "\u001b[2m\u001b[36m(pid=4264)\u001b[0m Warning: Minor green from edge '352962858#0' to edge '4794820' exceeds 19.44m/s. Maybe a left-turn lane is missing.\n",
      "\u001b[2m\u001b[36m(pid=4264)\u001b[0m Warning: Minor green from edge '-352962858#1' to edge '4795742#0' exceeds 19.44m/s. Maybe a left-turn lane is missing.\n",
      "\u001b[2m\u001b[36m(pid=4264)\u001b[0m Success.\n",
      "\u001b[2m\u001b[36m(pid=4203)\u001b[0m /home/julien/anaconda3/envs/flow/lib/python3.6/site-packages/numpy/core/fromnumeric.py:3118: RuntimeWarning: Mean of empty slice.\n",
      "\u001b[2m\u001b[36m(pid=4203)\u001b[0m   out=out, **kwargs)\n",
      "Result for DQN_IssyEnv1-v0_0:\n",
      "  custom_metrics: {}\n",
      "  date: 2020-04-23_20-53-00\n",
      "  done: false\n",
      "  episode_len_mean: 500.0\n",
      "  episode_reward_max: 710.2309999999999\n",
      "  episode_reward_mean: 677.5235000000004\n",
      "  episode_reward_min: 644.8160000000008\n",
      "  episodes_this_iter: 2\n",
      "  episodes_total: 2\n",
      "  experiment_id: 411ce0e97e554e2e81cde4fbc27d507a\n",
      "  hostname: julien-Ubuntu\n",
      "  info:\n",
      "    grad_time_ms: .nan\n",
      "    learner: {}\n",
      "    max_exploration: 1.0\n",
      "    min_exploration: 1.0\n",
      "    num_steps_sampled: 1000\n",
      "    num_steps_trained: 0\n",
      "    num_target_updates: 1\n",
      "    opt_peak_throughput: 0.0\n",
      "    opt_samples: .nan\n",
      "    replay_time_ms: .nan\n",
      "    sample_time_ms: 527.587\n",
      "    update_time_ms: 17.635\n",
      "  iterations_since_restore: 1\n",
      "  node_ip: 10.0.2.15\n",
      "  num_healthy_workers: 2\n",
      "  off_policy_estimator: {}\n",
      "  perf:\n",
      "    cpu_util_percent: 87.33857142857141\n",
      "    ram_util_percent: 28.85714285714285\n",
      "  pid: 4203\n",
      "  policy_reward_mean: {}\n",
      "  sampler_perf:\n",
      "    mean_env_wait_ms: 57.47568821478747\n",
      "    mean_inference_ms: 4.234971162563788\n",
      "    mean_processing_ms: 3.9288245751234347\n",
      "  time_since_restore: 50.50211763381958\n",
      "  time_this_iter_s: 50.50211763381958\n",
      "  time_total_s: 50.50211763381958\n",
      "  timestamp: 1587667980\n",
      "  timesteps_since_restore: 1000\n",
      "  timesteps_this_iter: 1000\n",
      "  timesteps_total: 1000\n",
      "  training_iteration: 1\n",
      "  trial_id: 82d7d0de\n",
      "  \n",
      "== Status ==\n",
      "Using FIFO scheduling algorithm.\n",
      "Resources requested: 1/3 CPUs, 0/0 GPUs\n",
      "Memory usage on this node: 3.1/10.5 GB\n",
      "Result logdir: /home/julien/ray_results/ISSY_traffic\n",
      "Number of trials: 1 ({'RUNNING': 1})\n",
      "RUNNING trials:\n",
      " - DQN_IssyEnv1-v0_0:\tRUNNING, [1 CPUs, 0 GPUs], [pid=4203], 50 s, 1 iter, 1000 ts, 678 rew\n",
      "\n",
      "\u001b[2m\u001b[36m(pid=4203)\u001b[0m /home/julien/anaconda3/envs/flow/lib/python3.6/site-packages/numpy/core/_methods.py:85: RuntimeWarning: invalid value encountered in double_scalars\n",
      "\u001b[2m\u001b[36m(pid=4203)\u001b[0m   ret = ret.dtype.type(ret / rcount)\n",
      "_________________ STEP i ___________________________\n",
      "\u001b[2m\u001b[36m(pid=4203)\u001b[0m 2020-04-23 20:53:02,197\tINFO rollout_worker.py:575 -- Training on concatenated sample batches:\n",
      "\u001b[2m\u001b[36m(pid=4203)\u001b[0m \n",
      "\u001b[2m\u001b[36m(pid=4203)\u001b[0m { 'count': 5000,\n",
      "\u001b[2m\u001b[36m(pid=4203)\u001b[0m   'policy_batches': { 'default_policy': { 'data': { 'actions': np.ndarray((5000,), dtype=int64, min=0.0, max=7.0, mean=3.674),\n",
      "\u001b[2m\u001b[36m(pid=4203)\u001b[0m                                                     'batch_indexes': np.ndarray((5000,), dtype=int64, min=0.0, max=1007.0, mean=499.863),\n",
      "\u001b[2m\u001b[36m(pid=4203)\u001b[0m                                                     'dones': np.ndarray((5000,), dtype=bool, min=0.0, max=1.0, mean=0.001),\n",
      "\u001b[2m\u001b[36m(pid=4203)\u001b[0m                                                     'new_obs': np.ndarray((5000, 112), dtype=float32, min=-119.576, max=25784.258, mean=317.677),\n",
      "\u001b[2m\u001b[36m(pid=4203)\u001b[0m                                                     'obs': np.ndarray((5000, 112), dtype=float32, min=-119.576, max=25784.258, mean=316.991),\n",
      "\u001b[2m\u001b[36m(pid=4203)\u001b[0m                                                     'rewards': np.ndarray((5000,), dtype=float32, min=0.024, max=3.872, mean=1.365),\n",
      "\u001b[2m\u001b[36m(pid=4203)\u001b[0m                                                     'weights': np.ndarray((5000,), dtype=float64, min=1.0, max=1.0, mean=1.0)},\n",
      "\u001b[2m\u001b[36m(pid=4203)\u001b[0m                                           'type': 'SampleBatch'}},\n",
      "\u001b[2m\u001b[36m(pid=4203)\u001b[0m   'type': 'MultiAgentBatch'}\n",
      "\u001b[2m\u001b[36m(pid=4203)\u001b[0m \n",
      "\u001b[2m\u001b[36m(pid=4203)\u001b[0m 2020-04-23 20:53:02,198\tINFO tf_policy.py:355 -- Optimizing variable <tf.Variable 'default_policy/q_func/action_value/hidden_0/kernel:0' shape=(32, 256) dtype=float32_ref>\n",
      "\u001b[2m\u001b[36m(pid=4203)\u001b[0m 2020-04-23 20:53:02,198\tINFO tf_policy.py:355 -- Optimizing variable <tf.Variable 'default_policy/q_func/action_value/hidden_0/bias:0' shape=(256,) dtype=float32_ref>\n",
      "\u001b[2m\u001b[36m(pid=4203)\u001b[0m 2020-04-23 20:53:02,198\tINFO tf_policy.py:355 -- Optimizing variable <tf.Variable 'default_policy/q_func/action_value/dense/kernel:0' shape=(256, 8) dtype=float32_ref>\n",
      "\u001b[2m\u001b[36m(pid=4203)\u001b[0m 2020-04-23 20:53:02,198\tINFO tf_policy.py:355 -- Optimizing variable <tf.Variable 'default_policy/q_func/action_value/dense/bias:0' shape=(8,) dtype=float32_ref>\n",
      "\u001b[2m\u001b[36m(pid=4203)\u001b[0m 2020-04-23 20:53:02,198\tINFO tf_policy.py:355 -- Optimizing variable <tf.Variable 'default_policy/q_func/state_value/dense/kernel:0' shape=(32, 256) dtype=float32_ref>\n",
      "\u001b[2m\u001b[36m(pid=4203)\u001b[0m 2020-04-23 20:53:02,198\tINFO tf_policy.py:355 -- Optimizing variable <tf.Variable 'default_policy/q_func/state_value/dense/bias:0' shape=(256,) dtype=float32_ref>\n",
      "\u001b[2m\u001b[36m(pid=4203)\u001b[0m 2020-04-23 20:53:02,198\tINFO tf_policy.py:355 -- Optimizing variable <tf.Variable 'default_policy/q_func/state_value/dense_1/kernel:0' shape=(256, 1) dtype=float32_ref>\n",
      "\u001b[2m\u001b[36m(pid=4203)\u001b[0m 2020-04-23 20:53:02,199\tINFO tf_policy.py:355 -- Optimizing variable <tf.Variable 'default_policy/q_func/state_value/dense_1/bias:0' shape=(1,) dtype=float32_ref>\n",
      "\u001b[2m\u001b[36m(pid=4203)\u001b[0m 2020-04-23 20:53:02,199\tINFO tf_policy.py:355 -- Optimizing variable <tf.Variable 'default_policy/q_func/fc1/kernel:0' shape=(112, 32) dtype=float32_ref>\n",
      "\u001b[2m\u001b[36m(pid=4203)\u001b[0m 2020-04-23 20:53:02,199\tINFO tf_policy.py:355 -- Optimizing variable <tf.Variable 'default_policy/q_func/fc1/bias:0' shape=(32,) dtype=float32_ref>\n",
      "\u001b[2m\u001b[36m(pid=4203)\u001b[0m 2020-04-23 20:53:02,199\tINFO tf_policy.py:355 -- Optimizing variable <tf.Variable 'default_policy/q_func/fc_out/kernel:0' shape=(32, 32) dtype=float32_ref>\n",
      "\u001b[2m\u001b[36m(pid=4203)\u001b[0m 2020-04-23 20:53:02,199\tINFO tf_policy.py:355 -- Optimizing variable <tf.Variable 'default_policy/q_func/fc_out/bias:0' shape=(32,) dtype=float32_ref>\n",
      "\u001b[2m\u001b[36m(pid=4203)\u001b[0m 2020-04-23 20:53:02,199\tINFO tf_run_builder.py:92 -- Executing TF run without tracing. To dump TF timeline traces to disk, set the TF_TIMELINE_DIR environment variable.\n"
     ]
    },
    {
     "name": "stdout",
     "output_type": "stream",
     "text": [
      "\u001b[2m\u001b[36m(pid=4203)\u001b[0m 2020-04-23 20:53:04,635\tINFO rollout_worker.py:597 -- Training output:\n",
      "\u001b[2m\u001b[36m(pid=4203)\u001b[0m \n",
      "\u001b[2m\u001b[36m(pid=4203)\u001b[0m { 'default_policy': { 'learner_stats': { 'cur_lr': 0.0005000000237487257,\n",
      "\u001b[2m\u001b[36m(pid=4203)\u001b[0m                                          'max_q': 0.9569993,\n",
      "\u001b[2m\u001b[36m(pid=4203)\u001b[0m                                          'mean_q': -0.14834747,\n",
      "\u001b[2m\u001b[36m(pid=4203)\u001b[0m                                          'mean_td_error': -1.7583637,\n",
      "\u001b[2m\u001b[36m(pid=4203)\u001b[0m                                          'min_q': -1.2787359,\n",
      "\u001b[2m\u001b[36m(pid=4203)\u001b[0m                                          'model': {}},\n",
      "\u001b[2m\u001b[36m(pid=4203)\u001b[0m                       'td_error': np.ndarray((5000,), dtype=float32, min=-4.503, max=0.292, mean=-1.758)}}\n",
      "\u001b[2m\u001b[36m(pid=4203)\u001b[0m \n",
      "\u001b[2m\u001b[36m(pid=4204)\u001b[0m Warning: Discarding unknown compound 'cycleway.opposite' in type 'cycleway.opposite|highway.residential' (first occurence for edge '4786965#0').\n",
      "\u001b[2m\u001b[36m(pid=4204)\u001b[0m Warning: Discarding unknown compound 'cycleway.opposite_track' in type 'cycleway.opposite_track|highway.residential' (first occurence for edge '4786972#0').\n",
      "\u001b[2m\u001b[36m(pid=4204)\u001b[0m Warning: Discarding unknown compound 'cycleway.opposite' in type 'cycleway.opposite|highway.living_street' (first occurence for edge '4795758').\n",
      "\u001b[2m\u001b[36m(pid=4204)\u001b[0m Warning: Discarding unknown compound 'cycleway.lane' in type 'cycleway.lane|highway.secondary' (first occurence for edge '100822066').\n",
      "\u001b[2m\u001b[36m(pid=4264)\u001b[0m Warning: Discarding unknown compound 'cycleway.opposite' in type 'cycleway.opposite|highway.residential' (first occurence for edge '4786965#0').\n",
      "\u001b[2m\u001b[36m(pid=4264)\u001b[0m Warning: Discarding unknown compound 'cycleway.opposite_track' in type 'cycleway.opposite_track|highway.residential' (first occurence for edge '4786972#0').\n",
      "\u001b[2m\u001b[36m(pid=4264)\u001b[0m Warning: Discarding unknown compound 'cycleway.opposite' in type 'cycleway.opposite|highway.living_street' (first occurence for edge '4795758').\n",
      "\u001b[2m\u001b[36m(pid=4264)\u001b[0m Warning: Discarding unknown compound 'cycleway.lane' in type 'cycleway.lane|highway.secondary' (first occurence for edge '100822066').\n",
      "\u001b[2m\u001b[36m(pid=4264)\u001b[0m Warning: Removed a road without junctions: -21549451\n",
      "\u001b[2m\u001b[36m(pid=4264)\u001b[0m Warning: Removed a road without junctions: 21549451\n",
      "\u001b[2m\u001b[36m(pid=4264)\u001b[0m Warning: The traffic light '30624291' does not control any links; it will not be build.\n",
      "\u001b[2m\u001b[36m(pid=4264)\u001b[0m Warning: Could not build program '0' for traffic light '30624291'\n",
      "\u001b[2m\u001b[36m(pid=4264)\u001b[0m Warning: Minor green from edge '-352962858#0' to edge '4786972#0' exceeds 19.44m/s. Maybe a left-turn lane is missing.\n",
      "\u001b[2m\u001b[36m(pid=4264)\u001b[0m Warning: Minor green from edge '352962858#0' to edge '4794820' exceeds 19.44m/s. Maybe a left-turn lane is missing.\n",
      "\u001b[2m\u001b[36m(pid=4264)\u001b[0m Warning: Minor green from edge '-352962858#1' to edge '4795742#0' exceeds 19.44m/s. Maybe a left-turn lane is missing.\n",
      "\u001b[2m\u001b[36m(pid=4204)\u001b[0m Warning: Removed a road without junctions: -21549451\n",
      "\u001b[2m\u001b[36m(pid=4204)\u001b[0m Warning: Removed a road without junctions: 21549451\n",
      "\u001b[2m\u001b[36m(pid=4204)\u001b[0m Warning: The traffic light '30624291' does not control any links; it will not be build.\n",
      "\u001b[2m\u001b[36m(pid=4204)\u001b[0m Warning: Could not build program '0' for traffic light '30624291'\n",
      "\u001b[2m\u001b[36m(pid=4204)\u001b[0m Warning: Minor green from edge '-352962858#0' to edge '4786972#0' exceeds 19.44m/s. Maybe a left-turn lane is missing.\n",
      "\u001b[2m\u001b[36m(pid=4204)\u001b[0m Warning: Minor green from edge '352962858#0' to edge '4794820' exceeds 19.44m/s. Maybe a left-turn lane is missing.\n",
      "\u001b[2m\u001b[36m(pid=4204)\u001b[0m Warning: Minor green from edge '-352962858#1' to edge '4795742#0' exceeds 19.44m/s. Maybe a left-turn lane is missing.\n",
      "\u001b[2m\u001b[36m(pid=4264)\u001b[0m Success.\n",
      "\u001b[2m\u001b[36m(pid=4204)\u001b[0m Success.\n",
      "Result for DQN_IssyEnv1-v0_0:\n",
      "  custom_metrics: {}\n",
      "  date: 2020-04-23_20-58-44\n",
      "  done: false\n",
      "  episode_len_mean: 500.0\n",
      "  episode_reward_max: 2620.17\n",
      "  episode_reward_mean: 1583.1195000000002\n",
      "  episode_reward_min: 644.8160000000008\n",
      "  episodes_this_iter: 2\n",
      "  episodes_total: 4\n",
      "  experiment_id: 411ce0e97e554e2e81cde4fbc27d507a\n",
      "  hostname: julien-Ubuntu\n",
      "  info:\n",
      "    grad_time_ms: 1313.4\n",
      "    learner:\n",
      "      default_policy:\n",
      "        cur_lr: 0.0005000000237487257\n",
      "        max_q: 7.802793502807617\n",
      "        mean_q: 5.242461204528809\n",
      "        mean_td_error: -0.6093616485595703\n",
      "        min_q: 0.831238865852356\n",
      "        model: {}\n",
      "    max_exploration: 0.902\n",
      "    min_exploration: 0.902\n",
      "    num_steps_sampled: 2000\n",
      "    num_steps_trained: 625000\n",
      "    num_target_updates: 3\n",
      "    opt_peak_throughput: 3806.913\n",
      "    opt_samples: 5000.0\n",
      "    replay_time_ms: 1079.747\n",
      "    sample_time_ms: 514.036\n",
      "    update_time_ms: 14.619\n",
      "  iterations_since_restore: 2\n",
      "  node_ip: 10.0.2.15\n",
      "  num_healthy_workers: 2\n",
      "  off_policy_estimator: {}\n",
      "  perf:\n",
      "    cpu_util_percent: 60.88784648187634\n",
      "    ram_util_percent: 31.35309168443497\n",
      "  pid: 4203\n",
      "  policy_reward_mean: {}\n",
      "  sampler_perf:\n",
      "    mean_env_wait_ms: 58.72231846815794\n",
      "    mean_inference_ms: 3.9775169388174865\n",
      "    mean_processing_ms: 3.8798485739925717\n",
      "  time_since_restore: 394.28383708000183\n",
      "  time_this_iter_s: 343.78171944618225\n",
      "  time_total_s: 394.28383708000183\n",
      "  timestamp: 1587668324\n",
      "  timesteps_since_restore: 2000\n",
      "  timesteps_this_iter: 1000\n",
      "  timesteps_total: 2000\n",
      "  training_iteration: 2\n",
      "  trial_id: 82d7d0de\n",
      "  \n",
      "== Status ==\n",
      "Using FIFO scheduling algorithm.\n",
      "Resources requested: 1/3 CPUs, 0/0 GPUs\n",
      "Memory usage on this node: 3.3/10.5 GB\n",
      "Result logdir: /home/julien/ray_results/ISSY_traffic\n",
      "Number of trials: 1 ({'RUNNING': 1})\n",
      "RUNNING trials:\n",
      " - DQN_IssyEnv1-v0_0:\tRUNNING, [1 CPUs, 0 GPUs], [pid=4203], 394 s, 2 iter, 2000 ts, 1.58e+03 rew\n",
      "\n",
      "_________________ STEP i ___________________________\n",
      "\u001b[2m\u001b[36m(pid=4204)\u001b[0m Warning: Discarding unknown compound 'cycleway.opposite' in type 'cycleway.opposite|highway.residential' (first occurence for edge '4786965#0').\n",
      "\u001b[2m\u001b[36m(pid=4204)\u001b[0m Warning: Discarding unknown compound 'cycleway.opposite_track' in type 'cycleway.opposite_track|highway.residential' (first occurence for edge '4786972#0').\n",
      "\u001b[2m\u001b[36m(pid=4204)\u001b[0m Warning: Discarding unknown compound 'cycleway.opposite' in type 'cycleway.opposite|highway.living_street' (first occurence for edge '4795758').\n",
      "\u001b[2m\u001b[36m(pid=4204)\u001b[0m Warning: Discarding unknown compound 'cycleway.lane' in type 'cycleway.lane|highway.secondary' (first occurence for edge '100822066').\n",
      "\u001b[2m\u001b[36m(pid=4204)\u001b[0m Success.\n",
      "\u001b[2m\u001b[36m(pid=4204)\u001b[0m Warning: Removed a road without junctions: -21549451\n",
      "\u001b[2m\u001b[36m(pid=4204)\u001b[0m Warning: Removed a road without junctions: 21549451\n",
      "\u001b[2m\u001b[36m(pid=4204)\u001b[0m Warning: The traffic light '30624291' does not control any links; it will not be build.\n",
      "\u001b[2m\u001b[36m(pid=4204)\u001b[0m Warning: Could not build program '0' for traffic light '30624291'\n",
      "\u001b[2m\u001b[36m(pid=4204)\u001b[0m Warning: Minor green from edge '-352962858#0' to edge '4786972#0' exceeds 19.44m/s. Maybe a left-turn lane is missing.\n",
      "\u001b[2m\u001b[36m(pid=4204)\u001b[0m Warning: Minor green from edge '352962858#0' to edge '4794820' exceeds 19.44m/s. Maybe a left-turn lane is missing.\n",
      "\u001b[2m\u001b[36m(pid=4204)\u001b[0m Warning: Minor green from edge '-352962858#1' to edge '4795742#0' exceeds 19.44m/s. Maybe a left-turn lane is missing.\n",
      "\u001b[2m\u001b[36m(pid=4264)\u001b[0m Warning: Discarding unknown compound 'cycleway.opposite' in type 'cycleway.opposite|highway.residential' (first occurence for edge '4786965#0').\n",
      "\u001b[2m\u001b[36m(pid=4264)\u001b[0m Warning: Discarding unknown compound 'cycleway.opposite_track' in type 'cycleway.opposite_track|highway.residential' (first occurence for edge '4786972#0').\n",
      "\u001b[2m\u001b[36m(pid=4264)\u001b[0m Warning: Discarding unknown compound 'cycleway.opposite' in type 'cycleway.opposite|highway.living_street' (first occurence for edge '4795758').\n",
      "\u001b[2m\u001b[36m(pid=4264)\u001b[0m Warning: Discarding unknown compound 'cycleway.lane' in type 'cycleway.lane|highway.secondary' (first occurence for edge '100822066').\n",
      "\u001b[2m\u001b[36m(pid=4264)\u001b[0m Warning: Removed a road without junctions: -21549451\n",
      "\u001b[2m\u001b[36m(pid=4264)\u001b[0m Warning: Removed a road without junctions: 21549451\n",
      "\u001b[2m\u001b[36m(pid=4264)\u001b[0m Warning: The traffic light '30624291' does not control any links; it will not be build.\n",
      "\u001b[2m\u001b[36m(pid=4264)\u001b[0m Warning: Could not build program '0' for traffic light '30624291'\n",
      "\u001b[2m\u001b[36m(pid=4264)\u001b[0m Warning: Minor green from edge '-352962858#0' to edge '4786972#0' exceeds 19.44m/s. Maybe a left-turn lane is missing.\n",
      "\u001b[2m\u001b[36m(pid=4264)\u001b[0m Warning: Minor green from edge '352962858#0' to edge '4794820' exceeds 19.44m/s. Maybe a left-turn lane is missing.\n",
      "\u001b[2m\u001b[36m(pid=4264)\u001b[0m Warning: Minor green from edge '-352962858#1' to edge '4795742#0' exceeds 19.44m/s. Maybe a left-turn lane is missing.\n",
      "\u001b[2m\u001b[36m(pid=4264)\u001b[0m Success.\n"
     ]
    },
    {
     "name": "stdout",
     "output_type": "stream",
     "text": [
      "Result for DQN_IssyEnv1-v0_0:\n",
      "  custom_metrics: {}\n",
      "  date: 2020-04-23_21-04-26\n",
      "  done: false\n",
      "  episode_len_mean: 473.0\n",
      "  episode_reward_max: 4547.953000000001\n",
      "  episode_reward_mean: 2221.4471666666673\n",
      "  episode_reward_min: 644.8160000000008\n",
      "  episodes_this_iter: 2\n",
      "  episodes_total: 6\n",
      "  experiment_id: 411ce0e97e554e2e81cde4fbc27d507a\n",
      "  hostname: julien-Ubuntu\n",
      "  info:\n",
      "    grad_time_ms: 1257.045\n",
      "    learner:\n",
      "      default_policy:\n",
      "        cur_lr: 0.0005000000237487257\n",
      "        max_q: 20.929903030395508\n",
      "        mean_q: 15.082738876342773\n",
      "        mean_td_error: 0.3573797047138214\n",
      "        min_q: 3.047483444213867\n",
      "        model: {}\n",
      "    max_exploration: 0.804\n",
      "    min_exploration: 0.804\n",
      "    num_steps_sampled: 3000\n",
      "    num_steps_trained: 1250000\n",
      "    num_target_updates: 5\n",
      "    opt_peak_throughput: 3977.582\n",
      "    opt_samples: 5000.0\n",
      "    replay_time_ms: 1049.202\n",
      "    sample_time_ms: 577.45\n",
      "    update_time_ms: 12.32\n",
      "  iterations_since_restore: 3\n",
      "  node_ip: 10.0.2.15\n",
      "  num_healthy_workers: 2\n",
      "  off_policy_estimator: {}\n",
      "  perf:\n",
      "    cpu_util_percent: 61.95204301075268\n",
      "    ram_util_percent: 31.299569892473116\n",
      "  pid: 4203\n",
      "  policy_reward_mean: {}\n",
      "  sampler_perf:\n",
      "    mean_env_wait_ms: 61.56505987382568\n",
      "    mean_inference_ms: 3.803488598279834\n",
      "    mean_processing_ms: 3.838869865574446\n",
      "  time_since_restore: 735.9676990509033\n",
      "  time_this_iter_s: 341.6838619709015\n",
      "  time_total_s: 735.9676990509033\n",
      "  timestamp: 1587668666\n",
      "  timesteps_since_restore: 3000\n",
      "  timesteps_this_iter: 1000\n",
      "  timesteps_total: 3000\n",
      "  training_iteration: 3\n",
      "  trial_id: 82d7d0de\n",
      "  \n",
      "== Status ==\n",
      "Using FIFO scheduling algorithm.\n",
      "Resources requested: 1/3 CPUs, 0/0 GPUs\n",
      "Memory usage on this node: 3.3/10.5 GB\n",
      "Result logdir: /home/julien/ray_results/ISSY_traffic\n",
      "Number of trials: 1 ({'RUNNING': 1})\n",
      "RUNNING trials:\n",
      " - DQN_IssyEnv1-v0_0:\tRUNNING, [1 CPUs, 0 GPUs], [pid=4203], 735 s, 3 iter, 3000 ts, 2.22e+03 rew\n",
      "\n",
      "_________________ STEP i ___________________________\n",
      "\u001b[2m\u001b[36m(pid=4204)\u001b[0m Warning: Discarding unknown compound 'cycleway.opposite' in type 'cycleway.opposite|highway.residential' (first occurence for edge '4786965#0').\n",
      "\u001b[2m\u001b[36m(pid=4204)\u001b[0m Warning: Discarding unknown compound 'cycleway.opposite_track' in type 'cycleway.opposite_track|highway.residential' (first occurence for edge '4786972#0').\n",
      "\u001b[2m\u001b[36m(pid=4204)\u001b[0m Warning: Discarding unknown compound 'cycleway.opposite' in type 'cycleway.opposite|highway.living_street' (first occurence for edge '4795758').\n",
      "\u001b[2m\u001b[36m(pid=4204)\u001b[0m Warning: Discarding unknown compound 'cycleway.lane' in type 'cycleway.lane|highway.secondary' (first occurence for edge '100822066').\n",
      "\u001b[2m\u001b[36m(pid=4204)\u001b[0m Warning: Removed a road without junctions: -21549451\n",
      "\u001b[2m\u001b[36m(pid=4204)\u001b[0m Warning: Removed a road without junctions: 21549451\n",
      "\u001b[2m\u001b[36m(pid=4204)\u001b[0m Warning: The traffic light '30624291' does not control any links; it will not be build.\n",
      "\u001b[2m\u001b[36m(pid=4204)\u001b[0m Warning: Could not build program '0' for traffic light '30624291'\n",
      "\u001b[2m\u001b[36m(pid=4204)\u001b[0m Warning: Minor green from edge '-352962858#0' to edge '4786972#0' exceeds 19.44m/s. Maybe a left-turn lane is missing.\n",
      "\u001b[2m\u001b[36m(pid=4204)\u001b[0m Warning: Minor green from edge '352962858#0' to edge '4794820' exceeds 19.44m/s. Maybe a left-turn lane is missing.\n",
      "\u001b[2m\u001b[36m(pid=4204)\u001b[0m Warning: Minor green from edge '-352962858#1' to edge '4795742#0' exceeds 19.44m/s. Maybe a left-turn lane is missing.\n",
      "\u001b[2m\u001b[36m(pid=4204)\u001b[0m Success.\n",
      "\u001b[2m\u001b[36m(pid=4264)\u001b[0m Warning: Discarding unknown compound 'cycleway.opposite' in type 'cycleway.opposite|highway.residential' (first occurence for edge '4786965#0').\n",
      "\u001b[2m\u001b[36m(pid=4264)\u001b[0m Warning: Discarding unknown compound 'cycleway.opposite_track' in type 'cycleway.opposite_track|highway.residential' (first occurence for edge '4786972#0').\n",
      "\u001b[2m\u001b[36m(pid=4264)\u001b[0m Warning: Discarding unknown compound 'cycleway.opposite' in type 'cycleway.opposite|highway.living_street' (first occurence for edge '4795758').\n",
      "\u001b[2m\u001b[36m(pid=4264)\u001b[0m Warning: Discarding unknown compound 'cycleway.lane' in type 'cycleway.lane|highway.secondary' (first occurence for edge '100822066').\n",
      "\u001b[2m\u001b[36m(pid=4264)\u001b[0m Warning: Removed a road without junctions: -21549451\n",
      "\u001b[2m\u001b[36m(pid=4264)\u001b[0m Warning: Removed a road without junctions: 21549451\n",
      "\u001b[2m\u001b[36m(pid=4264)\u001b[0m Warning: The traffic light '30624291' does not control any links; it will not be build.\n",
      "\u001b[2m\u001b[36m(pid=4264)\u001b[0m Warning: Could not build program '0' for traffic light '30624291'\n",
      "\u001b[2m\u001b[36m(pid=4264)\u001b[0m Warning: Minor green from edge '-352962858#0' to edge '4786972#0' exceeds 19.44m/s. Maybe a left-turn lane is missing.\n",
      "\u001b[2m\u001b[36m(pid=4264)\u001b[0m Warning: Minor green from edge '352962858#0' to edge '4794820' exceeds 19.44m/s. Maybe a left-turn lane is missing.\n",
      "\u001b[2m\u001b[36m(pid=4264)\u001b[0m Warning: Minor green from edge '-352962858#1' to edge '4795742#0' exceeds 19.44m/s. Maybe a left-turn lane is missing.\n",
      "\u001b[2m\u001b[36m(pid=4264)\u001b[0m Success.\n",
      "Result for DQN_IssyEnv1-v0_0:\n",
      "  custom_metrics: {}\n",
      "  date: 2020-04-23_21-11-43\n",
      "  done: true\n",
      "  episode_len_mean: 479.75\n",
      "  episode_reward_max: 6327.894999999998\n",
      "  episode_reward_mean: 3062.472749999999\n",
      "  episode_reward_min: 644.8160000000008\n",
      "  episodes_this_iter: 2\n",
      "  episodes_total: 8\n",
      "  experiment_id: 411ce0e97e554e2e81cde4fbc27d507a\n",
      "  hostname: julien-Ubuntu\n",
      "  info:\n",
      "    grad_time_ms: 1596.451\n",
      "    learner:\n",
      "      default_policy:\n",
      "        cur_lr: 0.0005000000237487257\n",
      "        max_q: 37.595787048339844\n",
      "        mean_q: 30.637977600097656\n",
      "        mean_td_error: 1.493635892868042\n",
      "        min_q: 7.336039066314697\n",
      "        model: {}\n",
      "    max_exploration: 0.706\n",
      "    min_exploration: 0.706\n",
      "    num_steps_sampled: 4000\n",
      "    num_steps_trained: 1875000\n",
      "    num_target_updates: 7\n",
      "    opt_peak_throughput: 3131.946\n",
      "    opt_samples: 5000.0\n",
      "    replay_time_ms: 1302.667\n",
      "    sample_time_ms: 950.175\n",
      "    update_time_ms: 20.597\n",
      "  iterations_since_restore: 4\n",
      "  node_ip: 10.0.2.15\n",
      "  num_healthy_workers: 2\n",
      "  off_policy_estimator: {}\n",
      "  perf:\n",
      "    cpu_util_percent: 65.81587837837837\n",
      "    ram_util_percent: 31.754898648648645\n",
      "  pid: 4203\n",
      "  policy_reward_mean: {}\n",
      "  sampler_perf:\n",
      "    mean_env_wait_ms: 67.30058242847021\n",
      "    mean_inference_ms: 3.7302074764992033\n",
      "    mean_processing_ms: 3.8307478509399706\n",
      "  time_since_restore: 1173.4718866348267\n",
      "  time_this_iter_s: 437.50418758392334\n",
      "  time_total_s: 1173.4718866348267\n",
      "  timestamp: 1587669103\n",
      "  timesteps_since_restore: 4000\n",
      "  timesteps_this_iter: 1000\n",
      "  timesteps_total: 4000\n",
      "  training_iteration: 4\n",
      "  trial_id: 82d7d0de\n",
      "  \n",
      "== Status ==\n",
      "Using FIFO scheduling algorithm.\n",
      "Resources requested: 0/3 CPUs, 0/0 GPUs\n",
      "Memory usage on this node: 3.3/10.5 GB\n",
      "Result logdir: /home/julien/ray_results/ISSY_traffic\n",
      "Number of trials: 1 ({'TERMINATED': 1})\n",
      "TERMINATED trials:\n",
      " - DQN_IssyEnv1-v0_0:\tTERMINATED, [1 CPUs, 0 GPUs], [pid=4203], 1173 s, 4 iter, 4000 ts, 3.06e+03 rew\n",
      "\n",
      "== Status ==\n",
      "Using FIFO scheduling algorithm.\n",
      "Resources requested: 0/3 CPUs, 0/0 GPUs\n",
      "Memory usage on this node: 3.3/10.5 GB\n",
      "Result logdir: /home/julien/ray_results/ISSY_traffic\n",
      "Number of trials: 1 ({'TERMINATED': 1})\n",
      "TERMINATED trials:\n",
      " - DQN_IssyEnv1-v0_0:\tTERMINATED, [1 CPUs, 0 GPUs], [pid=4203], 1173 s, 4 iter, 4000 ts, 3.06e+03 rew\n",
      "\n"
     ]
    }
   ],
   "source": [
    "exp_tag = {\"run\": alg_run,\n",
    "           \"env\": gym_name,\n",
    "           \"config\": {**config},\n",
    "           \"checkpoint_freq\": 2,\n",
    "           \"checkpoint_at_end\": True,\n",
    "           \"max_failures\": 10,\n",
    "           \"stop\": {\"training_iteration\": 4}}\n",
    "\n",
    "\n",
    "trials = run_experiments({flow_params[\"exp_tag\"]: exp_tag})"
   ]
  },
  {
   "cell_type": "code",
   "execution_count": 14,
   "metadata": {
    "ExecuteTime": {
     "end_time": "2020-04-23T19:11:45.271057Z",
     "start_time": "2020-04-23T19:11:43.822224Z"
    }
   },
   "outputs": [
    {
     "data": {
      "image/png": "[encoded data removed]",
      "text/plain": [
       "<Figure size 432x288 with 1 Axes>"
      ]
     },
     "metadata": {
      "needs_background": "light"
     },
     "output_type": "display_data"
    }
   ],
   "source": [
    "%run ../visualisation/plot_ray_results.py ~/ray_results/ISSY_traffic/DQN_IssyEnv1-v0_0_2020-04-09_14-19-28ex9mlxie/progress.csv episode_reward_mean episode_reward_min episode_reward_max"
   ]
  },
  {
   "cell_type": "code",
   "execution_count": 15,
   "metadata": {
    "ExecuteTime": {
     "end_time": "2020-04-23T19:11:45.279425Z",
     "start_time": "2020-04-23T19:11:45.273486Z"
    }
   },
   "outputs": [
    {
     "data": {
      "text/plain": [
       "'IssyEnv1-v0'"
      ]
     },
     "execution_count": 15,
     "metadata": {},
     "output_type": "execute_result"
    }
   ],
   "source": [
    "gym_name"
   ]
  },
  {
   "cell_type": "code",
   "execution_count": null,
   "metadata": {},
   "outputs": [],
   "source": []
  }
 ],
 "metadata": {
  "kernelspec": {
   "display_name": "Python 3",
   "language": "python",
   "name": "python3"
  },
  "language_info": {
   "codemirror_mode": {
    "name": "ipython",
    "version": 3
   },
   "file_extension": ".py",
   "mimetype": "text/x-python",
   "name": "python",
   "nbconvert_exporter": "python",
   "pygments_lexer": "ipython3",
   "version": "3.6.8"
  },
  "toc": {
   "base_numbering": 1,
   "nav_menu": {},
   "number_sections": true,
   "sideBar": true,
   "skip_h1_title": false,
   "title_cell": "Table of Contents",
   "title_sidebar": "Contents",
   "toc_cell": false,
   "toc_position": {},
   "toc_section_display": true,
   "toc_window_display": false
  },
  "varInspector": {
   "cols": {
    "lenName": 16,
    "lenType": 16,
    "lenVar": 40
   },
   "kernels_config": {
    "python": {
     "delete_cmd_postfix": "",
     "delete_cmd_prefix": "del ",
     "library": "var_list.py",
     "varRefreshCmd": "print(var_dic_list())"
    },
    "r": {
     "delete_cmd_postfix": ") ",
     "delete_cmd_prefix": "rm(",
     "library": "var_list.r",
     "varRefreshCmd": "cat(var_dic_list()) "
    }
   },
   "types_to_exclude": [
    "module",
    "function",
    "builtin_function_or_method",
    "instance",
    "_Feature"
   ],
   "window_display": false
  }
 },
 "nbformat": 4,
 "nbformat_minor": 2
}
