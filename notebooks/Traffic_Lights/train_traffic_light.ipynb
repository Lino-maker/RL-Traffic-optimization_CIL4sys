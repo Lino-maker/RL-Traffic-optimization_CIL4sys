{
 "cells": [
  {
   "cell_type": "markdown",
   "metadata": {},
   "source": [
    "# Train Traffic Lights Agents\n",
    "\n",
    "Utilise les fonctions de @Binetruy\n",
    "\n",
    "- crée un network à partir d'un fichier .osm et des trajectoires de véhiculess\n",
    "- ajoute un flux de voiture sur les routes\n",
    "- personnalise un Environnement pour le RL\n",
    "- integre l'environnement pour RLlib et execute la simulation\n"
   ]
  },
  {
   "cell_type": "code",
   "execution_count": 1,
   "metadata": {
    "ExecuteTime": {
     "end_time": "2020-04-16T09:03:04.521302Z",
     "start_time": "2020-04-16T09:02:59.679833Z"
    }
   },
   "outputs": [],
   "source": [
    "from flow.core.params import VehicleParams\n",
    "from flow.core.params import NetParams, SumoCarFollowingParams\n",
    "from flow.core.params import InitialConfig\n",
    "from flow.core.params import EnvParams\n",
    "from flow.core.params import SumoParams\n",
    "from flow.controllers import RLController, IDMController\n",
    "from flow.networks import Network\n",
    "from flow.core.params import InFlows\n",
    "from collections import OrderedDict\n",
    "import json\n",
    "import ray\n",
    "from ray.rllib.agents.registry import get_agent_class\n",
    "from ray.tune import run_experiments\n",
    "from ray.tune.registry import register_env\n",
    "from flow.utils.registry import make_create_env\n",
    "from flow.utils.rllib import FlowParamsEncoder\n",
    "from flow.core.params import VehicleParams, SumoCarFollowingParams"
   ]
  },
  {
   "cell_type": "markdown",
   "metadata": {},
   "source": [
    "## Crée le network"
   ]
  },
  {
   "cell_type": "markdown",
   "metadata": {},
   "source": [
    "Specifie les noms des routes du network dont les vehicules peuvent être s'insérer"
   ]
  },
  {
   "cell_type": "code",
   "execution_count": 2,
   "metadata": {
    "ExecuteTime": {
     "end_time": "2020-04-16T09:03:04.536987Z",
     "start_time": "2020-04-16T09:03:04.528243Z"
    }
   },
   "outputs": [],
   "source": [
    "EDGES_DISTRIBUTION = [\"-100822066\", \"4794817\", \"4783299#0\", \"155558218\"]"
   ]
  },
  {
   "cell_type": "markdown",
   "metadata": {},
   "source": [
    "créer la classe Network pour spécifier les itinéraires possibles"
   ]
  },
  {
   "cell_type": "code",
   "execution_count": 3,
   "metadata": {
    "ExecuteTime": {
     "end_time": "2020-04-16T09:03:04.569146Z",
     "start_time": "2020-04-16T09:03:04.547688Z"
    }
   },
   "outputs": [],
   "source": [
    "import random\n",
    "\n",
    "class IssyOSMNetwork(Network):\n",
    "\n",
    "    \n",
    "    def get_routes_list(self):\n",
    "        return list(self.specify_routes({}).keys())\n",
    "\n",
    "    def get_random_route(self):\n",
    "        return random.choice(self.get_routes_list())\n",
    "\n",
    "    def specify_routes(self, net_params):\n",
    "        return {\n",
    "            \"-100822066\": [ #N\n",
    "                \"-100822066\",\n",
    "                \"-352962858#1\",\n",
    "                \"-352962858#0\",\n",
    "                \"-4786940#1\",\n",
    "                 \"-4786940#0\",\n",
    "            ],\n",
    "            \n",
    "            \"4794817\" : [ #Loop\n",
    "                \"4794817\",\n",
    "                \"4786972#0\",\n",
    "                \"4786972#1\",\n",
    "                \"4786972#2\",\n",
    "                \"4786965#1\",\n",
    "                \"4786965#2\",\n",
    "                \"4786965#3\",\n",
    "                \"4795729\",\n",
    "                \"-352962858#1\",\n",
    "                \"4795742#0\",\n",
    "                \"4795742#1\",\n",
    "                \"4786965#3\",\n",
    "                \"4786965#4\",\n",
    "                \"4786965#5\",\n",
    "            ],\n",
    "            \n",
    "            \"4783299#0\": [    #E\n",
    "                \"4783299#0\",\n",
    "                \"4783299#1\",\n",
    "                \"4783299#2\",\n",
    "                \"4783299#3\",\n",
    "                \"4783299#4\",\n",
    "                \"4783299#5\",\n",
    "                \"4783299#6\",\n",
    "                \"4786940#0\",\n",
    "                \"4786940#1\",\n",
    "                \"352962858#0\",\n",
    "                \"352962858#1\",\n",
    "                \"100822066\",\n",
    "            ],\n",
    "            \n",
    "            \"155558218\": [\n",
    "                \"155558218\",\n",
    "                \"4786940#1\",\n",
    "                \"352962858#0\",\n",
    "                \"352962858#1\",\n",
    "                \"100822066\",\n",
    "            ],     \n",
    "        }"
   ]
  },
  {
   "cell_type": "markdown",
   "metadata": {},
   "source": [
    "## Ajoute les flux de voiture"
   ]
  },
  {
   "cell_type": "markdown",
   "metadata": {},
   "source": [
    "`IDMController` : The Intelligent Driver Model is a car-following model specifying vehicle dynamics by a differential equation for acceleration $\\dot{v}$.\n",
    "\n",
    "`RLController` : a trainable autuonomous vehicle whose actions are dictated by an RL agent. "
   ]
  },
  {
   "cell_type": "code",
   "execution_count": 4,
   "metadata": {
    "ExecuteTime": {
     "end_time": "2020-04-16T09:03:04.591460Z",
     "start_time": "2020-04-16T09:03:04.579109Z"
    }
   },
   "outputs": [],
   "source": [
    "n_veh    = 12\n",
    "vehicles = VehicleParams()\n",
    "vehicles.add(\"human\",acceleration_controller=(IDMController, {}), num_vehicles=n_veh, color='red')\n",
    "vehicles.add(\"flow\",acceleration_controller=(IDMController, {}), num_vehicles=n_veh, color='white')"
   ]
  },
  {
   "cell_type": "markdown",
   "metadata": {},
   "source": [
    "- `vehs_per_hour`: nombre de vehicule par heure, uniformément espacés. Par exemple, comme il y a $60 \\times 60 = 3600$ secondes dans une heure, le parametre $\\frac{3600}{5}=720$ va faire rentrer des vehicules dans le network toutes les $5$ secondes.\n",
    "\n",
    "- `probability`: c'est la probabilité qu'un véhicule entre dans le network toutes les secondes. Par exemple, si on la fixe à $0.2$, alors chaque seconde de la simulation un véhicule aura $\\frac{1}{5}$ chance d'entrer dans le network\n",
    "\n",
    "- `period`: C'est le temps en secondes entre 2 véhicules qui sont insérés. Par exemple, le fixer à $5$ ferait rentrer des véhicules dans le network toutes les $5$ secondes (ce qui équivaut à mettre `vehs_per_hour` à $720$).\n",
    "\n",
    "<font color='red'>\n",
    "$\\rightarrow$ Exactement 1 seul de ces 3 paramètres doit être configurer !\n",
    "</font>"
   ]
  },
  {
   "cell_type": "code",
   "execution_count": 5,
   "metadata": {
    "ExecuteTime": {
     "end_time": "2020-04-16T09:03:04.620468Z",
     "start_time": "2020-04-16T09:03:04.598955Z"
    }
   },
   "outputs": [],
   "source": [
    "inflow = InFlows()\n",
    "for edge in EDGES_DISTRIBUTION:\n",
    "    inflow.add(veh_type = \"flow\", edge = edge, probability = 0.1, depart_speed = 7)"
   ]
  },
  {
   "cell_type": "markdown",
   "metadata": {},
   "source": [
    "## Personnalise un Environnement pour le RL\n",
    "\n",
    "plus de méthodes sur : http://berkeleyflow.readthedocs.io/en/latest/"
   ]
  },
  {
   "cell_type": "code",
   "execution_count": 6,
   "metadata": {
    "ExecuteTime": {
     "end_time": "2020-04-16T09:03:04.639343Z",
     "start_time": "2020-04-16T09:03:04.627734Z"
    }
   },
   "outputs": [],
   "source": [
    "from IssyEnv import IssyEnv1"
   ]
  },
  {
   "cell_type": "markdown",
   "metadata": {},
   "source": [
    "## Lance une simulation avec Training RLlib\n",
    "\n",
    "Pour qu'un environnement puisse être entrainé, l'environnement doit être accessible via l'importation à partir de flow.envs. \n",
    "\n",
    "\n",
    "<font color='red'>\n",
    "Copier l'environnement créé dans un fichier .py et on importe l'environnement dans `flow.envs.__init__.py`.\n",
    "Mettre le chemin absolu du fichier .osm .\n",
    "</font> "
   ]
  },
  {
   "cell_type": "code",
   "execution_count": 7,
   "metadata": {
    "ExecuteTime": {
     "end_time": "2020-04-16T09:03:04.649638Z",
     "start_time": "2020-04-16T09:03:04.641992Z"
    }
   },
   "outputs": [],
   "source": [
    "# possibles actions\n",
    "action_spec = OrderedDict({ \"30677963\": [ \"GGGGrrrGGGG\", \"rrrrGGGrrrr\"],\n",
    "                            \"30763263\": [\"GGGGGGGGGG\",  \"rrrrrrrrrr\"],\n",
    "                            \"30677810\": [ \"GGrr\", \"rrGG\"]})"
   ]
  },
  {
   "cell_type": "code",
   "execution_count": 8,
   "metadata": {
    "ExecuteTime": {
     "end_time": "2020-04-16T09:03:04.681025Z",
     "start_time": "2020-04-16T09:03:04.660062Z"
    }
   },
   "outputs": [],
   "source": [
    "horizon  = 1000\n",
    "SIM_STEP = 0.2\n",
    "rollouts = 10\n",
    "n_cpus   = 2\n",
    "discount_rate = 0.999"
   ]
  },
  {
   "cell_type": "code",
   "execution_count": 9,
   "metadata": {
    "ExecuteTime": {
     "end_time": "2020-04-16T09:03:04.721532Z",
     "start_time": "2020-04-16T09:03:04.685468Z"
    }
   },
   "outputs": [],
   "source": [
    "# SUMO PARAM\n",
    "sumo_params = SumoParams(sim_step=SIM_STEP, render=False, restart_instance=True, print_warnings=False, no_step_log=False)\n",
    "\n",
    "# ENVIRONMENT PARAM\n",
    "ADDITIONAL_ENV_PARAMS = {\"beta\": n_veh, \"action_spec\": action_spec, \"algorithm\": \"DQN\", \"tl_constraint_min\": 100,  \"tl_constraint_max\": 600, \"sim_step\": SIM_STEP}\n",
    "env_params = EnvParams(additional_params=ADDITIONAL_ENV_PARAMS, horizon=horizon, warmup_steps=1)\n",
    "\n",
    "# NETWORK PARAM\n",
    "path_file  = '/home/julien/projet_CIL4SYS/NOTEBOOKS/issy.osm'\n",
    "net_params = NetParams(inflows=inflow, osm_path=path_file) \n",
    "\n",
    "# NETWORK\n",
    "network = IssyOSMNetwork\n",
    "\n",
    "# INITIAL CONFIG\n",
    "initial_config = InitialConfig(spacing=\"uniform\",edges_distribution=EDGES_DISTRIBUTION)\n",
    "\n",
    "\n",
    "flow_params = dict( exp_tag   = \"ISSY_traffic\", \n",
    "                    env_name  = IssyEnv1,  \n",
    "                    network   = IssyOSMNetwork,\n",
    "                    simulator = 'traci',\n",
    "                    sim       = sumo_params,\n",
    "                    env       = env_params,\n",
    "                    net       = net_params,\n",
    "                    veh       = vehicles,\n",
    "                    initial   = initial_config)"
   ]
  },
  {
   "cell_type": "markdown",
   "metadata": {},
   "source": [
    "# Setup RLlib library"
   ]
  },
  {
   "cell_type": "markdown",
   "metadata": {},
   "source": [
    "Configures RLlib DQN algorithm to be used to train the RL model."
   ]
  },
  {
   "cell_type": "code",
   "execution_count": 10,
   "metadata": {
    "ExecuteTime": {
     "end_time": "2020-04-16T09:03:04.772547Z",
     "start_time": "2020-04-16T09:03:04.732727Z"
    }
   },
   "outputs": [],
   "source": [
    "def setup_DQN_exp():\n",
    "\n",
    "    alg_run   = 'DQN'\n",
    "    agent_cls = get_agent_class(alg_run)\n",
    "    config    = agent_cls._default_config.copy()\n",
    "    config['num_workers']      = n_cpus\n",
    "    config['train_batch_size'] = horizon * rollouts\n",
    "    config['gamma']            = discount_rate\n",
    "    config['clip_actions']     = False  # FIXME(ev) temporary ray bug\n",
    "    config['horizon']          = horizon\n",
    "    config[\"hiddens\"]          = [256]\n",
    "    config['model'].update({'fcnet_hiddens': [32, 32]})\n",
    "\n",
    "    # save the flow params for replay\n",
    "    flow_json = json.dumps(flow_params, cls=FlowParamsEncoder, sort_keys=True, indent=4)\n",
    "    config['env_config']['flow_params'] = flow_json\n",
    "    config['env_config']['run'] = alg_run\n",
    "\n",
    "    create_env, gym_name = make_create_env(params=flow_params, version=0)\n",
    "\n",
    "    # Register as rllib env\n",
    "    register_env(gym_name, create_env)\n",
    "    \n",
    "    return alg_run, gym_name, config"
   ]
  },
  {
   "cell_type": "markdown",
   "metadata": {},
   "source": [
    "Configures RLlib PPO algorithm to be used to train the RL model.\n",
    "\n",
    "See: https://ray.readthedocs.io/en/latest/rllib-algorithms.html#proximal-policy-optimization-ppo"
   ]
  },
  {
   "cell_type": "code",
   "execution_count": 11,
   "metadata": {
    "ExecuteTime": {
     "end_time": "2020-04-16T09:03:04.809686Z",
     "start_time": "2020-04-16T09:03:04.776946Z"
    }
   },
   "outputs": [],
   "source": [
    "def setup_PPO_exp():\n",
    "\n",
    "    alg_run   = 'PPO'\n",
    "    agent_cls = get_agent_class(alg_run)\n",
    "    config    = agent_cls._default_config.copy()\n",
    "    config['num_workers']      = n_cpus\n",
    "    config['train_batch_size'] = horizon * rollouts\n",
    "    config['gamma']            = discount_rate\n",
    "    config['use_gae']          = True\n",
    "    config['lambda']           = 0.97\n",
    "    config['kl_target']        = 0.02\n",
    "    config['num_sgd_iter']     = 10\n",
    "    config['clip_actions']     = False  # FIXME(ev) temporary ray bug\n",
    "    config['horizon']          = horizon\n",
    "    config['model'].update({'fcnet_hiddens': [32, 32]})\n",
    "\n",
    "    # save the flow params for replay\n",
    "    flow_json = json.dumps(flow_params,cls=FlowParamsEncoder,sort_keys=True,indent=4)\n",
    "    config['env_config']['flow_params'] = flow_json\n",
    "    config['env_config']['run'] = alg_run\n",
    "\n",
    "    create_env, gym_name = make_create_env(params=flow_params,version=0)\n",
    "\n",
    "    # Register as rllib env\n",
    "    register_env(gym_name, create_env)\n",
    "    \n",
    "    return alg_run, gym_name, config"
   ]
  },
  {
   "cell_type": "markdown",
   "metadata": {},
   "source": [
    "# Run Experiment"
   ]
  },
  {
   "cell_type": "code",
   "execution_count": 12,
   "metadata": {
    "ExecuteTime": {
     "end_time": "2020-04-16T09:03:05.549867Z",
     "start_time": "2020-04-16T09:03:04.812363Z"
    }
   },
   "outputs": [
    {
     "name": "stderr",
     "output_type": "stream",
     "text": [
      "2020-04-16 11:03:04,871\tINFO node.py:498 -- Process STDOUT and STDERR is being redirected to /tmp/ray/session_2020-04-16_11-03-04_855235_28756/logs.\n",
      "2020-04-16 11:03:04,999\tINFO services.py:409 -- Waiting for redis server at 127.0.0.1:54746 to respond...\n",
      "2020-04-16 11:03:05,121\tINFO services.py:409 -- Waiting for redis server at 127.0.0.1:52638 to respond...\n",
      "2020-04-16 11:03:05,127\tINFO services.py:809 -- Starting Redis shard with 2.09 GB max memory.\n",
      "2020-04-16 11:03:05,190\tINFO node.py:512 -- Process STDOUT and STDERR is being redirected to /tmp/ray/session_2020-04-16_11-03-04_855235_28756/logs.\n",
      "2020-04-16 11:03:05,193\tINFO services.py:1475 -- Starting the Plasma object store with 3.14 GB memory using /dev/shm.\n"
     ]
    },
    {
     "data": {
      "text/plain": [
       "{'node_ip_address': '10.0.2.15',\n",
       " 'redis_address': '10.0.2.15:54746',\n",
       " 'object_store_address': '/tmp/ray/session_2020-04-16_11-03-04_855235_28756/sockets/plasma_store',\n",
       " 'raylet_socket_name': '/tmp/ray/session_2020-04-16_11-03-04_855235_28756/sockets/raylet',\n",
       " 'webui_url': None,\n",
       " 'session_dir': '/tmp/ray/session_2020-04-16_11-03-04_855235_28756'}"
      ]
     },
     "execution_count": 12,
     "metadata": {},
     "output_type": "execute_result"
    }
   ],
   "source": [
    "alg_run, gym_name, config = setup_DQN_exp()\n",
    "\n",
    "ray.init(num_cpus=n_cpus + 1)"
   ]
  },
  {
   "cell_type": "code",
   "execution_count": 14,
   "metadata": {
    "ExecuteTime": {
     "end_time": "2020-04-16T09:03:22.606302Z",
     "start_time": "2020-04-16T09:03:21.814356Z"
    },
    "pixiedust": {
     "displayParams": {}
    },
    "scrolled": true
   },
   "outputs": [
    {
     "ename": "TuneError",
     "evalue": "Improper argument from JSON: {'config': {'monitor': False, 'log_level': 'INFO', 'callbacks': {'on_episode_start': None, 'on_episode_step': None, 'on_episode_end': None, 'on_sample_end': None, 'on_train_result': None, 'on_postprocess_traj': None}, 'ignore_worker_failures': False, 'log_sys_usage': True, 'model': {'conv_filters': None, 'conv_activation': 'relu', 'fcnet_activation': 'tanh', 'fcnet_hiddens': [32, 32], 'free_log_std': False, 'no_final_linear': False, 'vf_share_layers': True, 'use_lstm': False, 'max_seq_len': 20, 'lstm_cell_size': 256, 'lstm_use_prev_action_reward': False, 'state_shape': None, 'framestack': True, 'dim': 84, 'grayscale': False, 'zero_mean': True, 'custom_preprocessor': None, 'custom_model': None, 'custom_options': {}}, 'optimizer': {}, 'gamma': 0.999, 'horizon': 100, 'soft_horizon': False, 'env_config': {'flow_params': '{\\n    \"env\": {\\n        \"additional_params\": {\\n            \"action_spec\": {\\n                \"30677810\": [\\n                    \"GGrr\",\\n                    \"rrGG\"\\n                ],\\n                \"30677963\": [\\n                    \"GGGGrrrGGGG\",\\n                    \"rrrrGGGrrrr\"\\n                ],\\n                \"30763263\": [\\n                    \"GGGGGGGGGG\",\\n                    \"rrrrrrrrrr\"\\n                ]\\n            },\\n            \"algorithm\": \"DQN\",\\n            \"beta\": 12,\\n            \"sim_step\": 0.1,\\n            \"tl_constraint_max\": 600,\\n            \"tl_constraint_min\": 100\\n        },\\n        \"clip_actions\": true,\\n        \"evaluate\": false,\\n        \"horizon\": 100,\\n        \"sims_per_step\": 1,\\n        \"warmup_steps\": 1\\n    },\\n    \"env_name\": \"IssyEnv.IssyEnv1\",\\n    \"exp_tag\": \"ISSY_traffic\",\\n    \"initial\": {\\n        \"additional_params\": {},\\n        \"bunching\": 0,\\n        \"edges_distribution\": [\\n            \"-100822066\",\\n            \"4794817\",\\n            \"4783299#0\",\\n            \"155558218\"\\n        ],\\n        \"lanes_distribution\": Infinity,\\n        \"min_gap\": 0,\\n        \"perturbation\": 0.0,\\n        \"shuffle\": false,\\n        \"spacing\": \"uniform\",\\n        \"x0\": 0\\n    },\\n    \"net\": {\\n        \"additional_params\": {},\\n        \"inflows\": {\\n            \"_InFlows__flows\": [\\n                {\\n                    \"begin\": 1,\\n                    \"departLane\": \"random\",\\n                    \"departSpeed\": 7,\\n                    \"edge\": \"4794817\",\\n                    \"end\": 86400,\\n                    \"name\": \"flow_0\",\\n                    \"probability\": 0.3,\\n                    \"vtype\": \"human\"\\n                },\\n                {\\n                    \"begin\": 1,\\n                    \"departLane\": \"random\",\\n                    \"departSpeed\": 7,\\n                    \"edge\": \"4783299#0\",\\n                    \"end\": 86400,\\n                    \"name\": \"flow_1\",\\n                    \"probability\": 0.2,\\n                    \"vtype\": \"human\"\\n                },\\n                {\\n                    \"begin\": 1,\\n                    \"departLane\": \"random\",\\n                    \"departSpeed\": 7,\\n                    \"edge\": \"-100822066\",\\n                    \"end\": 86400,\\n                    \"name\": \"flow_2\",\\n                    \"probability\": 0.25,\\n                    \"vtype\": \"human\"\\n                },\\n                {\\n                    \"begin\": 1,\\n                    \"color\": \"blue\",\\n                    \"departLane\": \"random\",\\n                    \"departSpeed\": 7,\\n                    \"edge\": \"-100822066\",\\n                    \"end\": 86400,\\n                    \"name\": \"flow_3\",\\n                    \"probability\": 0.05,\\n                    \"vtype\": \"rl\"\\n                },\\n                {\\n                    \"begin\": 1,\\n                    \"departLane\": \"random\",\\n                    \"departSpeed\": 7,\\n                    \"edge\": \"155558218\",\\n                    \"end\": 86400,\\n                    \"name\": \"flow_4\",\\n                    \"probability\": 0.2,\\n                    \"vtype\": \"human\"\\n                }\\n            ]\\n        },\\n        \"osm_path\": \"/home/julien/projet_CIL4SYS/NOTEBOOKS/issy.osm\",\\n        \"template\": null\\n    },\\n    \"network\": \"__main__.IssyOSMNetwork\",\\n    \"sim\": {\\n        \"emission_path\": null,\\n        \"force_color_update\": false,\\n        \"lateral_resolution\": null,\\n        \"no_step_log\": false,\\n        \"num_clients\": 1,\\n        \"overtake_right\": false,\\n        \"port\": null,\\n        \"print_warnings\": false,\\n        \"pxpm\": 2,\\n        \"render\": false,\\n        \"restart_instance\": true,\\n        \"save_render\": false,\\n        \"seed\": null,\\n        \"show_radius\": false,\\n        \"sight_radius\": 25,\\n        \"sim_step\": 0.1,\\n        \"teleport_time\": -1\\n    },\\n    \"simulator\": \"traci\",\\n    \"veh\": [\\n        {\\n            \"acceleration_controller\": [\\n                \"IDMController\",\\n                {}\\n            ],\\n            \"car_following_params\": {\\n                \"controller_params\": {\\n                    \"accel\": 2.6,\\n                    \"carFollowModel\": \"IDM\",\\n                    \"decel\": 4.5,\\n                    \"impatience\": 0.5,\\n                    \"maxSpeed\": 30,\\n                    \"minGap\": 2.5,\\n                    \"sigma\": 0.5,\\n                    \"speedDev\": 0.1,\\n                    \"speedFactor\": 1.0,\\n                    \"tau\": 1.0\\n                },\\n                \"speed_mode\": 25\\n            },\\n            \"initial_speed\": 0,\\n            \"lane_change_controller\": [\\n                \"SimLaneChangeController\",\\n                {}\\n            ],\\n            \"lane_change_params\": {\\n                \"controller_params\": {\\n                    \"laneChangeModel\": \"LC2013\",\\n                    \"lcCooperative\": \"1.0\",\\n                    \"lcKeepRight\": \"1.0\",\\n                    \"lcSpeedGain\": \"1.0\",\\n                    \"lcStrategic\": \"1.0\"\\n                },\\n                \"lane_change_mode\": 512\\n            },\\n            \"num_vehicles\": 10,\\n            \"routing_controller\": null,\\n            \"veh_id\": \"human\"\\n        }\\n    ]\\n}', 'run': 'DQN'}, 'env': 'IssyEnv1-v0', 'clip_rewards': None, 'clip_actions': False, 'preprocessor_pref': 'deepmind', 'lr': 0.0005, 'evaluation_interval': None, 'evaluation_num_episodes': 10, 'evaluation_config': {'exploration_fraction': 0, 'exploration_final_eps': 0}, 'num_workers': 2, 'num_gpus': 0, 'num_cpus_per_worker': 1, 'num_gpus_per_worker': 0, 'custom_resources_per_worker': {}, 'num_cpus_for_driver': 1, 'num_envs_per_worker': 1, 'sample_batch_size': 4, 'train_batch_size': 1000, 'batch_mode': 'truncate_episodes', 'sample_async': False, 'observation_filter': 'NoFilter', 'synchronize_filters': True, 'tf_session_args': {'intra_op_parallelism_threads': 2, 'inter_op_parallelism_threads': 2, 'gpu_options': {'allow_growth': True}, 'log_device_placement': False, 'device_count': {'CPU': 1}, 'allow_soft_placement': True}, 'local_tf_session_args': {'intra_op_parallelism_threads': 8, 'inter_op_parallelism_threads': 8}, 'compress_observations': True, 'collect_metrics_timeout': 180, 'metrics_smoothing_episodes': 100, 'remote_worker_envs': False, 'remote_env_batch_wait_ms': 0, 'min_iter_time_s': 1, 'timesteps_per_iteration': 1000, 'seed': None, 'input': 'sampler', 'input_evaluation': ['is', 'wis'], 'postprocess_inputs': False, 'shuffle_buffer_size': 0, 'output': None, 'output_compress_columns': ['obs', 'new_obs'], 'output_max_file_size': 67108864, 'multiagent': {'policies': {}, 'policy_mapping_fn': None, 'policies_to_train': None}, 'num_atoms': 1, 'v_min': -10.0, 'v_max': 10.0, 'noisy': False, 'sigma0': 0.5, 'dueling': True, 'double_q': True, 'hiddens': [256], 'n_step': 1, 'schedule_max_timesteps': 100000, 'exploration_fraction': 0.1, 'exploration_final_eps': 0.02, 'target_network_update_freq': 500, 'soft_q': False, 'softmax_temp': 1.0, 'parameter_noise': False, 'buffer_size': 50000, 'prioritized_replay': True, 'prioritized_replay_alpha': 0.6, 'prioritized_replay_beta': 0.4, 'beta_annealing_fraction': 0.2, 'final_prioritized_replay_beta': 0.4, 'prioritized_replay_eps': 1e-06, 'lr_schedule': None, 'adam_epsilon': 1e-08, 'grad_norm_clipping': 40, 'learning_starts': 1000, 'per_worker_exploration': False, 'worker_side_prioritization': False}, 'checkpoint_freq': 2, 'checkpoint_at_end': True, 'max_failures': 10, 'stop': {'training_iteration': 6}, 'verbose': 0, 'name': 'name_test'}.",
     "output_type": "error",
     "traceback": [
      "\u001b[0;31m---------------------------------------------------------------------------\u001b[0m",
      "\u001b[0;31mTypeError\u001b[0m                                 Traceback (most recent call last)",
      "\u001b[0;32m~/anaconda3/envs/flow/lib/python3.6/site-packages/ray/tune/experiment.py\u001b[0m in \u001b[0;36mfrom_json\u001b[0;34m(cls, name, spec)\u001b[0m\n\u001b[1;32m    137\u001b[0m         \u001b[0;32mtry\u001b[0m\u001b[0;34m:\u001b[0m\u001b[0;34m\u001b[0m\u001b[0;34m\u001b[0m\u001b[0m\n\u001b[0;32m--> 138\u001b[0;31m             \u001b[0mexp\u001b[0m \u001b[0;34m=\u001b[0m \u001b[0mcls\u001b[0m\u001b[0;34m(\u001b[0m\u001b[0mname\u001b[0m\u001b[0;34m,\u001b[0m \u001b[0mrun_value\u001b[0m\u001b[0;34m,\u001b[0m \u001b[0;34m**\u001b[0m\u001b[0mspec\u001b[0m\u001b[0;34m)\u001b[0m\u001b[0;34m\u001b[0m\u001b[0;34m\u001b[0m\u001b[0m\n\u001b[0m\u001b[1;32m    139\u001b[0m         \u001b[0;32mexcept\u001b[0m \u001b[0mTypeError\u001b[0m\u001b[0;34m:\u001b[0m\u001b[0;34m\u001b[0m\u001b[0;34m\u001b[0m\u001b[0m\n",
      "\u001b[0;31mTypeError\u001b[0m: __init__() got an unexpected keyword argument 'verbose'",
      "\nDuring handling of the above exception, another exception occurred:\n",
      "\u001b[0;31mTuneError\u001b[0m                                 Traceback (most recent call last)",
      "\u001b[0;32m<ipython-input-14-afa5660ff846>\u001b[0m in \u001b[0;36m<module>\u001b[0;34m\u001b[0m\n\u001b[1;32m     10\u001b[0m \u001b[0;34m\u001b[0m\u001b[0m\n\u001b[1;32m     11\u001b[0m \u001b[0;34m\u001b[0m\u001b[0m\n\u001b[0;32m---> 12\u001b[0;31m \u001b[0mtrials\u001b[0m \u001b[0;34m=\u001b[0m \u001b[0mrun_experiments\u001b[0m\u001b[0;34m(\u001b[0m\u001b[0;34m{\u001b[0m\u001b[0mflow_params\u001b[0m\u001b[0;34m[\u001b[0m\u001b[0;34m\"exp_tag\"\u001b[0m\u001b[0;34m]\u001b[0m\u001b[0;34m:\u001b[0m \u001b[0mexp_tag\u001b[0m\u001b[0;34m}\u001b[0m\u001b[0;34m)\u001b[0m\u001b[0;34m\u001b[0m\u001b[0;34m\u001b[0m\u001b[0m\n\u001b[0m",
      "\u001b[0;32m~/anaconda3/envs/flow/lib/python3.6/site-packages/ray/tune/tune.py\u001b[0m in \u001b[0;36mrun_experiments\u001b[0;34m(experiments, search_alg, scheduler, with_server, server_port, verbose, resume, queue_trials, reuse_actors, trial_executor, raise_on_failed_trial)\u001b[0m\n\u001b[1;32m    306\u001b[0m     \u001b[0;31m# because it schematize the experiments\u001b[0m\u001b[0;34m\u001b[0m\u001b[0;34m\u001b[0m\u001b[0;34m\u001b[0m\u001b[0m\n\u001b[1;32m    307\u001b[0m     \u001b[0;31m# and it conducts the implicit registration.\u001b[0m\u001b[0;34m\u001b[0m\u001b[0;34m\u001b[0m\u001b[0;34m\u001b[0m\u001b[0m\n\u001b[0;32m--> 308\u001b[0;31m     \u001b[0mexperiments\u001b[0m \u001b[0;34m=\u001b[0m \u001b[0mconvert_to_experiment_list\u001b[0m\u001b[0;34m(\u001b[0m\u001b[0mexperiments\u001b[0m\u001b[0;34m)\u001b[0m\u001b[0;34m\u001b[0m\u001b[0;34m\u001b[0m\u001b[0m\n\u001b[0m\u001b[1;32m    309\u001b[0m \u001b[0;34m\u001b[0m\u001b[0m\n\u001b[1;32m    310\u001b[0m     \u001b[0mtrials\u001b[0m \u001b[0;34m=\u001b[0m \u001b[0;34m[\u001b[0m\u001b[0;34m]\u001b[0m\u001b[0;34m\u001b[0m\u001b[0;34m\u001b[0m\u001b[0m\n",
      "\u001b[0;32m~/anaconda3/envs/flow/lib/python3.6/site-packages/ray/tune/experiment.py\u001b[0m in \u001b[0;36mconvert_to_experiment_list\u001b[0;34m(experiments)\u001b[0m\n\u001b[1;32m    214\u001b[0m         exp_list = [\n\u001b[1;32m    215\u001b[0m             \u001b[0mExperiment\u001b[0m\u001b[0;34m.\u001b[0m\u001b[0mfrom_json\u001b[0m\u001b[0;34m(\u001b[0m\u001b[0mname\u001b[0m\u001b[0;34m,\u001b[0m \u001b[0mspec\u001b[0m\u001b[0;34m)\u001b[0m\u001b[0;34m\u001b[0m\u001b[0;34m\u001b[0m\u001b[0m\n\u001b[0;32m--> 216\u001b[0;31m             \u001b[0;32mfor\u001b[0m \u001b[0mname\u001b[0m\u001b[0;34m,\u001b[0m \u001b[0mspec\u001b[0m \u001b[0;32min\u001b[0m \u001b[0mexperiments\u001b[0m\u001b[0;34m.\u001b[0m\u001b[0mitems\u001b[0m\u001b[0;34m(\u001b[0m\u001b[0;34m)\u001b[0m\u001b[0;34m\u001b[0m\u001b[0;34m\u001b[0m\u001b[0m\n\u001b[0m\u001b[1;32m    217\u001b[0m         ]\n\u001b[1;32m    218\u001b[0m \u001b[0;34m\u001b[0m\u001b[0m\n",
      "\u001b[0;32m~/anaconda3/envs/flow/lib/python3.6/site-packages/ray/tune/experiment.py\u001b[0m in \u001b[0;36m<listcomp>\u001b[0;34m(.0)\u001b[0m\n\u001b[1;32m    214\u001b[0m         exp_list = [\n\u001b[1;32m    215\u001b[0m             \u001b[0mExperiment\u001b[0m\u001b[0;34m.\u001b[0m\u001b[0mfrom_json\u001b[0m\u001b[0;34m(\u001b[0m\u001b[0mname\u001b[0m\u001b[0;34m,\u001b[0m \u001b[0mspec\u001b[0m\u001b[0;34m)\u001b[0m\u001b[0;34m\u001b[0m\u001b[0;34m\u001b[0m\u001b[0m\n\u001b[0;32m--> 216\u001b[0;31m             \u001b[0;32mfor\u001b[0m \u001b[0mname\u001b[0m\u001b[0;34m,\u001b[0m \u001b[0mspec\u001b[0m \u001b[0;32min\u001b[0m \u001b[0mexperiments\u001b[0m\u001b[0;34m.\u001b[0m\u001b[0mitems\u001b[0m\u001b[0;34m(\u001b[0m\u001b[0;34m)\u001b[0m\u001b[0;34m\u001b[0m\u001b[0;34m\u001b[0m\u001b[0m\n\u001b[0m\u001b[1;32m    217\u001b[0m         ]\n\u001b[1;32m    218\u001b[0m \u001b[0;34m\u001b[0m\u001b[0m\n",
      "\u001b[0;32m~/anaconda3/envs/flow/lib/python3.6/site-packages/ray/tune/experiment.py\u001b[0m in \u001b[0;36mfrom_json\u001b[0;34m(cls, name, spec)\u001b[0m\n\u001b[1;32m    138\u001b[0m             \u001b[0mexp\u001b[0m \u001b[0;34m=\u001b[0m \u001b[0mcls\u001b[0m\u001b[0;34m(\u001b[0m\u001b[0mname\u001b[0m\u001b[0;34m,\u001b[0m \u001b[0mrun_value\u001b[0m\u001b[0;34m,\u001b[0m \u001b[0;34m**\u001b[0m\u001b[0mspec\u001b[0m\u001b[0;34m)\u001b[0m\u001b[0;34m\u001b[0m\u001b[0;34m\u001b[0m\u001b[0m\n\u001b[1;32m    139\u001b[0m         \u001b[0;32mexcept\u001b[0m \u001b[0mTypeError\u001b[0m\u001b[0;34m:\u001b[0m\u001b[0;34m\u001b[0m\u001b[0;34m\u001b[0m\u001b[0m\n\u001b[0;32m--> 140\u001b[0;31m             \u001b[0;32mraise\u001b[0m \u001b[0mTuneError\u001b[0m\u001b[0;34m(\u001b[0m\u001b[0;34m\"Improper argument from JSON: {}.\"\u001b[0m\u001b[0;34m.\u001b[0m\u001b[0mformat\u001b[0m\u001b[0;34m(\u001b[0m\u001b[0mspec\u001b[0m\u001b[0;34m)\u001b[0m\u001b[0;34m)\u001b[0m\u001b[0;34m\u001b[0m\u001b[0;34m\u001b[0m\u001b[0m\n\u001b[0m\u001b[1;32m    141\u001b[0m         \u001b[0;32mreturn\u001b[0m \u001b[0mexp\u001b[0m\u001b[0;34m\u001b[0m\u001b[0;34m\u001b[0m\u001b[0m\n\u001b[1;32m    142\u001b[0m \u001b[0;34m\u001b[0m\u001b[0m\n",
      "\u001b[0;31mTuneError\u001b[0m: Improper argument from JSON: {'config': {'monitor': False, 'log_level': 'INFO', 'callbacks': {'on_episode_start': None, 'on_episode_step': None, 'on_episode_end': None, 'on_sample_end': None, 'on_train_result': None, 'on_postprocess_traj': None}, 'ignore_worker_failures': False, 'log_sys_usage': True, 'model': {'conv_filters': None, 'conv_activation': 'relu', 'fcnet_activation': 'tanh', 'fcnet_hiddens': [32, 32], 'free_log_std': False, 'no_final_linear': False, 'vf_share_layers': True, 'use_lstm': False, 'max_seq_len': 20, 'lstm_cell_size': 256, 'lstm_use_prev_action_reward': False, 'state_shape': None, 'framestack': True, 'dim': 84, 'grayscale': False, 'zero_mean': True, 'custom_preprocessor': None, 'custom_model': None, 'custom_options': {}}, 'optimizer': {}, 'gamma': 0.999, 'horizon': 100, 'soft_horizon': False, 'env_config': {'flow_params': '{\\n    \"env\": {\\n        \"additional_params\": {\\n            \"action_spec\": {\\n                \"30677810\": [\\n                    \"GGrr\",\\n                    \"rrGG\"\\n                ],\\n                \"30677963\": [\\n                    \"GGGGrrrGGGG\",\\n                    \"rrrrGGGrrrr\"\\n                ],\\n                \"30763263\": [\\n                    \"GGGGGGGGGG\",\\n                    \"rrrrrrrrrr\"\\n                ]\\n            },\\n            \"algorithm\": \"DQN\",\\n            \"beta\": 12,\\n            \"sim_step\": 0.1,\\n            \"tl_constraint_max\": 600,\\n            \"tl_constraint_min\": 100\\n        },\\n        \"clip_actions\": true,\\n        \"evaluate\": false,\\n        \"horizon\": 100,\\n        \"sims_per_step\": 1,\\n        \"warmup_steps\": 1\\n    },\\n    \"env_name\": \"IssyEnv.IssyEnv1\",\\n    \"exp_tag\": \"ISSY_traffic\",\\n    \"initial\": {\\n        \"additional_params\": {},\\n        \"bunching\": 0,\\n        \"edges_distribution\": [\\n            \"-100822066\",\\n            \"4794817\",\\n            \"4783299#0\",\\n            \"155558218\"\\n        ],\\n        \"lanes_distribution\": Infinity,\\n        \"min_gap\": 0,\\n        \"perturbation\": 0.0,\\n        \"shuffle\": false,\\n        \"spacing\": \"uniform\",\\n        \"x0\": 0\\n    },\\n    \"net\": {\\n        \"additional_params\": {},\\n        \"inflows\": {\\n            \"_InFlows__flows\": [\\n                {\\n                    \"begin\": 1,\\n                    \"departLane\": \"random\",\\n                    \"departSpeed\": 7,\\n                    \"edge\": \"4794817\",\\n                    \"end\": 86400,\\n                    \"name\": \"flow_0\",\\n                    \"probability\": 0.3,\\n                    \"vtype\": \"human\"\\n                },\\n                {\\n                    \"begin\": 1,\\n                    \"departLane\": \"random\",\\n                    \"departSpeed\": 7,\\n                    \"edge\": \"4783299#0\",\\n                    \"end\": 86400,\\n                    \"name\": \"flow_1\",\\n                    \"probability\": 0.2,\\n                    \"vtype\": \"human\"\\n                },\\n                {\\n                    \"begin\": 1,\\n                    \"departLane\": \"random\",\\n                    \"departSpeed\": 7,\\n                    \"edge\": \"-100822066\",\\n                    \"end\": 86400,\\n                    \"name\": \"flow_2\",\\n                    \"probability\": 0.25,\\n                    \"vtype\": \"human\"\\n                },\\n                {\\n                    \"begin\": 1,\\n                    \"color\": \"blue\",\\n                    \"departLane\": \"random\",\\n                    \"departSpeed\": 7,\\n                    \"edge\": \"-100822066\",\\n                    \"end\": 86400,\\n                    \"name\": \"flow_3\",\\n                    \"probability\": 0.05,\\n                    \"vtype\": \"rl\"\\n                },\\n                {\\n                    \"begin\": 1,\\n                    \"departLane\": \"random\",\\n                    \"departSpeed\": 7,\\n                    \"edge\": \"155558218\",\\n                    \"end\": 86400,\\n                    \"name\": \"flow_4\",\\n                    \"probability\": 0.2,\\n                    \"vtype\": \"human\"\\n                }\\n            ]\\n        },\\n        \"osm_path\": \"/home/julien/projet_CIL4SYS/NOTEBOOKS/issy.osm\",\\n        \"template\": null\\n    },\\n    \"network\": \"__main__.IssyOSMNetwork\",\\n    \"sim\": {\\n        \"emission_path\": null,\\n        \"force_color_update\": false,\\n        \"lateral_resolution\": null,\\n        \"no_step_log\": false,\\n        \"num_clients\": 1,\\n        \"overtake_right\": false,\\n        \"port\": null,\\n        \"print_warnings\": false,\\n        \"pxpm\": 2,\\n        \"render\": false,\\n        \"restart_instance\": true,\\n        \"save_render\": false,\\n        \"seed\": null,\\n        \"show_radius\": false,\\n        \"sight_radius\": 25,\\n        \"sim_step\": 0.1,\\n        \"teleport_time\": -1\\n    },\\n    \"simulator\": \"traci\",\\n    \"veh\": [\\n        {\\n            \"acceleration_controller\": [\\n                \"IDMController\",\\n                {}\\n            ],\\n            \"car_following_params\": {\\n                \"controller_params\": {\\n                    \"accel\": 2.6,\\n                    \"carFollowModel\": \"IDM\",\\n                    \"decel\": 4.5,\\n                    \"impatience\": 0.5,\\n                    \"maxSpeed\": 30,\\n                    \"minGap\": 2.5,\\n                    \"sigma\": 0.5,\\n                    \"speedDev\": 0.1,\\n                    \"speedFactor\": 1.0,\\n                    \"tau\": 1.0\\n                },\\n                \"speed_mode\": 25\\n            },\\n            \"initial_speed\": 0,\\n            \"lane_change_controller\": [\\n                \"SimLaneChangeController\",\\n                {}\\n            ],\\n            \"lane_change_params\": {\\n                \"controller_params\": {\\n                    \"laneChangeModel\": \"LC2013\",\\n                    \"lcCooperative\": \"1.0\",\\n                    \"lcKeepRight\": \"1.0\",\\n                    \"lcSpeedGain\": \"1.0\",\\n                    \"lcStrategic\": \"1.0\"\\n                },\\n                \"lane_change_mode\": 512\\n            },\\n            \"num_vehicles\": 10,\\n            \"routing_controller\": null,\\n            \"veh_id\": \"human\"\\n        }\\n    ]\\n}', 'run': 'DQN'}, 'env': 'IssyEnv1-v0', 'clip_rewards': None, 'clip_actions': False, 'preprocessor_pref': 'deepmind', 'lr': 0.0005, 'evaluation_interval': None, 'evaluation_num_episodes': 10, 'evaluation_config': {'exploration_fraction': 0, 'exploration_final_eps': 0}, 'num_workers': 2, 'num_gpus': 0, 'num_cpus_per_worker': 1, 'num_gpus_per_worker': 0, 'custom_resources_per_worker': {}, 'num_cpus_for_driver': 1, 'num_envs_per_worker': 1, 'sample_batch_size': 4, 'train_batch_size': 1000, 'batch_mode': 'truncate_episodes', 'sample_async': False, 'observation_filter': 'NoFilter', 'synchronize_filters': True, 'tf_session_args': {'intra_op_parallelism_threads': 2, 'inter_op_parallelism_threads': 2, 'gpu_options': {'allow_growth': True}, 'log_device_placement': False, 'device_count': {'CPU': 1}, 'allow_soft_placement': True}, 'local_tf_session_args': {'intra_op_parallelism_threads': 8, 'inter_op_parallelism_threads': 8}, 'compress_observations': True, 'collect_metrics_timeout': 180, 'metrics_smoothing_episodes': 100, 'remote_worker_envs': False, 'remote_env_batch_wait_ms': 0, 'min_iter_time_s': 1, 'timesteps_per_iteration': 1000, 'seed': None, 'input': 'sampler', 'input_evaluation': ['is', 'wis'], 'postprocess_inputs': False, 'shuffle_buffer_size': 0, 'output': None, 'output_compress_columns': ['obs', 'new_obs'], 'output_max_file_size': 67108864, 'multiagent': {'policies': {}, 'policy_mapping_fn': None, 'policies_to_train': None}, 'num_atoms': 1, 'v_min': -10.0, 'v_max': 10.0, 'noisy': False, 'sigma0': 0.5, 'dueling': True, 'double_q': True, 'hiddens': [256], 'n_step': 1, 'schedule_max_timesteps': 100000, 'exploration_fraction': 0.1, 'exploration_final_eps': 0.02, 'target_network_update_freq': 500, 'soft_q': False, 'softmax_temp': 1.0, 'parameter_noise': False, 'buffer_size': 50000, 'prioritized_replay': True, 'prioritized_replay_alpha': 0.6, 'prioritized_replay_beta': 0.4, 'beta_annealing_fraction': 0.2, 'final_prioritized_replay_beta': 0.4, 'prioritized_replay_eps': 1e-06, 'lr_schedule': None, 'adam_epsilon': 1e-08, 'grad_norm_clipping': 40, 'learning_starts': 1000, 'per_worker_exploration': False, 'worker_side_prioritization': False}, 'checkpoint_freq': 2, 'checkpoint_at_end': True, 'max_failures': 10, 'stop': {'training_iteration': 6}, 'verbose': 0, 'name': 'name_test'}."
     ]
    }
   ],
   "source": [
    "exp_tag = {\"run\": alg_run,\n",
    "           \"env\": gym_name,\n",
    "           \"config\": {**config},\n",
    "           \"checkpoint_freq\": 2,\n",
    "           \"checkpoint_at_end\": True,\n",
    "           \"max_failures\": 10,\n",
    "           \"stop\": {\"training_iteration\": 6},\n",
    "           \"verbose\": 0,\n",
    "           \"name\": \"name_test\"}\n",
    "\n",
    "\n",
    "trials = run_experiments({flow_params[\"exp_tag\"]: exp_tag})"
   ]
  },
  {
   "cell_type": "code",
   "execution_count": null,
   "metadata": {
    "ExecuteTime": {
     "end_time": "2020-04-16T09:03:05.646088Z",
     "start_time": "2020-04-16T09:02:59.800Z"
    }
   },
   "outputs": [],
   "source": [
    "%run ../visualisation/plot_ray_results.py ~/ray_results/ISSY_traffic/DQN_IssyEnv1-v0_0_2020-04-09_14-19-28ex9mlxie/progress.csv episode_reward_mean episode_reward_min episode_reward_max"
   ]
  },
  {
   "cell_type": "code",
   "execution_count": null,
   "metadata": {
    "ExecuteTime": {
     "end_time": "2020-04-16T09:03:05.653669Z",
     "start_time": "2020-04-16T09:02:59.808Z"
    }
   },
   "outputs": [],
   "source": [
    "gym_name"
   ]
  },
  {
   "cell_type": "code",
   "execution_count": null,
   "metadata": {},
   "outputs": [],
   "source": []
  }
 ],
 "metadata": {
  "kernelspec": {
   "display_name": "Python 3",
   "language": "python",
   "name": "python3"
  },
  "language_info": {
   "codemirror_mode": {
    "name": "ipython",
    "version": 3
   },
   "file_extension": ".py",
   "mimetype": "text/x-python",
   "name": "python",
   "nbconvert_exporter": "python",
   "pygments_lexer": "ipython3",
   "version": "3.6.8"
  },
  "toc": {
   "base_numbering": 1,
   "nav_menu": {},
   "number_sections": true,
   "sideBar": true,
   "skip_h1_title": false,
   "title_cell": "Table of Contents",
   "title_sidebar": "Contents",
   "toc_cell": false,
   "toc_position": {},
   "toc_section_display": true,
   "toc_window_display": false
  },
  "varInspector": {
   "cols": {
    "lenName": 16,
    "lenType": 16,
    "lenVar": 40
   },
   "kernels_config": {
    "python": {
     "delete_cmd_postfix": "",
     "delete_cmd_prefix": "del ",
     "library": "var_list.py",
     "varRefreshCmd": "print(var_dic_list())"
    },
    "r": {
     "delete_cmd_postfix": ") ",
     "delete_cmd_prefix": "rm(",
     "library": "var_list.r",
     "varRefreshCmd": "cat(var_dic_list()) "
    }
   },
   "types_to_exclude": [
    "module",
    "function",
    "builtin_function_or_method",
    "instance",
    "_Feature"
   ],
   "window_display": false
  }
 },
 "nbformat": 4,
 "nbformat_minor": 2
}
