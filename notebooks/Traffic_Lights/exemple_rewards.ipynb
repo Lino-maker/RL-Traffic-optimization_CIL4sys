{
 "cells": [
  {
   "cell_type": "markdown",
   "metadata": {
    "ExecuteTime": {
     "end_time": "2020-05-04T14:49:07.711173Z",
     "start_time": "2020-05-04T14:49:07.684752Z"
    }
   },
   "source": [
    "```python\n",
    "def desired_velocity(env, fail=False, edge_list=None):\n",
    "    \"\"\"Encourage proximity to a desired velocity.\n",
    "\n",
    "    This function measures the deviation of a system of vehicles from a\n",
    "    user-specified desired velocity peaking when all vehicles in the ring\n",
    "    are set to this desired velocity. Moreover, in order to ensure that the\n",
    "    reward function naturally punishing the early termination of rollouts due\n",
    "    to collisions or other failures, the function is formulated as a mapping\n",
    "```\n",
    "$$\\mathcal{S} \\times \\mathcal{A} \\rightarrow \\mathbb{R}_{\\geq 0}.$$\n",
    "    \n",
    "```python\n",
    "    \"\"\"This is done by subtracting the deviation of the system from the\n",
    "    desired velocity from the peak allowable deviation from the desired\n",
    "    velocity. Additionally, since the velocity of vehicles are\n",
    "    unbounded above, the reward is bounded below by zero,\n",
    "    to ensure nonnegativity.\"\"\"\n",
    "\n",
    "def average_velocity(env, fail=False):\n",
    "    \"\"\"Encourage proximity to an average velocity.\n",
    "\n",
    "    This reward function returns the average velocity of all\n",
    "    vehicles in the system.\"\"\"\n",
    "    \n",
    "def rl_forward_progress(env, gain=0.1):\n",
    "    \"\"\"Rewared function used to reward the RL vehicles for travelling forward.\"\"\"\n",
    "    \n",
    "def boolean_action_penalty(discrete_actions, gain=1.0):\n",
    "    \"\"\"Penalize boolean actions that indicate a switch.\"\"\"\n",
    "    \n",
    "    \n",
    "def min_delay(env):\n",
    "    \"\"\"Reward function used to encourage minimization of total delay.\n",
    "\n",
    "    This function measures the deviation of a system of vehicles from all the\n",
    "    vehicles smoothly travelling at a fixed speed to their destinations.\"\"\"\n",
    "    \n",
    "def avg_delay_specified_vehicles(env, veh_ids):\n",
    "    \"\"\"Calculate the average delay for a set of vehicles in the system.\"\"\"\n",
    "    \n",
    "def min_delay_unscaled(env):\n",
    "    \"\"\"Return the average delay for all vehicles in the system.\"\"\"\n",
    "    \n",
    "def penalize_standstill(env, gain=1):\n",
    "    \"\"\"Reward function that penalizes vehicle standstill.\n",
    "\n",
    "    Is it better for this to be:\n",
    "        a) penalize standstill in general?\n",
    "        b) multiplicative based on time that vel=0?\n",
    "     \"\"\"\n",
    "\n",
    "def penalize_near_standstill(env, thresh=0.3, gain=1):\n",
    "    \"\"\"Reward function which penalizes vehicles at a low velocity.\n",
    "\n",
    "    This reward function is used to penalize vehicles below a\n",
    "    specified threshold. This assists with discouraging RL from\n",
    "    gamifying a network, which can result in standstill behavior\n",
    "    or similarly bad, near-zero velocities.\n",
    "    \"\"\"\n",
    "    \n",
    "def penalize_headway_variance(vehicles, vids, normalization=1, penalty_gain=1,penalty_exponent=1):\n",
    "    \"\"\"Reward function used to train rl vehicles to encourage large headways.\"\"\"\n",
    "    \n",
    "def punish_rl_lane_changes(env, penalty=1):\n",
    "    \"\"\"Penalize an RL vehicle performing lane changes.\n",
    "\n",
    "    This reward function is meant to minimize the number of lane changes and RL\n",
    "    vehicle performs.\n",
    "    \"\"\"\n",
    "    \n",
    "```"
   ]
  },
  {
   "cell_type": "code",
   "execution_count": null,
   "metadata": {},
   "outputs": [],
   "source": []
  }
 ],
 "metadata": {
  "kernelspec": {
   "display_name": "Python 3",
   "language": "python",
   "name": "python3"
  },
  "language_info": {
   "codemirror_mode": {
    "name": "ipython",
    "version": 3
   },
   "file_extension": ".py",
   "mimetype": "text/x-python",
   "name": "python",
   "nbconvert_exporter": "python",
   "pygments_lexer": "ipython3",
   "version": "3.6.8"
  },
  "toc": {
   "base_numbering": 1,
   "nav_menu": {},
   "number_sections": true,
   "sideBar": true,
   "skip_h1_title": false,
   "title_cell": "Table of Contents",
   "title_sidebar": "Contents",
   "toc_cell": false,
   "toc_position": {},
   "toc_section_display": true,
   "toc_window_display": false
  }
 },
 "nbformat": 4,
 "nbformat_minor": 2
}
