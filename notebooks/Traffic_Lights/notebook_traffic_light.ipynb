{
 "cells": [
  {
   "cell_type": "markdown",
   "metadata": {},
   "source": [
    "# Train Traffic Lights Agents\n",
    "\n",
    "Utilise les fonctions de @Binetruy\n",
    "\n",
    "- crée un network à partir d'un fichier .osm et des trajectoires de véhiculess\n",
    "- ajoute un flux de voiture sur les routes\n",
    "- personnalise un Environnement pour le RL\n",
    "- integre l'environnement pour RLlib et execute la simulation\n"
   ]
  },
  {
   "cell_type": "code",
   "execution_count": 1,
   "metadata": {},
   "outputs": [
    {
     "name": "stderr",
     "output_type": "stream",
     "text": [
      "/home/lino/anaconda3/envs/flow/lib/python3.6/site-packages/tensorflow/python/framework/dtypes.py:523: FutureWarning: Passing (type, 1) or '1type' as a synonym of type is deprecated; in a future version of numpy, it will be understood as (type, (1,)) / '(1,)type'.\n",
      "  _np_qint8 = np.dtype([(\"qint8\", np.int8, 1)])\n",
      "/home/lino/anaconda3/envs/flow/lib/python3.6/site-packages/tensorflow/python/framework/dtypes.py:524: FutureWarning: Passing (type, 1) or '1type' as a synonym of type is deprecated; in a future version of numpy, it will be understood as (type, (1,)) / '(1,)type'.\n",
      "  _np_quint8 = np.dtype([(\"quint8\", np.uint8, 1)])\n",
      "/home/lino/anaconda3/envs/flow/lib/python3.6/site-packages/tensorflow/python/framework/dtypes.py:525: FutureWarning: Passing (type, 1) or '1type' as a synonym of type is deprecated; in a future version of numpy, it will be understood as (type, (1,)) / '(1,)type'.\n",
      "  _np_qint16 = np.dtype([(\"qint16\", np.int16, 1)])\n",
      "/home/lino/anaconda3/envs/flow/lib/python3.6/site-packages/tensorflow/python/framework/dtypes.py:526: FutureWarning: Passing (type, 1) or '1type' as a synonym of type is deprecated; in a future version of numpy, it will be understood as (type, (1,)) / '(1,)type'.\n",
      "  _np_quint16 = np.dtype([(\"quint16\", np.uint16, 1)])\n",
      "/home/lino/anaconda3/envs/flow/lib/python3.6/site-packages/tensorflow/python/framework/dtypes.py:527: FutureWarning: Passing (type, 1) or '1type' as a synonym of type is deprecated; in a future version of numpy, it will be understood as (type, (1,)) / '(1,)type'.\n",
      "  _np_qint32 = np.dtype([(\"qint32\", np.int32, 1)])\n",
      "/home/lino/anaconda3/envs/flow/lib/python3.6/site-packages/tensorflow/python/framework/dtypes.py:532: FutureWarning: Passing (type, 1) or '1type' as a synonym of type is deprecated; in a future version of numpy, it will be understood as (type, (1,)) / '(1,)type'.\n",
      "  np_resource = np.dtype([(\"resource\", np.ubyte, 1)])\n"
     ]
    }
   ],
   "source": [
    "from flow.core.params import VehicleParams\n",
    "from flow.core.params import NetParams, SumoCarFollowingParams, SumoLaneChangeParams\n",
    "from flow.core.params import InitialConfig\n",
    "from flow.core.params import EnvParams\n",
    "from flow.core.params import SumoParams\n",
    "from flow.controllers import RLController, IDMController\n",
    "from flow.networks.IssyOSMNetwork import IssyOSMNetwork\n",
    "from flow.core.params import InFlows\n",
    "from collections import OrderedDict\n",
    "import json\n",
    "import ray\n",
    "from ray.rllib.agents.registry import get_agent_class\n",
    "from ray.tune import run_experiments\n",
    "from ray.tune.registry import register_env\n",
    "from flow.utils.registry import make_create_env\n",
    "from flow.utils.rllib import FlowParamsEncoder\n",
    "from flow.core.params import VehicleParams, SumoCarFollowingParams"
   ]
  },
  {
   "cell_type": "markdown",
   "metadata": {},
   "source": [
    "## Importation du network d'Issy"
   ]
  },
  {
   "cell_type": "markdown",
   "metadata": {},
   "source": [
    "On vérifie si IssyOSMNetwork est bien importé."
   ]
  },
  {
   "cell_type": "code",
   "execution_count": 2,
   "metadata": {},
   "outputs": [
    {
     "name": "stdout",
     "output_type": "stream",
     "text": [
      "{'speed_limit': 50}\n",
      "['-100822066', '4794817', '4783299#0', '155558218']\n"
     ]
    }
   ],
   "source": [
    "from flow.networks.IssyOSMNetwork import ADDITIONAL_NET_PARAMS, EDGES_DISTRIBUTION\n",
    "\n",
    "print(ADDITIONAL_NET_PARAMS)\n",
    "print(EDGES_DISTRIBUTION)"
   ]
  },
  {
   "cell_type": "markdown",
   "metadata": {},
   "source": [
    "## Ajoute les flux de voiture"
   ]
  },
  {
   "cell_type": "markdown",
   "metadata": {},
   "source": [
    "`IDMController` : The Intelligent Driver Model is a car-following model specifying vehicle dynamics by a differential equation for acceleration $\\dot{v}$.\n",
    "\n",
    "`RLController` : a trainable autuonomous vehicle whose actions are dictated by an RL agent. "
   ]
  },
  {
   "cell_type": "code",
   "execution_count": 3,
   "metadata": {},
   "outputs": [],
   "source": [
    "vehicles = VehicleParams()\n",
    "vehicles.add(\"human\",\n",
    "             acceleration_controller=(IDMController, {}),\n",
    "             car_following_params=SumoCarFollowingParams(\n",
    "                 speed_mode=\"right_of_way\"),\n",
    "             lane_change_params=SumoLaneChangeParams(\n",
    "                 lane_change_mode=2722)\n",
    "             )\n",
    "vehicles.add(\"rl\",\n",
    "             acceleration_controller=(IDMController, {}),\n",
    "             car_following_params=SumoCarFollowingParams(\n",
    "                 speed_mode=\"right_of_way\"),\n",
    "             lane_change_params=SumoLaneChangeParams(\n",
    "                 lane_change_mode=2722),\n",
    "             color=\"cyan\")"
   ]
  },
  {
   "cell_type": "markdown",
   "metadata": {},
   "source": [
    "- `vehs_per_hour`: nombre de vehicule par heure, uniformément espacés. Par exemple, comme il y a $60 \\times 60 = 3600$ secondes dans une heure, le parametre $\\frac{3600}{5}=720$ va faire rentrer des vehicules dans le network toutes les $5$ secondes.\n",
    "\n",
    "- `probability`: c'est la probabilité qu'un véhicule entre dans le network toutes les secondes. Par exemple, si on la fixe à $0.2$, alors chaque seconde de la simulation un véhicule aura $\\frac{1}{5}$ chance d'entrer dans le network\n",
    "\n",
    "- `period`: C'est le temps en secondes entre 2 véhicules qui sont insérés. Par exemple, le fixer à $5$ ferait rentrer des véhicules dans le network toutes les $5$ secondes (ce qui équivaut à mettre `vehs_per_hour` à $720$).\n",
    "\n",
    "<font color='red'>\n",
    "$\\rightarrow$ Exactement 1 seul de ces 3 paramètres doit être configurer !\n",
    "</font>"
   ]
  },
  {
   "cell_type": "code",
   "execution_count": 4,
   "metadata": {},
   "outputs": [],
   "source": [
    "inflow = InFlows()\n",
    "\n",
    "inflow.add(veh_type      = \"human\",\n",
    "           edge          = \"4794817\",\n",
    "           probability   = 0.01, \n",
    "           depart_speed  = 7,\n",
    "           depart_lane   = 0)\n",
    "\n",
    "inflow.add(veh_type      = \"human\",\n",
    "           edge          = \"4783299#0\",\n",
    "           probability   = 0.2,\n",
    "           depart_speed  = 7,\n",
    "           depart_lane   = 0)\n",
    "\n",
    "inflow.add(veh_type       = \"rl\",\n",
    "           edge           = \"4783299#0\",\n",
    "           probability    = 0.05,\n",
    "           depart_speed   = 7,\n",
    "           depart_lane    = 0,\n",
    "           color          = \"blue\")\n",
    "\n",
    "inflow.add(veh_type       = \"human\",\n",
    "           edge           = \"-100822066\",\n",
    "           probability    = 0.25,\n",
    "           depart_speed   = 7,\n",
    "           depart_lane    = 0)\n",
    "\n",
    "inflow.add(veh_type       = \"rl\",\n",
    "           edge           = \"-100822066\",\n",
    "           probability    = 0.05,\n",
    "           depart_speed   = 7,\n",
    "           depart_lane    = 0,\n",
    "           color          = \"blue\")\n",
    "\n",
    "inflow.add(veh_type       = \"human\",\n",
    "           edge          = \"155558218\",\n",
    "           probability   = 0.01,\n",
    "           depart_speed  = 7,\n",
    "           depart_lane   = 0)"
   ]
  },
  {
   "cell_type": "markdown",
   "metadata": {},
   "source": [
    "## Personnalise un Environnement pour le RL\n",
    "\n",
    "plus de méthodes sur : http://berkeleyflow.readthedocs.io/en/latest/"
   ]
  },
  {
   "cell_type": "code",
   "execution_count": 5,
   "metadata": {},
   "outputs": [],
   "source": [
    "from flow.envs.IssyEnv import IssyEnv1"
   ]
  },
  {
   "cell_type": "markdown",
   "metadata": {},
   "source": [
    "## Lance une simulation avec Training RLlib\n",
    "\n",
    "Pour qu'un environnement puisse être entrainé, l'environnement doit être accessible via l'importation à partir de flow.envs. \n",
    "\n",
    "\n",
    "<font color='red'>\n",
    "Copier l'environnement créé dans un fichier .py et on importe l'environnement dans `flow.envs.__init__.py`.\n",
    "Mettre le chemin absolu du fichier .osm .\n",
    "</font> "
   ]
  },
  {
   "cell_type": "code",
   "execution_count": 6,
   "metadata": {},
   "outputs": [],
   "source": [
    "# possibles actions\n",
    "action_spec = OrderedDict({ \"30677963\": [ \"GGGGrrrGGGG\", \"rrrrGGGrrrr\"],\n",
    "                            \"30763263\": [\"GGGGGGGGGG\",  \"rrrrrrrrrr\"],\n",
    "                            \"30677810\": [ \"GGrr\", \"rrGG\"]})"
   ]
  },
  {
   "cell_type": "code",
   "execution_count": 7,
   "metadata": {
    "ExecuteTime": {
     "end_time": "2020-03-24T13:09:50.179116Z",
     "start_time": "2020-03-24T13:09:49.899185Z"
    }
   },
   "outputs": [],
   "source": [
    "horizon  = 2000\n",
    "SIM_STEP = 0.2\n",
    "n_veh    = 12\n",
    "rollouts = 10\n",
    "n_cpus   = 3\n",
    "discount_rate = 0.999"
   ]
  },
  {
   "cell_type": "code",
   "execution_count": 8,
   "metadata": {
    "ExecuteTime": {
     "end_time": "2020-03-24T13:09:50.179116Z",
     "start_time": "2020-03-24T13:09:49.899185Z"
    }
   },
   "outputs": [],
   "source": [
    "# SUMO PARAM\n",
    "sumo_params = SumoParams(sim_step=SIM_STEP, render=True, restart_instance=True, overtake_right=True)\n",
    "\n",
    "# ENVIRONMENT PARAM\n",
    "ADDITIONAL_ENV_PARAMS = {\"beta\": n_veh, \"action_spec\": action_spec, \"algorithm\": \"DQN\", \"tl_constraint_min\": 100,  \"tl_constraint_max\": 600, \"sim_step\": SIM_STEP}\n",
    "env_params = EnvParams(additional_params=ADDITIONAL_ENV_PARAMS, horizon=horizon, warmup_steps=1)\n",
    "\n",
    "# NETWORK PARAM\n",
    "path_file  = '/home/lino/Documents/DQN_CIL4SYS/DQN_CIL4SYS/notebooks/issy.osm'\n",
    "net_params = NetParams(inflows=inflow, osm_path=path_file) \n",
    "\n",
    "# NETWORK\n",
    "network = IssyOSMNetwork\n",
    "\n",
    "# INITIAL CONFIG\n",
    "initial_config = InitialConfig(edges_distribution=EDGES_DISTRIBUTION)\n",
    "\n",
    "\n",
    "flow_params = dict( exp_tag   = \"ISSY_trial01\", \n",
    "                    env_name  = IssyEnv1,  \n",
    "                    network   = IssyOSMNetwork,\n",
    "                    simulator = 'traci',\n",
    "                    sim       = sumo_params,\n",
    "                    env       = env_params,\n",
    "                    net       = net_params,\n",
    "                    veh       = vehicles,\n",
    "                    initial   = initial_config)"
   ]
  },
  {
   "cell_type": "markdown",
   "metadata": {},
   "source": [
    "# Setup RLlib library"
   ]
  },
  {
   "cell_type": "markdown",
   "metadata": {},
   "source": [
    "Configures RLlib DQN algorithm to be used to train the RL model."
   ]
  },
  {
   "cell_type": "code",
   "execution_count": 9,
   "metadata": {},
   "outputs": [],
   "source": [
    "def setup_DQN_exp():\n",
    "\n",
    "    alg_run   = 'DQN'\n",
    "    agent_cls = get_agent_class(alg_run)\n",
    "    config    = agent_cls._default_config.copy()\n",
    "    config['num_workers']      = n_cpus\n",
    "    config['train_batch_size'] = horizon * rollouts\n",
    "    config['gamma']            = discount_rate\n",
    "    config['clip_actions']     = False  # FIXME(ev) temporary ray bug\n",
    "    config['horizon']          = horizon\n",
    "    config[\"hiddens\"]          = [256]\n",
    "    config['model'].update({'fcnet_hiddens': [32, 32]})\n",
    "\n",
    "    # save the flow params for replay\n",
    "    flow_json = json.dumps(flow_params, cls=FlowParamsEncoder, sort_keys=True, indent=4)\n",
    "    config['env_config']['flow_params'] = flow_json\n",
    "    config['env_config']['run'] = alg_run\n",
    "\n",
    "    create_env, gym_name = make_create_env(params=flow_params, version=0)\n",
    "\n",
    "    # Register as rllib env\n",
    "    register_env(gym_name, create_env)\n",
    "    \n",
    "    return alg_run, gym_name, config"
   ]
  },
  {
   "cell_type": "markdown",
   "metadata": {},
   "source": [
    "Configures RLlib PPO algorithm to be used to train the RL model.\n",
    "\n",
    "See: https://ray.readthedocs.io/en/latest/rllib-algorithms.html#proximal-policy-optimization-ppo"
   ]
  },
  {
   "cell_type": "code",
   "execution_count": 10,
   "metadata": {},
   "outputs": [],
   "source": [
    "def setup_PPO_exp():\n",
    "\n",
    "    alg_run   = 'PPO'\n",
    "    agent_cls = get_agent_class(alg_run)\n",
    "    config    = agent_cls._default_config.copy()\n",
    "    config['num_workers']      = n_cpus\n",
    "    config['train_batch_size'] = horizon * rollouts\n",
    "    config['gamma']            = discount_rate\n",
    "    config['use_gae']          = True\n",
    "    config['lambda']           = 0.97\n",
    "    config['kl_target']        = 0.02\n",
    "    config['num_sgd_iter']     = 10\n",
    "    config['clip_actions']     = False  # FIXME(ev) temporary ray bug\n",
    "    config['horizon']          = horizon\n",
    "    config['model'].update({'fcnet_hiddens': [32, 32]})\n",
    "\n",
    "    # save the flow params for replay\n",
    "    flow_json = json.dumps(flow_params,cls=FlowParamsEncoder,sort_keys=True,indent=4)\n",
    "    config['env_config']['flow_params'] = flow_json\n",
    "    config['env_config']['run'] = alg_run\n",
    "\n",
    "    create_env, gym_name = make_create_env(params=flow_params,version=0)\n",
    "\n",
    "    # Register as rllib env\n",
    "    register_env(gym_name, create_env)\n",
    "    \n",
    "    return alg_run, gym_name, config"
   ]
  },
  {
   "cell_type": "markdown",
   "metadata": {},
   "source": [
    "# Run Experiment"
   ]
  },
  {
   "cell_type": "code",
   "execution_count": 11,
   "metadata": {
    "ExecuteTime": {
     "end_time": "2020-03-24T13:09:50.179116Z",
     "start_time": "2020-03-24T13:09:49.899185Z"
    }
   },
   "outputs": [
    {
     "name": "stderr",
     "output_type": "stream",
     "text": [
      "2020-05-09 18:37:50,976\tINFO node.py:498 -- Process STDOUT and STDERR is being redirected to /tmp/ray/session_2020-05-09_18-37-50_975982_4604/logs.\n",
      "2020-05-09 18:37:51,086\tINFO services.py:409 -- Waiting for redis server at 127.0.0.1:27839 to respond...\n",
      "2020-05-09 18:37:51,206\tINFO services.py:409 -- Waiting for redis server at 127.0.0.1:56425 to respond...\n",
      "2020-05-09 18:37:51,211\tINFO services.py:809 -- Starting Redis shard with 2.93 GB max memory.\n",
      "2020-05-09 18:37:51,235\tINFO node.py:512 -- Process STDOUT and STDERR is being redirected to /tmp/ray/session_2020-05-09_18-37-50_975982_4604/logs.\n",
      "2020-05-09 18:37:51,239\tINFO services.py:1475 -- Starting the Plasma object store with 4.4 GB memory using /dev/shm.\n"
     ]
    },
    {
     "data": {
      "text/plain": [
       "{'node_ip_address': '192.168.0.48',\n",
       " 'redis_address': '192.168.0.48:27839',\n",
       " 'object_store_address': '/tmp/ray/session_2020-05-09_18-37-50_975982_4604/sockets/plasma_store',\n",
       " 'raylet_socket_name': '/tmp/ray/session_2020-05-09_18-37-50_975982_4604/sockets/raylet',\n",
       " 'webui_url': None,\n",
       " 'session_dir': '/tmp/ray/session_2020-05-09_18-37-50_975982_4604'}"
      ]
     },
     "execution_count": 11,
     "metadata": {},
     "output_type": "execute_result"
    }
   ],
   "source": [
    "alg_run, gym_name, config = setup_DQN_exp()\n",
    "\n",
    "ray.init(num_cpus=n_cpus + 1)"
   ]
  },
  {
   "cell_type": "code",
   "execution_count": 12,
   "metadata": {
    "ExecuteTime": {
     "end_time": "2020-03-24T13:09:50.179116Z",
     "start_time": "2020-03-24T13:09:49.899185Z"
    },
    "pixiedust": {
     "displayParams": {}
    },
    "scrolled": true
   },
   "outputs": [
    {
     "name": "stderr",
     "output_type": "stream",
     "text": [
      "2020-05-09 18:37:59,181\tINFO trial_runner.py:176 -- Starting a new experiment.\n",
      "2020-05-09 18:37:59,194\tWARNING signature.py:108 -- The function with_updates has a **kwargs argument, which is currently not supported.\n",
      "2020-05-09 18:37:59,198\tERROR log_sync.py:34 -- Log sync requires cluster to be setup with `ray up`.\n"
     ]
    },
    {
     "name": "stdout",
     "output_type": "stream",
     "text": [
      "== Status ==\n",
      "Using FIFO scheduling algorithm.\n",
      "Resources requested: 0/4 CPUs, 0/0 GPUs\n",
      "Memory usage on this node: 3.6/14.7 GB\n",
      "\n",
      "== Status ==\n",
      "Using FIFO scheduling algorithm.\n",
      "Resources requested: 4/4 CPUs, 0/0 GPUs\n",
      "Memory usage on this node: 3.6/14.7 GB\n",
      "Result logdir: /home/lino/ray_results/ISSY_trial01\n",
      "Number of trials: 1 ({'RUNNING': 1})\n",
      "RUNNING trials:\n",
      " - DQN_IssyEnv1-v0_0:\tRUNNING\n",
      "\n",
      "\u001b[2m\u001b[36m(pid=5038)\u001b[0m /home/lino/anaconda3/envs/flow/lib/python3.6/site-packages/tensorflow/python/framework/dtypes.py:523: FutureWarning: Passing (type, 1) or '1type' as a synonym of type is deprecated; in a future version of numpy, it will be understood as (type, (1,)) / '(1,)type'.\n",
      "\u001b[2m\u001b[36m(pid=5038)\u001b[0m   _np_qint8 = np.dtype([(\"qint8\", np.int8, 1)])\n",
      "\u001b[2m\u001b[36m(pid=5038)\u001b[0m /home/lino/anaconda3/envs/flow/lib/python3.6/site-packages/tensorflow/python/framework/dtypes.py:524: FutureWarning: Passing (type, 1) or '1type' as a synonym of type is deprecated; in a future version of numpy, it will be understood as (type, (1,)) / '(1,)type'.\n",
      "\u001b[2m\u001b[36m(pid=5038)\u001b[0m   _np_quint8 = np.dtype([(\"quint8\", np.uint8, 1)])\n",
      "\u001b[2m\u001b[36m(pid=5038)\u001b[0m /home/lino/anaconda3/envs/flow/lib/python3.6/site-packages/tensorflow/python/framework/dtypes.py:525: FutureWarning: Passing (type, 1) or '1type' as a synonym of type is deprecated; in a future version of numpy, it will be understood as (type, (1,)) / '(1,)type'.\n",
      "\u001b[2m\u001b[36m(pid=5038)\u001b[0m   _np_qint16 = np.dtype([(\"qint16\", np.int16, 1)])\n",
      "\u001b[2m\u001b[36m(pid=5038)\u001b[0m /home/lino/anaconda3/envs/flow/lib/python3.6/site-packages/tensorflow/python/framework/dtypes.py:526: FutureWarning: Passing (type, 1) or '1type' as a synonym of type is deprecated; in a future version of numpy, it will be understood as (type, (1,)) / '(1,)type'.\n",
      "\u001b[2m\u001b[36m(pid=5038)\u001b[0m   _np_quint16 = np.dtype([(\"quint16\", np.uint16, 1)])\n",
      "\u001b[2m\u001b[36m(pid=5038)\u001b[0m /home/lino/anaconda3/envs/flow/lib/python3.6/site-packages/tensorflow/python/framework/dtypes.py:527: FutureWarning: Passing (type, 1) or '1type' as a synonym of type is deprecated; in a future version of numpy, it will be understood as (type, (1,)) / '(1,)type'.\n",
      "\u001b[2m\u001b[36m(pid=5038)\u001b[0m   _np_qint32 = np.dtype([(\"qint32\", np.int32, 1)])\n",
      "\u001b[2m\u001b[36m(pid=5038)\u001b[0m /home/lino/anaconda3/envs/flow/lib/python3.6/site-packages/tensorflow/python/framework/dtypes.py:532: FutureWarning: Passing (type, 1) or '1type' as a synonym of type is deprecated; in a future version of numpy, it will be understood as (type, (1,)) / '(1,)type'.\n",
      "\u001b[2m\u001b[36m(pid=5038)\u001b[0m   np_resource = np.dtype([(\"resource\", np.ubyte, 1)])\n",
      "\u001b[2m\u001b[36m(pid=5038)\u001b[0m Warning: Discarding unknown compound 'cycleway.opposite' in type 'cycleway.opposite|highway.residential' (first occurence for edge '4786965#0').\n",
      "\u001b[2m\u001b[36m(pid=5038)\u001b[0m Warning: Discarding unknown compound 'cycleway.opposite_track' in type 'cycleway.opposite_track|highway.residential' (first occurence for edge '4786972#0').\n",
      "\u001b[2m\u001b[36m(pid=5038)\u001b[0m Warning: Discarding unknown compound 'cycleway.opposite' in type 'cycleway.opposite|highway.living_street' (first occurence for edge '4795758').\n",
      "\u001b[2m\u001b[36m(pid=5038)\u001b[0m Warning: Discarding unknown compound 'cycleway.lane' in type 'cycleway.lane|highway.secondary' (first occurence for edge '100822066').\n",
      "\u001b[2m\u001b[36m(pid=5038)\u001b[0m Warning: Removed a road without junctions: -21549451\n",
      "\u001b[2m\u001b[36m(pid=5038)\u001b[0m Warning: Removed a road without junctions: 21549451\n",
      "\u001b[2m\u001b[36m(pid=5038)\u001b[0m Warning: The traffic light '30624291' does not control any links; it will not be build.\n",
      "\u001b[2m\u001b[36m(pid=5038)\u001b[0m Warning: Could not build program '0' for traffic light '30624291'\n",
      "\u001b[2m\u001b[36m(pid=5038)\u001b[0m Warning: Minor green from edge '-352962858#0' to edge '4786972#0' exceeds 19.44m/s. Maybe a left-turn lane is missing.\n",
      "\u001b[2m\u001b[36m(pid=5038)\u001b[0m Warning: Minor green from edge '352962858#0' to edge '4794820' exceeds 19.44m/s. Maybe a left-turn lane is missing.\n",
      "\u001b[2m\u001b[36m(pid=5038)\u001b[0m Warning: Minor green from edge '-352962858#1' to edge '4795742#0' exceeds 19.44m/s. Maybe a left-turn lane is missing.\n",
      "\u001b[2m\u001b[36m(pid=5038)\u001b[0m Success.\n",
      "\u001b[2m\u001b[36m(pid=5038)\u001b[0m 2020-05-09 18:38:02,598\tINFO rollout_worker.py:319 -- Creating policy evaluation worker 0 on CPU (please ignore any CUDA init errors)\n",
      "\u001b[2m\u001b[36m(pid=5038)\u001b[0m 2020-05-09 18:38:02.599389: I tensorflow/core/platform/cpu_feature_guard.cc:141] Your CPU supports instructions that this TensorFlow binary was not compiled to use: SSE4.1 SSE4.2 AVX\n",
      "\u001b[2m\u001b[36m(pid=5038)\u001b[0m WARNING:tensorflow:VARIABLES collection name is deprecated, please use GLOBAL_VARIABLES instead; VARIABLES will be removed after 2017-03-02.\n",
      "\u001b[2m\u001b[36m(pid=5038)\u001b[0m WARNING:tensorflow:VARIABLES collection name is deprecated, please use GLOBAL_VARIABLES instead; VARIABLES will be removed after 2017-03-02.\n",
      "\u001b[2m\u001b[36m(pid=5038)\u001b[0m 2020-05-09 18:38:02,977\tINFO dynamic_tf_policy.py:324 -- Initializing loss function with dummy input:\n",
      "\u001b[2m\u001b[36m(pid=5038)\u001b[0m \n",
      "\u001b[2m\u001b[36m(pid=5038)\u001b[0m { 'actions': <tf.Tensor 'default_policy/actions:0' shape=(?,) dtype=int64>,\n",
      "\u001b[2m\u001b[36m(pid=5038)\u001b[0m   'dones': <tf.Tensor 'default_policy/dones:0' shape=(?,) dtype=bool>,\n",
      "\u001b[2m\u001b[36m(pid=5038)\u001b[0m   'new_obs': <tf.Tensor 'default_policy/new_obs:0' shape=(?, 28) dtype=float32>,\n",
      "\u001b[2m\u001b[36m(pid=5038)\u001b[0m   'obs': <tf.Tensor 'default_policy/observation:0' shape=(?, 28) dtype=float32>,\n",
      "\u001b[2m\u001b[36m(pid=5038)\u001b[0m   'q_values': <tf.Tensor 'default_policy/q_values:0' shape=(?, 8) dtype=float32>,\n",
      "\u001b[2m\u001b[36m(pid=5038)\u001b[0m   'rewards': <tf.Tensor 'default_policy/rewards:0' shape=(?,) dtype=float32>,\n",
      "\u001b[2m\u001b[36m(pid=5038)\u001b[0m   'weights': <tf.Tensor 'default_policy/weights:0' shape=(?,) dtype=float32>}\n",
      "\u001b[2m\u001b[36m(pid=5038)\u001b[0m \n",
      "\u001b[2m\u001b[36m(pid=5038)\u001b[0m 2020-05-09 18:38:03,912\tINFO rollout_worker.py:742 -- Built policy map: {'default_policy': <ray.rllib.policy.tf_policy_template.DQNTFPolicy object at 0x7fb60366a128>}\n",
      "\u001b[2m\u001b[36m(pid=5038)\u001b[0m 2020-05-09 18:38:03,912\tINFO rollout_worker.py:743 -- Built preprocessor map: {'default_policy': <ray.rllib.models.preprocessors.NoPreprocessor object at 0x7fb60365bda0>}\n",
      "\u001b[2m\u001b[36m(pid=5038)\u001b[0m 2020-05-09 18:38:03,912\tINFO rollout_worker.py:356 -- Built filter map: {'default_policy': <ray.rllib.utils.filter.NoFilter object at 0x7fb60365bc50>}\n",
      "\u001b[2m\u001b[36m(pid=5038)\u001b[0m 2020-05-09 18:38:03,976\tWARNING util.py:47 -- Install gputil for GPU system monitoring.\n",
      "\u001b[2m\u001b[36m(pid=5041)\u001b[0m /home/lino/anaconda3/envs/flow/lib/python3.6/site-packages/tensorflow/python/framework/dtypes.py:523: FutureWarning: Passing (type, 1) or '1type' as a synonym of type is deprecated; in a future version of numpy, it will be understood as (type, (1,)) / '(1,)type'.\n",
      "\u001b[2m\u001b[36m(pid=5041)\u001b[0m   _np_qint8 = np.dtype([(\"qint8\", np.int8, 1)])\n",
      "\u001b[2m\u001b[36m(pid=5041)\u001b[0m /home/lino/anaconda3/envs/flow/lib/python3.6/site-packages/tensorflow/python/framework/dtypes.py:524: FutureWarning: Passing (type, 1) or '1type' as a synonym of type is deprecated; in a future version of numpy, it will be understood as (type, (1,)) / '(1,)type'.\n",
      "\u001b[2m\u001b[36m(pid=5041)\u001b[0m   _np_quint8 = np.dtype([(\"quint8\", np.uint8, 1)])\n",
      "\u001b[2m\u001b[36m(pid=5041)\u001b[0m /home/lino/anaconda3/envs/flow/lib/python3.6/site-packages/tensorflow/python/framework/dtypes.py:525: FutureWarning: Passing (type, 1) or '1type' as a synonym of type is deprecated; in a future version of numpy, it will be understood as (type, (1,)) / '(1,)type'.\n",
      "\u001b[2m\u001b[36m(pid=5041)\u001b[0m   _np_qint16 = np.dtype([(\"qint16\", np.int16, 1)])\n",
      "\u001b[2m\u001b[36m(pid=5041)\u001b[0m /home/lino/anaconda3/envs/flow/lib/python3.6/site-packages/tensorflow/python/framework/dtypes.py:526: FutureWarning: Passing (type, 1) or '1type' as a synonym of type is deprecated; in a future version of numpy, it will be understood as (type, (1,)) / '(1,)type'.\n",
      "\u001b[2m\u001b[36m(pid=5041)\u001b[0m   _np_quint16 = np.dtype([(\"quint16\", np.uint16, 1)])\n",
      "\u001b[2m\u001b[36m(pid=5041)\u001b[0m /home/lino/anaconda3/envs/flow/lib/python3.6/site-packages/tensorflow/python/framework/dtypes.py:527: FutureWarning: Passing (type, 1) or '1type' as a synonym of type is deprecated; in a future version of numpy, it will be understood as (type, (1,)) / '(1,)type'.\n",
      "\u001b[2m\u001b[36m(pid=5041)\u001b[0m   _np_qint32 = np.dtype([(\"qint32\", np.int32, 1)])\n",
      "\u001b[2m\u001b[36m(pid=5041)\u001b[0m /home/lino/anaconda3/envs/flow/lib/python3.6/site-packages/tensorflow/python/framework/dtypes.py:532: FutureWarning: Passing (type, 1) or '1type' as a synonym of type is deprecated; in a future version of numpy, it will be understood as (type, (1,)) / '(1,)type'.\n",
      "\u001b[2m\u001b[36m(pid=5041)\u001b[0m   np_resource = np.dtype([(\"resource\", np.ubyte, 1)])\n",
      "\u001b[2m\u001b[36m(pid=5040)\u001b[0m /home/lino/anaconda3/envs/flow/lib/python3.6/site-packages/tensorflow/python/framework/dtypes.py:523: FutureWarning: Passing (type, 1) or '1type' as a synonym of type is deprecated; in a future version of numpy, it will be understood as (type, (1,)) / '(1,)type'.\n",
      "\u001b[2m\u001b[36m(pid=5040)\u001b[0m   _np_qint8 = np.dtype([(\"qint8\", np.int8, 1)])\n",
      "\u001b[2m\u001b[36m(pid=5040)\u001b[0m /home/lino/anaconda3/envs/flow/lib/python3.6/site-packages/tensorflow/python/framework/dtypes.py:524: FutureWarning: Passing (type, 1) or '1type' as a synonym of type is deprecated; in a future version of numpy, it will be understood as (type, (1,)) / '(1,)type'.\n",
      "\u001b[2m\u001b[36m(pid=5040)\u001b[0m   _np_quint8 = np.dtype([(\"quint8\", np.uint8, 1)])\n",
      "\u001b[2m\u001b[36m(pid=5040)\u001b[0m /home/lino/anaconda3/envs/flow/lib/python3.6/site-packages/tensorflow/python/framework/dtypes.py:525: FutureWarning: Passing (type, 1) or '1type' as a synonym of type is deprecated; in a future version of numpy, it will be understood as (type, (1,)) / '(1,)type'.\n",
      "\u001b[2m\u001b[36m(pid=5040)\u001b[0m   _np_qint16 = np.dtype([(\"qint16\", np.int16, 1)])\n",
      "\u001b[2m\u001b[36m(pid=5040)\u001b[0m /home/lino/anaconda3/envs/flow/lib/python3.6/site-packages/tensorflow/python/framework/dtypes.py:526: FutureWarning: Passing (type, 1) or '1type' as a synonym of type is deprecated; in a future version of numpy, it will be understood as (type, (1,)) / '(1,)type'.\n",
      "\u001b[2m\u001b[36m(pid=5040)\u001b[0m   _np_quint16 = np.dtype([(\"quint16\", np.uint16, 1)])\n",
      "\u001b[2m\u001b[36m(pid=5040)\u001b[0m /home/lino/anaconda3/envs/flow/lib/python3.6/site-packages/tensorflow/python/framework/dtypes.py:527: FutureWarning: Passing (type, 1) or '1type' as a synonym of type is deprecated; in a future version of numpy, it will be understood as (type, (1,)) / '(1,)type'.\n",
      "\u001b[2m\u001b[36m(pid=5040)\u001b[0m   _np_qint32 = np.dtype([(\"qint32\", np.int32, 1)])\n",
      "\u001b[2m\u001b[36m(pid=5040)\u001b[0m /home/lino/anaconda3/envs/flow/lib/python3.6/site-packages/tensorflow/python/framework/dtypes.py:532: FutureWarning: Passing (type, 1) or '1type' as a synonym of type is deprecated; in a future version of numpy, it will be understood as (type, (1,)) / '(1,)type'.\n",
      "\u001b[2m\u001b[36m(pid=5040)\u001b[0m   np_resource = np.dtype([(\"resource\", np.ubyte, 1)])\n",
      "\u001b[2m\u001b[36m(pid=5039)\u001b[0m /home/lino/anaconda3/envs/flow/lib/python3.6/site-packages/tensorflow/python/framework/dtypes.py:523: FutureWarning: Passing (type, 1) or '1type' as a synonym of type is deprecated; in a future version of numpy, it will be understood as (type, (1,)) / '(1,)type'.\n",
      "\u001b[2m\u001b[36m(pid=5039)\u001b[0m   _np_qint8 = np.dtype([(\"qint8\", np.int8, 1)])\n",
      "\u001b[2m\u001b[36m(pid=5039)\u001b[0m /home/lino/anaconda3/envs/flow/lib/python3.6/site-packages/tensorflow/python/framework/dtypes.py:524: FutureWarning: Passing (type, 1) or '1type' as a synonym of type is deprecated; in a future version of numpy, it will be understood as (type, (1,)) / '(1,)type'.\n",
      "\u001b[2m\u001b[36m(pid=5039)\u001b[0m   _np_quint8 = np.dtype([(\"quint8\", np.uint8, 1)])\n",
      "\u001b[2m\u001b[36m(pid=5039)\u001b[0m /home/lino/anaconda3/envs/flow/lib/python3.6/site-packages/tensorflow/python/framework/dtypes.py:525: FutureWarning: Passing (type, 1) or '1type' as a synonym of type is deprecated; in a future version of numpy, it will be understood as (type, (1,)) / '(1,)type'.\n",
      "\u001b[2m\u001b[36m(pid=5039)\u001b[0m   _np_qint16 = np.dtype([(\"qint16\", np.int16, 1)])\n",
      "\u001b[2m\u001b[36m(pid=5039)\u001b[0m /home/lino/anaconda3/envs/flow/lib/python3.6/site-packages/tensorflow/python/framework/dtypes.py:526: FutureWarning: Passing (type, 1) or '1type' as a synonym of type is deprecated; in a future version of numpy, it will be understood as (type, (1,)) / '(1,)type'.\n",
      "\u001b[2m\u001b[36m(pid=5039)\u001b[0m   _np_quint16 = np.dtype([(\"quint16\", np.uint16, 1)])\n",
      "\u001b[2m\u001b[36m(pid=5039)\u001b[0m /home/lino/anaconda3/envs/flow/lib/python3.6/site-packages/tensorflow/python/framework/dtypes.py:527: FutureWarning: Passing (type, 1) or '1type' as a synonym of type is deprecated; in a future version of numpy, it will be understood as (type, (1,)) / '(1,)type'.\n",
      "\u001b[2m\u001b[36m(pid=5039)\u001b[0m   _np_qint32 = np.dtype([(\"qint32\", np.int32, 1)])\n",
      "\u001b[2m\u001b[36m(pid=5039)\u001b[0m /home/lino/anaconda3/envs/flow/lib/python3.6/site-packages/tensorflow/python/framework/dtypes.py:532: FutureWarning: Passing (type, 1) or '1type' as a synonym of type is deprecated; in a future version of numpy, it will be understood as (type, (1,)) / '(1,)type'.\n",
      "\u001b[2m\u001b[36m(pid=5039)\u001b[0m   np_resource = np.dtype([(\"resource\", np.ubyte, 1)])\n"
     ]
    },
    {
     "name": "stdout",
     "output_type": "stream",
     "text": [
      "\u001b[2m\u001b[36m(pid=5041)\u001b[0m Warning: Discarding unknown compound 'cycleway.opposite' in type 'cycleway.opposite|highway.residential' (first occurence for edge '4786965#0').\n",
      "\u001b[2m\u001b[36m(pid=5041)\u001b[0m Warning: Discarding unknown compound 'cycleway.opposite_track' in type 'cycleway.opposite_track|highway.residential' (first occurence for edge '4786972#0').\n",
      "\u001b[2m\u001b[36m(pid=5041)\u001b[0m Warning: Discarding unknown compound 'cycleway.opposite' in type 'cycleway.opposite|highway.living_street' (first occurence for edge '4795758').\n",
      "\u001b[2m\u001b[36m(pid=5041)\u001b[0m Warning: Discarding unknown compound 'cycleway.lane' in type 'cycleway.lane|highway.secondary' (first occurence for edge '100822066').\n",
      "\u001b[2m\u001b[36m(pid=5040)\u001b[0m Warning: Discarding unknown compound 'cycleway.opposite' in type 'cycleway.opposite|highway.residential' (first occurence for edge '4786965#0').\n",
      "\u001b[2m\u001b[36m(pid=5040)\u001b[0m Warning: Discarding unknown compound 'cycleway.opposite_track' in type 'cycleway.opposite_track|highway.residential' (first occurence for edge '4786972#0').\n",
      "\u001b[2m\u001b[36m(pid=5040)\u001b[0m Warning: Discarding unknown compound 'cycleway.opposite' in type 'cycleway.opposite|highway.living_street' (first occurence for edge '4795758').\n",
      "\u001b[2m\u001b[36m(pid=5040)\u001b[0m Warning: Discarding unknown compound 'cycleway.lane' in type 'cycleway.lane|highway.secondary' (first occurence for edge '100822066').\n",
      "\u001b[2m\u001b[36m(pid=5041)\u001b[0m Success.\n",
      "\u001b[2m\u001b[36m(pid=5041)\u001b[0m Warning: Removed a road without junctions: -21549451\n",
      "\u001b[2m\u001b[36m(pid=5041)\u001b[0m Warning: Removed a road without junctions: 21549451\n",
      "\u001b[2m\u001b[36m(pid=5041)\u001b[0m Warning: The traffic light '30624291' does not control any links; it will not be build.\n",
      "\u001b[2m\u001b[36m(pid=5041)\u001b[0m Warning: Could not build program '0' for traffic light '30624291'\n",
      "\u001b[2m\u001b[36m(pid=5041)\u001b[0m Warning: Minor green from edge '-352962858#0' to edge '4786972#0' exceeds 19.44m/s. Maybe a left-turn lane is missing.\n",
      "\u001b[2m\u001b[36m(pid=5041)\u001b[0m Warning: Minor green from edge '352962858#0' to edge '4794820' exceeds 19.44m/s. Maybe a left-turn lane is missing.\n",
      "\u001b[2m\u001b[36m(pid=5041)\u001b[0m Warning: Minor green from edge '-352962858#1' to edge '4795742#0' exceeds 19.44m/s. Maybe a left-turn lane is missing.\n",
      "\u001b[2m\u001b[36m(pid=5040)\u001b[0m Success.\n",
      "\u001b[2m\u001b[36m(pid=5040)\u001b[0m Warning: Removed a road without junctions: -21549451\n",
      "\u001b[2m\u001b[36m(pid=5040)\u001b[0m Warning: Removed a road without junctions: 21549451\n",
      "\u001b[2m\u001b[36m(pid=5040)\u001b[0m Warning: The traffic light '30624291' does not control any links; it will not be build.\n",
      "\u001b[2m\u001b[36m(pid=5040)\u001b[0m Warning: Could not build program '0' for traffic light '30624291'\n",
      "\u001b[2m\u001b[36m(pid=5040)\u001b[0m Warning: Minor green from edge '-352962858#0' to edge '4786972#0' exceeds 19.44m/s. Maybe a left-turn lane is missing.\n",
      "\u001b[2m\u001b[36m(pid=5040)\u001b[0m Warning: Minor green from edge '352962858#0' to edge '4794820' exceeds 19.44m/s. Maybe a left-turn lane is missing.\n",
      "\u001b[2m\u001b[36m(pid=5040)\u001b[0m Warning: Minor green from edge '-352962858#1' to edge '4795742#0' exceeds 19.44m/s. Maybe a left-turn lane is missing.\n",
      "\u001b[2m\u001b[36m(pid=5039)\u001b[0m Warning: Discarding unknown compound 'cycleway.opposite' in type 'cycleway.opposite|highway.residential' (first occurence for edge '4786965#0').\n",
      "\u001b[2m\u001b[36m(pid=5039)\u001b[0m Warning: Discarding unknown compound 'cycleway.opposite_track' in type 'cycleway.opposite_track|highway.residential' (first occurence for edge '4786972#0').\n",
      "\u001b[2m\u001b[36m(pid=5039)\u001b[0m Warning: Discarding unknown compound 'cycleway.opposite' in type 'cycleway.opposite|highway.living_street' (first occurence for edge '4795758').\n",
      "\u001b[2m\u001b[36m(pid=5039)\u001b[0m Warning: Discarding unknown compound 'cycleway.lane' in type 'cycleway.lane|highway.secondary' (first occurence for edge '100822066').\n",
      "\u001b[2m\u001b[36m(pid=5039)\u001b[0m Success.\n",
      "\u001b[2m\u001b[36m(pid=5039)\u001b[0m Warning: Removed a road without junctions: -21549451\n",
      "\u001b[2m\u001b[36m(pid=5039)\u001b[0m Warning: Removed a road without junctions: 21549451\n",
      "\u001b[2m\u001b[36m(pid=5039)\u001b[0m Warning: The traffic light '30624291' does not control any links; it will not be build.\n",
      "\u001b[2m\u001b[36m(pid=5039)\u001b[0m Warning: Could not build program '0' for traffic light '30624291'\n",
      "\u001b[2m\u001b[36m(pid=5039)\u001b[0m Warning: Minor green from edge '-352962858#0' to edge '4786972#0' exceeds 19.44m/s. Maybe a left-turn lane is missing.\n",
      "\u001b[2m\u001b[36m(pid=5039)\u001b[0m Warning: Minor green from edge '352962858#0' to edge '4794820' exceeds 19.44m/s. Maybe a left-turn lane is missing.\n",
      "\u001b[2m\u001b[36m(pid=5039)\u001b[0m Warning: Minor green from edge '-352962858#1' to edge '4795742#0' exceeds 19.44m/s. Maybe a left-turn lane is missing.\n",
      "\u001b[2m\u001b[36m(pid=5041)\u001b[0m 2020-05-09 18:38:07,791\tINFO rollout_worker.py:319 -- Creating policy evaluation worker 1 on CPU (please ignore any CUDA init errors)\n",
      "\u001b[2m\u001b[36m(pid=5041)\u001b[0m 2020-05-09 18:38:07.804514: I tensorflow/core/platform/cpu_feature_guard.cc:141] Your CPU supports instructions that this TensorFlow binary was not compiled to use: SSE4.1 SSE4.2 AVX\n",
      "\u001b[2m\u001b[36m(pid=5040)\u001b[0m 2020-05-09 18:38:07,791\tINFO rollout_worker.py:319 -- Creating policy evaluation worker 3 on CPU (please ignore any CUDA init errors)\n",
      "\u001b[2m\u001b[36m(pid=5040)\u001b[0m 2020-05-09 18:38:07.804001: I tensorflow/core/platform/cpu_feature_guard.cc:141] Your CPU supports instructions that this TensorFlow binary was not compiled to use: SSE4.1 SSE4.2 AVX\n",
      "\u001b[2m\u001b[36m(pid=5039)\u001b[0m 2020-05-09 18:38:07,815\tINFO rollout_worker.py:319 -- Creating policy evaluation worker 2 on CPU (please ignore any CUDA init errors)\n",
      "\u001b[2m\u001b[36m(pid=5039)\u001b[0m 2020-05-09 18:38:07.828663: I tensorflow/core/platform/cpu_feature_guard.cc:141] Your CPU supports instructions that this TensorFlow binary was not compiled to use: SSE4.1 SSE4.2 AVX\n",
      "\u001b[2m\u001b[36m(pid=5041)\u001b[0m WARNING:tensorflow:VARIABLES collection name is deprecated, please use GLOBAL_VARIABLES instead; VARIABLES will be removed after 2017-03-02.\n",
      "\u001b[2m\u001b[36m(pid=5041)\u001b[0m WARNING:tensorflow:VARIABLES collection name is deprecated, please use GLOBAL_VARIABLES instead; VARIABLES will be removed after 2017-03-02.\n",
      "\u001b[2m\u001b[36m(pid=5040)\u001b[0m WARNING:tensorflow:VARIABLES collection name is deprecated, please use GLOBAL_VARIABLES instead; VARIABLES will be removed after 2017-03-02.\n",
      "\u001b[2m\u001b[36m(pid=5040)\u001b[0m WARNING:tensorflow:VARIABLES collection name is deprecated, please use GLOBAL_VARIABLES instead; VARIABLES will be removed after 2017-03-02.\n",
      "\u001b[2m\u001b[36m(pid=5039)\u001b[0m WARNING:tensorflow:VARIABLES collection name is deprecated, please use GLOBAL_VARIABLES instead; VARIABLES will be removed after 2017-03-02.\n",
      "\u001b[2m\u001b[36m(pid=5039)\u001b[0m WARNING:tensorflow:VARIABLES collection name is deprecated, please use GLOBAL_VARIABLES instead; VARIABLES will be removed after 2017-03-02.\n",
      "\u001b[2m\u001b[36m(pid=5041)\u001b[0m 2020-05-09 18:38:08,283\tINFO dynamic_tf_policy.py:324 -- Initializing loss function with dummy input:\n",
      "\u001b[2m\u001b[36m(pid=5041)\u001b[0m \n",
      "\u001b[2m\u001b[36m(pid=5041)\u001b[0m { 'actions': <tf.Tensor 'default_policy/actions:0' shape=(?,) dtype=int64>,\n",
      "\u001b[2m\u001b[36m(pid=5041)\u001b[0m   'dones': <tf.Tensor 'default_policy/dones:0' shape=(?,) dtype=bool>,\n",
      "\u001b[2m\u001b[36m(pid=5041)\u001b[0m   'new_obs': <tf.Tensor 'default_policy/new_obs:0' shape=(?, 28) dtype=float32>,\n",
      "\u001b[2m\u001b[36m(pid=5041)\u001b[0m   'obs': <tf.Tensor 'default_policy/observation:0' shape=(?, 28) dtype=float32>,\n",
      "\u001b[2m\u001b[36m(pid=5041)\u001b[0m   'q_values': <tf.Tensor 'default_policy/q_values:0' shape=(?, 8) dtype=float32>,\n",
      "\u001b[2m\u001b[36m(pid=5041)\u001b[0m   'rewards': <tf.Tensor 'default_policy/rewards:0' shape=(?,) dtype=float32>,\n",
      "\u001b[2m\u001b[36m(pid=5041)\u001b[0m   'weights': <tf.Tensor 'default_policy/weights:0' shape=(?,) dtype=float32>}\n",
      "\u001b[2m\u001b[36m(pid=5041)\u001b[0m \n",
      "\u001b[2m\u001b[36m(pid=5041)\u001b[0m 2020-05-09 18:38:09,405\tINFO rollout_worker.py:451 -- Generating sample batch of size 4\n",
      "\u001b[2m\u001b[36m(pid=5041)\u001b[0m Warning: Discarding unknown compound 'cycleway.opposite' in type 'cycleway.opposite|highway.residential' (first occurence for edge '4786965#0').\n",
      "\u001b[2m\u001b[36m(pid=5041)\u001b[0m Warning: Discarding unknown compound 'cycleway.opposite_track' in type 'cycleway.opposite_track|highway.residential' (first occurence for edge '4786972#0').\n",
      "\u001b[2m\u001b[36m(pid=5041)\u001b[0m Warning: Discarding unknown compound 'cycleway.opposite' in type 'cycleway.opposite|highway.living_street' (first occurence for edge '4795758').\n",
      "\u001b[2m\u001b[36m(pid=5041)\u001b[0m Warning: Discarding unknown compound 'cycleway.lane' in type 'cycleway.lane|highway.secondary' (first occurence for edge '100822066').\n",
      "\u001b[2m\u001b[36m(pid=5040)\u001b[0m Warning: Discarding unknown compound 'cycleway.opposite' in type 'cycleway.opposite|highway.residential' (first occurence for edge '4786965#0').\n",
      "\u001b[2m\u001b[36m(pid=5040)\u001b[0m Warning: Discarding unknown compound 'cycleway.opposite_track' in type 'cycleway.opposite_track|highway.residential' (first occurence for edge '4786972#0').\n",
      "\u001b[2m\u001b[36m(pid=5040)\u001b[0m Warning: Discarding unknown compound 'cycleway.opposite' in type 'cycleway.opposite|highway.living_street' (first occurence for edge '4795758').\n",
      "\u001b[2m\u001b[36m(pid=5040)\u001b[0m Warning: Discarding unknown compound 'cycleway.lane' in type 'cycleway.lane|highway.secondary' (first occurence for edge '100822066').\n",
      "\u001b[2m\u001b[36m(pid=5039)\u001b[0m Warning: Discarding unknown compound 'cycleway.opposite' in type 'cycleway.opposite|highway.residential' (first occurence for edge '4786965#0').\n",
      "\u001b[2m\u001b[36m(pid=5039)\u001b[0m Warning: Discarding unknown compound 'cycleway.opposite_track' in type 'cycleway.opposite_track|highway.residential' (first occurence for edge '4786972#0').\n",
      "\u001b[2m\u001b[36m(pid=5039)\u001b[0m Warning: Discarding unknown compound 'cycleway.opposite' in type 'cycleway.opposite|highway.living_street' (first occurence for edge '4795758').\n",
      "\u001b[2m\u001b[36m(pid=5039)\u001b[0m Warning: Discarding unknown compound 'cycleway.lane' in type 'cycleway.lane|highway.secondary' (first occurence for edge '100822066').\n",
      "\u001b[2m\u001b[36m(pid=5039)\u001b[0m Warning: Removed a road without junctions: -21549451\n",
      "\u001b[2m\u001b[36m(pid=5039)\u001b[0m Warning: Removed a road without junctions: 21549451\n",
      "\u001b[2m\u001b[36m(pid=5039)\u001b[0m Warning: The traffic light '30624291' does not control any links; it will not be build.\n",
      "\u001b[2m\u001b[36m(pid=5039)\u001b[0m Warning: Could not build program '0' for traffic light '30624291'\n",
      "\u001b[2m\u001b[36m(pid=5039)\u001b[0m Warning: Minor green from edge '-352962858#0' to edge '4786972#0' exceeds 19.44m/s. Maybe a left-turn lane is missing.\n",
      "\u001b[2m\u001b[36m(pid=5039)\u001b[0m Warning: Minor green from edge '352962858#0' to edge '4794820' exceeds 19.44m/s. Maybe a left-turn lane is missing.\n",
      "\u001b[2m\u001b[36m(pid=5039)\u001b[0m Warning: Minor green from edge '-352962858#1' to edge '4795742#0' exceeds 19.44m/s. Maybe a left-turn lane is missing.\n"
     ]
    },
    {
     "name": "stdout",
     "output_type": "stream",
     "text": [
      "\u001b[2m\u001b[36m(pid=5041)\u001b[0m Success.\n",
      "\u001b[2m\u001b[36m(pid=5039)\u001b[0m Success.\n",
      "\u001b[2m\u001b[36m(pid=5041)\u001b[0m Warning: Removed a road without junctions: -21549451\n",
      "\u001b[2m\u001b[36m(pid=5041)\u001b[0m Warning: Removed a road without junctions: 21549451\n",
      "\u001b[2m\u001b[36m(pid=5041)\u001b[0m Warning: The traffic light '30624291' does not control any links; it will not be build.\n",
      "\u001b[2m\u001b[36m(pid=5041)\u001b[0m Warning: Could not build program '0' for traffic light '30624291'\n",
      "\u001b[2m\u001b[36m(pid=5041)\u001b[0m Warning: Minor green from edge '-352962858#0' to edge '4786972#0' exceeds 19.44m/s. Maybe a left-turn lane is missing.\n",
      "\u001b[2m\u001b[36m(pid=5041)\u001b[0m Warning: Minor green from edge '352962858#0' to edge '4794820' exceeds 19.44m/s. Maybe a left-turn lane is missing.\n",
      "\u001b[2m\u001b[36m(pid=5041)\u001b[0m Warning: Minor green from edge '-352962858#1' to edge '4795742#0' exceeds 19.44m/s. Maybe a left-turn lane is missing.\n",
      "\u001b[2m\u001b[36m(pid=5040)\u001b[0m Success.\n",
      "\u001b[2m\u001b[36m(pid=5040)\u001b[0m Warning: Removed a road without junctions: -21549451\n",
      "\u001b[2m\u001b[36m(pid=5040)\u001b[0m Warning: Removed a road without junctions: 21549451\n",
      "\u001b[2m\u001b[36m(pid=5040)\u001b[0m Warning: The traffic light '30624291' does not control any links; it will not be build.\n",
      "\u001b[2m\u001b[36m(pid=5040)\u001b[0m Warning: Could not build program '0' for traffic light '30624291'\n",
      "\u001b[2m\u001b[36m(pid=5040)\u001b[0m Warning: Minor green from edge '-352962858#0' to edge '4786972#0' exceeds 19.44m/s. Maybe a left-turn lane is missing.\n",
      "\u001b[2m\u001b[36m(pid=5040)\u001b[0m Warning: Minor green from edge '352962858#0' to edge '4794820' exceeds 19.44m/s. Maybe a left-turn lane is missing.\n",
      "\u001b[2m\u001b[36m(pid=5040)\u001b[0m Warning: Minor green from edge '-352962858#1' to edge '4795742#0' exceeds 19.44m/s. Maybe a left-turn lane is missing.\n",
      "\u001b[2m\u001b[36m(pid=5041)\u001b[0m Warning: Discarding unknown compound 'cycleway.opposite' in type 'cycleway.opposite|highway.residential' (first occurence for edge '4786965#0').\n",
      "\u001b[2m\u001b[36m(pid=5041)\u001b[0m Warning: Discarding unknown compound 'cycleway.opposite_track' in type 'cycleway.opposite_track|highway.residential' (first occurence for edge '4786972#0').\n",
      "\u001b[2m\u001b[36m(pid=5041)\u001b[0m Warning: Discarding unknown compound 'cycleway.opposite' in type 'cycleway.opposite|highway.living_street' (first occurence for edge '4795758').\n",
      "\u001b[2m\u001b[36m(pid=5041)\u001b[0m Warning: Discarding unknown compound 'cycleway.lane' in type 'cycleway.lane|highway.secondary' (first occurence for edge '100822066').\n",
      "\u001b[2m\u001b[36m(pid=5041)\u001b[0m Success.\n",
      "\u001b[2m\u001b[36m(pid=5041)\u001b[0m Warning: Removed a road without junctions: -21549451\n",
      "\u001b[2m\u001b[36m(pid=5041)\u001b[0m Warning: Removed a road without junctions: 21549451\n",
      "\u001b[2m\u001b[36m(pid=5041)\u001b[0m Warning: The traffic light '30624291' does not control any links; it will not be build.\n",
      "\u001b[2m\u001b[36m(pid=5041)\u001b[0m Warning: Could not build program '0' for traffic light '30624291'\n",
      "\u001b[2m\u001b[36m(pid=5041)\u001b[0m Warning: Minor green from edge '-352962858#0' to edge '4786972#0' exceeds 19.44m/s. Maybe a left-turn lane is missing.\n",
      "\u001b[2m\u001b[36m(pid=5041)\u001b[0m Warning: Minor green from edge '352962858#0' to edge '4794820' exceeds 19.44m/s. Maybe a left-turn lane is missing.\n",
      "\u001b[2m\u001b[36m(pid=5041)\u001b[0m Warning: Minor green from edge '-352962858#1' to edge '4795742#0' exceeds 19.44m/s. Maybe a left-turn lane is missing.\n",
      "\u001b[2m\u001b[36m(pid=5041)\u001b[0m 2020-05-09 18:38:17,027\tINFO sampler.py:304 -- Raw obs from env: { 0: { 'agent0': np.ndarray((112,), dtype=float64, min=0.0, max=1.0, mean=0.205)}}\n",
      "\u001b[2m\u001b[36m(pid=5041)\u001b[0m 2020-05-09 18:38:17,027\tINFO sampler.py:305 -- Info return from env: {0: {'agent0': None}}\n"
     ]
    },
    {
     "name": "stderr",
     "output_type": "stream",
     "text": [
      "2020-05-09 18:38:22,073\tERROR worker.py:1654 -- Possible unhandled error from worker: \u001b[36mray_RolloutWorker:sample()\u001b[39m (pid=5041, host=lino-iMac)\n",
      "  File \"/home/lino/anaconda3/envs/flow/lib/python3.6/site-packages/ray/rllib/evaluation/rollout_worker.py\", line 453, in sample\n",
      "    batches = [self.input_reader.next()]\n",
      "  File \"/home/lino/anaconda3/envs/flow/lib/python3.6/site-packages/ray/rllib/evaluation/sampler.py\", line 56, in next\n",
      "    batches = [self.get_data()]\n",
      "  File \"/home/lino/anaconda3/envs/flow/lib/python3.6/site-packages/ray/rllib/evaluation/sampler.py\", line 97, in get_data\n",
      "    item = next(self.rollout_provider)\n",
      "  File \"/home/lino/anaconda3/envs/flow/lib/python3.6/site-packages/ray/rllib/evaluation/sampler.py\", line 313, in _env_runner\n",
      "    soft_horizon)\n",
      "  File \"/home/lino/anaconda3/envs/flow/lib/python3.6/site-packages/ray/rllib/evaluation/sampler.py\", line 401, in _process_observations\n",
      "    policy_id).transform(raw_obs)\n",
      "  File \"/home/lino/anaconda3/envs/flow/lib/python3.6/site-packages/ray/rllib/models/preprocessors.py\", line 166, in transform\n",
      "    self.check_shape(observation)\n",
      "  File \"/home/lino/anaconda3/envs/flow/lib/python3.6/site-packages/ray/rllib/models/preprocessors.py\", line 61, in check_shape\n",
      "    self._obs_space, observation)\n",
      "ValueError: ('Observation outside expected value range', Box(28,), array([0., 0., 0., 0., 0., 0., 0., 0., 0., 0., 0., 0., 0., 0., 0., 0., 0.,\n",
      "       0., 0., 0., 0., 0., 0., 0., 0., 0., 0., 0., 0., 0., 0., 0., 0., 0.,\n",
      "       0., 0., 0., 0., 0., 0., 0., 0., 0., 0., 0., 0., 0., 0., 0., 0., 0.,\n",
      "       0., 0., 0., 0., 0., 0., 0., 0., 0., 0., 0., 0., 0., 0., 0., 0., 0.,\n",
      "       0., 0., 0., 0., 0., 0., 0., 0., 0., 0., 0., 0., 0., 0., 0., 0., 1.,\n",
      "       1., 0., 0., 1., 1., 1., 1., 0., 0., 0., 1., 1., 1., 1., 1., 1., 1.,\n",
      "       1., 1., 1., 1., 1., 1., 1., 1., 1., 1.]))\n",
      "\n"
     ]
    },
    {
     "name": "stdout",
     "output_type": "stream",
     "text": [
      "\u001b[2m\u001b[36m(pid=5040)\u001b[0m Warning: Discarding unknown compound 'cycleway.opposite' in type 'cycleway.opposite|highway.residential' (first occurence for edge '4786965#0').\n",
      "\u001b[2m\u001b[36m(pid=5040)\u001b[0m Warning: Discarding unknown compound 'cycleway.opposite_track' in type 'cycleway.opposite_track|highway.residential' (first occurence for edge '4786972#0').\n",
      "\u001b[2m\u001b[36m(pid=5040)\u001b[0m Warning: Discarding unknown compound 'cycleway.opposite' in type 'cycleway.opposite|highway.living_street' (first occurence for edge '4795758').\n",
      "\u001b[2m\u001b[36m(pid=5040)\u001b[0m Warning: Discarding unknown compound 'cycleway.lane' in type 'cycleway.lane|highway.secondary' (first occurence for edge '100822066').\n",
      "\u001b[2m\u001b[36m(pid=5040)\u001b[0m Success.\n",
      "\u001b[2m\u001b[36m(pid=5040)\u001b[0m Warning: Removed a road without junctions: -21549451\n",
      "\u001b[2m\u001b[36m(pid=5040)\u001b[0m Warning: Removed a road without junctions: 21549451\n",
      "\u001b[2m\u001b[36m(pid=5040)\u001b[0m Warning: The traffic light '30624291' does not control any links; it will not be build.\n",
      "\u001b[2m\u001b[36m(pid=5040)\u001b[0m Warning: Could not build program '0' for traffic light '30624291'\n",
      "\u001b[2m\u001b[36m(pid=5040)\u001b[0m Warning: Minor green from edge '-352962858#0' to edge '4786972#0' exceeds 19.44m/s. Maybe a left-turn lane is missing.\n",
      "\u001b[2m\u001b[36m(pid=5040)\u001b[0m Warning: Minor green from edge '352962858#0' to edge '4794820' exceeds 19.44m/s. Maybe a left-turn lane is missing.\n",
      "\u001b[2m\u001b[36m(pid=5040)\u001b[0m Warning: Minor green from edge '-352962858#1' to edge '4795742#0' exceeds 19.44m/s. Maybe a left-turn lane is missing.\n"
     ]
    },
    {
     "name": "stderr",
     "output_type": "stream",
     "text": [
      "2020-05-09 18:38:39,080\tERROR worker.py:1654 -- Possible unhandled error from worker: \u001b[36mray_RolloutWorker:sample()\u001b[39m (pid=5040, host=lino-iMac)\n",
      "  File \"/home/lino/anaconda3/envs/flow/lib/python3.6/site-packages/ray/rllib/evaluation/rollout_worker.py\", line 453, in sample\n",
      "    batches = [self.input_reader.next()]\n",
      "  File \"/home/lino/anaconda3/envs/flow/lib/python3.6/site-packages/ray/rllib/evaluation/sampler.py\", line 56, in next\n",
      "    batches = [self.get_data()]\n",
      "  File \"/home/lino/anaconda3/envs/flow/lib/python3.6/site-packages/ray/rllib/evaluation/sampler.py\", line 97, in get_data\n",
      "    item = next(self.rollout_provider)\n",
      "  File \"/home/lino/anaconda3/envs/flow/lib/python3.6/site-packages/ray/rllib/evaluation/sampler.py\", line 313, in _env_runner\n",
      "    soft_horizon)\n",
      "  File \"/home/lino/anaconda3/envs/flow/lib/python3.6/site-packages/ray/rllib/evaluation/sampler.py\", line 401, in _process_observations\n",
      "    policy_id).transform(raw_obs)\n",
      "  File \"/home/lino/anaconda3/envs/flow/lib/python3.6/site-packages/ray/rllib/models/preprocessors.py\", line 166, in transform\n",
      "    self.check_shape(observation)\n",
      "  File \"/home/lino/anaconda3/envs/flow/lib/python3.6/site-packages/ray/rllib/models/preprocessors.py\", line 61, in check_shape\n",
      "    self._obs_space, observation)\n",
      "ValueError: ('Observation outside expected value range', Box(28,), array([0., 0., 0., 0., 0., 0., 0., 0., 0., 0., 0., 0., 0., 0., 0., 0., 0.,\n",
      "       0., 0., 0., 0., 0., 0., 0., 0., 0., 0., 0., 0., 0., 0., 0., 0., 0.,\n",
      "       0., 0., 0., 0., 0., 0., 0., 0., 0., 0., 0., 0., 0., 0., 0., 0., 0.,\n",
      "       0., 0., 0., 0., 0., 0., 0., 0., 0., 0., 0., 0., 0., 0., 0., 0., 0.,\n",
      "       0., 0., 0., 0., 0., 0., 0., 0., 0., 0., 0., 0., 0., 0., 0., 0., 1.,\n",
      "       1., 0., 0., 1., 1., 1., 1., 0., 0., 0., 1., 1., 1., 1., 1., 1., 1.,\n",
      "       1., 1., 1., 1., 1., 1., 1., 1., 1., 1.]))\n",
      "\n"
     ]
    },
    {
     "name": "stdout",
     "output_type": "stream",
     "text": [
      "\u001b[2m\u001b[36m(pid=5039)\u001b[0m Warning: Discarding unknown compound 'cycleway.opposite' in type 'cycleway.opposite|highway.residential' (first occurence for edge '4786965#0').\n",
      "\u001b[2m\u001b[36m(pid=5039)\u001b[0m Warning: Discarding unknown compound 'cycleway.opposite_track' in type 'cycleway.opposite_track|highway.residential' (first occurence for edge '4786972#0').\n",
      "\u001b[2m\u001b[36m(pid=5039)\u001b[0m Warning: Discarding unknown compound 'cycleway.opposite' in type 'cycleway.opposite|highway.living_street' (first occurence for edge '4795758').\n",
      "\u001b[2m\u001b[36m(pid=5039)\u001b[0m Warning: Discarding unknown compound 'cycleway.lane' in type 'cycleway.lane|highway.secondary' (first occurence for edge '100822066').\n",
      "\u001b[2m\u001b[36m(pid=5039)\u001b[0m Success.\n",
      "\u001b[2m\u001b[36m(pid=5039)\u001b[0m Warning: Removed a road without junctions: -21549451\n",
      "\u001b[2m\u001b[36m(pid=5039)\u001b[0m Warning: Removed a road without junctions: 21549451\n",
      "\u001b[2m\u001b[36m(pid=5039)\u001b[0m Warning: The traffic light '30624291' does not control any links; it will not be build.\n",
      "\u001b[2m\u001b[36m(pid=5039)\u001b[0m Warning: Could not build program '0' for traffic light '30624291'\n",
      "\u001b[2m\u001b[36m(pid=5039)\u001b[0m Warning: Minor green from edge '-352962858#0' to edge '4786972#0' exceeds 19.44m/s. Maybe a left-turn lane is missing.\n",
      "\u001b[2m\u001b[36m(pid=5039)\u001b[0m Warning: Minor green from edge '352962858#0' to edge '4794820' exceeds 19.44m/s. Maybe a left-turn lane is missing.\n",
      "\u001b[2m\u001b[36m(pid=5039)\u001b[0m Warning: Minor green from edge '-352962858#1' to edge '4795742#0' exceeds 19.44m/s. Maybe a left-turn lane is missing.\n"
     ]
    },
    {
     "name": "stderr",
     "output_type": "stream",
     "text": [
      "2020-05-09 18:38:47,634\tERROR trial_runner.py:550 -- Error processing event.\n",
      "Traceback (most recent call last):\n",
      "  File \"/home/lino/anaconda3/envs/flow/lib/python3.6/site-packages/ray/tune/trial_runner.py\", line 498, in _process_trial\n",
      "    result = self.trial_executor.fetch_result(trial)\n",
      "  File \"/home/lino/anaconda3/envs/flow/lib/python3.6/site-packages/ray/tune/ray_trial_executor.py\", line 342, in fetch_result\n",
      "    result = ray.get(trial_future[0])\n",
      "  File \"/home/lino/anaconda3/envs/flow/lib/python3.6/site-packages/ray/worker.py\", line 2247, in get\n",
      "    raise value\n",
      "ray.exceptions.RayTaskError: \u001b[36mray_DQN:train()\u001b[39m (pid=5038, host=lino-iMac)\n",
      "  File \"/home/lino/anaconda3/envs/flow/lib/python3.6/site-packages/ray/rllib/agents/trainer.py\", line 369, in train\n",
      "    raise e\n",
      "  File \"/home/lino/anaconda3/envs/flow/lib/python3.6/site-packages/ray/rllib/agents/trainer.py\", line 358, in train\n",
      "    result = Trainable.train(self)\n",
      "  File \"/home/lino/anaconda3/envs/flow/lib/python3.6/site-packages/ray/tune/trainable.py\", line 171, in train\n",
      "    result = self._train()\n",
      "  File \"/home/lino/anaconda3/envs/flow/lib/python3.6/site-packages/ray/rllib/agents/trainer_template.py\", line 126, in _train\n",
      "    fetches = self.optimizer.step()\n",
      "  File \"/home/lino/anaconda3/envs/flow/lib/python3.6/site-packages/ray/rllib/optimizers/sync_replay_optimizer.py\", line 112, in step\n",
      "    for e in self.workers.remote_workers()\n",
      "  File \"/home/lino/anaconda3/envs/flow/lib/python3.6/site-packages/ray/rllib/utils/memory.py\", line 33, in ray_get_and_free\n",
      "    result = ray.get(object_ids)\n",
      "ray.exceptions.RayTaskError: \u001b[36mray_RolloutWorker:sample()\u001b[39m (pid=5041, host=lino-iMac)\n",
      "  File \"/home/lino/anaconda3/envs/flow/lib/python3.6/site-packages/ray/rllib/evaluation/rollout_worker.py\", line 453, in sample\n",
      "    batches = [self.input_reader.next()]\n",
      "  File \"/home/lino/anaconda3/envs/flow/lib/python3.6/site-packages/ray/rllib/evaluation/sampler.py\", line 56, in next\n",
      "    batches = [self.get_data()]\n",
      "  File \"/home/lino/anaconda3/envs/flow/lib/python3.6/site-packages/ray/rllib/evaluation/sampler.py\", line 97, in get_data\n",
      "    item = next(self.rollout_provider)\n",
      "  File \"/home/lino/anaconda3/envs/flow/lib/python3.6/site-packages/ray/rllib/evaluation/sampler.py\", line 313, in _env_runner\n",
      "    soft_horizon)\n",
      "  File \"/home/lino/anaconda3/envs/flow/lib/python3.6/site-packages/ray/rllib/evaluation/sampler.py\", line 401, in _process_observations\n",
      "    policy_id).transform(raw_obs)\n",
      "  File \"/home/lino/anaconda3/envs/flow/lib/python3.6/site-packages/ray/rllib/models/preprocessors.py\", line 166, in transform\n",
      "    self.check_shape(observation)\n",
      "  File \"/home/lino/anaconda3/envs/flow/lib/python3.6/site-packages/ray/rllib/models/preprocessors.py\", line 61, in check_shape\n",
      "    self._obs_space, observation)\n",
      "ValueError: ('Observation outside expected value range', Box(28,), array([0., 0., 0., 0., 0., 0., 0., 0., 0., 0., 0., 0., 0., 0., 0., 0., 0.,\n",
      "       0., 0., 0., 0., 0., 0., 0., 0., 0., 0., 0., 0., 0., 0., 0., 0., 0.,\n",
      "       0., 0., 0., 0., 0., 0., 0., 0., 0., 0., 0., 0., 0., 0., 0., 0., 0.,\n",
      "       0., 0., 0., 0., 0., 0., 0., 0., 0., 0., 0., 0., 0., 0., 0., 0., 0.,\n",
      "       0., 0., 0., 0., 0., 0., 0., 0., 0., 0., 0., 0., 0., 0., 0., 0., 1.,\n",
      "       1., 0., 0., 1., 1., 1., 1., 0., 0., 0., 1., 1., 1., 1., 1., 1., 1.,\n",
      "       1., 1., 1., 1., 1., 1., 1., 1., 1., 1.]))\n",
      "\n",
      "\n",
      "2020-05-09 18:38:47,643\tINFO trial_runner.py:587 -- Attempting to recover trial state from last checkpoint.\n",
      "2020-05-09 18:38:47,654\tWARNING signature.py:108 -- The function with_updates has a **kwargs argument, which is currently not supported.\n"
     ]
    },
    {
     "name": "stdout",
     "output_type": "stream",
     "text": [
      "\u001b[2m\u001b[36m(pid=5041)\u001b[0m Error in atexit._run_exitfuncs:\n",
      "\u001b[2m\u001b[36m(pid=5041)\u001b[0m Traceback (most recent call last):\n",
      "\u001b[2m\u001b[36m(pid=5041)\u001b[0m   File \"/home/lino/Documents/flow/flow/envs/base.py\", line 688, in terminate\n",
      "\u001b[2m\u001b[36m(pid=5041)\u001b[0m     self.k.close()\n",
      "\u001b[2m\u001b[36m(pid=5041)\u001b[0m   File \"/home/lino/Documents/flow/flow/core/kernel/kernel.py\", line 109, in close\n",
      "\u001b[2m\u001b[36m(pid=5041)\u001b[0m     self.simulation.close()\n",
      "\u001b[2m\u001b[36m(pid=5041)\u001b[0m   File \"/home/lino/Documents/flow/flow/core/kernel/simulation/traci.py\", line 64, in close\n",
      "\u001b[2m\u001b[36m(pid=5041)\u001b[0m     self.kernel_api.close()\n",
      "\u001b[2m\u001b[36m(pid=5041)\u001b[0m   File \"/home/lino/anaconda3/envs/flow/lib/python3.6/site-packages/traci/connection.py\", line 355, in close\n",
      "\u001b[2m\u001b[36m(pid=5040)\u001b[0m Error in atexit._run_exitfuncs:\n",
      "\u001b[2m\u001b[36m(pid=5040)\u001b[0m Traceback (most recent call last):\n",
      "\u001b[2m\u001b[36m(pid=5040)\u001b[0m   File \"/home/lino/Documents/flow/flow/envs/base.py\", line 688, in terminate\n",
      "\u001b[2m\u001b[36m(pid=5040)\u001b[0m     self.k.close()\n",
      "\u001b[2m\u001b[36m(pid=5040)\u001b[0m   File \"/home/lino/Documents/flow/flow/core/kernel/kernel.py\", line 109, in close\n",
      "\u001b[2m\u001b[36m(pid=5040)\u001b[0m     self.simulation.close()\n",
      "\u001b[2m\u001b[36m(pid=5040)\u001b[0m   File \"/home/lino/Documents/flow/flow/core/kernel/simulation/traci.py\", line 64, in close\n",
      "\u001b[2m\u001b[36m(pid=5040)\u001b[0m     self.kernel_api.close()\n",
      "\u001b[2m\u001b[36m(pid=5040)\u001b[0m   File \"/home/lino/anaconda3/envs/flow/lib/python3.6/site-packages/traci/connection.py\", line 355, in close\n",
      "\u001b[2m\u001b[36m(pid=5038)\u001b[0m 2020-05-09 18:38:47,630\tINFO trainer.py:366 -- Worker crashed during call to train(). To attempt to continue training without the failed worker, set `'ignore_worker_failures': True`.\n",
      "== Status ==\n",
      "Using FIFO scheduling algorithm.\n",
      "Resources requested: 4/4 CPUs, 0/0 GPUs\n",
      "Memory usage on this node: 4.3/14.7 GB\n",
      "Result logdir: /home/lino/ray_results/ISSY_trial01\n",
      "Number of trials: 1 ({'RUNNING': 1})\n",
      "RUNNING trials:\n",
      " - DQN_IssyEnv1-v0_0:\tRUNNING, 1 failures: /home/lino/ray_results/ISSY_trial01/DQN_IssyEnv1-v0_0_2020-05-09_18-37-59c9q56ov2/error_2020-05-09_18-38-47.txt\n",
      "\n",
      "\u001b[2m\u001b[36m(pid=5041)\u001b[0m     self._sendExact()\n",
      "\u001b[2m\u001b[36m(pid=5041)\u001b[0m   File \"/home/lino/anaconda3/envs/flow/lib/python3.6/site-packages/traci/connection.py\", line 99, in _sendExact\n",
      "\u001b[2m\u001b[36m(pid=5041)\u001b[0m     raise FatalTraCIError(\"connection closed by SUMO\")\n",
      "\u001b[2m\u001b[36m(pid=5041)\u001b[0m traci.exceptions.FatalTraCIError: connection closed by SUMO\n",
      "\u001b[2m\u001b[36m(pid=5040)\u001b[0m     self._sendExact()\n",
      "\u001b[2m\u001b[36m(pid=5040)\u001b[0m   File \"/home/lino/anaconda3/envs/flow/lib/python3.6/site-packages/traci/connection.py\", line 99, in _sendExact\n",
      "\u001b[2m\u001b[36m(pid=5040)\u001b[0m     raise FatalTraCIError(\"connection closed by SUMO\")\n",
      "\u001b[2m\u001b[36m(pid=5040)\u001b[0m traci.exceptions.FatalTraCIError: connection closed by SUMO\n",
      "\u001b[2m\u001b[36m(pid=5279)\u001b[0m /home/lino/anaconda3/envs/flow/lib/python3.6/site-packages/tensorflow/python/framework/dtypes.py:523: FutureWarning: Passing (type, 1) or '1type' as a synonym of type is deprecated; in a future version of numpy, it will be understood as (type, (1,)) / '(1,)type'.\n",
      "\u001b[2m\u001b[36m(pid=5279)\u001b[0m   _np_qint8 = np.dtype([(\"qint8\", np.int8, 1)])\n",
      "\u001b[2m\u001b[36m(pid=5279)\u001b[0m /home/lino/anaconda3/envs/flow/lib/python3.6/site-packages/tensorflow/python/framework/dtypes.py:524: FutureWarning: Passing (type, 1) or '1type' as a synonym of type is deprecated; in a future version of numpy, it will be understood as (type, (1,)) / '(1,)type'.\n",
      "\u001b[2m\u001b[36m(pid=5279)\u001b[0m   _np_quint8 = np.dtype([(\"quint8\", np.uint8, 1)])\n",
      "\u001b[2m\u001b[36m(pid=5279)\u001b[0m /home/lino/anaconda3/envs/flow/lib/python3.6/site-packages/tensorflow/python/framework/dtypes.py:525: FutureWarning: Passing (type, 1) or '1type' as a synonym of type is deprecated; in a future version of numpy, it will be understood as (type, (1,)) / '(1,)type'.\n",
      "\u001b[2m\u001b[36m(pid=5279)\u001b[0m   _np_qint16 = np.dtype([(\"qint16\", np.int16, 1)])\n",
      "\u001b[2m\u001b[36m(pid=5279)\u001b[0m /home/lino/anaconda3/envs/flow/lib/python3.6/site-packages/tensorflow/python/framework/dtypes.py:526: FutureWarning: Passing (type, 1) or '1type' as a synonym of type is deprecated; in a future version of numpy, it will be understood as (type, (1,)) / '(1,)type'.\n",
      "\u001b[2m\u001b[36m(pid=5279)\u001b[0m   _np_quint16 = np.dtype([(\"quint16\", np.uint16, 1)])\n",
      "\u001b[2m\u001b[36m(pid=5279)\u001b[0m /home/lino/anaconda3/envs/flow/lib/python3.6/site-packages/tensorflow/python/framework/dtypes.py:527: FutureWarning: Passing (type, 1) or '1type' as a synonym of type is deprecated; in a future version of numpy, it will be understood as (type, (1,)) / '(1,)type'.\n",
      "\u001b[2m\u001b[36m(pid=5279)\u001b[0m   _np_qint32 = np.dtype([(\"qint32\", np.int32, 1)])\n",
      "\u001b[2m\u001b[36m(pid=5279)\u001b[0m /home/lino/anaconda3/envs/flow/lib/python3.6/site-packages/tensorflow/python/framework/dtypes.py:532: FutureWarning: Passing (type, 1) or '1type' as a synonym of type is deprecated; in a future version of numpy, it will be understood as (type, (1,)) / '(1,)type'.\n",
      "\u001b[2m\u001b[36m(pid=5279)\u001b[0m   np_resource = np.dtype([(\"resource\", np.ubyte, 1)])\n",
      "\u001b[2m\u001b[36m(pid=5279)\u001b[0m Warning: Discarding unknown compound 'cycleway.opposite' in type 'cycleway.opposite|highway.residential' (first occurence for edge '4786965#0').\n",
      "\u001b[2m\u001b[36m(pid=5279)\u001b[0m Warning: Discarding unknown compound 'cycleway.opposite_track' in type 'cycleway.opposite_track|highway.residential' (first occurence for edge '4786972#0').\n",
      "\u001b[2m\u001b[36m(pid=5279)\u001b[0m Warning: Discarding unknown compound 'cycleway.opposite' in type 'cycleway.opposite|highway.living_street' (first occurence for edge '4795758').\n",
      "\u001b[2m\u001b[36m(pid=5279)\u001b[0m Warning: Discarding unknown compound 'cycleway.lane' in type 'cycleway.lane|highway.secondary' (first occurence for edge '100822066').\n",
      "\u001b[2m\u001b[36m(pid=5279)\u001b[0m Success.\n",
      "\u001b[2m\u001b[36m(pid=5279)\u001b[0m Warning: Removed a road without junctions: -21549451\n",
      "\u001b[2m\u001b[36m(pid=5279)\u001b[0m Warning: Removed a road without junctions: 21549451\n",
      "\u001b[2m\u001b[36m(pid=5279)\u001b[0m Warning: The traffic light '30624291' does not control any links; it will not be build.\n",
      "\u001b[2m\u001b[36m(pid=5279)\u001b[0m Warning: Could not build program '0' for traffic light '30624291'\n",
      "\u001b[2m\u001b[36m(pid=5279)\u001b[0m Warning: Minor green from edge '-352962858#0' to edge '4786972#0' exceeds 19.44m/s. Maybe a left-turn lane is missing.\n",
      "\u001b[2m\u001b[36m(pid=5279)\u001b[0m Warning: Minor green from edge '352962858#0' to edge '4794820' exceeds 19.44m/s. Maybe a left-turn lane is missing.\n",
      "\u001b[2m\u001b[36m(pid=5279)\u001b[0m Warning: Minor green from edge '-352962858#1' to edge '4795742#0' exceeds 19.44m/s. Maybe a left-turn lane is missing.\n",
      "\u001b[2m\u001b[36m(pid=5279)\u001b[0m 2020-05-09 18:38:51,829\tINFO rollout_worker.py:319 -- Creating policy evaluation worker 0 on CPU (please ignore any CUDA init errors)\n",
      "\u001b[2m\u001b[36m(pid=5279)\u001b[0m 2020-05-09 18:38:51.830354: I tensorflow/core/platform/cpu_feature_guard.cc:141] Your CPU supports instructions that this TensorFlow binary was not compiled to use: SSE4.1 SSE4.2 AVX\n",
      "\u001b[2m\u001b[36m(pid=5279)\u001b[0m WARNING:tensorflow:VARIABLES collection name is deprecated, please use GLOBAL_VARIABLES instead; VARIABLES will be removed after 2017-03-02.\n",
      "\u001b[2m\u001b[36m(pid=5279)\u001b[0m WARNING:tensorflow:VARIABLES collection name is deprecated, please use GLOBAL_VARIABLES instead; VARIABLES will be removed after 2017-03-02.\n",
      "\u001b[2m\u001b[36m(pid=5279)\u001b[0m 2020-05-09 18:38:52,195\tINFO dynamic_tf_policy.py:324 -- Initializing loss function with dummy input:\n",
      "\u001b[2m\u001b[36m(pid=5279)\u001b[0m \n",
      "\u001b[2m\u001b[36m(pid=5279)\u001b[0m { 'actions': <tf.Tensor 'default_policy/actions:0' shape=(?,) dtype=int64>,\n",
      "\u001b[2m\u001b[36m(pid=5279)\u001b[0m   'dones': <tf.Tensor 'default_policy/dones:0' shape=(?,) dtype=bool>,\n",
      "\u001b[2m\u001b[36m(pid=5279)\u001b[0m   'new_obs': <tf.Tensor 'default_policy/new_obs:0' shape=(?, 28) dtype=float32>,\n",
      "\u001b[2m\u001b[36m(pid=5279)\u001b[0m   'obs': <tf.Tensor 'default_policy/observation:0' shape=(?, 28) dtype=float32>,\n",
      "\u001b[2m\u001b[36m(pid=5279)\u001b[0m   'q_values': <tf.Tensor 'default_policy/q_values:0' shape=(?, 8) dtype=float32>,\n",
      "\u001b[2m\u001b[36m(pid=5279)\u001b[0m   'rewards': <tf.Tensor 'default_policy/rewards:0' shape=(?,) dtype=float32>,\n",
      "\u001b[2m\u001b[36m(pid=5279)\u001b[0m   'weights': <tf.Tensor 'default_policy/weights:0' shape=(?,) dtype=float32>}\n",
      "\u001b[2m\u001b[36m(pid=5279)\u001b[0m \n",
      "\u001b[2m\u001b[36m(pid=5279)\u001b[0m 2020-05-09 18:38:53,075\tINFO rollout_worker.py:742 -- Built policy map: {'default_policy': <ray.rllib.policy.tf_policy_template.DQNTFPolicy object at 0x7f5bb93540b8>}\n",
      "\u001b[2m\u001b[36m(pid=5279)\u001b[0m 2020-05-09 18:38:53,076\tINFO rollout_worker.py:743 -- Built preprocessor map: {'default_policy': <ray.rllib.models.preprocessors.NoPreprocessor object at 0x7f5bb9343d30>}\n",
      "\u001b[2m\u001b[36m(pid=5279)\u001b[0m 2020-05-09 18:38:53,076\tINFO rollout_worker.py:356 -- Built filter map: {'default_policy': <ray.rllib.utils.filter.NoFilter object at 0x7f5bb9343be0>}\n",
      "\u001b[2m\u001b[36m(pid=5279)\u001b[0m 2020-05-09 18:38:53,139\tWARNING util.py:47 -- Install gputil for GPU system monitoring.\n"
     ]
    },
    {
     "name": "stdout",
     "output_type": "stream",
     "text": [
      "\u001b[2m\u001b[36m(pid=5319)\u001b[0m /home/lino/anaconda3/envs/flow/lib/python3.6/site-packages/tensorflow/python/framework/dtypes.py:523: FutureWarning: Passing (type, 1) or '1type' as a synonym of type is deprecated; in a future version of numpy, it will be understood as (type, (1,)) / '(1,)type'.\n",
      "\u001b[2m\u001b[36m(pid=5319)\u001b[0m   _np_qint8 = np.dtype([(\"qint8\", np.int8, 1)])\n",
      "\u001b[2m\u001b[36m(pid=5319)\u001b[0m /home/lino/anaconda3/envs/flow/lib/python3.6/site-packages/tensorflow/python/framework/dtypes.py:524: FutureWarning: Passing (type, 1) or '1type' as a synonym of type is deprecated; in a future version of numpy, it will be understood as (type, (1,)) / '(1,)type'.\n",
      "\u001b[2m\u001b[36m(pid=5319)\u001b[0m   _np_quint8 = np.dtype([(\"quint8\", np.uint8, 1)])\n",
      "\u001b[2m\u001b[36m(pid=5319)\u001b[0m /home/lino/anaconda3/envs/flow/lib/python3.6/site-packages/tensorflow/python/framework/dtypes.py:525: FutureWarning: Passing (type, 1) or '1type' as a synonym of type is deprecated; in a future version of numpy, it will be understood as (type, (1,)) / '(1,)type'.\n",
      "\u001b[2m\u001b[36m(pid=5319)\u001b[0m   _np_qint16 = np.dtype([(\"qint16\", np.int16, 1)])\n",
      "\u001b[2m\u001b[36m(pid=5319)\u001b[0m /home/lino/anaconda3/envs/flow/lib/python3.6/site-packages/tensorflow/python/framework/dtypes.py:526: FutureWarning: Passing (type, 1) or '1type' as a synonym of type is deprecated; in a future version of numpy, it will be understood as (type, (1,)) / '(1,)type'.\n",
      "\u001b[2m\u001b[36m(pid=5319)\u001b[0m   _np_quint16 = np.dtype([(\"quint16\", np.uint16, 1)])\n",
      "\u001b[2m\u001b[36m(pid=5319)\u001b[0m /home/lino/anaconda3/envs/flow/lib/python3.6/site-packages/tensorflow/python/framework/dtypes.py:527: FutureWarning: Passing (type, 1) or '1type' as a synonym of type is deprecated; in a future version of numpy, it will be understood as (type, (1,)) / '(1,)type'.\n",
      "\u001b[2m\u001b[36m(pid=5319)\u001b[0m   _np_qint32 = np.dtype([(\"qint32\", np.int32, 1)])\n",
      "\u001b[2m\u001b[36m(pid=5319)\u001b[0m /home/lino/anaconda3/envs/flow/lib/python3.6/site-packages/tensorflow/python/framework/dtypes.py:532: FutureWarning: Passing (type, 1) or '1type' as a synonym of type is deprecated; in a future version of numpy, it will be understood as (type, (1,)) / '(1,)type'.\n",
      "\u001b[2m\u001b[36m(pid=5319)\u001b[0m   np_resource = np.dtype([(\"resource\", np.ubyte, 1)])\n",
      "\u001b[2m\u001b[36m(pid=5323)\u001b[0m /home/lino/anaconda3/envs/flow/lib/python3.6/site-packages/tensorflow/python/framework/dtypes.py:523: FutureWarning: Passing (type, 1) or '1type' as a synonym of type is deprecated; in a future version of numpy, it will be understood as (type, (1,)) / '(1,)type'.\n",
      "\u001b[2m\u001b[36m(pid=5323)\u001b[0m   _np_qint8 = np.dtype([(\"qint8\", np.int8, 1)])\n",
      "\u001b[2m\u001b[36m(pid=5323)\u001b[0m /home/lino/anaconda3/envs/flow/lib/python3.6/site-packages/tensorflow/python/framework/dtypes.py:524: FutureWarning: Passing (type, 1) or '1type' as a synonym of type is deprecated; in a future version of numpy, it will be understood as (type, (1,)) / '(1,)type'.\n",
      "\u001b[2m\u001b[36m(pid=5323)\u001b[0m   _np_quint8 = np.dtype([(\"quint8\", np.uint8, 1)])\n",
      "\u001b[2m\u001b[36m(pid=5323)\u001b[0m /home/lino/anaconda3/envs/flow/lib/python3.6/site-packages/tensorflow/python/framework/dtypes.py:525: FutureWarning: Passing (type, 1) or '1type' as a synonym of type is deprecated; in a future version of numpy, it will be understood as (type, (1,)) / '(1,)type'.\n",
      "\u001b[2m\u001b[36m(pid=5323)\u001b[0m   _np_qint16 = np.dtype([(\"qint16\", np.int16, 1)])\n",
      "\u001b[2m\u001b[36m(pid=5323)\u001b[0m /home/lino/anaconda3/envs/flow/lib/python3.6/site-packages/tensorflow/python/framework/dtypes.py:526: FutureWarning: Passing (type, 1) or '1type' as a synonym of type is deprecated; in a future version of numpy, it will be understood as (type, (1,)) / '(1,)type'.\n",
      "\u001b[2m\u001b[36m(pid=5323)\u001b[0m   _np_quint16 = np.dtype([(\"quint16\", np.uint16, 1)])\n",
      "\u001b[2m\u001b[36m(pid=5323)\u001b[0m /home/lino/anaconda3/envs/flow/lib/python3.6/site-packages/tensorflow/python/framework/dtypes.py:527: FutureWarning: Passing (type, 1) or '1type' as a synonym of type is deprecated; in a future version of numpy, it will be understood as (type, (1,)) / '(1,)type'.\n",
      "\u001b[2m\u001b[36m(pid=5323)\u001b[0m   _np_qint32 = np.dtype([(\"qint32\", np.int32, 1)])\n",
      "\u001b[2m\u001b[36m(pid=5323)\u001b[0m /home/lino/anaconda3/envs/flow/lib/python3.6/site-packages/tensorflow/python/framework/dtypes.py:532: FutureWarning: Passing (type, 1) or '1type' as a synonym of type is deprecated; in a future version of numpy, it will be understood as (type, (1,)) / '(1,)type'.\n",
      "\u001b[2m\u001b[36m(pid=5323)\u001b[0m   np_resource = np.dtype([(\"resource\", np.ubyte, 1)])\n",
      "\u001b[2m\u001b[36m(pid=5320)\u001b[0m /home/lino/anaconda3/envs/flow/lib/python3.6/site-packages/tensorflow/python/framework/dtypes.py:523: FutureWarning: Passing (type, 1) or '1type' as a synonym of type is deprecated; in a future version of numpy, it will be understood as (type, (1,)) / '(1,)type'.\n",
      "\u001b[2m\u001b[36m(pid=5320)\u001b[0m   _np_qint8 = np.dtype([(\"qint8\", np.int8, 1)])\n",
      "\u001b[2m\u001b[36m(pid=5320)\u001b[0m /home/lino/anaconda3/envs/flow/lib/python3.6/site-packages/tensorflow/python/framework/dtypes.py:524: FutureWarning: Passing (type, 1) or '1type' as a synonym of type is deprecated; in a future version of numpy, it will be understood as (type, (1,)) / '(1,)type'.\n",
      "\u001b[2m\u001b[36m(pid=5320)\u001b[0m   _np_quint8 = np.dtype([(\"quint8\", np.uint8, 1)])\n",
      "\u001b[2m\u001b[36m(pid=5320)\u001b[0m /home/lino/anaconda3/envs/flow/lib/python3.6/site-packages/tensorflow/python/framework/dtypes.py:525: FutureWarning: Passing (type, 1) or '1type' as a synonym of type is deprecated; in a future version of numpy, it will be understood as (type, (1,)) / '(1,)type'.\n",
      "\u001b[2m\u001b[36m(pid=5320)\u001b[0m   _np_qint16 = np.dtype([(\"qint16\", np.int16, 1)])\n",
      "\u001b[2m\u001b[36m(pid=5320)\u001b[0m /home/lino/anaconda3/envs/flow/lib/python3.6/site-packages/tensorflow/python/framework/dtypes.py:526: FutureWarning: Passing (type, 1) or '1type' as a synonym of type is deprecated; in a future version of numpy, it will be understood as (type, (1,)) / '(1,)type'.\n",
      "\u001b[2m\u001b[36m(pid=5320)\u001b[0m   _np_quint16 = np.dtype([(\"quint16\", np.uint16, 1)])\n",
      "\u001b[2m\u001b[36m(pid=5320)\u001b[0m /home/lino/anaconda3/envs/flow/lib/python3.6/site-packages/tensorflow/python/framework/dtypes.py:527: FutureWarning: Passing (type, 1) or '1type' as a synonym of type is deprecated; in a future version of numpy, it will be understood as (type, (1,)) / '(1,)type'.\n",
      "\u001b[2m\u001b[36m(pid=5320)\u001b[0m   _np_qint32 = np.dtype([(\"qint32\", np.int32, 1)])\n",
      "\u001b[2m\u001b[36m(pid=5320)\u001b[0m /home/lino/anaconda3/envs/flow/lib/python3.6/site-packages/tensorflow/python/framework/dtypes.py:532: FutureWarning: Passing (type, 1) or '1type' as a synonym of type is deprecated; in a future version of numpy, it will be understood as (type, (1,)) / '(1,)type'.\n",
      "\u001b[2m\u001b[36m(pid=5320)\u001b[0m   np_resource = np.dtype([(\"resource\", np.ubyte, 1)])\n"
     ]
    },
    {
     "name": "stderr",
     "output_type": "stream",
     "text": [
      "2020-05-09 18:38:56,509\tERROR worker.py:1716 -- listen_error_messages_raylet: Error 111 connecting to 192.168.0.48:27839. Connection refused.\n",
      "2020-05-09 18:38:56,512\tERROR worker.py:1616 -- print_logs: Error 111 connecting to 192.168.0.48:27839. Connection refused.\n",
      "2020-05-09 18:38:56,512\tERROR import_thread.py:89 -- ImportThread: Error 111 connecting to 192.168.0.48:27839. Connection refused.\n"
     ]
    },
    {
     "ename": "KeyboardInterrupt",
     "evalue": "",
     "output_type": "error",
     "traceback": [
      "\u001b[0;31m---------------------------------------------------------------------------\u001b[0m",
      "\u001b[0;31mKeyboardInterrupt\u001b[0m                         Traceback (most recent call last)",
      "\u001b[0;32m<ipython-input-12-a10210c8b458>\u001b[0m in \u001b[0;36m<module>\u001b[0;34m\u001b[0m\n\u001b[1;32m      8\u001b[0m \u001b[0;34m\u001b[0m\u001b[0m\n\u001b[1;32m      9\u001b[0m \u001b[0;34m\u001b[0m\u001b[0m\n\u001b[0;32m---> 10\u001b[0;31m \u001b[0mtrials\u001b[0m \u001b[0;34m=\u001b[0m \u001b[0mrun_experiments\u001b[0m\u001b[0;34m(\u001b[0m\u001b[0;34m{\u001b[0m\u001b[0mflow_params\u001b[0m\u001b[0;34m[\u001b[0m\u001b[0;34m\"exp_tag\"\u001b[0m\u001b[0;34m]\u001b[0m\u001b[0;34m:\u001b[0m \u001b[0mexp_tag\u001b[0m\u001b[0;34m}\u001b[0m\u001b[0;34m)\u001b[0m\u001b[0;34m\u001b[0m\u001b[0;34m\u001b[0m\u001b[0m\n\u001b[0m",
      "\u001b[0;32m~/anaconda3/envs/flow/lib/python3.6/site-packages/ray/tune/tune.py\u001b[0m in \u001b[0;36mrun_experiments\u001b[0;34m(experiments, search_alg, scheduler, with_server, server_port, verbose, resume, queue_trials, reuse_actors, trial_executor, raise_on_failed_trial)\u001b[0m\n\u001b[1;32m    322\u001b[0m             \u001b[0mtrial_executor\u001b[0m\u001b[0;34m=\u001b[0m\u001b[0mtrial_executor\u001b[0m\u001b[0;34m,\u001b[0m\u001b[0;34m\u001b[0m\u001b[0;34m\u001b[0m\u001b[0m\n\u001b[1;32m    323\u001b[0m             \u001b[0mraise_on_failed_trial\u001b[0m\u001b[0;34m=\u001b[0m\u001b[0mraise_on_failed_trial\u001b[0m\u001b[0;34m,\u001b[0m\u001b[0;34m\u001b[0m\u001b[0;34m\u001b[0m\u001b[0m\n\u001b[0;32m--> 324\u001b[0;31m             return_trials=True)\n\u001b[0m\u001b[1;32m    325\u001b[0m     \u001b[0;32mreturn\u001b[0m \u001b[0mtrials\u001b[0m\u001b[0;34m\u001b[0m\u001b[0;34m\u001b[0m\u001b[0m\n",
      "\u001b[0;32m~/anaconda3/envs/flow/lib/python3.6/site-packages/ray/tune/tune.py\u001b[0m in \u001b[0;36mrun\u001b[0;34m(run_or_experiment, name, stop, config, resources_per_trial, num_samples, local_dir, upload_dir, trial_name_creator, loggers, sync_to_cloud, sync_to_driver, checkpoint_freq, checkpoint_at_end, keep_checkpoints_num, checkpoint_score_attr, global_checkpoint_period, export_formats, max_failures, restore, search_alg, scheduler, with_server, server_port, verbose, resume, queue_trials, reuse_actors, trial_executor, raise_on_failed_trial, return_trials, ray_auto_init, sync_function)\u001b[0m\n\u001b[1;32m    242\u001b[0m     \u001b[0mlast_debug\u001b[0m \u001b[0;34m=\u001b[0m \u001b[0;36m0\u001b[0m\u001b[0;34m\u001b[0m\u001b[0;34m\u001b[0m\u001b[0m\n\u001b[1;32m    243\u001b[0m     \u001b[0;32mwhile\u001b[0m \u001b[0;32mnot\u001b[0m \u001b[0mrunner\u001b[0m\u001b[0;34m.\u001b[0m\u001b[0mis_finished\u001b[0m\u001b[0;34m(\u001b[0m\u001b[0;34m)\u001b[0m\u001b[0;34m:\u001b[0m\u001b[0;34m\u001b[0m\u001b[0;34m\u001b[0m\u001b[0m\n\u001b[0;32m--> 244\u001b[0;31m         \u001b[0mrunner\u001b[0m\u001b[0;34m.\u001b[0m\u001b[0mstep\u001b[0m\u001b[0;34m(\u001b[0m\u001b[0;34m)\u001b[0m\u001b[0;34m\u001b[0m\u001b[0;34m\u001b[0m\u001b[0m\n\u001b[0m\u001b[1;32m    245\u001b[0m         \u001b[0;32mif\u001b[0m \u001b[0mtime\u001b[0m\u001b[0;34m.\u001b[0m\u001b[0mtime\u001b[0m\u001b[0;34m(\u001b[0m\u001b[0;34m)\u001b[0m \u001b[0;34m-\u001b[0m \u001b[0mlast_debug\u001b[0m \u001b[0;34m>\u001b[0m \u001b[0mDEBUG_PRINT_INTERVAL\u001b[0m\u001b[0;34m:\u001b[0m\u001b[0;34m\u001b[0m\u001b[0;34m\u001b[0m\u001b[0m\n\u001b[1;32m    246\u001b[0m             \u001b[0;32mif\u001b[0m \u001b[0mverbose\u001b[0m\u001b[0;34m:\u001b[0m\u001b[0;34m\u001b[0m\u001b[0;34m\u001b[0m\u001b[0m\n",
      "\u001b[0;32m~/anaconda3/envs/flow/lib/python3.6/site-packages/ray/tune/trial_runner.py\u001b[0m in \u001b[0;36mstep\u001b[0;34m(self)\u001b[0m\n\u001b[1;32m    326\u001b[0m                 \u001b[0mself\u001b[0m\u001b[0;34m.\u001b[0m\u001b[0mtrial_executor\u001b[0m\u001b[0;34m.\u001b[0m\u001b[0mstart_trial\u001b[0m\u001b[0;34m(\u001b[0m\u001b[0mnext_trial\u001b[0m\u001b[0;34m)\u001b[0m\u001b[0;34m\u001b[0m\u001b[0;34m\u001b[0m\u001b[0m\n\u001b[1;32m    327\u001b[0m         \u001b[0;32melif\u001b[0m \u001b[0mself\u001b[0m\u001b[0;34m.\u001b[0m\u001b[0mtrial_executor\u001b[0m\u001b[0;34m.\u001b[0m\u001b[0mget_running_trials\u001b[0m\u001b[0;34m(\u001b[0m\u001b[0;34m)\u001b[0m\u001b[0;34m:\u001b[0m\u001b[0;34m\u001b[0m\u001b[0;34m\u001b[0m\u001b[0m\n\u001b[0;32m--> 328\u001b[0;31m             \u001b[0mself\u001b[0m\u001b[0;34m.\u001b[0m\u001b[0m_process_events\u001b[0m\u001b[0;34m(\u001b[0m\u001b[0;34m)\u001b[0m  \u001b[0;31m# blocking\u001b[0m\u001b[0;34m\u001b[0m\u001b[0;34m\u001b[0m\u001b[0m\n\u001b[0m\u001b[1;32m    329\u001b[0m         \u001b[0;32melse\u001b[0m\u001b[0;34m:\u001b[0m\u001b[0;34m\u001b[0m\u001b[0;34m\u001b[0m\u001b[0m\n\u001b[1;32m    330\u001b[0m             \u001b[0;32mfor\u001b[0m \u001b[0mtrial\u001b[0m \u001b[0;32min\u001b[0m \u001b[0mself\u001b[0m\u001b[0;34m.\u001b[0m\u001b[0m_trials\u001b[0m\u001b[0;34m:\u001b[0m\u001b[0;34m\u001b[0m\u001b[0;34m\u001b[0m\u001b[0m\n",
      "\u001b[0;32m~/anaconda3/envs/flow/lib/python3.6/site-packages/ray/tune/trial_runner.py\u001b[0m in \u001b[0;36m_process_events\u001b[0;34m(self)\u001b[0m\n\u001b[1;32m    490\u001b[0m \u001b[0;34m\u001b[0m\u001b[0m\n\u001b[1;32m    491\u001b[0m     \u001b[0;32mdef\u001b[0m \u001b[0m_process_events\u001b[0m\u001b[0;34m(\u001b[0m\u001b[0mself\u001b[0m\u001b[0;34m)\u001b[0m\u001b[0;34m:\u001b[0m\u001b[0;34m\u001b[0m\u001b[0;34m\u001b[0m\u001b[0m\n\u001b[0;32m--> 492\u001b[0;31m         \u001b[0mtrial\u001b[0m \u001b[0;34m=\u001b[0m \u001b[0mself\u001b[0m\u001b[0;34m.\u001b[0m\u001b[0mtrial_executor\u001b[0m\u001b[0;34m.\u001b[0m\u001b[0mget_next_available_trial\u001b[0m\u001b[0;34m(\u001b[0m\u001b[0;34m)\u001b[0m  \u001b[0;31m# blocking\u001b[0m\u001b[0;34m\u001b[0m\u001b[0;34m\u001b[0m\u001b[0m\n\u001b[0m\u001b[1;32m    493\u001b[0m         \u001b[0;32mwith\u001b[0m \u001b[0mwarn_if_slow\u001b[0m\u001b[0;34m(\u001b[0m\u001b[0;34m\"process_trial\"\u001b[0m\u001b[0;34m)\u001b[0m\u001b[0;34m:\u001b[0m\u001b[0;34m\u001b[0m\u001b[0;34m\u001b[0m\u001b[0m\n\u001b[1;32m    494\u001b[0m             \u001b[0mself\u001b[0m\u001b[0;34m.\u001b[0m\u001b[0m_process_trial\u001b[0m\u001b[0;34m(\u001b[0m\u001b[0mtrial\u001b[0m\u001b[0;34m)\u001b[0m\u001b[0;34m\u001b[0m\u001b[0;34m\u001b[0m\u001b[0m\n",
      "\u001b[0;32m~/anaconda3/envs/flow/lib/python3.6/site-packages/ray/tune/ray_trial_executor.py\u001b[0m in \u001b[0;36mget_next_available_trial\u001b[0;34m(self)\u001b[0m\n\u001b[1;32m    316\u001b[0m         \u001b[0;31m# See https://github.com/ray-project/ray/issues/4211 for details.\u001b[0m\u001b[0;34m\u001b[0m\u001b[0;34m\u001b[0m\u001b[0;34m\u001b[0m\u001b[0m\n\u001b[1;32m    317\u001b[0m         \u001b[0mstart\u001b[0m \u001b[0;34m=\u001b[0m \u001b[0mtime\u001b[0m\u001b[0;34m.\u001b[0m\u001b[0mtime\u001b[0m\u001b[0;34m(\u001b[0m\u001b[0;34m)\u001b[0m\u001b[0;34m\u001b[0m\u001b[0;34m\u001b[0m\u001b[0m\n\u001b[0;32m--> 318\u001b[0;31m         \u001b[0;34m[\u001b[0m\u001b[0mresult_id\u001b[0m\u001b[0;34m]\u001b[0m\u001b[0;34m,\u001b[0m \u001b[0m_\u001b[0m \u001b[0;34m=\u001b[0m \u001b[0mray\u001b[0m\u001b[0;34m.\u001b[0m\u001b[0mwait\u001b[0m\u001b[0;34m(\u001b[0m\u001b[0mshuffled_results\u001b[0m\u001b[0;34m)\u001b[0m\u001b[0;34m\u001b[0m\u001b[0;34m\u001b[0m\u001b[0m\n\u001b[0m\u001b[1;32m    319\u001b[0m         \u001b[0mwait_time\u001b[0m \u001b[0;34m=\u001b[0m \u001b[0mtime\u001b[0m\u001b[0;34m.\u001b[0m\u001b[0mtime\u001b[0m\u001b[0;34m(\u001b[0m\u001b[0;34m)\u001b[0m \u001b[0;34m-\u001b[0m \u001b[0mstart\u001b[0m\u001b[0;34m\u001b[0m\u001b[0;34m\u001b[0m\u001b[0m\n\u001b[1;32m    320\u001b[0m         \u001b[0;32mif\u001b[0m \u001b[0mwait_time\u001b[0m \u001b[0;34m>\u001b[0m \u001b[0mNONTRIVIAL_WAIT_TIME_THRESHOLD_S\u001b[0m\u001b[0;34m:\u001b[0m\u001b[0;34m\u001b[0m\u001b[0;34m\u001b[0m\u001b[0m\n",
      "\u001b[0;32m~/anaconda3/envs/flow/lib/python3.6/site-packages/ray/worker.py\u001b[0m in \u001b[0;36mwait\u001b[0;34m(object_ids, num_returns, timeout)\u001b[0m\n\u001b[1;32m   2370\u001b[0m             \u001b[0mtimeout_milliseconds\u001b[0m\u001b[0;34m,\u001b[0m\u001b[0;34m\u001b[0m\u001b[0;34m\u001b[0m\u001b[0m\n\u001b[1;32m   2371\u001b[0m             \u001b[0;32mFalse\u001b[0m\u001b[0;34m,\u001b[0m\u001b[0;34m\u001b[0m\u001b[0;34m\u001b[0m\u001b[0m\n\u001b[0;32m-> 2372\u001b[0;31m             \u001b[0mworker\u001b[0m\u001b[0;34m.\u001b[0m\u001b[0mcurrent_task_id\u001b[0m\u001b[0;34m,\u001b[0m\u001b[0;34m\u001b[0m\u001b[0;34m\u001b[0m\u001b[0m\n\u001b[0m\u001b[1;32m   2373\u001b[0m         )\n\u001b[1;32m   2374\u001b[0m         \u001b[0;32mreturn\u001b[0m \u001b[0mready_ids\u001b[0m\u001b[0;34m,\u001b[0m \u001b[0mremaining_ids\u001b[0m\u001b[0;34m\u001b[0m\u001b[0;34m\u001b[0m\u001b[0m\n",
      "\u001b[0;32mpython/ray/_raylet.pyx\u001b[0m in \u001b[0;36mray._raylet.RayletClient.wait\u001b[0;34m()\u001b[0m\n",
      "\u001b[0;32mpython/ray/_raylet.pyx\u001b[0m in \u001b[0;36mray._raylet.check_status\u001b[0;34m()\u001b[0m\n",
      "\u001b[0;32m~/anaconda3/envs/flow/lib/python3.6/site-packages/ray/exceptions.py\u001b[0m in \u001b[0;36m__init__\u001b[0;34m(self, client_exc)\u001b[0m\n\u001b[1;32m     84\u001b[0m     \"\"\"\n\u001b[1;32m     85\u001b[0m \u001b[0;34m\u001b[0m\u001b[0m\n\u001b[0;32m---> 86\u001b[0;31m     \u001b[0;32mdef\u001b[0m \u001b[0m__init__\u001b[0m\u001b[0;34m(\u001b[0m\u001b[0mself\u001b[0m\u001b[0;34m,\u001b[0m \u001b[0mclient_exc\u001b[0m\u001b[0;34m)\u001b[0m\u001b[0;34m:\u001b[0m\u001b[0;34m\u001b[0m\u001b[0;34m\u001b[0m\u001b[0m\n\u001b[0m\u001b[1;32m     87\u001b[0m         \u001b[0mself\u001b[0m\u001b[0;34m.\u001b[0m\u001b[0mclient_exc\u001b[0m \u001b[0;34m=\u001b[0m \u001b[0mclient_exc\u001b[0m\u001b[0;34m\u001b[0m\u001b[0;34m\u001b[0m\u001b[0m\n\u001b[1;32m     88\u001b[0m \u001b[0;34m\u001b[0m\u001b[0m\n",
      "\u001b[0;31mKeyboardInterrupt\u001b[0m: "
     ]
    }
   ],
   "source": [
    "exp_tag = {\"run\": alg_run,\n",
    "           \"env\": gym_name,\n",
    "           \"config\": {**config},\n",
    "           \"checkpoint_freq\": 20,\n",
    "           \"checkpoint_at_end\": True,\n",
    "           \"max_failures\": 999,\n",
    "           \"stop\": {\"training_iteration\": 20}}\n",
    "\n",
    "\n",
    "trials = run_experiments({flow_params[\"exp_tag\"]: exp_tag})"
   ]
  },
  {
   "cell_type": "code",
   "execution_count": null,
   "metadata": {},
   "outputs": [],
   "source": []
  },
  {
   "cell_type": "code",
   "execution_count": null,
   "metadata": {},
   "outputs": [],
   "source": []
  },
  {
   "cell_type": "code",
   "execution_count": null,
   "metadata": {},
   "outputs": [],
   "source": []
  }
 ],
 "metadata": {
  "kernelspec": {
   "display_name": "Python 3",
   "language": "python",
   "name": "python3"
  },
  "language_info": {
   "codemirror_mode": {
    "name": "ipython",
    "version": 3
   },
   "file_extension": ".py",
   "mimetype": "text/x-python",
   "name": "python",
   "nbconvert_exporter": "python",
   "pygments_lexer": "ipython3",
   "version": "3.6.8"
  },
  "toc": {
   "base_numbering": 1,
   "nav_menu": {},
   "number_sections": true,
   "sideBar": true,
   "skip_h1_title": false,
   "title_cell": "Table of Contents",
   "title_sidebar": "Contents",
   "toc_cell": false,
   "toc_position": {},
   "toc_section_display": true,
   "toc_window_display": false
  },
  "varInspector": {
   "cols": {
    "lenName": 16,
    "lenType": 16,
    "lenVar": 40
   },
   "kernels_config": {
    "python": {
     "delete_cmd_postfix": "",
     "delete_cmd_prefix": "del ",
     "library": "var_list.py",
     "varRefreshCmd": "print(var_dic_list())"
    },
    "r": {
     "delete_cmd_postfix": ") ",
     "delete_cmd_prefix": "rm(",
     "library": "var_list.r",
     "varRefreshCmd": "cat(var_dic_list()) "
    }
   },
   "types_to_exclude": [
    "module",
    "function",
    "builtin_function_or_method",
    "instance",
    "_Feature"
   ],
   "window_display": false
  }
 },
 "nbformat": 4,
 "nbformat_minor": 2
}
