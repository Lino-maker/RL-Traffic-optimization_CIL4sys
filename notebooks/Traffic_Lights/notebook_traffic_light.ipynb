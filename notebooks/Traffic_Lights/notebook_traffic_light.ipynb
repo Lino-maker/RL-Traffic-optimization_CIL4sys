{
 "cells": [
  {
   "cell_type": "markdown",
   "metadata": {},
   "source": [
    "# Train Traffic Lights Agents\n",
    "\n",
    "Utilise les fonctions de @Binetruy\n",
    "\n",
    "- crée un network à partir d'un fichier .osm et des trajectoires de véhiculess\n",
    "- ajoute un flux de voiture sur les routes\n",
    "- personnalise un Environnement pour le RL\n",
    "- integre l'environnement pour RLlib et execute la simulation\n"
   ]
  },
  {
   "cell_type": "code",
   "execution_count": 1,
   "metadata": {},
   "outputs": [
    {
     "name": "stderr",
     "output_type": "stream",
     "text": [
      "/home/lino/anaconda3/envs/flow/lib/python3.6/site-packages/tensorflow/python/framework/dtypes.py:523: FutureWarning: Passing (type, 1) or '1type' as a synonym of type is deprecated; in a future version of numpy, it will be understood as (type, (1,)) / '(1,)type'.\n",
      "  _np_qint8 = np.dtype([(\"qint8\", np.int8, 1)])\n",
      "/home/lino/anaconda3/envs/flow/lib/python3.6/site-packages/tensorflow/python/framework/dtypes.py:524: FutureWarning: Passing (type, 1) or '1type' as a synonym of type is deprecated; in a future version of numpy, it will be understood as (type, (1,)) / '(1,)type'.\n",
      "  _np_quint8 = np.dtype([(\"quint8\", np.uint8, 1)])\n",
      "/home/lino/anaconda3/envs/flow/lib/python3.6/site-packages/tensorflow/python/framework/dtypes.py:525: FutureWarning: Passing (type, 1) or '1type' as a synonym of type is deprecated; in a future version of numpy, it will be understood as (type, (1,)) / '(1,)type'.\n",
      "  _np_qint16 = np.dtype([(\"qint16\", np.int16, 1)])\n",
      "/home/lino/anaconda3/envs/flow/lib/python3.6/site-packages/tensorflow/python/framework/dtypes.py:526: FutureWarning: Passing (type, 1) or '1type' as a synonym of type is deprecated; in a future version of numpy, it will be understood as (type, (1,)) / '(1,)type'.\n",
      "  _np_quint16 = np.dtype([(\"quint16\", np.uint16, 1)])\n",
      "/home/lino/anaconda3/envs/flow/lib/python3.6/site-packages/tensorflow/python/framework/dtypes.py:527: FutureWarning: Passing (type, 1) or '1type' as a synonym of type is deprecated; in a future version of numpy, it will be understood as (type, (1,)) / '(1,)type'.\n",
      "  _np_qint32 = np.dtype([(\"qint32\", np.int32, 1)])\n",
      "/home/lino/anaconda3/envs/flow/lib/python3.6/site-packages/tensorflow/python/framework/dtypes.py:532: FutureWarning: Passing (type, 1) or '1type' as a synonym of type is deprecated; in a future version of numpy, it will be understood as (type, (1,)) / '(1,)type'.\n",
      "  np_resource = np.dtype([(\"resource\", np.ubyte, 1)])\n"
     ]
    }
   ],
   "source": [
    "from flow.core.params import VehicleParams\n",
    "from flow.core.params import NetParams, SumoCarFollowingParams\n",
    "from flow.core.params import InitialConfig\n",
    "from flow.core.params import EnvParams\n",
    "from flow.core.params import SumoParams\n",
    "from flow.controllers import RLController, IDMController\n",
    "from flow.networks.IssyOSMNetwork import IssyOSMNetwork\n",
    "from flow.core.params import InFlows\n",
    "from collections import OrderedDict\n",
    "import json\n",
    "import ray\n",
    "from ray.rllib.agents.registry import get_agent_class\n",
    "from ray.tune import run_experiments\n",
    "from ray.tune.registry import register_env\n",
    "from flow.utils.registry import make_create_env\n",
    "from flow.utils.rllib import FlowParamsEncoder\n",
    "from flow.core.params import VehicleParams, SumoCarFollowingParams"
   ]
  },
  {
   "cell_type": "markdown",
   "metadata": {},
   "source": [
    "## Importation du network d'Issy"
   ]
  },
  {
   "cell_type": "markdown",
   "metadata": {},
   "source": [
    "On vérifie si IssyOSMNetwork est bien importé."
   ]
  },
  {
   "cell_type": "code",
   "execution_count": 2,
   "metadata": {},
   "outputs": [
    {
     "name": "stdout",
     "output_type": "stream",
     "text": [
      "{'speed_limit': 50}\n",
      "['-100822066', '4794817', '4783299#0', '155558218']\n"
     ]
    }
   ],
   "source": [
    "from flow.networks.IssyOSMNetwork import ADDITIONAL_NET_PARAMS, EDGES_DISTRIBUTION\n",
    "\n",
    "print(ADDITIONAL_NET_PARAMS)\n",
    "print(EDGES_DISTRIBUTION)"
   ]
  },
  {
   "cell_type": "markdown",
   "metadata": {},
   "source": [
    "## Ajoute les flux de voiture"
   ]
  },
  {
   "cell_type": "markdown",
   "metadata": {},
   "source": [
    "`IDMController` : The Intelligent Driver Model is a car-following model specifying vehicle dynamics by a differential equation for acceleration $\\dot{v}$.\n",
    "\n",
    "`RLController` : a trainable autuonomous vehicle whose actions are dictated by an RL agent. "
   ]
  },
  {
   "cell_type": "code",
   "execution_count": 3,
   "metadata": {},
   "outputs": [],
   "source": [
    "vehicles = VehicleParams()\n",
    "vehicles.add(\"human\",acceleration_controller=(IDMController, {}), num_vehicles=10)\n",
    "vehicles.add(\"rl\",acceleration_controller=(RLController, {}), num_vehicles=2)"
   ]
  },
  {
   "cell_type": "markdown",
   "metadata": {},
   "source": [
    "- `vehs_per_hour`: nombre de vehicule par heure, uniformément espacés. Par exemple, comme il y a $60 \\times 60 = 3600$ secondes dans une heure, le parametre $\\frac{3600}{5}=720$ va faire rentrer des vehicules dans le network toutes les $5$ secondes.\n",
    "\n",
    "- `probability`: c'est la probabilité qu'un véhicule entre dans le network toutes les secondes. Par exemple, si on la fixe à $0.2$, alors chaque seconde de la simulation un véhicule aura $\\frac{1}{5}$ chance d'entrer dans le network\n",
    "\n",
    "- `period`: C'est le temps en secondes entre 2 véhicules qui sont insérés. Par exemple, le fixer à $5$ ferait rentrer des véhicules dans le network toutes les $5$ secondes (ce qui équivaut à mettre `vehs_per_hour` à $720$).\n",
    "\n",
    "<font color='red'>\n",
    "$\\rightarrow$ Exactement 1 seul de ces 3 paramètres doit être configurer !\n",
    "</font>"
   ]
  },
  {
   "cell_type": "code",
   "execution_count": 4,
   "metadata": {},
   "outputs": [],
   "source": [
    "inflow = InFlows()\n",
    "\n",
    "inflow.add(veh_type      = \"human\",\n",
    "           edge          = \"4794817\",\n",
    "           probability   = 0.3, \n",
    "           depart_speed  = 7,\n",
    "           depart_lane   = \"random\")\n",
    "\n",
    "inflow.add(veh_type      = \"human\",\n",
    "           edge          = \"4783299#0\",\n",
    "           probability   = 0.2,\n",
    "           depart_speed  = 7,\n",
    "           depart_lane   = \"random\")\n",
    "\n",
    "inflow.add(veh_type       = \"human\",\n",
    "           edge           = \"-100822066\",\n",
    "           probability    = 0.25,\n",
    "           depart_speed   = 7,\n",
    "           depart_lane    = \"random\")\n",
    "\n",
    "inflow.add(veh_type       = \"rl\",\n",
    "           edge           = \"-100822066\",\n",
    "           probability    = 0.05,\n",
    "           depart_speed   = 7,\n",
    "           depart_lane    = \"random\",\n",
    "           color          = \"blue\")\n",
    "\n",
    "inflow.add(veh_type       = \"human\",\n",
    "           edge          = \"155558218\",\n",
    "           probability   = 0.2,\n",
    "           depart_speed  = 7,\n",
    "           depart_lane   = \"random\")"
   ]
  },
  {
   "cell_type": "markdown",
   "metadata": {},
   "source": [
    "## Personnalise un Environnement pour le RL\n",
    "\n",
    "plus de méthodes sur : http://berkeleyflow.readthedocs.io/en/latest/"
   ]
  },
  {
   "cell_type": "code",
   "execution_count": 5,
   "metadata": {},
   "outputs": [],
   "source": [
    "from flow.envs.IssyEnv import IssyEnv1"
   ]
  },
  {
   "cell_type": "markdown",
   "metadata": {},
   "source": [
    "## Lance une simulation avec Training RLlib\n",
    "\n",
    "Pour qu'un environnement puisse être entrainé, l'environnement doit être accessible via l'importation à partir de flow.envs. \n",
    "\n",
    "\n",
    "<font color='red'>\n",
    "Copier l'environnement créé dans un fichier .py et on importe l'environnement dans `flow.envs.__init__.py`.\n",
    "Mettre le chemin absolu du fichier .osm .\n",
    "</font> "
   ]
  },
  {
   "cell_type": "code",
   "execution_count": 6,
   "metadata": {},
   "outputs": [],
   "source": [
    "# possibles actions\n",
    "action_spec = OrderedDict({ \"30677963\": [ \"GGGGrrrGGGG\", \"rrrrGGGrrrr\"],\n",
    "                            \"30763263\": [\"GGGGGGGGGG\",  \"rrrrrrrrrr\"],\n",
    "                            \"30677810\": [ \"GGrr\", \"rrGG\"]})"
   ]
  },
  {
   "cell_type": "code",
   "execution_count": 7,
   "metadata": {
    "ExecuteTime": {
     "end_time": "2020-03-24T13:09:50.179116Z",
     "start_time": "2020-03-24T13:09:49.899185Z"
    }
   },
   "outputs": [],
   "source": [
    "horizon  = 1000\n",
    "SIM_STEP = 0.1\n",
    "n_veh    = 12\n",
    "rollouts = 10\n",
    "n_cpus   = 2\n",
    "discount_rate = 0.999"
   ]
  },
  {
   "cell_type": "code",
   "execution_count": 8,
   "metadata": {
    "ExecuteTime": {
     "end_time": "2020-03-24T13:09:50.179116Z",
     "start_time": "2020-03-24T13:09:49.899185Z"
    }
   },
   "outputs": [],
   "source": [
    "# SUMO PARAM\n",
    "sumo_params = SumoParams(sim_step=SIM_STEP, render=False, restart_instance=True)\n",
    "\n",
    "# ENVIRONMENT PARAM\n",
    "ADDITIONAL_ENV_PARAMS = {\"beta\": n_veh, \"action_spec\": action_spec, \"algorithm\": \"DQN\", \"tl_constraint_min\": 100,  \"tl_constraint_max\": 600, \"sim_step\": SIM_STEP}\n",
    "env_params = EnvParams(additional_params=ADDITIONAL_ENV_PARAMS, horizon=horizon, warmup_steps=1)\n",
    "\n",
    "# NETWORK PARAM\n",
    "path_file  = '/home/lino/Documents/DQN_CIL4SYS/DQN_CIL4SYS/notebooks/issy.osm'\n",
    "net_params = NetParams(inflows=inflow, osm_path=path_file) \n",
    "\n",
    "# NETWORK\n",
    "network = IssyOSMNetwork\n",
    "\n",
    "# INITIAL CONFIG\n",
    "initial_config = InitialConfig(edges_distribution=EDGES_DISTRIBUTION)\n",
    "\n",
    "\n",
    "flow_params = dict( exp_tag   = \"ISSY_traffic\", \n",
    "                    env_name  = IssyEnv1,  \n",
    "                    network   = IssyOSMNetwork,\n",
    "                    simulator = 'traci',\n",
    "                    sim       = sumo_params,\n",
    "                    env       = env_params,\n",
    "                    net       = net_params,\n",
    "                    veh       = vehicles,\n",
    "                    initial   = initial_config)"
   ]
  },
  {
   "cell_type": "markdown",
   "metadata": {},
   "source": [
    "# Setup RLlib library"
   ]
  },
  {
   "cell_type": "markdown",
   "metadata": {},
   "source": [
    "Configures RLlib DQN algorithm to be used to train the RL model."
   ]
  },
  {
   "cell_type": "code",
   "execution_count": 9,
   "metadata": {},
   "outputs": [],
   "source": [
    "def setup_DQN_exp():\n",
    "\n",
    "    alg_run   = 'DQN'\n",
    "    agent_cls = get_agent_class(alg_run)\n",
    "    config    = agent_cls._default_config.copy()\n",
    "    config['num_workers']      = n_cpus\n",
    "    config['train_batch_size'] = horizon * rollouts\n",
    "    config['gamma']            = discount_rate\n",
    "    config['clip_actions']     = False  # FIXME(ev) temporary ray bug\n",
    "    config['horizon']          = horizon\n",
    "    config[\"hiddens\"]          = [256]\n",
    "    config['model'].update({'fcnet_hiddens': [32, 32]})\n",
    "\n",
    "    # save the flow params for replay\n",
    "    flow_json = json.dumps(flow_params, cls=FlowParamsEncoder, sort_keys=True, indent=4)\n",
    "    config['env_config']['flow_params'] = flow_json\n",
    "    config['env_config']['run'] = alg_run\n",
    "\n",
    "    create_env, gym_name = make_create_env(params=flow_params, version=0)\n",
    "\n",
    "    # Register as rllib env\n",
    "    register_env(gym_name, create_env)\n",
    "    \n",
    "    return alg_run, gym_name, config"
   ]
  },
  {
   "cell_type": "markdown",
   "metadata": {},
   "source": [
    "Configures RLlib PPO algorithm to be used to train the RL model.\n",
    "\n",
    "See: https://ray.readthedocs.io/en/latest/rllib-algorithms.html#proximal-policy-optimization-ppo"
   ]
  },
  {
   "cell_type": "code",
   "execution_count": 10,
   "metadata": {},
   "outputs": [],
   "source": [
    "def setup_PPO_exp():\n",
    "\n",
    "    alg_run   = 'PPO'\n",
    "    agent_cls = get_agent_class(alg_run)\n",
    "    config    = agent_cls._default_config.copy()\n",
    "    config['num_workers']      = n_cpus\n",
    "    config['train_batch_size'] = horizon * rollouts\n",
    "    config['gamma']            = discount_rate\n",
    "    config['use_gae']          = True\n",
    "    config['lambda']           = 0.97\n",
    "    config['kl_target']        = 0.02\n",
    "    config['num_sgd_iter']     = 10\n",
    "    config['clip_actions']     = False  # FIXME(ev) temporary ray bug\n",
    "    config['horizon']          = horizon\n",
    "    config['model'].update({'fcnet_hiddens': [32, 32]})\n",
    "\n",
    "    # save the flow params for replay\n",
    "    flow_json = json.dumps(flow_params,cls=FlowParamsEncoder,sort_keys=True,indent=4)\n",
    "    config['env_config']['flow_params'] = flow_json\n",
    "    config['env_config']['run'] = alg_run\n",
    "\n",
    "    create_env, gym_name = make_create_env(params=flow_params,version=0)\n",
    "\n",
    "    # Register as rllib env\n",
    "    register_env(gym_name, create_env)\n",
    "    \n",
    "    return alg_run, gym_name, config"
   ]
  },
  {
   "cell_type": "markdown",
   "metadata": {},
   "source": [
    "# Run Experiment"
   ]
  },
  {
   "cell_type": "code",
   "execution_count": 11,
   "metadata": {
    "ExecuteTime": {
     "end_time": "2020-03-24T13:09:50.179116Z",
     "start_time": "2020-03-24T13:09:49.899185Z"
    }
   },
   "outputs": [
    {
     "name": "stderr",
     "output_type": "stream",
     "text": [
      "2020-04-14 10:51:05,266\tINFO node.py:498 -- Process STDOUT and STDERR is being redirected to /tmp/ray/session_2020-04-14_10-51-05_265940_6292/logs.\n",
      "2020-04-14 10:51:05,461\tINFO services.py:409 -- Waiting for redis server at 127.0.0.1:44064 to respond...\n",
      "2020-04-14 10:51:05,779\tINFO services.py:409 -- Waiting for redis server at 127.0.0.1:45022 to respond...\n",
      "2020-04-14 10:51:05,784\tINFO services.py:809 -- Starting Redis shard with 2.93 GB max memory.\n",
      "2020-04-14 10:51:05,921\tINFO node.py:512 -- Process STDOUT and STDERR is being redirected to /tmp/ray/session_2020-04-14_10-51-05_265940_6292/logs.\n",
      "2020-04-14 10:51:05,925\tINFO services.py:1475 -- Starting the Plasma object store with 4.4 GB memory using /dev/shm.\n"
     ]
    },
    {
     "data": {
      "text/plain": [
       "{'node_ip_address': '192.168.0.48',\n",
       " 'redis_address': '192.168.0.48:44064',\n",
       " 'object_store_address': '/tmp/ray/session_2020-04-14_10-51-05_265940_6292/sockets/plasma_store',\n",
       " 'raylet_socket_name': '/tmp/ray/session_2020-04-14_10-51-05_265940_6292/sockets/raylet',\n",
       " 'webui_url': None,\n",
       " 'session_dir': '/tmp/ray/session_2020-04-14_10-51-05_265940_6292'}"
      ]
     },
     "execution_count": 11,
     "metadata": {},
     "output_type": "execute_result"
    }
   ],
   "source": [
    "alg_run, gym_name, config = setup_DQN_exp()\n",
    "\n",
    "ray.init(num_cpus=n_cpus + 1)"
   ]
  },
  {
   "cell_type": "code",
   "execution_count": 12,
   "metadata": {
    "ExecuteTime": {
     "end_time": "2020-03-24T13:09:50.179116Z",
     "start_time": "2020-03-24T13:09:49.899185Z"
    },
    "pixiedust": {
     "displayParams": {}
    },
    "scrolled": true
   },
   "outputs": [
    {
     "name": "stderr",
     "output_type": "stream",
     "text": [
      "2020-04-14 10:51:06,688\tINFO trial_runner.py:176 -- Starting a new experiment.\n",
      "2020-04-14 10:51:06,710\tWARNING signature.py:108 -- The function with_updates has a **kwargs argument, which is currently not supported.\n",
      "2020-04-14 10:51:06,744\tERROR log_sync.py:34 -- Log sync requires cluster to be setup with `ray up`.\n"
     ]
    },
    {
     "name": "stdout",
     "output_type": "stream",
     "text": [
      "== Status ==\n",
      "Using FIFO scheduling algorithm.\n",
      "Resources requested: 0/3 CPUs, 0/0 GPUs\n",
      "Memory usage on this node: 3.0/14.7 GB\n",
      "\n"
     ]
    },
    {
     "name": "stderr",
     "output_type": "stream",
     "text": [
      "2020-04-14 10:51:06,912\tWARNING util.py:145 -- The `start_trial` operation took 0.20603227615356445 seconds to complete, which may be a performance bottleneck.\n"
     ]
    },
    {
     "name": "stdout",
     "output_type": "stream",
     "text": [
      "== Status ==\n",
      "Using FIFO scheduling algorithm.\n",
      "Resources requested: 3/3 CPUs, 0/0 GPUs\n",
      "Memory usage on this node: 3.0/14.7 GB\n",
      "Result logdir: /home/lino/ray_results/ISSY_traffic\n",
      "Number of trials: 1 ({'RUNNING': 1})\n",
      "RUNNING trials:\n",
      " - DQN_IssyEnv1-v0_0:\tRUNNING\n",
      "\n",
      "\u001b[2m\u001b[36m(pid=6361)\u001b[0m /home/lino/anaconda3/envs/flow/lib/python3.6/site-packages/tensorflow/python/framework/dtypes.py:523: FutureWarning: Passing (type, 1) or '1type' as a synonym of type is deprecated; in a future version of numpy, it will be understood as (type, (1,)) / '(1,)type'.\n",
      "\u001b[2m\u001b[36m(pid=6361)\u001b[0m   _np_qint8 = np.dtype([(\"qint8\", np.int8, 1)])\n",
      "\u001b[2m\u001b[36m(pid=6361)\u001b[0m /home/lino/anaconda3/envs/flow/lib/python3.6/site-packages/tensorflow/python/framework/dtypes.py:524: FutureWarning: Passing (type, 1) or '1type' as a synonym of type is deprecated; in a future version of numpy, it will be understood as (type, (1,)) / '(1,)type'.\n",
      "\u001b[2m\u001b[36m(pid=6361)\u001b[0m   _np_quint8 = np.dtype([(\"quint8\", np.uint8, 1)])\n",
      "\u001b[2m\u001b[36m(pid=6361)\u001b[0m /home/lino/anaconda3/envs/flow/lib/python3.6/site-packages/tensorflow/python/framework/dtypes.py:525: FutureWarning: Passing (type, 1) or '1type' as a synonym of type is deprecated; in a future version of numpy, it will be understood as (type, (1,)) / '(1,)type'.\n",
      "\u001b[2m\u001b[36m(pid=6361)\u001b[0m   _np_qint16 = np.dtype([(\"qint16\", np.int16, 1)])\n",
      "\u001b[2m\u001b[36m(pid=6361)\u001b[0m /home/lino/anaconda3/envs/flow/lib/python3.6/site-packages/tensorflow/python/framework/dtypes.py:526: FutureWarning: Passing (type, 1) or '1type' as a synonym of type is deprecated; in a future version of numpy, it will be understood as (type, (1,)) / '(1,)type'.\n",
      "\u001b[2m\u001b[36m(pid=6361)\u001b[0m   _np_quint16 = np.dtype([(\"quint16\", np.uint16, 1)])\n",
      "\u001b[2m\u001b[36m(pid=6361)\u001b[0m /home/lino/anaconda3/envs/flow/lib/python3.6/site-packages/tensorflow/python/framework/dtypes.py:527: FutureWarning: Passing (type, 1) or '1type' as a synonym of type is deprecated; in a future version of numpy, it will be understood as (type, (1,)) / '(1,)type'.\n",
      "\u001b[2m\u001b[36m(pid=6361)\u001b[0m   _np_qint32 = np.dtype([(\"qint32\", np.int32, 1)])\n",
      "\u001b[2m\u001b[36m(pid=6361)\u001b[0m /home/lino/anaconda3/envs/flow/lib/python3.6/site-packages/tensorflow/python/framework/dtypes.py:532: FutureWarning: Passing (type, 1) or '1type' as a synonym of type is deprecated; in a future version of numpy, it will be understood as (type, (1,)) / '(1,)type'.\n",
      "\u001b[2m\u001b[36m(pid=6361)\u001b[0m   np_resource = np.dtype([(\"resource\", np.ubyte, 1)])\n",
      "\u001b[2m\u001b[36m(pid=6361)\u001b[0m Warning: Discarding unknown compound 'cycleway.opposite' in type 'cycleway.opposite|highway.residential' (first occurence for edge '4786965#0').\n",
      "\u001b[2m\u001b[36m(pid=6361)\u001b[0m Warning: Discarding unknown compound 'cycleway.opposite_track' in type 'cycleway.opposite_track|highway.residential' (first occurence for edge '4786972#0').\n",
      "\u001b[2m\u001b[36m(pid=6361)\u001b[0m Warning: Discarding unknown compound 'cycleway.opposite' in type 'cycleway.opposite|highway.living_street' (first occurence for edge '4795758').\n",
      "\u001b[2m\u001b[36m(pid=6361)\u001b[0m Warning: Discarding unknown compound 'cycleway.lane' in type 'cycleway.lane|highway.secondary' (first occurence for edge '100822066').\n",
      "\u001b[2m\u001b[36m(pid=6361)\u001b[0m Warning: Removed a road without junctions: -21549451\n",
      "\u001b[2m\u001b[36m(pid=6361)\u001b[0m Warning: Removed a road without junctions: 21549451\n",
      "\u001b[2m\u001b[36m(pid=6361)\u001b[0m Warning: The traffic light '30624291' does not control any links; it will not be build.\n",
      "\u001b[2m\u001b[36m(pid=6361)\u001b[0m Warning: Could not build program '0' for traffic light '30624291'\n",
      "\u001b[2m\u001b[36m(pid=6361)\u001b[0m Warning: Minor green from edge '-352962858#0' to edge '4786972#0' exceeds 19.44m/s. Maybe a left-turn lane is missing.\n",
      "\u001b[2m\u001b[36m(pid=6361)\u001b[0m Warning: Minor green from edge '352962858#0' to edge '4794820' exceeds 19.44m/s. Maybe a left-turn lane is missing.\n",
      "\u001b[2m\u001b[36m(pid=6361)\u001b[0m Warning: Minor green from edge '-352962858#1' to edge '4795742#0' exceeds 19.44m/s. Maybe a left-turn lane is missing.\n",
      "\u001b[2m\u001b[36m(pid=6361)\u001b[0m Success.\n",
      "\u001b[2m\u001b[36m(pid=6361)\u001b[0m 2020-04-14 10:51:12,280\tINFO rollout_worker.py:319 -- Creating policy evaluation worker 0 on CPU (please ignore any CUDA init errors)\n",
      "\u001b[2m\u001b[36m(pid=6361)\u001b[0m 2020-04-14 10:51:12.300317: I tensorflow/core/platform/cpu_feature_guard.cc:141] Your CPU supports instructions that this TensorFlow binary was not compiled to use: SSE4.1 SSE4.2 AVX\n",
      "\u001b[2m\u001b[36m(pid=6361)\u001b[0m WARNING:tensorflow:VARIABLES collection name is deprecated, please use GLOBAL_VARIABLES instead; VARIABLES will be removed after 2017-03-02.\n",
      "\u001b[2m\u001b[36m(pid=6361)\u001b[0m WARNING:tensorflow:VARIABLES collection name is deprecated, please use GLOBAL_VARIABLES instead; VARIABLES will be removed after 2017-03-02.\n",
      "\u001b[2m\u001b[36m(pid=6361)\u001b[0m 2020-04-14 10:51:12,966\tINFO dynamic_tf_policy.py:324 -- Initializing loss function with dummy input:\n",
      "\u001b[2m\u001b[36m(pid=6361)\u001b[0m \n",
      "\u001b[2m\u001b[36m(pid=6361)\u001b[0m { 'actions': <tf.Tensor 'default_policy/actions:0' shape=(?,) dtype=int64>,\n",
      "\u001b[2m\u001b[36m(pid=6361)\u001b[0m   'dones': <tf.Tensor 'default_policy/dones:0' shape=(?,) dtype=bool>,\n",
      "\u001b[2m\u001b[36m(pid=6361)\u001b[0m   'new_obs': <tf.Tensor 'default_policy/new_obs:0' shape=(?, 112) dtype=float32>,\n",
      "\u001b[2m\u001b[36m(pid=6361)\u001b[0m   'obs': <tf.Tensor 'default_policy/observation:0' shape=(?, 112) dtype=float32>,\n",
      "\u001b[2m\u001b[36m(pid=6361)\u001b[0m   'q_values': <tf.Tensor 'default_policy/q_values:0' shape=(?, 8) dtype=float32>,\n",
      "\u001b[2m\u001b[36m(pid=6361)\u001b[0m   'rewards': <tf.Tensor 'default_policy/rewards:0' shape=(?,) dtype=float32>,\n",
      "\u001b[2m\u001b[36m(pid=6361)\u001b[0m   'weights': <tf.Tensor 'default_policy/weights:0' shape=(?,) dtype=float32>}\n",
      "\u001b[2m\u001b[36m(pid=6361)\u001b[0m \n",
      "\u001b[2m\u001b[36m(pid=6361)\u001b[0m 2020-04-14 10:51:13,940\tINFO rollout_worker.py:742 -- Built policy map: {'default_policy': <ray.rllib.policy.tf_policy_template.DQNTFPolicy object at 0x7f2f7e0c4e48>}\n",
      "\u001b[2m\u001b[36m(pid=6361)\u001b[0m 2020-04-14 10:51:13,940\tINFO rollout_worker.py:743 -- Built preprocessor map: {'default_policy': <ray.rllib.models.preprocessors.NoPreprocessor object at 0x7f2f7e0c4b00>}\n",
      "\u001b[2m\u001b[36m(pid=6361)\u001b[0m 2020-04-14 10:51:13,940\tINFO rollout_worker.py:356 -- Built filter map: {'default_policy': <ray.rllib.utils.filter.NoFilter object at 0x7f2f7e0c49b0>}\n",
      "\u001b[2m\u001b[36m(pid=6361)\u001b[0m 2020-04-14 10:51:13,999\tWARNING util.py:47 -- Install gputil for GPU system monitoring.\n",
      "\u001b[2m\u001b[36m(pid=6359)\u001b[0m /home/lino/anaconda3/envs/flow/lib/python3.6/site-packages/tensorflow/python/framework/dtypes.py:523: FutureWarning: Passing (type, 1) or '1type' as a synonym of type is deprecated; in a future version of numpy, it will be understood as (type, (1,)) / '(1,)type'.\n",
      "\u001b[2m\u001b[36m(pid=6359)\u001b[0m   _np_qint8 = np.dtype([(\"qint8\", np.int8, 1)])\n",
      "\u001b[2m\u001b[36m(pid=6359)\u001b[0m /home/lino/anaconda3/envs/flow/lib/python3.6/site-packages/tensorflow/python/framework/dtypes.py:524: FutureWarning: Passing (type, 1) or '1type' as a synonym of type is deprecated; in a future version of numpy, it will be understood as (type, (1,)) / '(1,)type'.\n",
      "\u001b[2m\u001b[36m(pid=6359)\u001b[0m   _np_quint8 = np.dtype([(\"quint8\", np.uint8, 1)])\n",
      "\u001b[2m\u001b[36m(pid=6359)\u001b[0m /home/lino/anaconda3/envs/flow/lib/python3.6/site-packages/tensorflow/python/framework/dtypes.py:525: FutureWarning: Passing (type, 1) or '1type' as a synonym of type is deprecated; in a future version of numpy, it will be understood as (type, (1,)) / '(1,)type'.\n",
      "\u001b[2m\u001b[36m(pid=6359)\u001b[0m   _np_qint16 = np.dtype([(\"qint16\", np.int16, 1)])\n",
      "\u001b[2m\u001b[36m(pid=6359)\u001b[0m /home/lino/anaconda3/envs/flow/lib/python3.6/site-packages/tensorflow/python/framework/dtypes.py:526: FutureWarning: Passing (type, 1) or '1type' as a synonym of type is deprecated; in a future version of numpy, it will be understood as (type, (1,)) / '(1,)type'.\n",
      "\u001b[2m\u001b[36m(pid=6359)\u001b[0m   _np_quint16 = np.dtype([(\"quint16\", np.uint16, 1)])\n",
      "\u001b[2m\u001b[36m(pid=6359)\u001b[0m /home/lino/anaconda3/envs/flow/lib/python3.6/site-packages/tensorflow/python/framework/dtypes.py:527: FutureWarning: Passing (type, 1) or '1type' as a synonym of type is deprecated; in a future version of numpy, it will be understood as (type, (1,)) / '(1,)type'.\n",
      "\u001b[2m\u001b[36m(pid=6359)\u001b[0m   _np_qint32 = np.dtype([(\"qint32\", np.int32, 1)])\n",
      "\u001b[2m\u001b[36m(pid=6359)\u001b[0m /home/lino/anaconda3/envs/flow/lib/python3.6/site-packages/tensorflow/python/framework/dtypes.py:532: FutureWarning: Passing (type, 1) or '1type' as a synonym of type is deprecated; in a future version of numpy, it will be understood as (type, (1,)) / '(1,)type'.\n",
      "\u001b[2m\u001b[36m(pid=6359)\u001b[0m   np_resource = np.dtype([(\"resource\", np.ubyte, 1)])\n",
      "\u001b[2m\u001b[36m(pid=6360)\u001b[0m /home/lino/anaconda3/envs/flow/lib/python3.6/site-packages/tensorflow/python/framework/dtypes.py:523: FutureWarning: Passing (type, 1) or '1type' as a synonym of type is deprecated; in a future version of numpy, it will be understood as (type, (1,)) / '(1,)type'.\n",
      "\u001b[2m\u001b[36m(pid=6360)\u001b[0m   _np_qint8 = np.dtype([(\"qint8\", np.int8, 1)])\n",
      "\u001b[2m\u001b[36m(pid=6360)\u001b[0m /home/lino/anaconda3/envs/flow/lib/python3.6/site-packages/tensorflow/python/framework/dtypes.py:524: FutureWarning: Passing (type, 1) or '1type' as a synonym of type is deprecated; in a future version of numpy, it will be understood as (type, (1,)) / '(1,)type'.\n",
      "\u001b[2m\u001b[36m(pid=6360)\u001b[0m   _np_quint8 = np.dtype([(\"quint8\", np.uint8, 1)])\n",
      "\u001b[2m\u001b[36m(pid=6360)\u001b[0m /home/lino/anaconda3/envs/flow/lib/python3.6/site-packages/tensorflow/python/framework/dtypes.py:525: FutureWarning: Passing (type, 1) or '1type' as a synonym of type is deprecated; in a future version of numpy, it will be understood as (type, (1,)) / '(1,)type'.\n",
      "\u001b[2m\u001b[36m(pid=6360)\u001b[0m   _np_qint16 = np.dtype([(\"qint16\", np.int16, 1)])\n",
      "\u001b[2m\u001b[36m(pid=6360)\u001b[0m /home/lino/anaconda3/envs/flow/lib/python3.6/site-packages/tensorflow/python/framework/dtypes.py:526: FutureWarning: Passing (type, 1) or '1type' as a synonym of type is deprecated; in a future version of numpy, it will be understood as (type, (1,)) / '(1,)type'.\n",
      "\u001b[2m\u001b[36m(pid=6360)\u001b[0m   _np_quint16 = np.dtype([(\"quint16\", np.uint16, 1)])\n",
      "\u001b[2m\u001b[36m(pid=6360)\u001b[0m /home/lino/anaconda3/envs/flow/lib/python3.6/site-packages/tensorflow/python/framework/dtypes.py:527: FutureWarning: Passing (type, 1) or '1type' as a synonym of type is deprecated; in a future version of numpy, it will be understood as (type, (1,)) / '(1,)type'.\n",
      "\u001b[2m\u001b[36m(pid=6360)\u001b[0m   _np_qint32 = np.dtype([(\"qint32\", np.int32, 1)])\n",
      "\u001b[2m\u001b[36m(pid=6360)\u001b[0m /home/lino/anaconda3/envs/flow/lib/python3.6/site-packages/tensorflow/python/framework/dtypes.py:532: FutureWarning: Passing (type, 1) or '1type' as a synonym of type is deprecated; in a future version of numpy, it will be understood as (type, (1,)) / '(1,)type'.\n",
      "\u001b[2m\u001b[36m(pid=6360)\u001b[0m   np_resource = np.dtype([(\"resource\", np.ubyte, 1)])\n"
     ]
    },
    {
     "name": "stdout",
     "output_type": "stream",
     "text": [
      "\u001b[2m\u001b[36m(pid=6359)\u001b[0m Warning: Discarding unknown compound 'cycleway.opposite' in type 'cycleway.opposite|highway.residential' (first occurence for edge '4786965#0').\n",
      "\u001b[2m\u001b[36m(pid=6359)\u001b[0m Warning: Discarding unknown compound 'cycleway.opposite_track' in type 'cycleway.opposite_track|highway.residential' (first occurence for edge '4786972#0').\n",
      "\u001b[2m\u001b[36m(pid=6359)\u001b[0m Warning: Discarding unknown compound 'cycleway.opposite' in type 'cycleway.opposite|highway.living_street' (first occurence for edge '4795758').\n",
      "\u001b[2m\u001b[36m(pid=6359)\u001b[0m Warning: Discarding unknown compound 'cycleway.lane' in type 'cycleway.lane|highway.secondary' (first occurence for edge '100822066').\n",
      "\u001b[2m\u001b[36m(pid=6360)\u001b[0m Warning: Discarding unknown compound 'cycleway.opposite' in type 'cycleway.opposite|highway.residential' (first occurence for edge '4786965#0').\n",
      "\u001b[2m\u001b[36m(pid=6360)\u001b[0m Warning: Discarding unknown compound 'cycleway.opposite_track' in type 'cycleway.opposite_track|highway.residential' (first occurence for edge '4786972#0').\n",
      "\u001b[2m\u001b[36m(pid=6360)\u001b[0m Warning: Discarding unknown compound 'cycleway.opposite' in type 'cycleway.opposite|highway.living_street' (first occurence for edge '4795758').\n",
      "\u001b[2m\u001b[36m(pid=6360)\u001b[0m Warning: Discarding unknown compound 'cycleway.lane' in type 'cycleway.lane|highway.secondary' (first occurence for edge '100822066').\n",
      "\u001b[2m\u001b[36m(pid=6360)\u001b[0m Warning: Removed a road without junctions: -21549451\n",
      "\u001b[2m\u001b[36m(pid=6360)\u001b[0m Warning: Removed a road without junctions: 21549451\n",
      "\u001b[2m\u001b[36m(pid=6360)\u001b[0m Warning: The traffic light '30624291' does not control any links; it will not be build.\n",
      "\u001b[2m\u001b[36m(pid=6360)\u001b[0m Warning: Could not build program '0' for traffic light '30624291'\n",
      "\u001b[2m\u001b[36m(pid=6360)\u001b[0m Warning: Minor green from edge '-352962858#0' to edge '4786972#0' exceeds 19.44m/s. Maybe a left-turn lane is missing.\n",
      "\u001b[2m\u001b[36m(pid=6360)\u001b[0m Warning: Minor green from edge '352962858#0' to edge '4794820' exceeds 19.44m/s. Maybe a left-turn lane is missing.\n",
      "\u001b[2m\u001b[36m(pid=6360)\u001b[0m Warning: Minor green from edge '-352962858#1' to edge '4795742#0' exceeds 19.44m/s. Maybe a left-turn lane is missing.\n",
      "\u001b[2m\u001b[36m(pid=6359)\u001b[0m Warning: Removed a road without junctions: -21549451\n",
      "\u001b[2m\u001b[36m(pid=6359)\u001b[0m Warning: Removed a road without junctions: 21549451\n",
      "\u001b[2m\u001b[36m(pid=6359)\u001b[0m Warning: The traffic light '30624291' does not control any links; it will not be build.\n",
      "\u001b[2m\u001b[36m(pid=6359)\u001b[0m Warning: Could not build program '0' for traffic light '30624291'\n",
      "\u001b[2m\u001b[36m(pid=6359)\u001b[0m Warning: Minor green from edge '-352962858#0' to edge '4786972#0' exceeds 19.44m/s. Maybe a left-turn lane is missing.\n",
      "\u001b[2m\u001b[36m(pid=6359)\u001b[0m Warning: Minor green from edge '352962858#0' to edge '4794820' exceeds 19.44m/s. Maybe a left-turn lane is missing.\n",
      "\u001b[2m\u001b[36m(pid=6359)\u001b[0m Warning: Minor green from edge '-352962858#1' to edge '4795742#0' exceeds 19.44m/s. Maybe a left-turn lane is missing.\n",
      "\u001b[2m\u001b[36m(pid=6360)\u001b[0m Success.\n",
      "\u001b[2m\u001b[36m(pid=6359)\u001b[0m Success.\n",
      "\u001b[2m\u001b[36m(pid=6359)\u001b[0m 2020-04-14 10:51:17,659\tINFO rollout_worker.py:319 -- Creating policy evaluation worker 2 on CPU (please ignore any CUDA init errors)\n",
      "\u001b[2m\u001b[36m(pid=6360)\u001b[0m 2020-04-14 10:51:17,621\tINFO rollout_worker.py:319 -- Creating policy evaluation worker 1 on CPU (please ignore any CUDA init errors)\n",
      "\u001b[2m\u001b[36m(pid=6360)\u001b[0m 2020-04-14 10:51:17.633752: I tensorflow/core/platform/cpu_feature_guard.cc:141] Your CPU supports instructions that this TensorFlow binary was not compiled to use: SSE4.1 SSE4.2 AVX\n",
      "\u001b[2m\u001b[36m(pid=6359)\u001b[0m 2020-04-14 10:51:17.670507: I tensorflow/core/platform/cpu_feature_guard.cc:141] Your CPU supports instructions that this TensorFlow binary was not compiled to use: SSE4.1 SSE4.2 AVX\n",
      "\u001b[2m\u001b[36m(pid=6360)\u001b[0m WARNING:tensorflow:VARIABLES collection name is deprecated, please use GLOBAL_VARIABLES instead; VARIABLES will be removed after 2017-03-02.\n",
      "\u001b[2m\u001b[36m(pid=6360)\u001b[0m WARNING:tensorflow:VARIABLES collection name is deprecated, please use GLOBAL_VARIABLES instead; VARIABLES will be removed after 2017-03-02.\n",
      "\u001b[2m\u001b[36m(pid=6359)\u001b[0m WARNING:tensorflow:VARIABLES collection name is deprecated, please use GLOBAL_VARIABLES instead; VARIABLES will be removed after 2017-03-02.\n",
      "\u001b[2m\u001b[36m(pid=6359)\u001b[0m WARNING:tensorflow:VARIABLES collection name is deprecated, please use GLOBAL_VARIABLES instead; VARIABLES will be removed after 2017-03-02.\n",
      "\u001b[2m\u001b[36m(pid=6360)\u001b[0m 2020-04-14 10:51:17,964\tINFO dynamic_tf_policy.py:324 -- Initializing loss function with dummy input:\n",
      "\u001b[2m\u001b[36m(pid=6360)\u001b[0m \n",
      "\u001b[2m\u001b[36m(pid=6360)\u001b[0m { 'actions': <tf.Tensor 'default_policy/actions:0' shape=(?,) dtype=int64>,\n",
      "\u001b[2m\u001b[36m(pid=6360)\u001b[0m   'dones': <tf.Tensor 'default_policy/dones:0' shape=(?,) dtype=bool>,\n",
      "\u001b[2m\u001b[36m(pid=6360)\u001b[0m   'new_obs': <tf.Tensor 'default_policy/new_obs:0' shape=(?, 112) dtype=float32>,\n",
      "\u001b[2m\u001b[36m(pid=6360)\u001b[0m   'obs': <tf.Tensor 'default_policy/observation:0' shape=(?, 112) dtype=float32>,\n",
      "\u001b[2m\u001b[36m(pid=6360)\u001b[0m   'q_values': <tf.Tensor 'default_policy/q_values:0' shape=(?, 8) dtype=float32>,\n",
      "\u001b[2m\u001b[36m(pid=6360)\u001b[0m   'rewards': <tf.Tensor 'default_policy/rewards:0' shape=(?,) dtype=float32>,\n",
      "\u001b[2m\u001b[36m(pid=6360)\u001b[0m   'weights': <tf.Tensor 'default_policy/weights:0' shape=(?,) dtype=float32>}\n",
      "\u001b[2m\u001b[36m(pid=6360)\u001b[0m \n",
      "\u001b[2m\u001b[36m(pid=6360)\u001b[0m 2020-04-14 10:51:19,089\tINFO rollout_worker.py:451 -- Generating sample batch of size 4\n",
      "\u001b[2m\u001b[36m(pid=6359)\u001b[0m Warning: Discarding unknown compound 'cycleway.opposite' in type 'cycleway.opposite|highway.residential' (first occurence for edge '4786965#0').\n",
      "\u001b[2m\u001b[36m(pid=6359)\u001b[0m Warning: Discarding unknown compound 'cycleway.opposite_track' in type 'cycleway.opposite_track|highway.residential' (first occurence for edge '4786972#0').\n",
      "\u001b[2m\u001b[36m(pid=6359)\u001b[0m Warning: Discarding unknown compound 'cycleway.opposite' in type 'cycleway.opposite|highway.living_street' (first occurence for edge '4795758').\n",
      "\u001b[2m\u001b[36m(pid=6359)\u001b[0m Warning: Discarding unknown compound 'cycleway.lane' in type 'cycleway.lane|highway.secondary' (first occurence for edge '100822066').\n",
      "\u001b[2m\u001b[36m(pid=6360)\u001b[0m Success.\n",
      "\u001b[2m\u001b[36m(pid=6360)\u001b[0m Warning: Discarding unknown compound 'cycleway.opposite' in type 'cycleway.opposite|highway.residential' (first occurence for edge '4786965#0').\n",
      "\u001b[2m\u001b[36m(pid=6360)\u001b[0m Warning: Discarding unknown compound 'cycleway.opposite_track' in type 'cycleway.opposite_track|highway.residential' (first occurence for edge '4786972#0').\n",
      "\u001b[2m\u001b[36m(pid=6360)\u001b[0m Warning: Discarding unknown compound 'cycleway.opposite' in type 'cycleway.opposite|highway.living_street' (first occurence for edge '4795758').\n",
      "\u001b[2m\u001b[36m(pid=6360)\u001b[0m Warning: Discarding unknown compound 'cycleway.lane' in type 'cycleway.lane|highway.secondary' (first occurence for edge '100822066').\n",
      "\u001b[2m\u001b[36m(pid=6360)\u001b[0m Warning: Removed a road without junctions: -21549451\n",
      "\u001b[2m\u001b[36m(pid=6360)\u001b[0m Warning: Removed a road without junctions: 21549451\n",
      "\u001b[2m\u001b[36m(pid=6360)\u001b[0m Warning: The traffic light '30624291' does not control any links; it will not be build.\n",
      "\u001b[2m\u001b[36m(pid=6360)\u001b[0m Warning: Could not build program '0' for traffic light '30624291'\n",
      "\u001b[2m\u001b[36m(pid=6360)\u001b[0m Warning: Minor green from edge '-352962858#0' to edge '4786972#0' exceeds 19.44m/s. Maybe a left-turn lane is missing.\n",
      "\u001b[2m\u001b[36m(pid=6360)\u001b[0m Warning: Minor green from edge '352962858#0' to edge '4794820' exceeds 19.44m/s. Maybe a left-turn lane is missing.\n",
      "\u001b[2m\u001b[36m(pid=6360)\u001b[0m Warning: Minor green from edge '-352962858#1' to edge '4795742#0' exceeds 19.44m/s. Maybe a left-turn lane is missing.\n",
      "\u001b[2m\u001b[36m(pid=6359)\u001b[0m Warning: Removed a road without junctions: -21549451\n",
      "\u001b[2m\u001b[36m(pid=6359)\u001b[0m Warning: Removed a road without junctions: 21549451\n",
      "\u001b[2m\u001b[36m(pid=6359)\u001b[0m Warning: The traffic light '30624291' does not control any links; it will not be build.\n",
      "\u001b[2m\u001b[36m(pid=6359)\u001b[0m Warning: Could not build program '0' for traffic light '30624291'\n",
      "\u001b[2m\u001b[36m(pid=6359)\u001b[0m Warning: Minor green from edge '-352962858#0' to edge '4786972#0' exceeds 19.44m/s. Maybe a left-turn lane is missing.\n",
      "\u001b[2m\u001b[36m(pid=6359)\u001b[0m Warning: Minor green from edge '352962858#0' to edge '4794820' exceeds 19.44m/s. Maybe a left-turn lane is missing.\n",
      "\u001b[2m\u001b[36m(pid=6359)\u001b[0m Warning: Minor green from edge '-352962858#1' to edge '4795742#0' exceeds 19.44m/s. Maybe a left-turn lane is missing.\n",
      "\u001b[2m\u001b[36m(pid=6359)\u001b[0m Success.\n"
     ]
    },
    {
     "name": "stdout",
     "output_type": "stream",
     "text": [
      "\u001b[2m\u001b[36m(pid=6360)\u001b[0m 2020-04-14 10:51:20,400\tINFO sampler.py:304 -- Raw obs from env: { 0: { 'agent0': np.ndarray((112,), dtype=float64, min=0.0, max=2637.506, mean=292.907)}}\n",
      "\u001b[2m\u001b[36m(pid=6360)\u001b[0m 2020-04-14 10:51:20,400\tINFO sampler.py:305 -- Info return from env: {0: {'agent0': None}}\n",
      "\u001b[2m\u001b[36m(pid=6360)\u001b[0m 2020-04-14 10:51:20,401\tINFO sampler.py:403 -- Preprocessed obs: np.ndarray((112,), dtype=float64, min=0.0, max=2637.506, mean=292.907)\n",
      "\u001b[2m\u001b[36m(pid=6360)\u001b[0m 2020-04-14 10:51:20,401\tINFO sampler.py:407 -- Filtered obs: np.ndarray((112,), dtype=float64, min=0.0, max=2637.506, mean=292.907)\n",
      "\u001b[2m\u001b[36m(pid=6360)\u001b[0m 2020-04-14 10:51:20,402\tINFO sampler.py:521 -- Inputs to compute_actions():\n",
      "\u001b[2m\u001b[36m(pid=6360)\u001b[0m \n",
      "\u001b[2m\u001b[36m(pid=6360)\u001b[0m { 'default_policy': [ { 'data': { 'agent_id': 'agent0',\n",
      "\u001b[2m\u001b[36m(pid=6360)\u001b[0m                                   'env_id': 0,\n",
      "\u001b[2m\u001b[36m(pid=6360)\u001b[0m                                   'info': None,\n",
      "\u001b[2m\u001b[36m(pid=6360)\u001b[0m                                   'obs': np.ndarray((112,), dtype=float64, min=0.0, max=2637.506, mean=292.907),\n",
      "\u001b[2m\u001b[36m(pid=6360)\u001b[0m                                   'prev_action': np.ndarray((), dtype=int64, min=0.0, max=0.0, mean=0.0),\n",
      "\u001b[2m\u001b[36m(pid=6360)\u001b[0m                                   'prev_reward': 0.0,\n",
      "\u001b[2m\u001b[36m(pid=6360)\u001b[0m                                   'rnn_state': []},\n",
      "\u001b[2m\u001b[36m(pid=6360)\u001b[0m                         'type': 'PolicyEvalData'}]}\n",
      "\u001b[2m\u001b[36m(pid=6360)\u001b[0m \n",
      "\u001b[2m\u001b[36m(pid=6360)\u001b[0m 2020-04-14 10:51:20,402\tINFO tf_run_builder.py:92 -- Executing TF run without tracing. To dump TF timeline traces to disk, set the TF_TIMELINE_DIR environment variable.\n",
      "\u001b[2m\u001b[36m(pid=6360)\u001b[0m 2020-04-14 10:51:20,814\tINFO sampler.py:548 -- Outputs of compute_actions():\n",
      "\u001b[2m\u001b[36m(pid=6360)\u001b[0m \n",
      "\u001b[2m\u001b[36m(pid=6360)\u001b[0m { 'default_policy': ( np.ndarray((1,), dtype=int64, min=1.0, max=1.0, mean=1.0),\n",
      "\u001b[2m\u001b[36m(pid=6360)\u001b[0m                       [],\n",
      "\u001b[2m\u001b[36m(pid=6360)\u001b[0m                       { 'q_values': np.ndarray((1, 8), dtype=float32, min=-0.102, max=0.45, mean=0.171)})}\n",
      "\u001b[2m\u001b[36m(pid=6360)\u001b[0m \n",
      "\u001b[2m\u001b[36m(pid=6360)\u001b[0m 2020-04-14 10:51:20,868\tINFO sample_batch_builder.py:161 -- Trajectory fragment after postprocess_trajectory():\n",
      "\u001b[2m\u001b[36m(pid=6360)\u001b[0m \n",
      "\u001b[2m\u001b[36m(pid=6360)\u001b[0m { 'agent0': { 'data': { 'actions': np.ndarray((4,), dtype=int64, min=0.0, max=7.0, mean=2.0),\n",
      "\u001b[2m\u001b[36m(pid=6360)\u001b[0m                         'agent_index': np.ndarray((4,), dtype=int64, min=0.0, max=0.0, mean=0.0),\n",
      "\u001b[2m\u001b[36m(pid=6360)\u001b[0m                         'dones': np.ndarray((4,), dtype=bool, min=0.0, max=0.0, mean=0.0),\n",
      "\u001b[2m\u001b[36m(pid=6360)\u001b[0m                         'eps_id': np.ndarray((4,), dtype=int64, min=1542532300.0, max=1542532300.0, mean=1542532300.0),\n",
      "\u001b[2m\u001b[36m(pid=6360)\u001b[0m                         'infos': np.ndarray((4,), dtype=object, head={}),\n",
      "\u001b[2m\u001b[36m(pid=6360)\u001b[0m                         'new_obs': np.ndarray((4, 112), dtype=float32, min=0.0, max=2690.179, mean=296.219),\n",
      "\u001b[2m\u001b[36m(pid=6360)\u001b[0m                         'obs': np.ndarray((4, 112), dtype=float32, min=0.0, max=2676.78, mean=294.901),\n",
      "\u001b[2m\u001b[36m(pid=6360)\u001b[0m                         'prev_actions': np.ndarray((4,), dtype=int64, min=0.0, max=7.0, mean=2.0),\n",
      "\u001b[2m\u001b[36m(pid=6360)\u001b[0m                         'prev_rewards': np.ndarray((4,), dtype=float32, min=0.0, max=0.014, mean=0.01),\n",
      "\u001b[2m\u001b[36m(pid=6360)\u001b[0m                         'q_values': np.ndarray((4, 8), dtype=float32, min=-0.102, max=0.45, mean=0.171),\n",
      "\u001b[2m\u001b[36m(pid=6360)\u001b[0m                         'rewards': np.ndarray((4,), dtype=float32, min=0.012, max=0.014, mean=0.013),\n",
      "\u001b[2m\u001b[36m(pid=6360)\u001b[0m                         't': np.ndarray((4,), dtype=int64, min=0.0, max=3.0, mean=1.5),\n",
      "\u001b[2m\u001b[36m(pid=6360)\u001b[0m                         'unroll_id': np.ndarray((4,), dtype=int64, min=0.0, max=0.0, mean=0.0),\n",
      "\u001b[2m\u001b[36m(pid=6360)\u001b[0m                         'weights': np.ndarray((4,), dtype=float32, min=1.0, max=1.0, mean=1.0)},\n",
      "\u001b[2m\u001b[36m(pid=6360)\u001b[0m               'type': 'SampleBatch'}}\n",
      "\u001b[2m\u001b[36m(pid=6360)\u001b[0m \n",
      "\u001b[2m\u001b[36m(pid=6360)\u001b[0m 2020-04-14 10:51:20,870\tINFO rollout_worker.py:485 -- Completed sample batch:\n",
      "\u001b[2m\u001b[36m(pid=6360)\u001b[0m \n",
      "\u001b[2m\u001b[36m(pid=6360)\u001b[0m { 'data': { 'actions': np.ndarray((4,), dtype=int64, min=0.0, max=7.0, mean=2.0),\n",
      "\u001b[2m\u001b[36m(pid=6360)\u001b[0m             'agent_index': np.ndarray((4,), dtype=int64, min=0.0, max=0.0, mean=0.0),\n",
      "\u001b[2m\u001b[36m(pid=6360)\u001b[0m             'dones': np.ndarray((4,), dtype=bool, min=0.0, max=0.0, mean=0.0),\n",
      "\u001b[2m\u001b[36m(pid=6360)\u001b[0m             'eps_id': np.ndarray((4,), dtype=int64, min=1542532300.0, max=1542532300.0, mean=1542532300.0),\n",
      "\u001b[2m\u001b[36m(pid=6360)\u001b[0m             'infos': np.ndarray((4,), dtype=object, head={}),\n",
      "\u001b[2m\u001b[36m(pid=6360)\u001b[0m             'new_obs': np.ndarray((4, 112), dtype=float32, min=0.0, max=2690.179, mean=296.219),\n",
      "\u001b[2m\u001b[36m(pid=6360)\u001b[0m             'obs': np.ndarray((4, 112), dtype=float32, min=0.0, max=2676.78, mean=294.901),\n",
      "\u001b[2m\u001b[36m(pid=6360)\u001b[0m             'prev_actions': np.ndarray((4,), dtype=int64, min=0.0, max=7.0, mean=2.0),\n",
      "\u001b[2m\u001b[36m(pid=6360)\u001b[0m             'prev_rewards': np.ndarray((4,), dtype=float32, min=0.0, max=0.014, mean=0.01),\n",
      "\u001b[2m\u001b[36m(pid=6360)\u001b[0m             'q_values': np.ndarray((4, 8), dtype=float32, min=-0.102, max=0.45, mean=0.171),\n",
      "\u001b[2m\u001b[36m(pid=6360)\u001b[0m             'rewards': np.ndarray((4,), dtype=float32, min=0.012, max=0.014, mean=0.013),\n",
      "\u001b[2m\u001b[36m(pid=6360)\u001b[0m             't': np.ndarray((4,), dtype=int64, min=0.0, max=3.0, mean=1.5),\n",
      "\u001b[2m\u001b[36m(pid=6360)\u001b[0m             'unroll_id': np.ndarray((4,), dtype=int64, min=0.0, max=0.0, mean=0.0),\n",
      "\u001b[2m\u001b[36m(pid=6360)\u001b[0m             'weights': np.ndarray((4,), dtype=float32, min=1.0, max=1.0, mean=1.0)},\n",
      "\u001b[2m\u001b[36m(pid=6360)\u001b[0m   'type': 'SampleBatch'}\n",
      "\u001b[2m\u001b[36m(pid=6360)\u001b[0m \n",
      "\u001b[2m\u001b[36m(pid=6360)\u001b[0m Warning: Choosing new speed factor 1.26 for vehicle 'flow_40.0' to match departure speed.\n",
      "\u001b[2m\u001b[36m(pid=6360)\u001b[0m Warning: Choosing new speed factor 1.26 for vehicle 'flow_40.1' to match departure speed.\n",
      "\u001b[2m\u001b[36m(pid=6359)\u001b[0m Warning: Choosing new speed factor 1.26 for vehicle 'flow_40.0' to match departure speed.\n",
      "\u001b[2m\u001b[36m(pid=6360)\u001b[0m Warning: Choosing new speed factor 1.26 for vehicle 'flow_40.2' to match departure speed.\n",
      "\u001b[2m\u001b[36m(pid=6359)\u001b[0m Warning: Vehicle 'human_3' performs emergency braking with decel=-135.01 wished=4.50 severity=29.00, time=10.20.\n",
      "\u001b[2m\u001b[36m(pid=6359)\u001b[0m Warning: Vehicle 'human_2' performs emergency braking with decel=-135.01 wished=4.50 severity=29.00, time=10.20.\n",
      "\u001b[2m\u001b[36m(pid=6360)\u001b[0m Warning: Choosing new speed factor 1.26 for vehicle 'flow_40.3' to match departure speed.\n",
      "\u001b[2m\u001b[36m(pid=6359)\u001b[0m Warning: Choosing new speed factor 1.26 for vehicle 'flow_40.1' to match departure speed.\n",
      "\u001b[2m\u001b[36m(pid=6359)\u001b[0m Warning: Choosing new speed factor 1.26 for vehicle 'flow_40.2' to match departure speed.\n",
      "\u001b[2m\u001b[36m(pid=6359)\u001b[0m Warning: Choosing new speed factor 1.26 for vehicle 'flow_40.3' to match departure speed.\n",
      "\u001b[2m\u001b[36m(pid=6360)\u001b[0m Warning: Choosing new speed factor 1.26 for vehicle 'flow_40.4' to match departure speed.\n",
      "\u001b[2m\u001b[36m(pid=6360)\u001b[0m Warning: Vehicle 'human_1' performs emergency braking with decel=-164.90 wished=4.50 severity=35.65, time=20.20.\n",
      "\u001b[2m\u001b[36m(pid=6360)\u001b[0m Warning: Vehicle 'human_0' performs emergency braking with decel=-196.02 wished=4.50 severity=42.56, time=20.20.\n",
      "\u001b[2m\u001b[36m(pid=6360)\u001b[0m Warning: Vehicle 'flow_20.0' performs emergency braking with decel=-13.48 wished=4.50 severity=2.00, time=20.30.\n",
      "\u001b[2m\u001b[36m(pid=6360)\u001b[0m Warning: Vehicle 'flow_30.0' performs emergency braking with decel=-9.00 wished=4.50 severity=1.00, time=20.30.\n",
      "\u001b[2m\u001b[36m(pid=6359)\u001b[0m Warning: Choosing new speed factor 1.26 for vehicle 'flow_40.4' to match departure speed.\n",
      "\u001b[2m\u001b[36m(pid=6359)\u001b[0m Warning: Choosing new speed factor 1.26 for vehicle 'flow_40.5' to match departure speed.\n",
      "\u001b[2m\u001b[36m(pid=6359)\u001b[0m Warning: Choosing new speed factor 1.26 for vehicle 'flow_40.6' to match departure speed.\n",
      "\u001b[2m\u001b[36m(pid=6360)\u001b[0m Warning: Choosing new speed factor 1.26 for vehicle 'flow_40.5' to match departure speed.\n",
      "\u001b[2m\u001b[36m(pid=6359)\u001b[0m Warning: Choosing new speed factor 1.26 for vehicle 'flow_40.7' to match departure speed.\n"
     ]
    },
    {
     "name": "stdout",
     "output_type": "stream",
     "text": [
      "\u001b[2m\u001b[36m(pid=6360)\u001b[0m Warning: Vehicle 'flow_20.10' performs emergency braking with decel=-63.94 wished=4.50 severity=13.21, time=30.20.\n",
      "\u001b[2m\u001b[36m(pid=6360)\u001b[0m Warning: Vehicle 'flow_20.9' performs emergency braking with decel=-140.76 wished=4.50 severity=30.28, time=30.20.\n",
      "\u001b[2m\u001b[36m(pid=6360)\u001b[0m Warning: Vehicle 'flow_20.11' performs emergency braking with decel=-9.61 wished=4.50 severity=1.14, time=30.30.\n",
      "\u001b[2m\u001b[36m(pid=6359)\u001b[0m Warning: Choosing new speed factor 1.26 for vehicle 'flow_40.8' to match departure speed.\n",
      "\u001b[2m\u001b[36m(pid=6359)\u001b[0m Warning: Choosing new speed factor 1.26 for vehicle 'flow_40.9' to match departure speed.\n",
      "\u001b[2m\u001b[36m(pid=6360)\u001b[0m Warning: Choosing new speed factor 1.26 for vehicle 'flow_40.6' to match departure speed.\n",
      "\u001b[2m\u001b[36m(pid=6359)\u001b[0m Warning: Vehicle 'flow_40.0' performs emergency braking with decel=-11.68 wished=4.50 severity=1.60, time=38.70.\n",
      "\u001b[2m\u001b[36m(pid=6359)\u001b[0m Warning: Choosing new speed factor 1.26 for vehicle 'flow_40.10' to match departure speed.\n",
      "\u001b[2m\u001b[36m(pid=6359)\u001b[0m Warning: Choosing new speed factor 1.26 for vehicle 'flow_40.11' to match departure speed.\n",
      "\u001b[2m\u001b[36m(pid=6360)\u001b[0m Warning: Choosing new speed factor 1.26 for vehicle 'flow_40.7' to match departure speed.\n",
      "\u001b[2m\u001b[36m(pid=6359)\u001b[0m Warning: Choosing new speed factor 1.26 for vehicle 'flow_40.12' to match departure speed.\n",
      "\u001b[2m\u001b[36m(pid=6359)\u001b[0m Warning: Vehicle 'human_4' performs emergency braking with decel=-33.32 wished=4.50 severity=6.41, time=50.20.\n",
      "\u001b[2m\u001b[36m(pid=6359)\u001b[0m Warning: Vehicle 'flow_10.0' performs emergency braking with decel=-12.48 wished=4.50 severity=1.77, time=50.20.\n",
      "\u001b[2m\u001b[36m(pid=6359)\u001b[0m Warning: Vehicle 'flow_20.6' performs emergency braking with decel=-88.59 wished=4.50 severity=18.69, time=50.20.\n",
      "\u001b[2m\u001b[36m(pid=6359)\u001b[0m Warning: Vehicle 'flow_20.9' performs emergency braking with decel=-30.13 wished=4.50 severity=5.70, time=50.20.\n",
      "Result for DQN_IssyEnv1-v0_0:\n",
      "  custom_metrics: {}\n",
      "  date: 2020-04-14_10-51-32\n",
      "  done: false\n",
      "  episode_len_mean: .nan\n",
      "  episode_reward_max: .nan\n",
      "  episode_reward_mean: .nan\n",
      "  episode_reward_min: .nan\n",
      "  episodes_this_iter: 0\n",
      "  episodes_total: 0\n",
      "  experiment_id: 913725f475a7437f86131418fa671f0c\n",
      "  hostname: lino-iMac\n",
      "  info:\n",
      "    grad_time_ms: .nan\n",
      "    learner: {}\n",
      "    max_exploration: 1.0\n",
      "    min_exploration: 1.0\n",
      "    num_steps_sampled: 1000\n",
      "    num_steps_trained: 0\n",
      "    num_target_updates: 1\n",
      "    opt_peak_throughput: 0.0\n",
      "    opt_samples: .nan\n",
      "    replay_time_ms: .nan\n",
      "    sample_time_ms: 110.099\n",
      "    update_time_ms: 5.471\n",
      "  iterations_since_restore: 1\n",
      "  node_ip: 192.168.0.48\n",
      "  num_healthy_workers: 2\n",
      "  off_policy_estimator: {}\n",
      "  perf:\n",
      "    cpu_util_percent: 54.6148148148148\n",
      "    ram_util_percent: 23.800000000000004\n",
      "  pid: 6361\n",
      "  policy_reward_mean: {}\n",
      "  sampler_perf: {}\n",
      "  time_since_restore: 18.628257751464844\n",
      "  time_this_iter_s: 18.628257751464844\n",
      "  time_total_s: 18.628257751464844\n",
      "  timestamp: 1586854292\n",
      "  timesteps_since_restore: 1000\n",
      "  timesteps_this_iter: 1000\n",
      "  timesteps_total: 1000\n",
      "  training_iteration: 1\n",
      "  trial_id: 1446cd4a\n",
      "  \n",
      "== Status ==\n",
      "Using FIFO scheduling algorithm.\n",
      "Resources requested: 3/3 CPUs, 0/0 GPUs\n",
      "Memory usage on this node: 3.5/14.7 GB\n",
      "Result logdir: /home/lino/ray_results/ISSY_traffic\n",
      "Number of trials: 1 ({'RUNNING': 1})\n",
      "RUNNING trials:\n",
      " - DQN_IssyEnv1-v0_0:\tRUNNING, [3 CPUs, 0 GPUs], [pid=6361], 18 s, 1 iter, 1000 ts, nan rew\n",
      "\n",
      "\u001b[2m\u001b[36m(pid=6361)\u001b[0m /home/lino/anaconda3/envs/flow/lib/python3.6/site-packages/numpy/core/fromnumeric.py:3335: RuntimeWarning: Mean of empty slice.\n",
      "\u001b[2m\u001b[36m(pid=6361)\u001b[0m   out=out, **kwargs)\n",
      "\u001b[2m\u001b[36m(pid=6361)\u001b[0m /home/lino/anaconda3/envs/flow/lib/python3.6/site-packages/numpy/core/_methods.py:161: RuntimeWarning: invalid value encountered in double_scalars\n",
      "\u001b[2m\u001b[36m(pid=6361)\u001b[0m   ret = ret.dtype.type(ret / rcount)\n",
      "\u001b[2m\u001b[36m(pid=6361)\u001b[0m 2020-04-14 10:51:34,256\tINFO rollout_worker.py:575 -- Training on concatenated sample batches:\n",
      "\u001b[2m\u001b[36m(pid=6361)\u001b[0m \n",
      "\u001b[2m\u001b[36m(pid=6361)\u001b[0m { 'count': 10000,\n",
      "\u001b[2m\u001b[36m(pid=6361)\u001b[0m   'policy_batches': { 'default_policy': { 'data': { 'actions': np.ndarray((10000,), dtype=int64, min=0.0, max=7.0, mean=3.507),\n",
      "\u001b[2m\u001b[36m(pid=6361)\u001b[0m                                                     'batch_indexes': np.ndarray((10000,), dtype=int64, min=0.0, max=1007.0, mean=503.352),\n",
      "\u001b[2m\u001b[36m(pid=6361)\u001b[0m                                                     'dones': np.ndarray((10000,), dtype=bool, min=0.0, max=0.0, mean=0.0),\n",
      "\u001b[2m\u001b[36m(pid=6361)\u001b[0m                                                     'new_obs': np.ndarray((10000, 112), dtype=float32, min=-196.018, max=19289.77, mean=298.795),\n",
      "\u001b[2m\u001b[36m(pid=6361)\u001b[0m                                                     'obs': np.ndarray((10000, 112), dtype=float32, min=-196.018, max=19289.77, mean=298.85),\n",
      "\u001b[2m\u001b[36m(pid=6361)\u001b[0m                                                     'rewards': np.ndarray((10000,), dtype=float32, min=-0.087, max=0.03, mean=-0.022),\n",
      "\u001b[2m\u001b[36m(pid=6361)\u001b[0m                                                     'weights': np.ndarray((10000,), dtype=float64, min=1.0, max=1.0, mean=1.0)},\n",
      "\u001b[2m\u001b[36m(pid=6361)\u001b[0m                                           'type': 'SampleBatch'}},\n",
      "\u001b[2m\u001b[36m(pid=6361)\u001b[0m   'type': 'MultiAgentBatch'}\n",
      "\u001b[2m\u001b[36m(pid=6361)\u001b[0m \n",
      "\u001b[2m\u001b[36m(pid=6361)\u001b[0m 2020-04-14 10:51:34,256\tINFO tf_policy.py:355 -- Optimizing variable <tf.Variable 'default_policy/q_func/action_value/hidden_0/kernel:0' shape=(32, 256) dtype=float32_ref>\n",
      "\u001b[2m\u001b[36m(pid=6361)\u001b[0m 2020-04-14 10:51:34,256\tINFO tf_policy.py:355 -- Optimizing variable <tf.Variable 'default_policy/q_func/action_value/hidden_0/bias:0' shape=(256,) dtype=float32_ref>\n",
      "\u001b[2m\u001b[36m(pid=6361)\u001b[0m 2020-04-14 10:51:34,256\tINFO tf_policy.py:355 -- Optimizing variable <tf.Variable 'default_policy/q_func/action_value/dense/kernel:0' shape=(256, 8) dtype=float32_ref>\n",
      "\u001b[2m\u001b[36m(pid=6361)\u001b[0m 2020-04-14 10:51:34,257\tINFO tf_policy.py:355 -- Optimizing variable <tf.Variable 'default_policy/q_func/action_value/dense/bias:0' shape=(8,) dtype=float32_ref>\n",
      "\u001b[2m\u001b[36m(pid=6361)\u001b[0m 2020-04-14 10:51:34,257\tINFO tf_policy.py:355 -- Optimizing variable <tf.Variable 'default_policy/q_func/state_value/dense/kernel:0' shape=(32, 256) dtype=float32_ref>\n",
      "\u001b[2m\u001b[36m(pid=6361)\u001b[0m 2020-04-14 10:51:34,257\tINFO tf_policy.py:355 -- Optimizing variable <tf.Variable 'default_policy/q_func/state_value/dense/bias:0' shape=(256,) dtype=float32_ref>\n",
      "\u001b[2m\u001b[36m(pid=6361)\u001b[0m 2020-04-14 10:51:34,257\tINFO tf_policy.py:355 -- Optimizing variable <tf.Variable 'default_policy/q_func/state_value/dense_1/kernel:0' shape=(256, 1) dtype=float32_ref>\n",
      "\u001b[2m\u001b[36m(pid=6361)\u001b[0m 2020-04-14 10:51:34,257\tINFO tf_policy.py:355 -- Optimizing variable <tf.Variable 'default_policy/q_func/state_value/dense_1/bias:0' shape=(1,) dtype=float32_ref>\n",
      "\u001b[2m\u001b[36m(pid=6361)\u001b[0m 2020-04-14 10:51:34,257\tINFO tf_policy.py:355 -- Optimizing variable <tf.Variable 'default_policy/q_func/fc1/kernel:0' shape=(112, 32) dtype=float32_ref>\n",
      "\u001b[2m\u001b[36m(pid=6361)\u001b[0m 2020-04-14 10:51:34,257\tINFO tf_policy.py:355 -- Optimizing variable <tf.Variable 'default_policy/q_func/fc1/bias:0' shape=(32,) dtype=float32_ref>\n",
      "\u001b[2m\u001b[36m(pid=6361)\u001b[0m 2020-04-14 10:51:34,257\tINFO tf_policy.py:355 -- Optimizing variable <tf.Variable 'default_policy/q_func/fc_out/kernel:0' shape=(32, 32) dtype=float32_ref>\n",
      "\u001b[2m\u001b[36m(pid=6361)\u001b[0m 2020-04-14 10:51:34,257\tINFO tf_policy.py:355 -- Optimizing variable <tf.Variable 'default_policy/q_func/fc_out/bias:0' shape=(32,) dtype=float32_ref>\n",
      "\u001b[2m\u001b[36m(pid=6361)\u001b[0m 2020-04-14 10:51:34,257\tINFO tf_run_builder.py:92 -- Executing TF run without tracing. To dump TF timeline traces to disk, set the TF_TIMELINE_DIR environment variable.\n",
      "\u001b[2m\u001b[36m(pid=6361)\u001b[0m 2020-04-14 10:51:35,038\tINFO rollout_worker.py:597 -- Training output:\n",
      "\u001b[2m\u001b[36m(pid=6361)\u001b[0m \n",
      "\u001b[2m\u001b[36m(pid=6361)\u001b[0m { 'default_policy': { 'learner_stats': { 'cur_lr': 0.0005000000237487257,\n",
      "\u001b[2m\u001b[36m(pid=6361)\u001b[0m                                          'max_q': 1.1697948,\n",
      "\u001b[2m\u001b[36m(pid=6361)\u001b[0m                                          'mean_q': 0.23777618,\n",
      "\u001b[2m\u001b[36m(pid=6361)\u001b[0m                                          'mean_td_error': -0.38072354,\n",
      "\u001b[2m\u001b[36m(pid=6361)\u001b[0m                                          'min_q': -0.5383768,\n",
      "\u001b[2m\u001b[36m(pid=6361)\u001b[0m                                          'model': {}},\n",
      "\u001b[2m\u001b[36m(pid=6361)\u001b[0m                       'td_error': np.ndarray((10000,), dtype=float32, min=-1.249, max=0.778, mean=-0.381)}}\n",
      "\u001b[2m\u001b[36m(pid=6361)\u001b[0m \n"
     ]
    },
    {
     "name": "stderr",
     "output_type": "stream",
     "text": [
      "2020-04-14 10:51:40,705\tERROR worker.py:1716 -- listen_error_messages_raylet: Error 111 connecting to 192.168.0.48:44064. Connection refused.\n",
      "2020-04-14 10:51:40,706\tERROR import_thread.py:89 -- ImportThread: Error 111 connecting to 192.168.0.48:44064. Connection refused.\n",
      "2020-04-14 10:51:40,706\tERROR worker.py:1616 -- print_logs: Error 111 connecting to 192.168.0.48:44064. Connection refused.\n"
     ]
    },
    {
     "ename": "KeyboardInterrupt",
     "evalue": "",
     "output_type": "error",
     "traceback": [
      "\u001b[0;31m---------------------------------------------------------------------------\u001b[0m",
      "\u001b[0;31mKeyboardInterrupt\u001b[0m                         Traceback (most recent call last)",
      "\u001b[0;32m<ipython-input-12-53d3e475e762>\u001b[0m in \u001b[0;36m<module>\u001b[0;34m\u001b[0m\n\u001b[1;32m      8\u001b[0m \u001b[0;34m\u001b[0m\u001b[0m\n\u001b[1;32m      9\u001b[0m \u001b[0;34m\u001b[0m\u001b[0m\n\u001b[0;32m---> 10\u001b[0;31m \u001b[0mtrials\u001b[0m \u001b[0;34m=\u001b[0m \u001b[0mrun_experiments\u001b[0m\u001b[0;34m(\u001b[0m\u001b[0;34m{\u001b[0m\u001b[0mflow_params\u001b[0m\u001b[0;34m[\u001b[0m\u001b[0;34m\"exp_tag\"\u001b[0m\u001b[0;34m]\u001b[0m\u001b[0;34m:\u001b[0m \u001b[0mexp_tag\u001b[0m\u001b[0;34m}\u001b[0m\u001b[0;34m)\u001b[0m\u001b[0;34m\u001b[0m\u001b[0;34m\u001b[0m\u001b[0m\n\u001b[0m",
      "\u001b[0;32m~/anaconda3/envs/flow/lib/python3.6/site-packages/ray/tune/tune.py\u001b[0m in \u001b[0;36mrun_experiments\u001b[0;34m(experiments, search_alg, scheduler, with_server, server_port, verbose, resume, queue_trials, reuse_actors, trial_executor, raise_on_failed_trial)\u001b[0m\n\u001b[1;32m    322\u001b[0m             \u001b[0mtrial_executor\u001b[0m\u001b[0;34m=\u001b[0m\u001b[0mtrial_executor\u001b[0m\u001b[0;34m,\u001b[0m\u001b[0;34m\u001b[0m\u001b[0;34m\u001b[0m\u001b[0m\n\u001b[1;32m    323\u001b[0m             \u001b[0mraise_on_failed_trial\u001b[0m\u001b[0;34m=\u001b[0m\u001b[0mraise_on_failed_trial\u001b[0m\u001b[0;34m,\u001b[0m\u001b[0;34m\u001b[0m\u001b[0;34m\u001b[0m\u001b[0m\n\u001b[0;32m--> 324\u001b[0;31m             return_trials=True)\n\u001b[0m\u001b[1;32m    325\u001b[0m     \u001b[0;32mreturn\u001b[0m \u001b[0mtrials\u001b[0m\u001b[0;34m\u001b[0m\u001b[0;34m\u001b[0m\u001b[0m\n",
      "\u001b[0;32m~/anaconda3/envs/flow/lib/python3.6/site-packages/ray/tune/tune.py\u001b[0m in \u001b[0;36mrun\u001b[0;34m(run_or_experiment, name, stop, config, resources_per_trial, num_samples, local_dir, upload_dir, trial_name_creator, loggers, sync_to_cloud, sync_to_driver, checkpoint_freq, checkpoint_at_end, keep_checkpoints_num, checkpoint_score_attr, global_checkpoint_period, export_formats, max_failures, restore, search_alg, scheduler, with_server, server_port, verbose, resume, queue_trials, reuse_actors, trial_executor, raise_on_failed_trial, return_trials, ray_auto_init, sync_function)\u001b[0m\n\u001b[1;32m    242\u001b[0m     \u001b[0mlast_debug\u001b[0m \u001b[0;34m=\u001b[0m \u001b[0;36m0\u001b[0m\u001b[0;34m\u001b[0m\u001b[0;34m\u001b[0m\u001b[0m\n\u001b[1;32m    243\u001b[0m     \u001b[0;32mwhile\u001b[0m \u001b[0;32mnot\u001b[0m \u001b[0mrunner\u001b[0m\u001b[0;34m.\u001b[0m\u001b[0mis_finished\u001b[0m\u001b[0;34m(\u001b[0m\u001b[0;34m)\u001b[0m\u001b[0;34m:\u001b[0m\u001b[0;34m\u001b[0m\u001b[0;34m\u001b[0m\u001b[0m\n\u001b[0;32m--> 244\u001b[0;31m         \u001b[0mrunner\u001b[0m\u001b[0;34m.\u001b[0m\u001b[0mstep\u001b[0m\u001b[0;34m(\u001b[0m\u001b[0;34m)\u001b[0m\u001b[0;34m\u001b[0m\u001b[0;34m\u001b[0m\u001b[0m\n\u001b[0m\u001b[1;32m    245\u001b[0m         \u001b[0;32mif\u001b[0m \u001b[0mtime\u001b[0m\u001b[0;34m.\u001b[0m\u001b[0mtime\u001b[0m\u001b[0;34m(\u001b[0m\u001b[0;34m)\u001b[0m \u001b[0;34m-\u001b[0m \u001b[0mlast_debug\u001b[0m \u001b[0;34m>\u001b[0m \u001b[0mDEBUG_PRINT_INTERVAL\u001b[0m\u001b[0;34m:\u001b[0m\u001b[0;34m\u001b[0m\u001b[0;34m\u001b[0m\u001b[0m\n\u001b[1;32m    246\u001b[0m             \u001b[0;32mif\u001b[0m \u001b[0mverbose\u001b[0m\u001b[0;34m:\u001b[0m\u001b[0;34m\u001b[0m\u001b[0;34m\u001b[0m\u001b[0m\n",
      "\u001b[0;32m~/anaconda3/envs/flow/lib/python3.6/site-packages/ray/tune/trial_runner.py\u001b[0m in \u001b[0;36mstep\u001b[0;34m(self)\u001b[0m\n\u001b[1;32m    326\u001b[0m                 \u001b[0mself\u001b[0m\u001b[0;34m.\u001b[0m\u001b[0mtrial_executor\u001b[0m\u001b[0;34m.\u001b[0m\u001b[0mstart_trial\u001b[0m\u001b[0;34m(\u001b[0m\u001b[0mnext_trial\u001b[0m\u001b[0;34m)\u001b[0m\u001b[0;34m\u001b[0m\u001b[0;34m\u001b[0m\u001b[0m\n\u001b[1;32m    327\u001b[0m         \u001b[0;32melif\u001b[0m \u001b[0mself\u001b[0m\u001b[0;34m.\u001b[0m\u001b[0mtrial_executor\u001b[0m\u001b[0;34m.\u001b[0m\u001b[0mget_running_trials\u001b[0m\u001b[0;34m(\u001b[0m\u001b[0;34m)\u001b[0m\u001b[0;34m:\u001b[0m\u001b[0;34m\u001b[0m\u001b[0;34m\u001b[0m\u001b[0m\n\u001b[0;32m--> 328\u001b[0;31m             \u001b[0mself\u001b[0m\u001b[0;34m.\u001b[0m\u001b[0m_process_events\u001b[0m\u001b[0;34m(\u001b[0m\u001b[0;34m)\u001b[0m  \u001b[0;31m# blocking\u001b[0m\u001b[0;34m\u001b[0m\u001b[0;34m\u001b[0m\u001b[0m\n\u001b[0m\u001b[1;32m    329\u001b[0m         \u001b[0;32melse\u001b[0m\u001b[0;34m:\u001b[0m\u001b[0;34m\u001b[0m\u001b[0;34m\u001b[0m\u001b[0m\n\u001b[1;32m    330\u001b[0m             \u001b[0;32mfor\u001b[0m \u001b[0mtrial\u001b[0m \u001b[0;32min\u001b[0m \u001b[0mself\u001b[0m\u001b[0;34m.\u001b[0m\u001b[0m_trials\u001b[0m\u001b[0;34m:\u001b[0m\u001b[0;34m\u001b[0m\u001b[0;34m\u001b[0m\u001b[0m\n",
      "\u001b[0;32m~/anaconda3/envs/flow/lib/python3.6/site-packages/ray/tune/trial_runner.py\u001b[0m in \u001b[0;36m_process_events\u001b[0;34m(self)\u001b[0m\n\u001b[1;32m    490\u001b[0m \u001b[0;34m\u001b[0m\u001b[0m\n\u001b[1;32m    491\u001b[0m     \u001b[0;32mdef\u001b[0m \u001b[0m_process_events\u001b[0m\u001b[0;34m(\u001b[0m\u001b[0mself\u001b[0m\u001b[0;34m)\u001b[0m\u001b[0;34m:\u001b[0m\u001b[0;34m\u001b[0m\u001b[0;34m\u001b[0m\u001b[0m\n\u001b[0;32m--> 492\u001b[0;31m         \u001b[0mtrial\u001b[0m \u001b[0;34m=\u001b[0m \u001b[0mself\u001b[0m\u001b[0;34m.\u001b[0m\u001b[0mtrial_executor\u001b[0m\u001b[0;34m.\u001b[0m\u001b[0mget_next_available_trial\u001b[0m\u001b[0;34m(\u001b[0m\u001b[0;34m)\u001b[0m  \u001b[0;31m# blocking\u001b[0m\u001b[0;34m\u001b[0m\u001b[0;34m\u001b[0m\u001b[0m\n\u001b[0m\u001b[1;32m    493\u001b[0m         \u001b[0;32mwith\u001b[0m \u001b[0mwarn_if_slow\u001b[0m\u001b[0;34m(\u001b[0m\u001b[0;34m\"process_trial\"\u001b[0m\u001b[0;34m)\u001b[0m\u001b[0;34m:\u001b[0m\u001b[0;34m\u001b[0m\u001b[0;34m\u001b[0m\u001b[0m\n\u001b[1;32m    494\u001b[0m             \u001b[0mself\u001b[0m\u001b[0;34m.\u001b[0m\u001b[0m_process_trial\u001b[0m\u001b[0;34m(\u001b[0m\u001b[0mtrial\u001b[0m\u001b[0;34m)\u001b[0m\u001b[0;34m\u001b[0m\u001b[0;34m\u001b[0m\u001b[0m\n",
      "\u001b[0;32m~/anaconda3/envs/flow/lib/python3.6/site-packages/ray/tune/ray_trial_executor.py\u001b[0m in \u001b[0;36mget_next_available_trial\u001b[0;34m(self)\u001b[0m\n\u001b[1;32m    316\u001b[0m         \u001b[0;31m# See https://github.com/ray-project/ray/issues/4211 for details.\u001b[0m\u001b[0;34m\u001b[0m\u001b[0;34m\u001b[0m\u001b[0;34m\u001b[0m\u001b[0m\n\u001b[1;32m    317\u001b[0m         \u001b[0mstart\u001b[0m \u001b[0;34m=\u001b[0m \u001b[0mtime\u001b[0m\u001b[0;34m.\u001b[0m\u001b[0mtime\u001b[0m\u001b[0;34m(\u001b[0m\u001b[0;34m)\u001b[0m\u001b[0;34m\u001b[0m\u001b[0;34m\u001b[0m\u001b[0m\n\u001b[0;32m--> 318\u001b[0;31m         \u001b[0;34m[\u001b[0m\u001b[0mresult_id\u001b[0m\u001b[0;34m]\u001b[0m\u001b[0;34m,\u001b[0m \u001b[0m_\u001b[0m \u001b[0;34m=\u001b[0m \u001b[0mray\u001b[0m\u001b[0;34m.\u001b[0m\u001b[0mwait\u001b[0m\u001b[0;34m(\u001b[0m\u001b[0mshuffled_results\u001b[0m\u001b[0;34m)\u001b[0m\u001b[0;34m\u001b[0m\u001b[0;34m\u001b[0m\u001b[0m\n\u001b[0m\u001b[1;32m    319\u001b[0m         \u001b[0mwait_time\u001b[0m \u001b[0;34m=\u001b[0m \u001b[0mtime\u001b[0m\u001b[0;34m.\u001b[0m\u001b[0mtime\u001b[0m\u001b[0;34m(\u001b[0m\u001b[0;34m)\u001b[0m \u001b[0;34m-\u001b[0m \u001b[0mstart\u001b[0m\u001b[0;34m\u001b[0m\u001b[0;34m\u001b[0m\u001b[0m\n\u001b[1;32m    320\u001b[0m         \u001b[0;32mif\u001b[0m \u001b[0mwait_time\u001b[0m \u001b[0;34m>\u001b[0m \u001b[0mNONTRIVIAL_WAIT_TIME_THRESHOLD_S\u001b[0m\u001b[0;34m:\u001b[0m\u001b[0;34m\u001b[0m\u001b[0;34m\u001b[0m\u001b[0m\n",
      "\u001b[0;32m~/anaconda3/envs/flow/lib/python3.6/site-packages/ray/worker.py\u001b[0m in \u001b[0;36mwait\u001b[0;34m(object_ids, num_returns, timeout)\u001b[0m\n\u001b[1;32m   2370\u001b[0m             \u001b[0mtimeout_milliseconds\u001b[0m\u001b[0;34m,\u001b[0m\u001b[0;34m\u001b[0m\u001b[0;34m\u001b[0m\u001b[0m\n\u001b[1;32m   2371\u001b[0m             \u001b[0;32mFalse\u001b[0m\u001b[0;34m,\u001b[0m\u001b[0;34m\u001b[0m\u001b[0;34m\u001b[0m\u001b[0m\n\u001b[0;32m-> 2372\u001b[0;31m             \u001b[0mworker\u001b[0m\u001b[0;34m.\u001b[0m\u001b[0mcurrent_task_id\u001b[0m\u001b[0;34m,\u001b[0m\u001b[0;34m\u001b[0m\u001b[0;34m\u001b[0m\u001b[0m\n\u001b[0m\u001b[1;32m   2373\u001b[0m         )\n\u001b[1;32m   2374\u001b[0m         \u001b[0;32mreturn\u001b[0m \u001b[0mready_ids\u001b[0m\u001b[0;34m,\u001b[0m \u001b[0mremaining_ids\u001b[0m\u001b[0;34m\u001b[0m\u001b[0;34m\u001b[0m\u001b[0m\n",
      "\u001b[0;32mpython/ray/_raylet.pyx\u001b[0m in \u001b[0;36mray._raylet.RayletClient.wait\u001b[0;34m()\u001b[0m\n",
      "\u001b[0;32mpython/ray/_raylet.pyx\u001b[0m in \u001b[0;36mray._raylet.check_status\u001b[0;34m()\u001b[0m\n",
      "\u001b[0;32m~/anaconda3/envs/flow/lib/python3.6/site-packages/ray/exceptions.py\u001b[0m in \u001b[0;36m__init__\u001b[0;34m(self, client_exc)\u001b[0m\n\u001b[1;32m     84\u001b[0m     \"\"\"\n\u001b[1;32m     85\u001b[0m \u001b[0;34m\u001b[0m\u001b[0m\n\u001b[0;32m---> 86\u001b[0;31m     \u001b[0;32mdef\u001b[0m \u001b[0m__init__\u001b[0m\u001b[0;34m(\u001b[0m\u001b[0mself\u001b[0m\u001b[0;34m,\u001b[0m \u001b[0mclient_exc\u001b[0m\u001b[0;34m)\u001b[0m\u001b[0;34m:\u001b[0m\u001b[0;34m\u001b[0m\u001b[0;34m\u001b[0m\u001b[0m\n\u001b[0m\u001b[1;32m     87\u001b[0m         \u001b[0mself\u001b[0m\u001b[0;34m.\u001b[0m\u001b[0mclient_exc\u001b[0m \u001b[0;34m=\u001b[0m \u001b[0mclient_exc\u001b[0m\u001b[0;34m\u001b[0m\u001b[0;34m\u001b[0m\u001b[0m\n\u001b[1;32m     88\u001b[0m \u001b[0;34m\u001b[0m\u001b[0m\n",
      "\u001b[0;31mKeyboardInterrupt\u001b[0m: "
     ]
    }
   ],
   "source": [
    "exp_tag = {\"run\": alg_run,\n",
    "           \"env\": gym_name,\n",
    "           \"config\": {**config},\n",
    "           \"checkpoint_freq\": 2,\n",
    "           \"checkpoint_at_end\": True,\n",
    "           \"max_failures\": 999,\n",
    "           \"stop\": {\"training_iteration\": 6}}\n",
    "\n",
    "\n",
    "trials = run_experiments({flow_params[\"exp_tag\"]: exp_tag})"
   ]
  },
  {
   "cell_type": "code",
   "execution_count": null,
   "metadata": {},
   "outputs": [],
   "source": []
  },
  {
   "cell_type": "code",
   "execution_count": null,
   "metadata": {},
   "outputs": [],
   "source": []
  },
  {
   "cell_type": "code",
   "execution_count": null,
   "metadata": {},
   "outputs": [],
   "source": []
  }
 ],
 "metadata": {
  "kernelspec": {
   "display_name": "Python 3",
   "language": "python",
   "name": "python3"
  },
  "language_info": {
   "codemirror_mode": {
    "name": "ipython",
    "version": 3
   },
   "file_extension": ".py",
   "mimetype": "text/x-python",
   "name": "python",
   "nbconvert_exporter": "python",
   "pygments_lexer": "ipython3",
   "version": "3.6.8"
  },
  "toc": {
   "base_numbering": 1,
   "nav_menu": {},
   "number_sections": true,
   "sideBar": true,
   "skip_h1_title": false,
   "title_cell": "Table of Contents",
   "title_sidebar": "Contents",
   "toc_cell": false,
   "toc_position": {},
   "toc_section_display": true,
   "toc_window_display": false
  },
  "varInspector": {
   "cols": {
    "lenName": 16,
    "lenType": 16,
    "lenVar": 40
   },
   "kernels_config": {
    "python": {
     "delete_cmd_postfix": "",
     "delete_cmd_prefix": "del ",
     "library": "var_list.py",
     "varRefreshCmd": "print(var_dic_list())"
    },
    "r": {
     "delete_cmd_postfix": ") ",
     "delete_cmd_prefix": "rm(",
     "library": "var_list.r",
     "varRefreshCmd": "cat(var_dic_list()) "
    }
   },
   "types_to_exclude": [
    "module",
    "function",
    "builtin_function_or_method",
    "instance",
    "_Feature"
   ],
   "window_display": false
  }
 },
 "nbformat": 4,
 "nbformat_minor": 2
}
