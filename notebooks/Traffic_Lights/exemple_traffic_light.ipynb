{
 "cells": [
  {
   "cell_type": "markdown",
   "metadata": {
    "ExecuteTime": {
     "end_time": "2020-05-04T14:37:16.506166Z",
     "start_time": "2020-05-04T14:37:16.494383Z"
    }
   },
   "source": [
    "```python\n",
    "class TrafficLightGridEnv(Env):\n",
    "    \"\"\"Environment used to train traffic lights.\n",
    "\n",
    "    Required from env_params:\n",
    "\n",
    "    * switch_time: minimum time a light must be constant before\n",
    "      it switches (in seconds).\n",
    "      Earlier RL commands are ignored.\n",
    "    * tl_type: whether the traffic lights should be actuated by sumo or RL,\n",
    "      options are respectively \"actuated\" and \"controlled\"\n",
    "    * discrete: determines whether the action space is meant to be discrete or\n",
    "      continuous\n",
    "```"
   ]
  },
  {
   "cell_type": "markdown",
   "metadata": {},
   "source": [
    "# States\n",
    "\n",
    "An observation is the distance of each vehicle to its intersection, a number uniquely identifying which edge the vehicle is on, and the speed of the vehicle."
   ]
  },
  {
   "cell_type": "code",
   "execution_count": 2,
   "metadata": {
    "ExecuteTime": {
     "end_time": "2020-05-04T14:37:16.640140Z",
     "start_time": "2020-05-04T14:37:16.610107Z"
    }
   },
   "outputs": [],
   "source": [
    " def get_state(self):\n",
    "        \"\"\"See class definition.\"\"\"\n",
    "        # compute the normalizers\n",
    "        grid_array = self.net_params.additional_params[\"grid_array\"]\n",
    "        max_dist = max(grid_array[\"short_length\"],\n",
    "                       grid_array[\"long_length\"],\n",
    "                       grid_array[\"inner_length\"])\n",
    "\n",
    "        # get the state arrays\n",
    "        speeds = [\n",
    "            self.k.vehicle.get_speed(veh_id) / self.k.network.max_speed()\n",
    "            for veh_id in self.k.vehicle.get_ids()\n",
    "        ]\n",
    "        dist_to_intersec = [\n",
    "            self.get_distance_to_intersection(veh_id) / max_dist\n",
    "            for veh_id in self.k.vehicle.get_ids()\n",
    "        ]\n",
    "        edges = [\n",
    "            self._convert_edge(self.k.vehicle.get_edge(veh_id)) /\n",
    "            (self.k.network.network.num_edges - 1)\n",
    "            for veh_id in self.k.vehicle.get_ids()\n",
    "        ]\n",
    "\n",
    "        state = [\n",
    "            speeds, dist_to_intersec, edges,\n",
    "            self.last_change.flatten().tolist(),\n",
    "            self.direction.flatten().tolist(),\n",
    "            self.currently_yellow.flatten().tolist()\n",
    "        ]\n",
    "        return np.array(state)"
   ]
  },
  {
   "cell_type": "code",
   "execution_count": 3,
   "metadata": {
    "ExecuteTime": {
     "end_time": "2020-05-04T14:37:16.666612Z",
     "start_time": "2020-05-04T14:37:16.643029Z"
    }
   },
   "outputs": [],
   "source": [
    "def observation_space(self):\n",
    "    \"\"\"See class definition.\"\"\"\n",
    "    speed = Box(\n",
    "            low=0,\n",
    "            high=1,\n",
    "            shape=(self.initial_vehicles.num_vehicles,),\n",
    "            dtype=np.float32)\n",
    "    dist_to_intersec = Box(\n",
    "            low=0.,\n",
    "            high=np.inf,\n",
    "            shape=(self.initial_vehicles.num_vehicles,),\n",
    "            dtype=np.float32)\n",
    "    edge_num = Box(\n",
    "            low=0.,\n",
    "            high=1,\n",
    "            shape=(self.initial_vehicles.num_vehicles,),\n",
    "            dtype=np.float32)\n",
    "    traffic_lights = Box(\n",
    "            low=0.,\n",
    "            high=1,\n",
    "            shape=(3 * self.rows * self.cols,),\n",
    "            dtype=np.float32)\n",
    "    return Tuple((speed, dist_to_intersec, edge_num, traffic_lights))"
   ]
  },
  {
   "cell_type": "markdown",
   "metadata": {},
   "source": [
    "# Actions\n",
    "\n",
    "The action space consist of a list of float variables ranging from 0-1 specifying whether a traffic light is supposed to switch or not. The actions are sent to the traffic light in the grid from left to right and then top to bottom."
   ]
  },
  {
   "cell_type": "code",
   "execution_count": 4,
   "metadata": {
    "ExecuteTime": {
     "end_time": "2020-05-04T14:37:16.680811Z",
     "start_time": "2020-05-04T14:37:16.672144Z"
    }
   },
   "outputs": [],
   "source": [
    "def action_space(self):\n",
    "    \"\"\"See class definition.\"\"\"\n",
    "    if self.discrete:\n",
    "        return Discrete(2 ** self.num_traffic_lights)\n",
    "    else:\n",
    "        return Box(\n",
    "                low=-1,\n",
    "                high=1,\n",
    "                shape=(self.num_traffic_lights,),\n",
    "                dtype=np.float32)"
   ]
  },
  {
   "cell_type": "code",
   "execution_count": 5,
   "metadata": {
    "ExecuteTime": {
     "end_time": "2020-05-04T14:37:16.711364Z",
     "start_time": "2020-05-04T14:37:16.687963Z"
    }
   },
   "outputs": [],
   "source": [
    " def _apply_rl_actions(self, rl_actions):\n",
    "        \"\"\"See class definition.\"\"\"\n",
    "        # check if the action space is discrete\n",
    "        if self.discrete:\n",
    "            # convert single value to list of 0's and 1's\n",
    "            rl_mask = [int(x) for x in list('{0:0b}'.format(rl_actions))]\n",
    "            rl_mask = [0] * (self.num_traffic_lights - len(rl_mask)) + rl_mask\n",
    "        else:\n",
    "            # convert values less than 0 to zero and above 0 to 1. 0 indicates\n",
    "            # that should not switch the direction, and 1 indicates that switch\n",
    "            # should happen\n",
    "            rl_mask = rl_actions > 0.0\n",
    "\n",
    "        for i, action in enumerate(rl_mask):\n",
    "            if self.currently_yellow[i] == 1:  # currently yellow\n",
    "                self.last_change[i] += self.sim_step\n",
    "                # Check if our timer has exceeded the yellow phase, meaning it\n",
    "                # should switch to red\n",
    "                if self.last_change[i] >= self.min_switch_time:\n",
    "                    if self.direction[i] == 0:\n",
    "                        self.k.traffic_light.set_state(\n",
    "                            node_id='center{}'.format(i),\n",
    "                            state=\"GrGr\")\n",
    "                    else:\n",
    "                        self.k.traffic_light.set_state(\n",
    "                            node_id='center{}'.format(i),\n",
    "                            state='rGrG')\n",
    "                    self.currently_yellow[i] = 0\n",
    "            else:\n",
    "                if action:\n",
    "                    if self.direction[i] == 0:\n",
    "                        self.k.traffic_light.set_state(\n",
    "                            node_id='center{}'.format(i),\n",
    "                            state='yryr')\n",
    "                    else:\n",
    "                        self.k.traffic_light.set_state(\n",
    "                            node_id='center{}'.format(i),\n",
    "                            state='ryry')\n",
    "                    self.last_change[i] = 0.0\n",
    "                    self.direction[i] = not self.direction[i]\n",
    "                    self.currently_yellow[i] = 1"
   ]
  },
  {
   "cell_type": "markdown",
   "metadata": {},
   "source": [
    "# Rewards\n",
    "        \n",
    "The reward is the negative per vehicle delay minus a penalty for switching traffic lights"
   ]
  },
  {
   "cell_type": "code",
   "execution_count": 6,
   "metadata": {
    "ExecuteTime": {
     "end_time": "2020-05-04T14:37:16.758176Z",
     "start_time": "2020-05-04T14:37:16.742480Z"
    }
   },
   "outputs": [],
   "source": [
    "def compute_reward(self, rl_actions, **kwargs):\n",
    "        \"\"\"See class definition.\"\"\"\n",
    "        return - rewards.min_delay_unscaled(self) - rewards.boolean_action_penalty(rl_actions >= 0.5, gain=1.0)"
   ]
  },
  {
   "cell_type": "markdown",
   "metadata": {},
   "source": [
    "# Termination\n",
    "        \n",
    "A rollout is terminated once the time horizon is reached."
   ]
  },
  {
   "cell_type": "code",
   "execution_count": null,
   "metadata": {},
   "outputs": [],
   "source": []
  },
  {
   "cell_type": "markdown",
   "metadata": {},
   "source": [
    "# Additional\n",
    "       \n",
    "Vehicles are rerouted to the start of their original routes once they reach the end of the network in order to ensure a constant number of vehicles."
   ]
  },
  {
   "cell_type": "code",
   "execution_count": 7,
   "metadata": {
    "ExecuteTime": {
     "end_time": "2020-05-04T14:37:16.979391Z",
     "start_time": "2020-05-04T14:37:16.811832Z"
    }
   },
   "outputs": [
    {
     "ename": "NameError",
     "evalue": "name 'TrafficLightGridEnv' is not defined",
     "output_type": "error",
     "traceback": [
      "\u001b[0;31m---------------------------------------------------------------------------\u001b[0m",
      "\u001b[0;31mNameError\u001b[0m                                 Traceback (most recent call last)",
      "\u001b[0;32m<ipython-input-7-b5ad30fa8dcf>\u001b[0m in \u001b[0;36m<module>\u001b[0;34m\u001b[0m\n\u001b[0;32m----> 1\u001b[0;31m \u001b[0;32mclass\u001b[0m \u001b[0mTrafficLightGridPOEnv\u001b[0m\u001b[0;34m(\u001b[0m\u001b[0mTrafficLightGridEnv\u001b[0m\u001b[0;34m)\u001b[0m\u001b[0;34m:\u001b[0m\u001b[0;34m\u001b[0m\u001b[0;34m\u001b[0m\u001b[0m\n\u001b[0m\u001b[1;32m      2\u001b[0m     \"\"\"Environment used to train traffic lights.\n\u001b[1;32m      3\u001b[0m \u001b[0;34m\u001b[0m\u001b[0m\n\u001b[1;32m      4\u001b[0m     \u001b[0mRequired\u001b[0m \u001b[0;32mfrom\u001b[0m \u001b[0menv_params\u001b[0m\u001b[0;34m:\u001b[0m\u001b[0;34m\u001b[0m\u001b[0;34m\u001b[0m\u001b[0m\n\u001b[1;32m      5\u001b[0m \u001b[0;34m\u001b[0m\u001b[0m\n",
      "\u001b[0;31mNameError\u001b[0m: name 'TrafficLightGridEnv' is not defined"
     ]
    }
   ],
   "source": [
    "class TrafficLightGridPOEnv(TrafficLightGridEnv):\n",
    "    \"\"\"Environment used to train traffic lights.\n",
    "\n",
    "    Required from env_params:\n",
    "\n",
    "    * switch_time: minimum switch time for each traffic light (in seconds).\n",
    "      Earlier RL commands are ignored.\n",
    "    * num_observed: number of vehicles nearest each intersection that is\n",
    "      observed in the state space; defaults to 2\n",
    "\n",
    "    States\n",
    "        An observation is the number of observed vehicles in each intersection\n",
    "        closest to the traffic lights, a number uniquely identifying which\n",
    "        edge the vehicle is on, and the speed of the vehicle.\n",
    "\n",
    "    Actions\n",
    "        The action space consist of a list of float variables ranging from 0-1\n",
    "        specifying whether a traffic light is supposed to switch or not. The\n",
    "        actions are sent to the traffic light in the grid from left to right\n",
    "        and then top to bottom.\n",
    "\n",
    "    Rewards\n",
    "        The reward is the delay of each vehicle minus a penalty for switching\n",
    "        traffic lights\n",
    "\n",
    "    Termination\n",
    "        A rollout is terminated once the time horizon is reached.\n",
    "\n",
    "    Additional\n",
    "        Vehicles are rerouted to the start of their original routes once they\n",
    "        reach the end of the network in order to ensure a constant number of\n",
    "        vehicles.\n",
    "\n",
    "    \"\"\"\n"
   ]
  },
  {
   "cell_type": "code",
   "execution_count": null,
   "metadata": {},
   "outputs": [],
   "source": []
  }
 ],
 "metadata": {
  "kernelspec": {
   "display_name": "Python 3",
   "language": "python",
   "name": "python3"
  },
  "language_info": {
   "codemirror_mode": {
    "name": "ipython",
    "version": 3
   },
   "file_extension": ".py",
   "mimetype": "text/x-python",
   "name": "python",
   "nbconvert_exporter": "python",
   "pygments_lexer": "ipython3",
   "version": "3.6.8"
  },
  "toc": {
   "base_numbering": 1,
   "nav_menu": {},
   "number_sections": true,
   "sideBar": true,
   "skip_h1_title": false,
   "title_cell": "Table of Contents",
   "title_sidebar": "Contents",
   "toc_cell": false,
   "toc_position": {},
   "toc_section_display": true,
   "toc_window_display": false
  }
 },
 "nbformat": 4,
 "nbformat_minor": 2
}
